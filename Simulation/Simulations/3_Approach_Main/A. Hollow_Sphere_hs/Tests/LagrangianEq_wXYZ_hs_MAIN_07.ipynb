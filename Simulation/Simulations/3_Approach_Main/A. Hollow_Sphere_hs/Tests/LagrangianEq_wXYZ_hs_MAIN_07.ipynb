{
 "cells": [
  {
   "cell_type": "code",
   "execution_count": 1,
   "metadata": {},
   "outputs": [],
   "source": [
    "import math as mt\n",
    "import numpy as np\n",
    "import sympy as smp\n",
    "from sympy.physics.mechanics import *\n",
    "from scipy.integrate import odeint\n",
    "import matplotlib as mpl\n",
    "import matplotlib.pyplot as plt\n",
    "from matplotlib import animation\n",
    "from matplotlib.animation import PillowWriter\n",
    "from IPython.display import HTML\n",
    "\n",
    "import time\n",
    "from tqdm import tqdm\n",
    "import json\n",
    "\n",
    "from scipy.integrate import ode\n",
    "from scipy.integrate import solve_ivp\n",
    "import matplotlib.gridspec as gridspec\n",
    "from mplcursors import cursor\n",
    "from scipy.interpolate import make_interp_spline\n",
    "\n",
    "import pyperclip as clip"
   ]
  },
  {
   "cell_type": "markdown",
   "metadata": {},
   "source": [
    "## Hollow Sphere | Spherical Shell"
   ]
  },
  {
   "cell_type": "markdown",
   "metadata": {},
   "source": [
    "### Symbols"
   ]
  },
  {
   "cell_type": "markdown",
   "metadata": {},
   "source": [
    "t, g, m, R, $\\theta$:"
   ]
  },
  {
   "cell_type": "code",
   "execution_count": 2,
   "metadata": {},
   "outputs": [],
   "source": [
    "t, g, m, R = smp.symbols('t g m R')\n",
    "theta, thetadot, thetaddot = smp.symbols('theta thetadot thetaddot')"
   ]
  },
  {
   "cell_type": "markdown",
   "metadata": {},
   "source": [
    "$x(t)$, $y(t)$ and $z(t)$:"
   ]
  },
  {
   "cell_type": "code",
   "execution_count": 3,
   "metadata": {},
   "outputs": [],
   "source": [
    "x, y, z =  smp.symbols('x y z', cls=smp.Function)\n",
    "xdot, xddot, ydot, yddot, zdot, zddot = smp.symbols('xdot xddot ydot yddot zdot zddot', cls=smp.Function)\n",
    "x = x(t)\n",
    "y = y(t)\n",
    "z = z(t)\n",
    "xdot = smp.diff(x, t) \n",
    "ydot = smp.diff(y, t)\n",
    "zdot = smp.diff(z, t)\n",
    "xddot = smp.diff(xdot, t)\n",
    "yddot = smp.diff(ydot, t)\n",
    "zddot = smp.diff(zdot, t)"
   ]
  },
  {
   "cell_type": "markdown",
   "metadata": {},
   "source": [
    "$\\alpha(t)$, $\\beta(t)$ and $\\gamma(t)$"
   ]
  },
  {
   "cell_type": "code",
   "execution_count": 4,
   "metadata": {},
   "outputs": [],
   "source": [
    "alpha, beta, gamma = smp.symbols('alpha beta gamma', cls=smp.Function)\n",
    "alphadot, alphaddot, betadot, betaddot, gammadot, gammaddot = smp.symbols('alphadot alphaddot betadot betaddot gammadot gammaddot', cls=smp.Function)\n",
    "alpha = alpha(t)\n",
    "beta  = beta(t)\n",
    "gamma = gamma(t)\n",
    "alphadot = smp.diff(alpha, t)     # alpha_d\n",
    "betadot = smp.diff(beta, t)       # beta_d\n",
    "gammadot = smp.diff(gamma, t)     # gamma_d\n",
    "alphaddot = smp.diff(alphadot, t) # alpha_dd\n",
    "betaddot = smp.diff(betadot, t)   # beta_dd\n",
    "gammaddot = smp.diff(gammadot, t) # gamma_dd"
   ]
  },
  {
   "cell_type": "markdown",
   "metadata": {},
   "source": [
    "### Initialization Variables\n",
    "[Hollow Sphere]"
   ]
  },
  {
   "cell_type": "code",
   "execution_count": 5,
   "metadata": {},
   "outputs": [],
   "source": [
    "# Court variables (m)\n",
    "court_length = 23.77 \n",
    "doubles_court_width = 10.97 \n",
    "singles_court_width = 8.23 \n",
    "net_height_middle = 0.915 \n",
    "net_height_sides = 1.065 \n",
    "\n",
    "# Ball\n",
    "mg_b = 58.3                  #ball mass in g\n",
    "mkg_b = mg_b / 1000          #ball mass in kg\n",
    "dcm_b = 6.5                  #ball diameter in cm\n",
    "rm_b = (dcm_b/2)/100         #ball radius in m\n",
    "\n",
    "# Game\n",
    "avg_dist_cp = 0.95           #average distance from impact point to the ground in m\n",
    "a_gravity = 9.8              #gravity accerelation in m/s^2\n",
    "ct_s = 1/200                 #contact time with the racket in seconds <=> 0.005s\n",
    "init_vel_known = 0           #known initial velocity of the ball, normally 17 m/s, (limited to 28 m/s)\n",
    "init_f_known = 200           #known initial force of the hit, considered normally to be 200N if initial velocity is unknown (= 0)           \n",
    "init_theta_known = 0         #known initial angle of the hit, normally 18º\n",
    "in_psi_ = 50                 #known initial angle of spin, normally 50º. Valid if spin_type is \"Slice\" or \"Topspin\"\n",
    "\n",
    "# Parameters\n",
    "rho = 1.2                    #density of the air in kg/m^3 \n",
    "A = smp.pi*rm_b**2           #cross sectional area of the ball in m^2\n",
    "Cd = 0.47                    #drag coefficient of the spherical ball considered (based on research articles)\n",
    "Cl = 0.2                     #lift coefficient of the spherical ball considered (based on research articles)\n",
    "spin_type = 1                #spin type of the ball: \"0->None/Flat hit\", \"1->Topspin\" or \"2->Slice\"\n",
    "\n",
    "# Initial contact point based on the initial angles of impact\n",
    "ctc_pt = (init_theta_known, in_psi_) "
   ]
  },
  {
   "cell_type": "markdown",
   "metadata": {},
   "source": [
    "### Initial functions"
   ]
  },
  {
   "cell_type": "code",
   "execution_count": 6,
   "metadata": {},
   "outputs": [],
   "source": [
    "def calc_f_init_with_v(vi, vf, delta_t):\n",
    "    \"\"\"From the initial and final velocities of the ball, calculates the force applied to the ball\"\"\"\n",
    "    a = (vf-vi)/delta_t\n",
    "    F = (mg_b/1000)*a\n",
    "    return F"
   ]
  },
  {
   "cell_type": "code",
   "execution_count": 7,
   "metadata": {},
   "outputs": [],
   "source": [
    "def calc_v_init_with_f(F, delta_t):\n",
    "    \"\"\"From the force applied to the ball, it calculates the initial velocity of the ball\"\"\"\n",
    "    a = F/(mg_b/1000)\n",
    "    v = a*delta_t\n",
    "    return round(v,2)"
   ]
  },
  {
   "cell_type": "markdown",
   "metadata": {},
   "source": [
    "### Spin analysis"
   ]
  },
  {
   "cell_type": "code",
   "execution_count": 8,
   "metadata": {},
   "outputs": [],
   "source": [
    "match spin_type:\n",
    "    case 0: #None\n",
    "        psi_= 0\n",
    "        lift_sign_up = False\n",
    "        \n",
    "    case 1: #Topspin\n",
    "        # Cross product result: downward lift force (Fy positive)\n",
    "        psi_ = ctc_pt[1]          \n",
    "        lift_sign_up = False\n",
    "        betadot = betadot\n",
    "        #alphadot = alphadot\n",
    "        \n",
    "    case 2: #Slice\n",
    "        # Cross product result: upward lift force (Fy negative)\n",
    "        psi_ = -ctc_pt[1]         \n",
    "        lift_sign_up = True\n",
    "        betadot = -betadot\n",
    "        #alphadot = -alphadot\n",
    "        "
   ]
  },
  {
   "cell_type": "markdown",
   "metadata": {},
   "source": [
    "### Forces & Torque\n",
    "\n",
    "Notes:\n",
    "- N - Initial binary (external torque, rotation)\n",
    "- N computation with impact force applied\n",
    "- When N its equal to 0 the system is in equilibrium\n",
    "- Afetrwards, N incorporated into all the lagrangian equations, making the system of differential equations affected by it"
   ]
  },
  {
   "cell_type": "code",
   "execution_count": 9,
   "metadata": {},
   "outputs": [
    {
     "name": "stdout",
     "output_type": "stream",
     "text": [
      "Initial velocity: 17.15 m/s\n",
      "F: 200 Newtons\n",
      "Fx: 128.56 Newtons\n",
      "Fy: 153.21 Newtons\n",
      "N: 4 N.m\n"
     ]
    }
   ],
   "source": [
    "if spin_type == 0:\n",
    "    N = 0\n",
    "    psi = int(mt.radians(psi_))\n",
    "    print(\"No spin. (N =\", N, \"N.m)\")\n",
    "    \n",
    "    v_init = 0\n",
    "    if init_vel_known != 0:\n",
    "        if init_theta_known != 0:\n",
    "            if init_f_known != 0:\n",
    "                F = init_f_known\n",
    "                print(\"Initial force: \", init_f_known, \"Newtons\")\n",
    "            else:\n",
    "                F = calc_f_init_with_v(0,init_vel_known,ct_s)\n",
    "                print(\"Force initially unknown\")\n",
    "            print(\"Initial angle:\", init_theta_known, \"º\")\n",
    "        else:\n",
    "            if init_f_known != 0:\n",
    "                F = init_f_known\n",
    "                print(\"Initial force: \", init_f_known, \"Newtons\")\n",
    "            else:\n",
    "                F = calc_f_init_with_v(0,init_vel_known,ct_s)\n",
    "                print(\"Force initially unknown\")\n",
    "            print(\"Initial angle unkonwn\")\n",
    "            \n",
    "        if init_f_known == 0:\n",
    "            print(\"Initial velocity:\", init_vel_known, \"m/s. Creates a Force of\", F, \"N in\", ct_s, \"s\")\n",
    "        else:\n",
    "            print(\"Initial velocity:\", init_vel_known, \"m/s\")\n",
    "        \n",
    "    else:\n",
    "        print(\"Velocity initially unkonwn\")\n",
    "        if init_theta_known != 0:\n",
    "            if init_f_known != 0: \n",
    "                F = init_f_known\n",
    "                v_init = calc_v_init_with_f(F,ct_s)\n",
    "                print(\"Initial force: \", init_f_known, \"N. Creates a initial velocity of\", v_init, \"m/s in \", ct_s, \"s\")\n",
    "            else:\n",
    "                print(\"Force unknown\")\n",
    "            print(\"Initial angle:\", init_theta_known, \"º\")\n",
    "        else:\n",
    "            if init_f_known != 0: \n",
    "                F = init_f_known\n",
    "                v_init = calc_v_init_with_f(F,ct_s)\n",
    "                print(\"Initial force: \", init_f_known, \"N. Creates a initial velocity of\", v_init, \"m/s in \", ct_s, \"s\")\n",
    "            else:\n",
    "                print(\"Force unknown\")\n",
    "            print(\"Initial angle unkonwn\")\n",
    "        \n",
    "    \n",
    "elif spin_type == 1 or spin_type == 2:\n",
    "    if in_psi_ == 0 or (init_vel_known == 0 and init_f_known == 0):\n",
    "        print(\"Invalid input. Please provide a valid initial velocity or force and a valid spin angle | [Valid values > 0]\")\n",
    "    else:\n",
    "        # The racket hit with an angle making a psi angle after for the spin \n",
    "        psi = mt.radians(psi_)                            #spin_ang\n",
    "\n",
    "        # Force (needed to create spin)\n",
    "        if init_vel_known != 0:                           #if the initial velocity is known\n",
    "            F = calc_f_init_with_v(0,init_vel_known,ct_s) #computes Force from velocity\n",
    "            print(\"Initial velocity:\", init_vel_known, \"m/s\")\n",
    "        elif init_vel_known == 0:                         #if the initial velocity is unknown\n",
    "            F = init_f_known                              #Known force                             \n",
    "            v_init = calc_v_init_with_f(F,ct_s)           #computes velocity in respect to the force applied \n",
    "            print(\"Initial velocity:\", v_init, \"m/s\")\n",
    "            \n",
    "        print(\"F:\", F, \"Newtons\")\n",
    "\n",
    "\n",
    "        # Axis forces\n",
    "        Fx = round(F*mt.cos(psi),2)                       #responsible for the linear component\n",
    "        Fy = round(F*mt.sin(psi),2)                       #responsible for the spin\n",
    "        print(\"Fx:\", Fx, \"Newtons\")\n",
    "        print(\"Fy:\", Fy, \"Newtons\")\n",
    "\n",
    "\n",
    "        # Torque\n",
    "        N = int(rm_b*Fy)                                  #torque from the force applied \n",
    "        print(\"N:\", N, \"N.m\")\n",
    "    \n",
    "else:\n",
    "    print(\"Invalid spin type\")"
   ]
  },
  {
   "cell_type": "markdown",
   "metadata": {},
   "source": [
    "## Kinetic energy (T) and Potential energy (U)"
   ]
  },
  {
   "cell_type": "markdown",
   "metadata": {},
   "source": [
    "- Assumption: The forces are applied on the center of mass [COM] \n",
    "- Off-diagonal elements are slight asymmetries in the mass distribution (example: $1e^{-6}$ $kg·m^2$)"
   ]
  },
  {
   "cell_type": "code",
   "execution_count": 10,
   "metadata": {},
   "outputs": [
    {
     "data": {
      "text/latex": [
       "$\\displaystyle \\left[\\begin{matrix}\\frac{2 R^{2} m}{3} & 0 & 0\\\\0 & \\frac{2 R^{2} m}{3} & 0\\\\0 & 0 & \\frac{2 R^{2} m}{3}\\end{matrix}\\right]$"
      ],
      "text/plain": [
       "Matrix([\n",
       "[2*R**2*m/3,          0,          0],\n",
       "[         0, 2*R**2*m/3,          0],\n",
       "[         0,          0, 2*R**2*m/3]])"
      ]
     },
     "execution_count": 10,
     "metadata": {},
     "output_type": "execute_result"
    }
   ],
   "source": [
    "# Moments of inertia\n",
    "Ixx = smp.Rational(2,3) * m * R**2 \n",
    "Iyy = smp.Rational(2,3) * m * R**2 \n",
    "Izz = smp.Rational(2,3) * m * R**2 \n",
    "\n",
    "# Off-diagonal elements\n",
    "Ixy = Iyx = 0\n",
    "Ixz = Izx = 0\n",
    "Iyz = Izy = 0\n",
    "I = smp.Matrix([\n",
    "        [Ixx, Ixy, Ixz],\n",
    "        [Iyx, Iyy, Iyz],\n",
    "        [Izx, Izy, Izz]\n",
    "    ])\n",
    "I"
   ]
  },
  {
   "cell_type": "code",
   "execution_count": 11,
   "metadata": {},
   "outputs": [],
   "source": [
    "omega   = smp.Matrix([alphadot, betadot, gammadot]) #angular velocity vector\n",
    "upsilon = smp.Matrix([xdot, ydot, zdot])            #velocity vector\n",
    "epsilon = smp.Matrix([x, y, z])                     #position vector\n",
    "\n",
    "upsilon_squared = upsilon.dot(upsilon)              #squared norm, same as (xdot^2 + ydot^2 + zdot^2)"
   ]
  },
  {
   "cell_type": "markdown",
   "metadata": {},
   "source": [
    "### Aerodynamic disturbances"
   ]
  },
  {
   "cell_type": "markdown",
   "metadata": {},
   "source": [
    "Drag Force"
   ]
  },
  {
   "cell_type": "code",
   "execution_count": 12,
   "metadata": {},
   "outputs": [
    {
     "data": {
      "text/latex": [
       "$\\displaystyle - 0.0002978625 \\pi \\left(\\left(\\frac{d}{d t} x{\\left(t \\right)}\\right)^{2} + \\left(\\frac{d}{d t} y{\\left(t \\right)}\\right)^{2} + \\left(\\frac{d}{d t} z{\\left(t \\right)}\\right)^{2}\\right)$"
      ],
      "text/plain": [
       "-0.0002978625*pi*(Derivative(x(t), t)**2 + Derivative(y(t), t)**2 + Derivative(z(t), t)**2)"
      ]
     },
     "execution_count": 12,
     "metadata": {},
     "output_type": "execute_result"
    }
   ],
   "source": [
    "Fd = -smp.Rational(1,2)*rho*A*Cd*upsilon_squared.simplify()\n",
    "Fd"
   ]
  },
  {
   "cell_type": "markdown",
   "metadata": {},
   "source": [
    "Lift Force (using Magnus effect)\n",
    "\n",
    "Scaled and with direction where: \n",
    "- 1st row  - x-component of the lift force\n",
    "- 2nd row  - y-component of the lift force\n",
    "- 3rd row  - z-component of the lift force"
   ]
  },
  {
   "cell_type": "code",
   "execution_count": 13,
   "metadata": {},
   "outputs": [
    {
     "data": {
      "text/latex": [
       "$\\displaystyle \\left[\\begin{matrix}0.00012675 \\pi \\left(\\frac{d}{d t} \\beta{\\left(t \\right)} \\frac{d}{d t} z{\\left(t \\right)} - \\frac{d}{d t} \\gamma{\\left(t \\right)} \\frac{d}{d t} y{\\left(t \\right)}\\right) \\left(\\left(\\frac{d}{d t} x{\\left(t \\right)}\\right)^{2} + \\left(\\frac{d}{d t} y{\\left(t \\right)}\\right)^{2} + \\left(\\frac{d}{d t} z{\\left(t \\right)}\\right)^{2}\\right)\\\\0.00012675 \\pi \\left(- \\frac{d}{d t} \\alpha{\\left(t \\right)} \\frac{d}{d t} z{\\left(t \\right)} + \\frac{d}{d t} \\gamma{\\left(t \\right)} \\frac{d}{d t} x{\\left(t \\right)}\\right) \\left(\\left(\\frac{d}{d t} x{\\left(t \\right)}\\right)^{2} + \\left(\\frac{d}{d t} y{\\left(t \\right)}\\right)^{2} + \\left(\\frac{d}{d t} z{\\left(t \\right)}\\right)^{2}\\right)\\\\0.00012675 \\pi \\left(\\frac{d}{d t} \\alpha{\\left(t \\right)} \\frac{d}{d t} y{\\left(t \\right)} - \\frac{d}{d t} \\beta{\\left(t \\right)} \\frac{d}{d t} x{\\left(t \\right)}\\right) \\left(\\left(\\frac{d}{d t} x{\\left(t \\right)}\\right)^{2} + \\left(\\frac{d}{d t} y{\\left(t \\right)}\\right)^{2} + \\left(\\frac{d}{d t} z{\\left(t \\right)}\\right)^{2}\\right)\\end{matrix}\\right]$"
      ],
      "text/plain": [
       "Matrix([\n",
       "[  0.00012675*pi*(Derivative(beta(t), t)*Derivative(z(t), t) - Derivative(gamma(t), t)*Derivative(y(t), t))*(Derivative(x(t), t)**2 + Derivative(y(t), t)**2 + Derivative(z(t), t)**2)],\n",
       "[0.00012675*pi*(-Derivative(alpha(t), t)*Derivative(z(t), t) + Derivative(gamma(t), t)*Derivative(x(t), t))*(Derivative(x(t), t)**2 + Derivative(y(t), t)**2 + Derivative(z(t), t)**2)],\n",
       "[  0.00012675*pi*(Derivative(alpha(t), t)*Derivative(y(t), t) - Derivative(beta(t), t)*Derivative(x(t), t))*(Derivative(x(t), t)**2 + Derivative(y(t), t)**2 + Derivative(z(t), t)**2)]])"
      ]
     },
     "execution_count": 13,
     "metadata": {},
     "output_type": "execute_result"
    }
   ],
   "source": [
    "Fl_magn = smp.Rational(1,2)*rho*A*Cl*upsilon_squared.simplify()     #lift force magnitude\n",
    "Fl_dire = omega.cross(upsilon)                                      #lift force direction\n",
    "Fl = Fl_magn * Fl_dire \n",
    "Fl"
   ]
  },
  {
   "cell_type": "markdown",
   "metadata": {},
   "source": [
    "Total aerodynamic disturbance forces\n",
    "- There is no lift force if the ball has no spin ($N = 0 => Fl = 0$)"
   ]
  },
  {
   "cell_type": "code",
   "execution_count": 14,
   "metadata": {},
   "outputs": [
    {
     "data": {
      "text/latex": [
       "$\\displaystyle \\left(0.00012675 \\pi \\left(\\frac{d}{d t} \\alpha{\\left(t \\right)} \\frac{d}{d t} y{\\left(t \\right)} - \\frac{d}{d t} \\beta{\\left(t \\right)} \\frac{d}{d t} x{\\left(t \\right)}\\right) \\left(\\left(\\frac{d}{d t} x{\\left(t \\right)}\\right)^{2} + \\left(\\frac{d}{d t} y{\\left(t \\right)}\\right)^{2} + \\left(\\frac{d}{d t} z{\\left(t \\right)}\\right)^{2}\\right) - 0.0002978625 \\pi \\left(\\left(\\frac{d}{d t} x{\\left(t \\right)}\\right)^{2} + \\left(\\frac{d}{d t} y{\\left(t \\right)}\\right)^{2} + \\left(\\frac{d}{d t} z{\\left(t \\right)}\\right)^{2}\\right)\\right) \\frac{d}{d t} z{\\left(t \\right)} + \\left(0.00012675 \\pi \\left(- \\frac{d}{d t} \\alpha{\\left(t \\right)} \\frac{d}{d t} z{\\left(t \\right)} + \\frac{d}{d t} \\gamma{\\left(t \\right)} \\frac{d}{d t} x{\\left(t \\right)}\\right) \\left(\\left(\\frac{d}{d t} x{\\left(t \\right)}\\right)^{2} + \\left(\\frac{d}{d t} y{\\left(t \\right)}\\right)^{2} + \\left(\\frac{d}{d t} z{\\left(t \\right)}\\right)^{2}\\right) - 0.0002978625 \\pi \\left(\\left(\\frac{d}{d t} x{\\left(t \\right)}\\right)^{2} + \\left(\\frac{d}{d t} y{\\left(t \\right)}\\right)^{2} + \\left(\\frac{d}{d t} z{\\left(t \\right)}\\right)^{2}\\right)\\right) \\frac{d}{d t} y{\\left(t \\right)} + \\left(0.00012675 \\pi \\left(\\frac{d}{d t} \\beta{\\left(t \\right)} \\frac{d}{d t} z{\\left(t \\right)} - \\frac{d}{d t} \\gamma{\\left(t \\right)} \\frac{d}{d t} y{\\left(t \\right)}\\right) \\left(\\left(\\frac{d}{d t} x{\\left(t \\right)}\\right)^{2} + \\left(\\frac{d}{d t} y{\\left(t \\right)}\\right)^{2} + \\left(\\frac{d}{d t} z{\\left(t \\right)}\\right)^{2}\\right) - 0.0002978625 \\pi \\left(\\left(\\frac{d}{d t} x{\\left(t \\right)}\\right)^{2} + \\left(\\frac{d}{d t} y{\\left(t \\right)}\\right)^{2} + \\left(\\frac{d}{d t} z{\\left(t \\right)}\\right)^{2}\\right)\\right) \\frac{d}{d t} x{\\left(t \\right)}$"
      ],
      "text/plain": [
       "(0.00012675*pi*(Derivative(alpha(t), t)*Derivative(y(t), t) - Derivative(beta(t), t)*Derivative(x(t), t))*(Derivative(x(t), t)**2 + Derivative(y(t), t)**2 + Derivative(z(t), t)**2) - 0.0002978625*pi*(Derivative(x(t), t)**2 + Derivative(y(t), t)**2 + Derivative(z(t), t)**2))*Derivative(z(t), t) + (0.00012675*pi*(-Derivative(alpha(t), t)*Derivative(z(t), t) + Derivative(gamma(t), t)*Derivative(x(t), t))*(Derivative(x(t), t)**2 + Derivative(y(t), t)**2 + Derivative(z(t), t)**2) - 0.0002978625*pi*(Derivative(x(t), t)**2 + Derivative(y(t), t)**2 + Derivative(z(t), t)**2))*Derivative(y(t), t) + (0.00012675*pi*(Derivative(beta(t), t)*Derivative(z(t), t) - Derivative(gamma(t), t)*Derivative(y(t), t))*(Derivative(x(t), t)**2 + Derivative(y(t), t)**2 + Derivative(z(t), t)**2) - 0.0002978625*pi*(Derivative(x(t), t)**2 + Derivative(y(t), t)**2 + Derivative(z(t), t)**2))*Derivative(x(t), t)"
      ]
     },
     "execution_count": 14,
     "metadata": {},
     "output_type": "execute_result"
    }
   ],
   "source": [
    "if N == 0: \n",
    "    T3 = Fd #With drag\n",
    "    #T3 = 0 #Without drag \n",
    "else:\n",
    "    T3 = smp.Matrix([Fd, Fd, Fd]) + Fl\n",
    "    T3 = T3.dot(upsilon) \n",
    "T3"
   ]
  },
  {
   "cell_type": "markdown",
   "metadata": {},
   "source": [
    "### Kinetic energy (T)"
   ]
  },
  {
   "cell_type": "code",
   "execution_count": 15,
   "metadata": {},
   "outputs": [
    {
     "data": {
      "text/latex": [
       "$\\displaystyle \\frac{R^{2} m \\left(\\left(\\frac{d}{d t} \\alpha{\\left(t \\right)}\\right)^{2} + \\left(\\frac{d}{d t} \\beta{\\left(t \\right)}\\right)^{2} + \\left(\\frac{d}{d t} \\gamma{\\left(t \\right)}\\right)^{2}\\right)}{3} + \\frac{m \\left(\\left(\\frac{d}{d t} x{\\left(t \\right)}\\right)^{2} + \\left(\\frac{d}{d t} y{\\left(t \\right)}\\right)^{2} + \\left(\\frac{d}{d t} z{\\left(t \\right)}\\right)^{2}\\right)}{2} + \\left(0.00012675 \\pi \\left(\\frac{d}{d t} \\alpha{\\left(t \\right)} \\frac{d}{d t} y{\\left(t \\right)} - \\frac{d}{d t} \\beta{\\left(t \\right)} \\frac{d}{d t} x{\\left(t \\right)}\\right) \\left(\\left(\\frac{d}{d t} x{\\left(t \\right)}\\right)^{2} + \\left(\\frac{d}{d t} y{\\left(t \\right)}\\right)^{2} + \\left(\\frac{d}{d t} z{\\left(t \\right)}\\right)^{2}\\right) - 0.0002978625 \\pi \\left(\\left(\\frac{d}{d t} x{\\left(t \\right)}\\right)^{2} + \\left(\\frac{d}{d t} y{\\left(t \\right)}\\right)^{2} + \\left(\\frac{d}{d t} z{\\left(t \\right)}\\right)^{2}\\right)\\right) \\frac{d}{d t} z{\\left(t \\right)} + \\left(0.00012675 \\pi \\left(- \\frac{d}{d t} \\alpha{\\left(t \\right)} \\frac{d}{d t} z{\\left(t \\right)} + \\frac{d}{d t} \\gamma{\\left(t \\right)} \\frac{d}{d t} x{\\left(t \\right)}\\right) \\left(\\left(\\frac{d}{d t} x{\\left(t \\right)}\\right)^{2} + \\left(\\frac{d}{d t} y{\\left(t \\right)}\\right)^{2} + \\left(\\frac{d}{d t} z{\\left(t \\right)}\\right)^{2}\\right) - 0.0002978625 \\pi \\left(\\left(\\frac{d}{d t} x{\\left(t \\right)}\\right)^{2} + \\left(\\frac{d}{d t} y{\\left(t \\right)}\\right)^{2} + \\left(\\frac{d}{d t} z{\\left(t \\right)}\\right)^{2}\\right)\\right) \\frac{d}{d t} y{\\left(t \\right)} + \\left(0.00012675 \\pi \\left(\\frac{d}{d t} \\beta{\\left(t \\right)} \\frac{d}{d t} z{\\left(t \\right)} - \\frac{d}{d t} \\gamma{\\left(t \\right)} \\frac{d}{d t} y{\\left(t \\right)}\\right) \\left(\\left(\\frac{d}{d t} x{\\left(t \\right)}\\right)^{2} + \\left(\\frac{d}{d t} y{\\left(t \\right)}\\right)^{2} + \\left(\\frac{d}{d t} z{\\left(t \\right)}\\right)^{2}\\right) - 0.0002978625 \\pi \\left(\\left(\\frac{d}{d t} x{\\left(t \\right)}\\right)^{2} + \\left(\\frac{d}{d t} y{\\left(t \\right)}\\right)^{2} + \\left(\\frac{d}{d t} z{\\left(t \\right)}\\right)^{2}\\right)\\right) \\frac{d}{d t} x{\\left(t \\right)}$"
      ],
      "text/plain": [
       "R**2*m*(Derivative(alpha(t), t)**2 + Derivative(beta(t), t)**2 + Derivative(gamma(t), t)**2)/3 + m*(Derivative(x(t), t)**2 + Derivative(y(t), t)**2 + Derivative(z(t), t)**2)/2 + (0.00012675*pi*(Derivative(alpha(t), t)*Derivative(y(t), t) - Derivative(beta(t), t)*Derivative(x(t), t))*(Derivative(x(t), t)**2 + Derivative(y(t), t)**2 + Derivative(z(t), t)**2) - 0.0002978625*pi*(Derivative(x(t), t)**2 + Derivative(y(t), t)**2 + Derivative(z(t), t)**2))*Derivative(z(t), t) + (0.00012675*pi*(-Derivative(alpha(t), t)*Derivative(z(t), t) + Derivative(gamma(t), t)*Derivative(x(t), t))*(Derivative(x(t), t)**2 + Derivative(y(t), t)**2 + Derivative(z(t), t)**2) - 0.0002978625*pi*(Derivative(x(t), t)**2 + Derivative(y(t), t)**2 + Derivative(z(t), t)**2))*Derivative(y(t), t) + (0.00012675*pi*(Derivative(beta(t), t)*Derivative(z(t), t) - Derivative(gamma(t), t)*Derivative(y(t), t))*(Derivative(x(t), t)**2 + Derivative(y(t), t)**2 + Derivative(z(t), t)**2) - 0.0002978625*pi*(Derivative(x(t), t)**2 + Derivative(y(t), t)**2 + Derivative(z(t), t)**2))*Derivative(x(t), t)"
      ]
     },
     "execution_count": 15,
     "metadata": {},
     "output_type": "execute_result"
    }
   ],
   "source": [
    "T1 = smp.Rational(1,2)*m*upsilon_squared.simplify()         #translational motion\n",
    "T2 = smp.Rational(1,2)*(omega.T*I*omega)[0].simplify()      #rotational motion \n",
    "T = T1 + T2 + T3                                            #sum with the airodinamic disturbances\n",
    "T"
   ]
  },
  {
   "cell_type": "markdown",
   "metadata": {},
   "source": [
    "### Potential energy (U)"
   ]
  },
  {
   "cell_type": "code",
   "execution_count": 16,
   "metadata": {},
   "outputs": [
    {
     "data": {
      "text/latex": [
       "$\\displaystyle g m z{\\left(t \\right)}$"
      ],
      "text/plain": [
       "g*m*z(t)"
      ]
     },
     "execution_count": 16,
     "metadata": {},
     "output_type": "execute_result"
    }
   ],
   "source": [
    "U = m*g*z\n",
    "U"
   ]
  },
  {
   "cell_type": "markdown",
   "metadata": {},
   "source": [
    "### Lagrangian (L)"
   ]
  },
  {
   "cell_type": "code",
   "execution_count": 17,
   "metadata": {},
   "outputs": [
    {
     "data": {
      "text/latex": [
       "$\\displaystyle \\frac{R^{2} m \\left(\\left(\\frac{d}{d t} \\alpha{\\left(t \\right)}\\right)^{2} + \\left(\\frac{d}{d t} \\beta{\\left(t \\right)}\\right)^{2} + \\left(\\frac{d}{d t} \\gamma{\\left(t \\right)}\\right)^{2}\\right)}{3} - g m z{\\left(t \\right)} + \\frac{m \\left(\\left(\\frac{d}{d t} x{\\left(t \\right)}\\right)^{2} + \\left(\\frac{d}{d t} y{\\left(t \\right)}\\right)^{2} + \\left(\\frac{d}{d t} z{\\left(t \\right)}\\right)^{2}\\right)}{2} + \\left(0.00012675 \\pi \\left(\\frac{d}{d t} \\alpha{\\left(t \\right)} \\frac{d}{d t} y{\\left(t \\right)} - \\frac{d}{d t} \\beta{\\left(t \\right)} \\frac{d}{d t} x{\\left(t \\right)}\\right) \\left(\\left(\\frac{d}{d t} x{\\left(t \\right)}\\right)^{2} + \\left(\\frac{d}{d t} y{\\left(t \\right)}\\right)^{2} + \\left(\\frac{d}{d t} z{\\left(t \\right)}\\right)^{2}\\right) - 0.0002978625 \\pi \\left(\\left(\\frac{d}{d t} x{\\left(t \\right)}\\right)^{2} + \\left(\\frac{d}{d t} y{\\left(t \\right)}\\right)^{2} + \\left(\\frac{d}{d t} z{\\left(t \\right)}\\right)^{2}\\right)\\right) \\frac{d}{d t} z{\\left(t \\right)} + \\left(0.00012675 \\pi \\left(- \\frac{d}{d t} \\alpha{\\left(t \\right)} \\frac{d}{d t} z{\\left(t \\right)} + \\frac{d}{d t} \\gamma{\\left(t \\right)} \\frac{d}{d t} x{\\left(t \\right)}\\right) \\left(\\left(\\frac{d}{d t} x{\\left(t \\right)}\\right)^{2} + \\left(\\frac{d}{d t} y{\\left(t \\right)}\\right)^{2} + \\left(\\frac{d}{d t} z{\\left(t \\right)}\\right)^{2}\\right) - 0.0002978625 \\pi \\left(\\left(\\frac{d}{d t} x{\\left(t \\right)}\\right)^{2} + \\left(\\frac{d}{d t} y{\\left(t \\right)}\\right)^{2} + \\left(\\frac{d}{d t} z{\\left(t \\right)}\\right)^{2}\\right)\\right) \\frac{d}{d t} y{\\left(t \\right)} + \\left(0.00012675 \\pi \\left(\\frac{d}{d t} \\beta{\\left(t \\right)} \\frac{d}{d t} z{\\left(t \\right)} - \\frac{d}{d t} \\gamma{\\left(t \\right)} \\frac{d}{d t} y{\\left(t \\right)}\\right) \\left(\\left(\\frac{d}{d t} x{\\left(t \\right)}\\right)^{2} + \\left(\\frac{d}{d t} y{\\left(t \\right)}\\right)^{2} + \\left(\\frac{d}{d t} z{\\left(t \\right)}\\right)^{2}\\right) - 0.0002978625 \\pi \\left(\\left(\\frac{d}{d t} x{\\left(t \\right)}\\right)^{2} + \\left(\\frac{d}{d t} y{\\left(t \\right)}\\right)^{2} + \\left(\\frac{d}{d t} z{\\left(t \\right)}\\right)^{2}\\right)\\right) \\frac{d}{d t} x{\\left(t \\right)}$"
      ],
      "text/plain": [
       "R**2*m*(Derivative(alpha(t), t)**2 + Derivative(beta(t), t)**2 + Derivative(gamma(t), t)**2)/3 - g*m*z(t) + m*(Derivative(x(t), t)**2 + Derivative(y(t), t)**2 + Derivative(z(t), t)**2)/2 + (0.00012675*pi*(Derivative(alpha(t), t)*Derivative(y(t), t) - Derivative(beta(t), t)*Derivative(x(t), t))*(Derivative(x(t), t)**2 + Derivative(y(t), t)**2 + Derivative(z(t), t)**2) - 0.0002978625*pi*(Derivative(x(t), t)**2 + Derivative(y(t), t)**2 + Derivative(z(t), t)**2))*Derivative(z(t), t) + (0.00012675*pi*(-Derivative(alpha(t), t)*Derivative(z(t), t) + Derivative(gamma(t), t)*Derivative(x(t), t))*(Derivative(x(t), t)**2 + Derivative(y(t), t)**2 + Derivative(z(t), t)**2) - 0.0002978625*pi*(Derivative(x(t), t)**2 + Derivative(y(t), t)**2 + Derivative(z(t), t)**2))*Derivative(y(t), t) + (0.00012675*pi*(Derivative(beta(t), t)*Derivative(z(t), t) - Derivative(gamma(t), t)*Derivative(y(t), t))*(Derivative(x(t), t)**2 + Derivative(y(t), t)**2 + Derivative(z(t), t)**2) - 0.0002978625*pi*(Derivative(x(t), t)**2 + Derivative(y(t), t)**2 + Derivative(z(t), t)**2))*Derivative(x(t), t)"
      ]
     },
     "execution_count": 17,
     "metadata": {},
     "output_type": "execute_result"
    }
   ],
   "source": [
    "L = T - U\n",
    "L"
   ]
  },
  {
   "cell_type": "markdown",
   "metadata": {},
   "source": [
    "### Get Lagrange's equations for each free variable\n",
    "\n",
    " \n",
    "$\\frac{d}{dt}\\frac{\\partial L}{\\partial \\dot{x}} - \\frac{\\partial L}{\\partial x} = 0$ \n",
    "\n",
    "$\\frac{d}{dt}\\frac{\\partial L}{\\partial \\dot{y}} - \\frac{\\partial L}{\\partial y} = 0$ \n",
    "\n",
    "$\\frac{d}{dt}\\frac{\\partial L}{\\partial \\dot{z}} - \\frac{\\partial L}{\\partial z} = 0$\n",
    "\n",
    "$\\frac{d}{dt}\\frac{\\partial L}{\\partial \\dot{\\alpha}} - \\frac{\\partial L}{\\partial \\alpha} = 0$\n",
    "\n",
    "$\\frac{d}{dt}\\frac{\\partial L}{\\partial \\dot{\\beta}} - \\frac{\\partial L}{\\partial \\beta} = 0$\n",
    "\n",
    "$\\frac{d}{dt}\\frac{\\partial L}{\\partial \\dot{\\gamma}} - \\frac{\\partial L}{\\partial \\gamma} = 0$\n",
    "\n",
    "This later equations (=0) show that the system is conservative meaning there are no non-conservative forces (like friction or external forces) acting on the system."
   ]
  },
  {
   "cell_type": "code",
   "execution_count": 18,
   "metadata": {},
   "outputs": [
    {
     "data": {
      "text/latex": [
       "$\\displaystyle 1.0 m \\frac{d^{2}}{d t^{2}} x{\\left(t \\right)} - 0.001787175 \\pi \\frac{d}{d t} x{\\left(t \\right)} \\frac{d^{2}}{d t^{2}} x{\\left(t \\right)} - 0.000595725 \\pi \\frac{d}{d t} x{\\left(t \\right)} \\frac{d^{2}}{d t^{2}} y{\\left(t \\right)} - 0.000595725 \\pi \\frac{d}{d t} x{\\left(t \\right)} \\frac{d^{2}}{d t^{2}} z{\\left(t \\right)} - 0.000595725 \\pi \\frac{d^{2}}{d t^{2}} x{\\left(t \\right)} \\frac{d}{d t} y{\\left(t \\right)} - 0.000595725 \\pi \\frac{d^{2}}{d t^{2}} x{\\left(t \\right)} \\frac{d}{d t} z{\\left(t \\right)} - 0.000595725 \\pi \\frac{d}{d t} y{\\left(t \\right)} \\frac{d^{2}}{d t^{2}} y{\\left(t \\right)} - 0.000595725 \\pi \\frac{d}{d t} z{\\left(t \\right)} \\frac{d^{2}}{d t^{2}} z{\\left(t \\right)}$"
      ],
      "text/plain": [
       "1.0*m*Derivative(x(t), (t, 2)) - 0.001787175*pi*Derivative(x(t), t)*Derivative(x(t), (t, 2)) - 0.000595725*pi*Derivative(x(t), t)*Derivative(y(t), (t, 2)) - 0.000595725*pi*Derivative(x(t), t)*Derivative(z(t), (t, 2)) - 0.000595725*pi*Derivative(x(t), (t, 2))*Derivative(y(t), t) - 0.000595725*pi*Derivative(x(t), (t, 2))*Derivative(z(t), t) - 0.000595725*pi*Derivative(y(t), t)*Derivative(y(t), (t, 2)) - 0.000595725*pi*Derivative(z(t), t)*Derivative(z(t), (t, 2))"
      ]
     },
     "execution_count": 18,
     "metadata": {},
     "output_type": "execute_result"
    }
   ],
   "source": [
    "LEx = smp.diff(smp.diff(L, xdot), t).simplify() - smp.diff(L, x) \n",
    "LEx"
   ]
  },
  {
   "cell_type": "code",
   "execution_count": 19,
   "metadata": {},
   "outputs": [
    {
     "data": {
      "text/latex": [
       "$\\displaystyle 1.0 m \\frac{d^{2}}{d t^{2}} y{\\left(t \\right)} - 0.000595725 \\pi \\frac{d}{d t} x{\\left(t \\right)} \\frac{d^{2}}{d t^{2}} x{\\left(t \\right)} - 0.000595725 \\pi \\frac{d}{d t} x{\\left(t \\right)} \\frac{d^{2}}{d t^{2}} y{\\left(t \\right)} - 0.000595725 \\pi \\frac{d^{2}}{d t^{2}} x{\\left(t \\right)} \\frac{d}{d t} y{\\left(t \\right)} - 0.001787175 \\pi \\frac{d}{d t} y{\\left(t \\right)} \\frac{d^{2}}{d t^{2}} y{\\left(t \\right)} - 0.000595725 \\pi \\frac{d}{d t} y{\\left(t \\right)} \\frac{d^{2}}{d t^{2}} z{\\left(t \\right)} - 0.000595725 \\pi \\frac{d^{2}}{d t^{2}} y{\\left(t \\right)} \\frac{d}{d t} z{\\left(t \\right)} - 0.000595725 \\pi \\frac{d}{d t} z{\\left(t \\right)} \\frac{d^{2}}{d t^{2}} z{\\left(t \\right)}$"
      ],
      "text/plain": [
       "1.0*m*Derivative(y(t), (t, 2)) - 0.000595725*pi*Derivative(x(t), t)*Derivative(x(t), (t, 2)) - 0.000595725*pi*Derivative(x(t), t)*Derivative(y(t), (t, 2)) - 0.000595725*pi*Derivative(x(t), (t, 2))*Derivative(y(t), t) - 0.001787175*pi*Derivative(y(t), t)*Derivative(y(t), (t, 2)) - 0.000595725*pi*Derivative(y(t), t)*Derivative(z(t), (t, 2)) - 0.000595725*pi*Derivative(y(t), (t, 2))*Derivative(z(t), t) - 0.000595725*pi*Derivative(z(t), t)*Derivative(z(t), (t, 2))"
      ]
     },
     "execution_count": 19,
     "metadata": {},
     "output_type": "execute_result"
    }
   ],
   "source": [
    "LEy = smp.diff(smp.diff(L, ydot), t).simplify() - smp.diff(L, y)\n",
    "LEy"
   ]
  },
  {
   "cell_type": "code",
   "execution_count": 20,
   "metadata": {},
   "outputs": [
    {
     "data": {
      "text/latex": [
       "$\\displaystyle g m + 1.0 m \\frac{d^{2}}{d t^{2}} z{\\left(t \\right)} - 0.000595725 \\pi \\frac{d}{d t} x{\\left(t \\right)} \\frac{d^{2}}{d t^{2}} x{\\left(t \\right)} - 0.000595725 \\pi \\frac{d}{d t} x{\\left(t \\right)} \\frac{d^{2}}{d t^{2}} z{\\left(t \\right)} - 0.000595725 \\pi \\frac{d^{2}}{d t^{2}} x{\\left(t \\right)} \\frac{d}{d t} z{\\left(t \\right)} - 0.000595725 \\pi \\frac{d}{d t} y{\\left(t \\right)} \\frac{d^{2}}{d t^{2}} y{\\left(t \\right)} - 0.000595725 \\pi \\frac{d}{d t} y{\\left(t \\right)} \\frac{d^{2}}{d t^{2}} z{\\left(t \\right)} - 0.000595725 \\pi \\frac{d^{2}}{d t^{2}} y{\\left(t \\right)} \\frac{d}{d t} z{\\left(t \\right)} - 0.001787175 \\pi \\frac{d}{d t} z{\\left(t \\right)} \\frac{d^{2}}{d t^{2}} z{\\left(t \\right)}$"
      ],
      "text/plain": [
       "g*m + 1.0*m*Derivative(z(t), (t, 2)) - 0.000595725*pi*Derivative(x(t), t)*Derivative(x(t), (t, 2)) - 0.000595725*pi*Derivative(x(t), t)*Derivative(z(t), (t, 2)) - 0.000595725*pi*Derivative(x(t), (t, 2))*Derivative(z(t), t) - 0.000595725*pi*Derivative(y(t), t)*Derivative(y(t), (t, 2)) - 0.000595725*pi*Derivative(y(t), t)*Derivative(z(t), (t, 2)) - 0.000595725*pi*Derivative(y(t), (t, 2))*Derivative(z(t), t) - 0.001787175*pi*Derivative(z(t), t)*Derivative(z(t), (t, 2))"
      ]
     },
     "execution_count": 20,
     "metadata": {},
     "output_type": "execute_result"
    }
   ],
   "source": [
    "LEz = smp.diff(smp.diff(L, zdot), t).simplify() - smp.diff(L, z)\n",
    "LEz"
   ]
  },
  {
   "cell_type": "code",
   "execution_count": 21,
   "metadata": {},
   "outputs": [
    {
     "data": {
      "text/latex": [
       "$\\displaystyle \\frac{2 R^{2} m \\frac{d^{2}}{d t^{2}} \\alpha{\\left(t \\right)}}{3}$"
      ],
      "text/plain": [
       "2*R**2*m*Derivative(alpha(t), (t, 2))/3"
      ]
     },
     "execution_count": 21,
     "metadata": {},
     "output_type": "execute_result"
    }
   ],
   "source": [
    "LEalpha = smp.diff(smp.diff(L, alphadot), t).simplify() - smp.diff(L, alpha)\n",
    "LEalpha"
   ]
  },
  {
   "cell_type": "code",
   "execution_count": 22,
   "metadata": {},
   "outputs": [
    {
     "data": {
      "text/latex": [
       "$\\displaystyle \\frac{2 R^{2} m \\frac{d^{2}}{d t^{2}} \\beta{\\left(t \\right)}}{3}$"
      ],
      "text/plain": [
       "2*R**2*m*Derivative(beta(t), (t, 2))/3"
      ]
     },
     "execution_count": 22,
     "metadata": {},
     "output_type": "execute_result"
    }
   ],
   "source": [
    "#If its a slice: betadot is negative and can't be negative for this computation\n",
    "#It needs to be positive and then turn back to negative afterwards\n",
    "if lift_sign_up:\n",
    "    LEbeta = smp.diff(smp.diff(L, -betadot), t).simplify() - smp.diff(L, beta)\n",
    "    LEbeta = LEbeta.subs(smp.diff(smp.diff(beta, t), t), smp.diff(betadot, t))\n",
    "else: \n",
    "    LEbeta = smp.diff(smp.diff(L, betadot), t).simplify() - smp.diff(L, beta)\n",
    "LEbeta"
   ]
  },
  {
   "cell_type": "code",
   "execution_count": 23,
   "metadata": {},
   "outputs": [
    {
     "data": {
      "text/latex": [
       "$\\displaystyle \\frac{2 R^{2} m \\frac{d^{2}}{d t^{2}} \\gamma{\\left(t \\right)}}{3}$"
      ],
      "text/plain": [
       "2*R**2*m*Derivative(gamma(t), (t, 2))/3"
      ]
     },
     "execution_count": 23,
     "metadata": {},
     "output_type": "execute_result"
    }
   ],
   "source": [
    "LEgamma = smp.diff(smp.diff(L, gammadot), t).simplify() - smp.diff(L, gamma)\n",
    "LEgamma"
   ]
  },
  {
   "cell_type": "markdown",
   "metadata": {},
   "source": [
    "#### Solve Lagranges equations (assuming that all `LE`'s are equal to N)\n",
    "\n",
    "- When $N = 0$ these equations are linear in $\\ddot{x}, \\ddot{y}, \\ddot{z}, \\ddot{\\alpha}, \\ddot{\\beta}, \\ddot{\\gamma}$. (Giving: 6 unkowns, 6 equations, 6 linear equations)\n",
    "- When $N \\neq 0$ some of these equations become nonlinear in their respective free variable, since is multiplied by other time derivatives"
   ]
  },
  {
   "cell_type": "code",
   "execution_count": 24,
   "metadata": {},
   "outputs": [],
   "source": [
    "sols = smp.solve([smp.Eq(LEx, N), smp.Eq(LEy, N), smp.Eq(LEz, N), smp.Eq(LEalpha, N), smp.Eq(LEbeta, N), smp.Eq(LEgamma, N)], (xddot, yddot, zddot, alphaddot, betaddot, gammaddot), simplyfy=False, rational=False)\n",
    "\n",
    "#Execution time with disturbances and spin: ~481min~ =~ 8h"
   ]
  },
  {
   "cell_type": "code",
   "execution_count": 25,
   "metadata": {},
   "outputs": [],
   "source": [
    "sols_xddot = smp.simplify(sols[xddot])\n",
    "sols_xddot = smp.nsimplify(sols_xddot)\n",
    "\n",
    "#Execution time: ~1300min~ =~ 22h"
   ]
  },
  {
   "cell_type": "code",
   "execution_count": 26,
   "metadata": {},
   "outputs": [],
   "source": [
    "sols_yddot = smp.simplify(sols[yddot])\n",
    "sols_yddot = smp.nsimplify(sols_yddot)\n",
    "\n",
    "#Execution time: ~30min~"
   ]
  },
  {
   "cell_type": "code",
   "execution_count": 27,
   "metadata": {},
   "outputs": [],
   "source": [
    "sols_zddot = smp.simplify(sols[zddot])\n",
    "sols_zddot = smp.nsimplify(sols_zddot)\n",
    "\n",
    "#Execution time: ~12s~"
   ]
  },
  {
   "cell_type": "code",
   "execution_count": 28,
   "metadata": {},
   "outputs": [],
   "source": [
    "sols_alphaddot = smp.simplify(sols[alphaddot])\n",
    "sols_alphaddot = smp.nsimplify(sols_alphaddot)"
   ]
  },
  {
   "cell_type": "code",
   "execution_count": 29,
   "metadata": {},
   "outputs": [],
   "source": [
    "sols_betaddot = smp.simplify(sols[betaddot])\n",
    "sols_betaddot = smp.nsimplify(sols_betaddot)"
   ]
  },
  {
   "cell_type": "code",
   "execution_count": 30,
   "metadata": {},
   "outputs": [],
   "source": [
    "sols_gammaddot = smp.simplify(sols[gammaddot])\n",
    "sols_gammaddot = smp.nsimplify(sols_gammaddot)"
   ]
  },
  {
   "cell_type": "markdown",
   "metadata": {},
   "source": [
    "Now I have: \n",
    "\n",
    "$\\frac{d^2 x}{dt^2} = ...$\n",
    "\n",
    "$\\frac{d^2 y}{dt^2} = ...$\n",
    "\n",
    "$\\frac{d^2 z}{dt^2} = ...$\n",
    "\n",
    "$\\frac{d^2 \\alpha}{dt^2} = ...$\n",
    "\n",
    "$\\frac{d^2 \\beta}{dt^2} = ...$\n",
    "\n",
    "$\\frac{d^2 \\gamma}{dt^2} = ...$\n",
    "\n",
    "(explicity in terms of second derivatives)\n",
    "\n",
    "Which are 6 second order ODEs\n",
    "\n",
    "Convert to first order, example: \n",
    "\n",
    "1. Define $b_x = \\frac{dx}{dt}$\n",
    "2. Then $\\frac{db_x}{dt} = \\frac{d^2x}{dt^2}$\n",
    "\n",
    "Now I get a system of 12 first order ODEs:\n",
    "\n",
    "* $\\frac{db_x}{dt} = ...$ \n",
    "* $\\frac{dx}{dt} = b_x $ \n",
    "\n",
    "* $\\frac{db_y}{dt} = ...$ \n",
    "* $\\frac{dy}{dt} = b_y $ \n",
    "\n",
    "* $\\frac{db_z}{dt} = ...$ \n",
    "* $\\frac{dz}{dt} = b_z $\n",
    "\n",
    "* $\\frac{db_\\alpha}{dt} = ...$ \n",
    "* $\\frac{d\\alpha}{dt} = b_\\alpha $  \n",
    "\n",
    "* $\\frac{db_\\beta}{dt} = ...$ \n",
    "* $\\frac{d\\beta}{dt} = b_\\beta $ \n",
    "\n",
    "* $\\frac{db_\\gamma}{dt} = ...$ \n",
    "* $\\frac{d\\gamma}{dt} = b_\\gamma $ \n",
    "\n",
    "Convert the **symbolic** expressions above to numerical functions so I can use them in a **numerical** python solver. For this we use `smp.lambdify`"
   ]
  },
  {
   "cell_type": "markdown",
   "metadata": {},
   "source": [
    "### First order ODE's (python numerical functions):"
   ]
  },
  {
   "cell_type": "code",
   "execution_count": 31,
   "metadata": {},
   "outputs": [],
   "source": [
    "dbxdt_f = smp.lambdify((t,g,m,R,xdot,ydot,zdot,alphadot,betadot,gammadot), sols_xddot) \n",
    "dxdt_f = smp.lambdify(xdot, xdot)"
   ]
  },
  {
   "cell_type": "code",
   "execution_count": 32,
   "metadata": {},
   "outputs": [],
   "source": [
    "dbydt_f = smp.lambdify((t,g,m,R,xdot,ydot,zdot,alphadot,betadot,gammadot), sols_yddot) \n",
    "dydt_f = smp.lambdify(ydot, ydot)"
   ]
  },
  {
   "cell_type": "code",
   "execution_count": 33,
   "metadata": {},
   "outputs": [],
   "source": [
    "dbzdt_f = smp.lambdify((t,g,m,R,xdot,ydot,zdot,alphadot,betadot,gammadot), sols_zddot) \n",
    "dzdt_f = smp.lambdify(zdot, zdot)"
   ]
  },
  {
   "cell_type": "code",
   "execution_count": 34,
   "metadata": {},
   "outputs": [],
   "source": [
    "dbalphadt_f = smp.lambdify((t,g,m,R,xdot,ydot,zdot,alphadot,betadot,gammadot), sols_alphaddot) \n",
    "dalphadt_f = smp.lambdify(alphadot, alphadot)"
   ]
  },
  {
   "cell_type": "code",
   "execution_count": 35,
   "metadata": {},
   "outputs": [],
   "source": [
    "dbbetadt_f = smp.lambdify((t,g,m,R,xdot,ydot,zdot,alphadot,betadot,gammadot), sols_betaddot) \n",
    "dbetadt_f = smp.lambdify(betadot, betadot)"
   ]
  },
  {
   "cell_type": "code",
   "execution_count": 36,
   "metadata": {},
   "outputs": [],
   "source": [
    "dbgammadt_f = smp.lambdify((t,g,m,R,xdot,ydot,zdot,alphadot,betadot,gammadot), sols_gammaddot) \n",
    "dgammadt_f = smp.lambdify(gammadot, gammadot)"
   ]
  },
  {
   "cell_type": "markdown",
   "metadata": {},
   "source": [
    "## Functions"
   ]
  },
  {
   "cell_type": "markdown",
   "metadata": {},
   "source": [
    "There are 12 \"things\" I want to solve: ($x$, $b_x$, $y$, $b_y$, $z$, $b_z$, $\\alpha$, $b_\\alpha$, $\\beta$, $b_\\beta$, $\\gamma$, $b_\\gamma$)\n",
    "\n",
    "Now I define state solver vector $\\vec{S} = (x, b_x, y, b_y, z, b_z, \\alpha, b_\\alpha, \\beta, b_\\beta, \\gamma, b_\\gamma)$. \n",
    "\n",
    "If I'm going to use an ODE solver in python, I need to write a function that takes in $\\vec{S}$ and $t$ and returns $d\\vec{S}/dt$. In other words, I need to define $d\\vec{S}/dt (\\vec{S}, t)$\n",
    "\n",
    "- The system of ODEs can be fully specified using  $d\\vec{S}/dt$ and depends only on  $\\vec{S}$ and $t$\n",
    "- Function of $S$ and $t$ that is the differential equation that describes the system\n",
    "- It takes parameters of the system\n",
    "\n",
    "Returns: $\\frac{ds}{dt} = [\\frac{dx}{dt}, \\frac{db_x}{dt}, \\frac{dy}{dt}, \\frac{db_y}{dt}, \\frac{dz}{dt}, \\frac{db_z}{dt}, \\frac{d\\alpha}{dt}, \\frac{db_\\alpha}{dt}, \\frac{d\\beta}{dt}, \\frac{db_\\beta}{dt}, \\frac{d\\gamma}{dt}, \\frac{db_\\gamma}{dt}]$"
   ]
  },
  {
   "cell_type": "code",
   "execution_count": 37,
   "metadata": {},
   "outputs": [],
   "source": [
    "def dSdt(S, t, g, m, R):\n",
    "    x, bx, y, by, z, bz, alpha, balpha, beta, bbeta, gamma, bgamma = S\n",
    "    return [\n",
    "        dxdt_f(bx),\n",
    "        dbxdt_f(t,g,m,R,bx,by,bz,balpha,bbeta,bgamma),\n",
    "        dydt_f(by),\n",
    "        dbydt_f(t,g,m,R,bx,by,bz,balpha,bbeta,bgamma),\n",
    "        dzdt_f(bz),\n",
    "        dbzdt_f(t,g,m,R,bx,by,bz,balpha,bbeta,bgamma),\n",
    "        dalphadt_f(balpha),\n",
    "        dbalphadt_f(t,g,m,R,bx,by,bz,balpha,bbeta,bgamma),\n",
    "        dbetadt_f(bbeta),\n",
    "        dbbetadt_f(t,g,m,R,bx,by,bz,balpha,bbeta,bgamma),\n",
    "        dgammadt_f(bgamma),\n",
    "        dbgammadt_f(t,g,m,R,bx,by,bz,balpha,bbeta,bgamma),\n",
    "    ]"
   ]
  },
  {
   "cell_type": "markdown",
   "metadata": {},
   "source": [
    "Court validation function : `IN` | `OUT` "
   ]
  },
  {
   "cell_type": "code",
   "execution_count": 38,
   "metadata": {},
   "outputs": [],
   "source": [
    "def check_court(_x, _y, _z):\n",
    "    if max(_x) >= (court_length/2):\n",
    "        if max(_x) <= court_length:\n",
    "            if max(_y) <= (singles_court_width/2) and min(_y) >= -(singles_court_width/2):\n",
    "                i=0\n",
    "                flag = False\n",
    "                while i < len(_x):\n",
    "                    if _x[i] >= (court_length/2):\n",
    "                        if flag == False:\n",
    "                            if _z[i] > net_height_middle and i != 0:\n",
    "                                flag = True\n",
    "                                #IN: the ball did go over the net \n",
    "                            else: \n",
    "                                return False\n",
    "                                #OUT: the ball didn't go over the net\n",
    "                        else:\n",
    "                            if (_y[i] <= (singles_court_width/2) and _y[i] >= -(singles_court_width/2)) and _x[i] <= court_length: \n",
    "                                return True\n",
    "                                #IN: the ball is in the limits of the court\n",
    "                            else: \n",
    "                                return False\n",
    "                                #OUT: the ball is out the limits of the court\n",
    "                    i += 1\n",
    "            else: \n",
    "                return False\n",
    "                #OUT: the ball is out the limits of the court\n",
    "        else:\n",
    "            return False\n",
    "            #OUT: the ball is out the limits of the court\n",
    "    else:\n",
    "        return False\n",
    "        #OUT: the ball didn't surpass the net"
   ]
  },
  {
   "cell_type": "markdown",
   "metadata": {},
   "source": [
    "Function that checks the ball when it hits the ground\n",
    "- when it does: cut the list after that point and make xmax"
   ]
  },
  {
   "cell_type": "code",
   "execution_count": 39,
   "metadata": {},
   "outputs": [],
   "source": [
    "def check_ball_ground(f_results_g):\n",
    "    res_above_ground_values = []\n",
    "    i = 0\n",
    "    \n",
    "    for f_result_g in tqdm(f_results_g):\n",
    "        z_res = f_result_g[3].T[4]\n",
    "        z_n_res = [g for g in z_res if g>=0] \n",
    "        lz_res = len(z_n_res)\n",
    "        f_result_g[3] = f_result_g[3][:lz_res]  #all values above the ground\n",
    "        \n",
    "        flag_g = False\n",
    "        while i < len(f_result_g[3].T[0]):      #x\n",
    "            if f_result_g[3].T[0][i] >= (court_length/2):\n",
    "                if flag_g == False:\n",
    "                    if z_n_res[i] > net_height_middle and i != 0:  #z at the net\n",
    "                        flag_g = True\n",
    "                        print(\"Over the net at *real* y=\", round(f_result_g[3].T[0][i], 3), \"with z=\", round(z_n_res[i], 3), \"m\") #x simul at the net\n",
    "                        #IN: the ball did go over the net \n",
    "                    else: \n",
    "                        f_result_g[3].T[0][i] = (court_length/2)   #Xmax is the Xnet \n",
    "                        #OUT: the ball didn't go over the net\n",
    "                else:\n",
    "                    pass\n",
    "            else:\n",
    "                pass\n",
    "            i+=1\n",
    "            \n",
    "        res_above_ground_values.append(f_result_g)\n",
    "    \n",
    "    return res_above_ground_values\n",
    "        "
   ]
  },
  {
   "cell_type": "markdown",
   "metadata": {},
   "source": [
    "Compute the angle $\\phi$ from a point in the court to another "
   ]
  },
  {
   "cell_type": "code",
   "execution_count": 40,
   "metadata": {},
   "outputs": [],
   "source": [
    "def compute_phi(p1, p2):\n",
    "    #p1 = [x1,y1], p2 = [x2,y2]\n",
    "    c_opt = abs(p2[1]-p1[1])\n",
    "    c_adj = abs(p2[0]-p1[0])\n",
    "    phi_ = mt.degrees(mt.atan((c_opt)/(c_adj)))\n",
    "    if (p2[1]-p1[1]) < 0:\n",
    "        phi_ = phi_ * -1\n",
    "    else:\n",
    "        phi_ = phi_ * 1\n",
    "        \n",
    "    if phi_ == -0.0:\n",
    "        phi_ = 0.0\n",
    "    \n",
    "    return phi_"
   ]
  },
  {
   "cell_type": "markdown",
   "metadata": {},
   "source": [
    "Find **f_results** matrix\n",
    "\n",
    "- from an initial point $p_0$\n",
    "- $\\phi$ can vary or not\n",
    "- initial contact height $z_0$\n",
    "- $v_0$ from $1$ to $28$ m/s\n",
    "- $\\theta$ from $1$ to $89$ degrees \n",
    "- f_results is the list to store all the function results\n",
    "- computes all the possibilities inside the values\n",
    "- solves the system of ODEs using scipys `odeint` method\n",
    "\n",
    "Returns: $f_{results} = [v_0, \\theta, \\phi, f, F]$\n",
    "\n",
    "Where $f.T = [x, v_{0x}, y, v_{0y}, z, v_{0z}, \\alpha, \\omega _{0x}, \\beta, \\omega _{0y}, \\gamma, \\omega _{0z}]$"
   ]
  },
  {
   "cell_type": "code",
   "execution_count": 41,
   "metadata": {},
   "outputs": [],
   "source": [
    "def calc_f_results(p0, phi_list, z0=0.95, v0_list=range(1,28), theta_list=range(1,90)):\n",
    "    f_results = []          \n",
    "    \n",
    "    for v0_ in tqdm(v0_list):\n",
    "        for theta_ in theta_list:\n",
    "            for phi_ in phi_list:\n",
    "                neg = False\n",
    "                init_magn_force_ = round(calc_f_init_with_v(0,v0_,ct_s))\n",
    "                data = [v0_, theta_, phi_]\n",
    "                #Mirror the phi, it doesn't matter if it's negative or positive for Vx\n",
    "                if phi_ < 0: \n",
    "                    phi_ = phi_ * -1 \n",
    "                    p0[1] = p0[1] * -1\n",
    "                    neg = True\n",
    "                v0x_ = v0_ * mt.cos(mt.radians(theta_))*mt.cos(mt.radians(phi_))\n",
    "                v0y_ = v0_ * mt.cos(mt.radians(theta_))*mt.sin(mt.radians(phi_))\n",
    "                v0z_ = v0_ * mt.sin(mt.radians(theta_))                \n",
    "                w0x_ = v0x_/R\n",
    "                w0y_ = v0y_/R\n",
    "                w0z_ = v0z_/R\n",
    "                init = [p0[0], v0x_, p0[1], v0y_, z0, v0z_, 0, w0x_, 0, w0y_, 0, w0z_]\n",
    "            \n",
    "                odeint.mxstep = 50000000\n",
    "                f_result = odeint(dSdt, y0=init, t=t, args=(g, m, R))\n",
    "                \n",
    "                #Make all the y and vy values negative again, return the phi to the original value\n",
    "                if neg:     \n",
    "                    phi_ = phi_ * -1\n",
    "                    p0[1] = p0[1] * -1\n",
    "                    f_result[:,2] = f_result[:,2] * -1\n",
    "                    f_result[:,3] = f_result[:,3] * -1\n",
    "                data.append(f_result)     \n",
    "                data.append(init_magn_force_)           \n",
    "                f_results.append(data)\n",
    "  \n",
    "            time.sleep(0.02)\n",
    "    return f_results"
   ]
  },
  {
   "cell_type": "markdown",
   "metadata": {},
   "source": [
    "`IN` Results function\n",
    "\n",
    "- Checks if the values computed and in `f_results` are inside the court and valid or not\n",
    "- Uses `check_court[]` function to check if the ball is in the court or not"
   ]
  },
  {
   "cell_type": "code",
   "execution_count": 42,
   "metadata": {},
   "outputs": [],
   "source": [
    "def in_results(f_results):\n",
    "    checked_results = []\n",
    "    count_in = 0\n",
    "    len_results = len(f_results)\n",
    "\n",
    "    for f_result in tqdm(f_results):\n",
    "    \n",
    "        v0_ = f_result[0]\n",
    "        theta_ = f_result[1]\n",
    "        phi_ = f_result[2]\n",
    "        x_ = f_result[3].T[0]\n",
    "        y_ = f_result[3].T[2]\n",
    "        z_ = f_result[3].T[4]\n",
    "            \n",
    "        #Cut the lists to the same length of the z list (above the ground 0)\n",
    "        #Replace the list of coordinates with the lists above the ground 0\n",
    "        z_n_=[h for h in z_ if h>=0]\n",
    "        lz_ = len(z_n_)\n",
    "        f_result[3] = f_result[3][:lz_]\n",
    "        x_n_ = f_result[3].T[0]\n",
    "        y_n_ = f_result[3].T[2]\n",
    "\n",
    "        if check_court(x_n_, y_n_, z_n_) != False:\n",
    "            count_in += 1\n",
    "            checked_results.append(f_result)\n",
    "            \n",
    "    print(\"Total number of results IN:\", count_in)\n",
    "    percentage_in = (count_in * 100) / len_results\n",
    "    print(\"Percentage of results IN:\", percentage_in, \"%\")\n",
    "    \n",
    "    return checked_results"
   ]
  },
  {
   "cell_type": "markdown",
   "metadata": {},
   "source": [
    "Min error and compute error functions\n",
    "\n",
    "$min || x_{max} - x ||^2$"
   ]
  },
  {
   "cell_type": "code",
   "execution_count": 43,
   "metadata": {},
   "outputs": [],
   "source": [
    "def norm_error(x_real, x_pred, y_real, y_pred):\n",
    "    error = np.linalg.norm(x_real - x_pred)**2 + np.linalg.norm(y_real - y_pred)**2\n",
    "    return error"
   ]
  },
  {
   "cell_type": "markdown",
   "metadata": {},
   "source": [
    "Compute errors ($e$) using `norm_error` and add them to the checked `f_results` matrix resulting in: $f_{results} = [v_0, \\theta, \\phi, f, F,e]$"
   ]
  },
  {
   "cell_type": "code",
   "execution_count": 44,
   "metadata": {},
   "outputs": [],
   "source": [
    "def compute_errors(checked_results, desire_values):\n",
    "    error_results = []\n",
    "    checked_err_results = checked_results.copy()\n",
    "\n",
    "    x_real = desire_values[0]\n",
    "    y_real = desire_values[1]\n",
    "\n",
    "    for result in checked_results:\n",
    "        x_chk = result[3].T[0]\n",
    "        y_chk = result[3].T[2]\n",
    "        x_max_pred = max(x_chk)\n",
    "        if min (y_chk) < 0:\n",
    "            y_max_pred = min(y_chk)\n",
    "        else:\n",
    "            y_max_pred = max(y_chk)\n",
    "        # Ymax - y_max_pred | Xmax - x_max_pred | Yreal - y_real | Xreal - x_real\n",
    "\n",
    "        error = norm_error(x_real, x_max_pred, y_real, y_max_pred)\n",
    "        result_index = checked_results.index(result)\n",
    "        checked_err_results[result_index].append(error)\n",
    "        error_results.append(error)\n",
    "    \n",
    "    return error_results, checked_err_results"
   ]
  },
  {
   "cell_type": "markdown",
   "metadata": {},
   "source": [
    "Computes the Euclidean distance between two points, normally the origin and final"
   ]
  },
  {
   "cell_type": "code",
   "execution_count": 45,
   "metadata": {},
   "outputs": [],
   "source": [
    "def distance_bt_two_points(p1, p2):\n",
    "   # p1[x1,y1] p2[x2,y2]\n",
    "   d = mt.sqrt((p2[0]-p1[0])**2 + (p2[1]-p1[1])**2)\n",
    "   return d"
   ]
  },
  {
   "cell_type": "code",
   "execution_count": 46,
   "metadata": {},
   "outputs": [],
   "source": [
    "def cal_delta_from_coord(i_1, i_2, time_step_i):\n",
    "    \"\"\"Euclidean value between two values divided by the time step\"\"\"\n",
    "    delta = round(((i_2 - i_1) / time_step_i),3)\n",
    "    return delta"
   ]
  },
  {
   "cell_type": "code",
   "execution_count": 47,
   "metadata": {},
   "outputs": [],
   "source": [
    "def compute_time_results(i_time, time_step_i, i_0=None, is_velocity=False):\n",
    "    \"\"\"Similar to np.gradient() function that handles the differentiation\"\"\"\n",
    "    vector_i = [0]\n",
    "    if is_velocity:\n",
    "        NUM = 1\n",
    "    elif not is_velocity:\n",
    "        NUM = 0\n",
    "            \n",
    "    if i_0 is not None:\n",
    "        vector_i.append(i_0)\n",
    "    \n",
    "    if i_time is not None:\n",
    "        if np.all(i_time == 0):\n",
    "            return i_time\n",
    "        else:\n",
    "            for i in range(NUM, len(i_time)-1):\n",
    "                i_now = i_time[i]\n",
    "                i_after = i_time[i+1]\n",
    "                i_result = cal_delta_from_coord(i_now, i_after, time_step_i)\n",
    "                vector_i.append(i_result)\n",
    "            return vector_i\n",
    "            \n",
    "    vector_i.clear()"
   ]
  },
  {
   "cell_type": "code",
   "execution_count": 48,
   "metadata": {},
   "outputs": [],
   "source": [
    "def calc_force_from_a(a_time, m=m):\n",
    "    \"\"\"From the acceleration, calculates the force applied\"\"\"\n",
    "    force_time = []\n",
    "    for a in a_time:\n",
    "        force = m*a\n",
    "        force_time.append(force)\n",
    "    return force_time"
   ]
  },
  {
   "cell_type": "code",
   "execution_count": 49,
   "metadata": {},
   "outputs": [],
   "source": [
    "def force_magnitude_calc(fx_time_, fy_time_, fz_time_):\n",
    "    \"\"\"From the forces applied, calculates the magnitude of the force magnitude vector\"\"\"\n",
    "    forces_magnitude = []\n",
    "    if len(fx_time_) == len(fy_time_) and len(fy_time_) == len(fz_time_):\n",
    "        for fc_i in range(0, len(fx_time_)):\n",
    "            force = round(mt.sqrt(fx_time_[fc_i] + fy_time_[fc_i]**2 + fz_time_[fc_i]**2),2)\n",
    "            forces_magnitude.append(force)\n",
    "    return forces_magnitude"
   ]
  },
  {
   "cell_type": "code",
   "execution_count": 50,
   "metadata": {},
   "outputs": [],
   "source": [
    "def force_max_value_upd(force_, upd_force):\n",
    "    \"\"\"Update force list\"\"\"\n",
    "    max_index = force_.index(max(force_))\n",
    "    if force_[max_index] > upd_force:\n",
    "        force_[max_index] = upd_force\n",
    "    return force_"
   ]
  },
  {
   "cell_type": "code",
   "execution_count": 51,
   "metadata": {},
   "outputs": [],
   "source": [
    "def update_list_smooth(force_):\n",
    "    \"\"\"Update the list of force for smoothing the graph\"\"\"\n",
    "    max_force = max(force_)\n",
    "    max_index = force_.index(max_force)\n",
    "    force_[max_index+1] = max_force/2\n",
    "    return force_\n"
   ]
  },
  {
   "cell_type": "code",
   "execution_count": 52,
   "metadata": {},
   "outputs": [],
   "source": [
    "def match_origin(origin, x_=23.77, y_=4.115):\n",
    "    match origin:\n",
    "        case 'a':\n",
    "            p_origin = [0, -y_]\n",
    "        case 'b':\n",
    "            p_origin = [0, 0]\n",
    "        case 'c':\n",
    "            p_origin = [0, y_]\n",
    "    return p_origin"
   ]
  },
  {
   "cell_type": "code",
   "execution_count": 53,
   "metadata": {},
   "outputs": [],
   "source": [
    "def match_goal(goal, x_=23.77, y_=4.115):\n",
    "    match goal:\n",
    "        case 'A':\n",
    "            p_final = [x_, -y_]\n",
    "        case 'B':\n",
    "            p_final = [x_, 0]\n",
    "        case 'C':\n",
    "            p_final = [x_, y_]\n",
    "    return p_final"
   ]
  },
  {
   "cell_type": "markdown",
   "metadata": {},
   "source": [
    "## Simulation tests"
   ]
  },
  {
   "cell_type": "markdown",
   "metadata": {},
   "source": [
    "Simulation Variables:"
   ]
  },
  {
   "cell_type": "code",
   "execution_count": 54,
   "metadata": {},
   "outputs": [],
   "source": [
    "simul_t = 5.5      #total simulation time in s\n",
    "time_step = ct_s/3 #time step of 5ms/3\n",
    "m = mkg_b          #ball mass in kg\n",
    "g = a_gravity      #gravity acceleration in m/s^2\n",
    "R = rm_b           #ball radius in m\n",
    "z0 = avg_dist_cp   #height of impact in m\n",
    "\n",
    "x_value = 23.77    #max distance in x in m (inside the court) \n",
    "y_value = 4.115    #max distance in y in m (inside the court) \n",
    "\n",
    "do_all_correlations = False #If True: ignores F, theta and initial velocity values and calculates all the possible values\n",
    "\n",
    "t = np.arange(0, simul_t + time_step, time_step) # = np.linspace(0, 5.5, 1100) where 1100 is the number of points (5.5/time_step)"
   ]
  },
  {
   "cell_type": "markdown",
   "metadata": {},
   "source": [
    "Court"
   ]
  },
  {
   "cell_type": "code",
   "execution_count": 55,
   "metadata": {},
   "outputs": [
    {
     "data": {
      "text/plain": [
       "' \\n|---|A---------B---------C|---|\\n|   |          |          |   |\\n|   |          |          |   |\\n|   |---------------------|   |\\n|   |          |          |   |\\n|   |          |          |   |\\n|   |          |          |   |\\n|   |=====================|   |\\n|   |          |          |   |\\n|   |          |          |   |\\n|   |          |          |   |\\n|   |---------------------|   |\\n|   |          |          |   |\\n|   |          |          |   |\\n|-- a)-------- b)-------- c)--| \\n\\n'"
      ]
     },
     "execution_count": 55,
     "metadata": {},
     "output_type": "execute_result"
    }
   ],
   "source": [
    "\"\"\" \n",
    "|---|A---------B---------C|---|\n",
    "|   |          |          |   |\n",
    "|   |          |          |   |\n",
    "|   |---------------------|   |\n",
    "|   |          |          |   |\n",
    "|   |          |          |   |\n",
    "|   |          |          |   |\n",
    "|   |=====================|   |\n",
    "|   |          |          |   |\n",
    "|   |          |          |   |\n",
    "|   |          |          |   |\n",
    "|   |---------------------|   |\n",
    "|   |          |          |   |\n",
    "|   |          |          |   |\n",
    "|-- a)-------- b)-------- c)--| \n",
    "\n",
    "\"\"\""
   ]
  },
  {
   "cell_type": "markdown",
   "metadata": {},
   "source": [
    "In simulation: \n",
    "\n",
    "[x_max, y_max]\n",
    "\n",
    "- a) - [0, -4.115] : Left side of the court \n",
    "\n",
    "- b) - [0, 0] : Middle of the court \n",
    "\n",
    "- c) - [0, 4.115] : Right side of the court\n",
    "\n",
    "- A - [23.77, -4.115]\n",
    "\n",
    "- B - [23.77, 0]\n",
    "\n",
    "- C - [23.77, 4.115]"
   ]
  },
  {
   "cell_type": "markdown",
   "metadata": {},
   "source": [
    "Insert the **origin point** from where it is launched at the singles court"
   ]
  },
  {
   "cell_type": "code",
   "execution_count": 56,
   "metadata": {},
   "outputs": [
    {
     "name": "stdout",
     "output_type": "stream",
     "text": [
      "[0, 0]\n"
     ]
    }
   ],
   "source": [
    "origin = 'b'\n",
    "p_origin = match_origin(origin, x_value, y_value)\n",
    "print(p_origin)"
   ]
  },
  {
   "cell_type": "markdown",
   "metadata": {},
   "source": [
    "Insert the **desire point**, where the ball arrives"
   ]
  },
  {
   "cell_type": "code",
   "execution_count": 57,
   "metadata": {},
   "outputs": [
    {
     "name": "stdout",
     "output_type": "stream",
     "text": [
      "[23.77, 0]\n"
     ]
    }
   ],
   "source": [
    "goal = 'B'\n",
    "p_final = match_goal(goal, x_value, y_value)\n",
    "print(p_final)"
   ]
  },
  {
   "cell_type": "markdown",
   "metadata": {},
   "source": [
    "### Compute the **closest** way possible to reach that desired point"
   ]
  },
  {
   "cell_type": "markdown",
   "metadata": {},
   "source": [
    "Compute the angle phi between the origin and the final point"
   ]
  },
  {
   "cell_type": "code",
   "execution_count": 58,
   "metadata": {},
   "outputs": [
    {
     "name": "stdout",
     "output_type": "stream",
     "text": [
      "phi: 0.0\n"
     ]
    }
   ],
   "source": [
    "phi_p = compute_phi(p_origin, p_final)\n",
    "phi_p_list = [phi_p]\n",
    "print(\"phi:\", phi_p)"
   ]
  },
  {
   "cell_type": "markdown",
   "metadata": {},
   "source": [
    "Compute the results function from the points and the $\\phi$"
   ]
  },
  {
   "cell_type": "code",
   "execution_count": 59,
   "metadata": {},
   "outputs": [
    {
     "name": "stderr",
     "output_type": "stream",
     "text": [
      "  0%|          | 0/1 [00:00<?, ?it/s]c:\\Users\\henri\\AppData\\Local\\Programs\\Python\\Python310\\lib\\site-packages\\scipy\\integrate\\_odepack_py.py:247: ODEintWarning: Excess work done on this call (perhaps wrong Dfun type). Run with full_output = 1 to get quantitative information.\n",
      "  warnings.warn(warning_msg, ODEintWarning)\n",
      "<lambdifygenerated-1>:2: RuntimeWarning: divide by zero encountered in scalar divide\n",
      "  return (-3061604804959881/1532495540865888858358347027150309183618739122183602176*_Dummy_2182**12*pi**12*g*m - 3061604804959901/191561942608236107294793378393788647952342390272950272*_Dummy_2182**12*pi**12 - 1530802402479949/47890485652059026823698344598447161988085597568237568*_Dummy_2182**11*_Dummy_2183*pi**12*g*m - 3061604804959913/11972621413014756705924586149611790497021399392059392*_Dummy_2182**11*_Dummy_2183*pi**12 - 5166458108369823/95780971304118053647396689196894323976171195136475136*_Dummy_2182**11*_Dummy_2184*pi**12*g*m - 5070782958214853/11972621413014756705924586149611790497021399392059392*_Dummy_2182**11*_Dummy_2184*pi**12 + (862613120194409/23384026197294446691258957323460528314494920687616)*_Dummy_2182**11*pi**11*g*m**2 + (7214582459807819/23384026197294446691258957323460528314494920687616)*_Dummy_2182**11*pi**11*m - 1315533314631211/5986310706507378352962293074805895248510699696029696*_Dummy_2182**10*_Dummy_2183**2*pi**12*g*m - 1339452102169965/748288838313422294120286634350736906063837462003712*_Dummy_2182**10*_Dummy_2183**2*pi**12 - 4759838720211105/5986310706507378352962293074805895248510699696029696*_Dummy_2182**10*_Dummy_2183*_Dummy_2184*pi**12*g*m - 2329091936585719/374144419156711147060143317175368453031918731001856*_Dummy_2182**10*_Dummy_2183*_Dummy_2184*pi**12 + (3136774982525135/5846006549323611672814739330865132078623730171904)*_Dummy_2182**10*_Dummy_2183*pi**11*g*m**2 + (6606832306943591/1461501637330902918203684832716283019655932542976)*_Dummy_2182**10*_Dummy_2183*pi**11*m - 7797524737632257/11972621413014756705924586149611790497021399392059392*_Dummy_2182**10*_Dummy_2184**2*pi**12*g*m - 931337789790053/187072209578355573530071658587684226515959365500928*_Dummy_2182**10*_Dummy_2184**2*pi**12 + (5312912626651945/5846006549323611672814739330865132078623730171904)*_Dummy_2182**10*_Dummy_2184*pi**11*g*m**2 + (170317079129295/22835963083295358096932575511191922182123945984)*_Dummy_2182**10*_Dummy_2184*pi**11*m - 154807127860549/500000000000000000000000000000000000000000000*_Dummy_2182**10*pi**10*g*m**3 - 272460545034567/100000000000000000000000000000000000000000000*_Dummy_2182**10*pi**10*m**2 - 1279655133323089/1496577676626844588240573268701473812127674924007424*_Dummy_2182**9*_Dummy_2183**3*pi**12*g*m - 340842722427179/46768052394588893382517914646921056628989841375232*_Dummy_2182**9*_Dummy_2183**3*pi**12 - 3726846083381379/748288838313422294120286634350736906063837462003712*_Dummy_2182**9*_Dummy_2183**2*_Dummy_2184*pi**12*g*m - 7422298758118171/187072209578355573530071658587684226515959365500928*_Dummy_2182**9*_Dummy_2183**2*_Dummy_2184*pi**12 + (605912198772923/182687704666362864775460604089535377456991567872)*_Dummy_2182**9*_Dummy_2183**2*pi**11*g*m**2 + (5251647490274531/182687704666362864775460604089535377456991567872)*_Dummy_2182**9*_Dummy_2183**2*pi**11*m - 6574676724713717/748288838313422294120286634350736906063837462003712*_Dummy_2182**9*_Dummy_2184**2*_Dummy_2183*pi**12*g*m - 6238318774950073/93536104789177786765035829293842113257979682750464*_Dummy_2182**9*_Dummy_2184**2*_Dummy_2183*pi**12 + (8817278427441765/730750818665451459101842416358141509827966271488)*_Dummy_2182**9*_Dummy_2183*_Dummy_2184*pi**11*g*m**2 + (995332034524899/10000000000000000000000000000000000000000000000)*_Dummy_2182**9*_Dummy_2183*_Dummy_2184*pi**11*m - 405313207489439/100000000000000000000000000000000000000000000*_Dummy_2182**9*_Dummy_2183*pi**10*g*m**3 - 45316268337361/1250000000000000000000000000000000000000000*_Dummy_2182**9*_Dummy_2183*pi**10*m**2 - 3469719117339821/748288838313422294120286634350736906063837462003712*_Dummy_2182**9*_Dummy_2184**3*pi**12*g*m - 3187925901648941/93536104789177786765035829293842113257979682750464*_Dummy_2182**9*_Dummy_2184**3*pi**12 + (3628121376272243/365375409332725729550921208179070754913983135744)*_Dummy_2182**9*_Dummy_2184**2*pi**11*g*m**2 + (792107232327429/10000000000000000000000000000000000000000000000)*_Dummy_2182**9*_Dummy_2184**2*pi**11*m - 43099711733903/6250000000000000000000000000000000000000000*_Dummy_2182**9*_Dummy_2184*pi**10*g*m**3 - 148896310251329/2500000000000000000000000000000000000000000*_Dummy_2182**9*_Dummy_2184*pi**10*m**2 + (9744877745219/6250000000000000000000000000000000000000)*_Dummy_2182**9*pi**9*g*m**4 + (72761753830969/5000000000000000000000000000000000000000)*_Dummy_2182**9*pi**9*m**3 - 3121401773806787/1496577676626844588240573268701473812127674924007424*_Dummy_2182**8*_Dummy_2183**4*pi**12*g*m - 7235433230471697/374144419156711147060143317175368453031918731001856*_Dummy_2182**8*_Dummy_2183**4*pi**12 - 1627225014745541/93536104789177786765035829293842113257979682750464*_Dummy_2182**8*_Dummy_2183**3*_Dummy_2184*pi**12*g*m - 6806016247940085/46768052394588893382517914646921056628989841375232*_Dummy_2182**8*_Dummy_2183**3*_Dummy_2184*pi**12 + (4178282300941697/365375409332725729550921208179070754913983135744)*_Dummy_2182**8*_Dummy_2183**3*pi**11*g*m**2 + (105287885970161/1000000000000000000000000000000000000000000000)*_Dummy_2182**8*_Dummy_2183**3*pi**11*m - 4649588058899697/93536104789177786765035829293842113257979682750464*_Dummy_2182**8*_Dummy_2183**2*_Dummy_2184**2*pi**12*g*m - 8964499957784567/23384026197294446691258957323460528314494920687616*_Dummy_2182**8*_Dummy_2183**2*_Dummy_2184**2*pi**12 + (67168144607477/1000000000000000000000000000000000000000000000)*_Dummy_2182**8*_Dummy_2183**2*_Dummy_2184*pi**11*g*m**2 + (570424520702653/1000000000000000000000000000000000000000000000)*_Dummy_2182**8*_Dummy_2183**2*_Dummy_2184*pi**11*m - 22241562260983/1000000000000000000000000000000000000000000*_Dummy_2182**8*_Dummy_2183**2*pi**10*g*m**3 - 207317705630849/1000000000000000000000000000000000000000000*_Dummy_2182**8*_Dummy_2183**2*pi**10*m**2 - 5312960682044697/93536104789177786765035829293842113257979682750464*_Dummy_2182**8*_Dummy_2184**3*_Dummy_2183*pi**12*g*m - 2409303964327973/5846006549323611672814739330865132078623730171904*_Dummy_2182**8*_Dummy_2184**3*_Dummy_2183*pi**12 + (59659558268861/500000000000000000000000000000000000000000000)*_Dummy_2182**8*_Dummy_2184**2*_Dummy_2183*pi**11*g*m**2 + (95349321221111/100000000000000000000000000000000000000000000)*_Dummy_2182**8*_Dummy_2184**2*_Dummy_2183*pi**11*m - 814679547053773/10000000000000000000000000000000000000000000*_Dummy_2182**8*_Dummy_2183*_Dummy_2184*pi**10*g*m**3 - 357182264100069/500000000000000000000000000000000000000000*_Dummy_2182**8*_Dummy_2183*_Dummy_2184*pi**10*m**2 + (90715952828221/5000000000000000000000000000000000000000)*_Dummy_2182**8*_Dummy_2183*pi**9*g*m**4 + (174061234489149/1000000000000000000000000000000000000000)*_Dummy_2182**8*_Dummy_2183*pi**9*m**3 - 2022258740190197/93536104789177786765035829293842113257979682750464*_Dummy_2182**8*_Dummy_2184**4*pi**12*g*m - 7007831017798279/46768052394588893382517914646921056628989841375232*_Dummy_2182**8*_Dummy_2184**4*pi**12 + (633585179524221/10000000000000000000000000000000000000000000000)*_Dummy_2182**8*_Dummy_2184**3*pi**11*g*m**2 + (30257356069747/62500000000000000000000000000000000000000000)*_Dummy_2182**8*_Dummy_2184**3*pi**11*m - 134867969792111/2000000000000000000000000000000000000000000*_Dummy_2182**8*_Dummy_2184**2*pi**10*g*m**3 - 565411924447769/1000000000000000000000000000000000000000000*_Dummy_2182**8*_Dummy_2184**2*pi**10*m**2 + (77604662771017/2500000000000000000000000000000000000000)*_Dummy_2182**8*_Dummy_2184*pi**9*g*m**4 + (17788831374909/62500000000000000000000000000000000000)*_Dummy_2182**8*_Dummy_2184*pi**9*m**3 - 3271602751343/625000000000000000000000000000000000*_Dummy_2182**8*pi**8*g*m**5 - 3271602751343/62500000000000000000000000000000000*_Dummy_2182**8*pi**8*m**4 - 4975107808059851/1496577676626844588240573268701473812127674924007424*_Dummy_2182**7*_Dummy_2183**5*pi**12*g*m - 3312752074116793/93536104789177786765035829293842113257979682750464*_Dummy_2182**7*_Dummy_2183**5*pi**12 - 3493077308295635/93536104789177786765035829293842113257979682750464*_Dummy_2182**7*_Dummy_2183**4*_Dummy_2184*pi**12*g*m - 4015273025303733/11692013098647223345629478661730264157247460343808*_Dummy_2182**7*_Dummy_2183**4*_Dummy_2184*pi**12 + (8852812206540689/365375409332725729550921208179070754913983135744)*_Dummy_2182**7*_Dummy_2183**4*pi**11*g*m**2 + (248283027318347/1000000000000000000000000000000000000000000000)*_Dummy_2182**7*_Dummy_2183**4*pi**11*m - 3601833045385889/23384026197294446691258957323460528314494920687616*_Dummy_2182**7*_Dummy_2183**3*_Dummy_2184**2*pi**12*g*m - 7317840928163787/5846006549323611672814739330865132078623730171904*_Dummy_2182**7*_Dummy_2183**3*_Dummy_2184**2*pi**12 + (8191770442637/40000000000000000000000000000000000000000000)*_Dummy_2182**7*_Dummy_2183**3*_Dummy_2184*pi**11*g*m**2 + (92936110533631/50000000000000000000000000000000000000000000)*_Dummy_2182**7*_Dummy_2183**3*_Dummy_2184*pi**11*m - 334158222174627/5000000000000000000000000000000000000000000*_Dummy_2182**7*_Dummy_2183**3*pi**10*g*m**3 - 674621316465757/1000000000000000000000000000000000000000000*_Dummy_2182**7*_Dummy_2183**3*pi**10*m**2 - 419764210119121/1461501637330902918203684832716283019655932542976*_Dummy_2182**7*_Dummy_2183**2*_Dummy_2184**3*pi**12*g*m - 3085360085161979/1461501637330902918203684832716283019655932542976*_Dummy_2182**7*_Dummy_2183**2*_Dummy_2184**3*pi**12 + (591451245286449/1000000000000000000000000000000000000000000000)*_Dummy_2182**7*_Dummy_2183**2*_Dummy_2184**2*pi**11*g*m**2 + (243299660056541/50000000000000000000000000000000000000000000)*_Dummy_2182**7*_Dummy_2183**2*_Dummy_2184**2*pi**11*m - 79355822546349/200000000000000000000000000000000000000000*_Dummy_2182**7*_Dummy_2183**2*_Dummy_2184*pi**10*g*m**3 - 72709586639539/20000000000000000000000000000000000000000*_Dummy_2182**7*_Dummy_2183**2*_Dummy_2184*pi**10*m**2 + (108717399717571/1250000000000000000000000000000000000000)*_Dummy_2182**7*_Dummy_2183**2*pi**9*g*m**4 + (176805392062203/200000000000000000000000000000000000000)*_Dummy_2182**7*_Dummy_2183**2*pi**9*m**3 - 5569900782558607/23384026197294446691258957323460528314494920687616*_Dummy_2182**7*_Dummy_2184**4*_Dummy_2183*pi**12*g*m - 1180452896333767/730750818665451459101842416358141509827966271488*_Dummy_2182**7*_Dummy_2184**4*_Dummy_2183*pi**12 + (681963413789909/1000000000000000000000000000000000000000000000)*_Dummy_2182**7*_Dummy_2184**3*_Dummy_2183*pi**11*g*m**2 + (259615325199299/50000000000000000000000000000000000000000000)*_Dummy_2182**7*_Dummy_2184**3*_Dummy_2183*pi**11*m - 711054470338973/1000000000000000000000000000000000000000000*_Dummy_2182**7*_Dummy_2184**2*_Dummy_2183*pi**10*g*m**3 - 603898665238933/100000000000000000000000000000000000000000*_Dummy_2182**7*_Dummy_2184**2*_Dummy_2183*pi**10*m**2 + (321361262893973/1000000000000000000000000000000000000000)*_Dummy_2182**7*_Dummy_2183*_Dummy_2184*pi**9*g*m**4 + (151495641223129/50000000000000000000000000000000000000)*_Dummy_2182**7*_Dummy_2183*_Dummy_2184*pi**9*m**3 - 532973830036969/10000000000000000000000000000000000000*_Dummy_2182**7*_Dummy_2183*pi**8*g*m**5 - 555815565609983/1000000000000000000000000000000000000*_Dummy_2182**7*_Dummy_2183*pi**8*m**4 - 3245200185872581/46768052394588893382517914646921056628989841375232*_Dummy_2182**7*_Dummy_2184**5*pi**12*g*m - 5134223804850851/11692013098647223345629478661730264157247460343808*_Dummy_2182**7*_Dummy_2184**5*pi**12 + (52348160352179/200000000000000000000000000000000000000000000)*_Dummy_2182**7*_Dummy_2184**4*pi**11*g*m**2 + (93553833447241/50000000000000000000000000000000000000000000)*_Dummy_2182**7*_Dummy_2184**4*pi**11*m - 380476514830503/1000000000000000000000000000000000000000000*_Dummy_2182**7*_Dummy_2184**3*pi**10*g*m**3 - 30439021882457/10000000000000000000000000000000000000000*_Dummy_2182**7*_Dummy_2184**3*pi**10*m**2 + (133976122833179/500000000000000000000000000000000000000)*_Dummy_2182**7*_Dummy_2184**2*pi**9*g*m**4 + (238356166056151/100000000000000000000000000000000000000)*_Dummy_2182**7*_Dummy_2184**2*pi**9*m**3 - 918428117831561/10000000000000000000000000000000000000*_Dummy_2182**7*_Dummy_2184*pi**8*g*m**5 - 14127375517163/15625000000000000000000000000000000*_Dummy_2182**7*_Dummy_2184*pi**8*m**4 + (123016327382741/10000000000000000000000000000000000)*_Dummy_2182**7*pi**7*g*m**6 + (133560584015547/1000000000000000000000000000000000)*_Dummy_2182**7*pi**7*m**5 - 2592198599511947/748288838313422294120286634350736906063837462003712*_Dummy_2182**6*_Dummy_2183**6*pi**12*g*m - 4311361453859577/93536104789177786765035829293842113257979682750464*_Dummy_2182**6*_Dummy_2183**6*pi**12 - 2381974880909667/46768052394588893382517914646921056628989841375232*_Dummy_2182**6*_Dummy_2183**5*_Dummy_2184*pi**12*g*m - 1608748685699499/2923003274661805836407369665432566039311865085952*_Dummy_2182**6*_Dummy_2183**5*_Dummy_2184*pi**12 + (1486904859880569/45671926166590716193865151022383844364247891968)*_Dummy_2182**6*_Dummy_2183**5*pi**11*g*m**2 + (397851116064339/1000000000000000000000000000000000000000000000)*_Dummy_2182**6*_Dummy_2183**5*pi**11*m - 6689692456980133/23384026197294446691258957323460528314494920687616*_Dummy_2182**6*_Dummy_2183**4*_Dummy_2184**2*pi**12*g*m - 7563031858626923/2923003274661805836407369665432566039311865085952*_Dummy_2182**6*_Dummy_2183**4*_Dummy_2184**2*pi**12 + (93511075753709/250000000000000000000000000000000000000000000)*_Dummy_2182**6*_Dummy_2183**4*_Dummy_2184*pi**11*g*m**2 + (383693792220167/100000000000000000000000000000000000000000000)*_Dummy_2182**6*_Dummy_2183**4*_Dummy_2184*pi**11*m - 120147219270099/1000000000000000000000000000000000000000000*_Dummy_2182**6*_Dummy_2183**4*pi**10*g*m**3 - 139164289791499/100000000000000000000000000000000000000000*_Dummy_2182**6*_Dummy_2183**4*pi**10*m**2 - 568450774648329/730750818665451459101842416358141509827966271488*_Dummy_2182**6*_Dummy_2183**3*_Dummy_2184**3*pi**12*g*m - 8833810879386801/1461501637330902918203684832716283019655932542976*_Dummy_2182**6*_Dummy_2183**3*_Dummy_2184**3*pi**12 + (156968690948787/100000000000000000000000000000000000000000000)*_Dummy_2182**6*_Dummy_2183**3*_Dummy_2184**2*pi**11*g*m**2 + (5557000453973/400000000000000000000000000000000000000000)*_Dummy_2182**6*_Dummy_2183**3*_Dummy_2184**2*pi**11*m - 25846035132587/25000000000000000000000000000000000000000*_Dummy_2182**6*_Dummy_2183**3*_Dummy_2184*pi**10*g*m**3 - 51794524437067/5000000000000000000000000000000000000000*_Dummy_2182**6*_Dummy_2183**3*_Dummy_2184*pi**10*m**2 + (222783260820639/1000000000000000000000000000000000000000)*_Dummy_2182**6*_Dummy_2183**3*pi**9*g*m**4 + (251570456518129/100000000000000000000000000000000000000)*_Dummy_2182**6*_Dummy_2183**3*pi**9*m**3 - 6211340064396105/5846006549323611672814739330865132078623730171904*_Dummy_2182**6*_Dummy_2183**2*_Dummy_2184**4*pi**12*g*m - 5306385351290641/730750818665451459101842416358141509827966271488*_Dummy_2182**6*_Dummy_2183**2*_Dummy_2184**4*pi**12 + (296801439747927/100000000000000000000000000000000000000000000)*_Dummy_2182**6*_Dummy_2183**2*_Dummy_2184**3*pi**11*g*m**2 + (232353422228873/10000000000000000000000000000000000000000000)*_Dummy_2182**6*_Dummy_2183**2*_Dummy_2184**3*pi**11*m - 151391801152441/50000000000000000000000000000000000000000*_Dummy_2182**6*_Dummy_2183**2*_Dummy_2184**2*pi**10*g*m**3 - 134654730010171/5000000000000000000000000000000000000000*_Dummy_2182**6*_Dummy_2183**2*_Dummy_2184**2*pi**10*m**2 + (134172674064307/100000000000000000000000000000000000000)*_Dummy_2182**6*_Dummy_2183**2*_Dummy_2184*pi**9*g*m**4 + (1347706433867/100000000000000000000000000000000000)*_Dummy_2182**6*_Dummy_2183**2*_Dummy_2184*pi**9*m**3 - 218519270315157/1000000000000000000000000000000000000*_Dummy_2182**6*_Dummy_2183**2*pi**8*g*m**5 - 246766883307117/100000000000000000000000000000000000*_Dummy_2182**6*_Dummy_2183**2*pi**8*m**4 - 992880783410873/1461501637330902918203684832716283019655932542976*_Dummy_2182**6*_Dummy_2184**5*_Dummy_2183*pi**12*g*m - 6067675510922401/1461501637330902918203684832716283019655932542976*_Dummy_2182**6*_Dummy_2184**5*_Dummy_2183*pi**12 + (49825087543907/20000000000000000000000000000000000000000000)*_Dummy_2182**6*_Dummy_2184**4*_Dummy_2183*pi**11*g*m**2 + (175957935981049/10000000000000000000000000000000000000000000)*_Dummy_2182**6*_Dummy_2184**4*_Dummy_2183*pi**11*m - 353183173786173/100000000000000000000000000000000000000000*_Dummy_2182**6*_Dummy_2184**3*_Dummy_2183*pi**10*g*m**3 - 142477500088721/5000000000000000000000000000000000000000*_Dummy_2182**6*_Dummy_2184**3*_Dummy_2183*pi**10*m**2 + (243209469532461/100000000000000000000000000000000000000)*_Dummy_2182**6*_Dummy_2184**2*_Dummy_2183*pi**9*g*m**4 + (222307002068291/10000000000000000000000000000000000000)*_Dummy_2182**6*_Dummy_2184**2*_Dummy_2183*pi**9*m**3 - 163356478906331/200000000000000000000000000000000000*_Dummy_2182**6*_Dummy_2183*_Dummy_2184*pi**8*g*m**5 - 21019155422083/2500000000000000000000000000000000*_Dummy_2182**6*_Dummy_2183*_Dummy_2184*pi**8*m**4 + (21471940779533/200000000000000000000000000000000)*_Dummy_2182**6*_Dummy_2183*pi**7*g*m**6 + (1936109243467/1562500000000000000000000000000)*_Dummy_2182**6*_Dummy_2183*pi**7*m**5 - 7344749564144865/46768052394588893382517914646921056628989841375232*_Dummy_2182**6*_Dummy_2184**6*pi**12*g*m - 5018694192383415/5846006549323611672814739330865132078623730171904*_Dummy_2182**6*_Dummy_2184**6*pi**12 + (91770166918053/125000000000000000000000000000000000000000000)*_Dummy_2182**6*_Dummy_2184**5*pi**11*g*m**2 + (94414352989219/20000000000000000000000000000000000000000000)*_Dummy_2182**6*_Dummy_2184**5*pi**11*m - 136977287276087/100000000000000000000000000000000000000000*_Dummy_2182**6*_Dummy_2184**4*pi**10*g*m**3 - 6352257171003/625000000000000000000000000000000000000*_Dummy_2182**6*_Dummy_2184**4*pi**10*m**2 + (131420956828517/100000000000000000000000000000000000000)*_Dummy_2182**6*_Dummy_2184**3*pi**9*g*m**4 + (111127042214571/10000000000000000000000000000000000000)*_Dummy_2182**6*_Dummy_2184**3*pi**9*m**3 - 687536240747689/1000000000000000000000000000000000000*_Dummy_2182**6*_Dummy_2184**2*pi**8*g*m**5 - 328445122760283/50000000000000000000000000000000000*_Dummy_2182**6*_Dummy_2184**2*pi**8*m**4 + (186761151571979/1000000000000000000000000000000000)*_Dummy_2182**6*_Dummy_2184*pi**7*g*m**6 + (8016191224359/4000000000000000000000000000000)*_Dummy_2182**6*_Dummy_2184*pi**7*m**5 - 103249257109187/5000000000000000000000000000000*_Dummy_2182**6*pi**6*g*m**7 - 247798217062049/1000000000000000000000000000000*_Dummy_2182**6*pi**6*m**6 - 3336670861655505/1496577676626844588240573268701473812127674924007424*_Dummy_2182**5*_Dummy_2183**7*pi**12*g*m - 8060631400558539/187072209578355573530071658587684226515959365500928*_Dummy_2182**5*_Dummy_2183**7*pi**12 - 31718963431055/730750818665451459101842416358141509827966271488*_Dummy_2182**5*_Dummy_2183**6*_Dummy_2184*pi**12*g*m - 7176664022026871/11692013098647223345629478661730264157247460343808*_Dummy_2182**5*_Dummy_2183**6*_Dummy_2184*pi**12 + (4959412789754091/182687704666362864775460604089535377456991567872)*_Dummy_2182**5*_Dummy_2183**6*pi**11*g*m**2 + (443861747848981/1000000000000000000000000000000000000000000000)*_Dummy_2182**5*_Dummy_2183**6*pi**11*m - 3804348560972755/11692013098647223345629478661730264157247460343808*_Dummy_2182**5*_Dummy_2183**5*_Dummy_2184**2*pi**12*g*m - 1299515435183269/365375409332725729550921208179070754913983135744*_Dummy_2182**5*_Dummy_2183**5*_Dummy_2184**2*pi**12 + (104219782018017/250000000000000000000000000000000000000000000)*_Dummy_2182**5*_Dummy_2183**5*_Dummy_2184*pi**11*g*m**2 + (32940862451239/6250000000000000000000000000000000000000000)*_Dummy_2182**5*_Dummy_2183**5*_Dummy_2184*pi**11*m - 65593187412041/500000000000000000000000000000000000000000*_Dummy_2182**5*_Dummy_2183**5*pi**10*g*m**3 - 19113219821177/10000000000000000000000000000000000000000*_Dummy_2182**5*_Dummy_2183**5*pi**10*m**2 - 1787476803571745/1461501637330902918203684832716283019655932542976*_Dummy_2182**5*_Dummy_2183**4*_Dummy_2184**3*pi**12*g*m - 3919577436731641/365375409332725729550921208179070754913983135744*_Dummy_2182**5*_Dummy_2183**4*_Dummy_2184**3*pi**12 + (241454204468269/100000000000000000000000000000000000000000000)*_Dummy_2182**5*_Dummy_2183**4*_Dummy_2184**2*pi**11*g*m**2 + (246052651881953/10000000000000000000000000000000000000000000)*_Dummy_2182**5*_Dummy_2183**4*_Dummy_2184**2*pi**11*m - 155746666392911/100000000000000000000000000000000000000000*_Dummy_2182**5*_Dummy_2183**4*_Dummy_2184*pi**10*g*m**3 - 91616659659907/5000000000000000000000000000000000000000*_Dummy_2182**5*_Dummy_2183**4*_Dummy_2184*pi**10*m**2 + (164408490133521/500000000000000000000000000000000000000)*_Dummy_2182**5*_Dummy_2183**4*pi**9*g*m**4 + (111173345148827/25000000000000000000000000000000000000)*_Dummy_2182**5*_Dummy_2183**4*pi**9*m**3 - 7214784589666745/2923003274661805836407369665432566039311865085952*_Dummy_2182**5*_Dummy_2183**3*_Dummy_2184**4*pi**12*g*m - 6529256722400155/365375409332725729550921208179070754913983135744*_Dummy_2182**5*_Dummy_2183**3*_Dummy_2184**4*pi**12 + (671890707257231/100000000000000000000000000000000000000000000)*_Dummy_2182**5*_Dummy_2183**3*_Dummy_2184**3*pi**11*g*m**2 + (569666887908717/10000000000000000000000000000000000000000000)*_Dummy_2182**5*_Dummy_2183**3*_Dummy_2184**3*pi**11*m - 669503111351181/100000000000000000000000000000000000000000*_Dummy_2182**5*_Dummy_2183**3*_Dummy_2184**2*pi**10*g*m**3 - 658504261943943/10000000000000000000000000000000000000000*_Dummy_2182**5*_Dummy_2183**3*_Dummy_2184**2*pi**10*m**2 + (145113395958527/50000000000000000000000000000000000000)*_Dummy_2182**5*_Dummy_2183**3*_Dummy_2184*pi**9*g*m**4 + (3289254614273/100000000000000000000000000000000000)*_Dummy_2182**5*_Dummy_2183**3*_Dummy_2184*pi**9*m**3 - 92559788483087/200000000000000000000000000000000000*_Dummy_2182**5*_Dummy_2183**3*pi**8*g*m**5 - 601549796168393/100000000000000000000000000000000000*_Dummy_2182**5*_Dummy_2183**3*pi**8*m**4 - 7684149918280527/2923003274661805836407369665432566039311865085952*_Dummy_2182**5*_Dummy_2183**2*_Dummy_2184**5*pi**12*g*m - 5861308813601685/365375409332725729550921208179070754913983135744*_Dummy_2182**5*_Dummy_2183**2*_Dummy_2184**5*pi**12 + (934917593368667/100000000000000000000000000000000000000000000)*_Dummy_2182**5*_Dummy_2183**2*_Dummy_2184**4*pi**11*g*m**2 + (676422687417127/10000000000000000000000000000000000000000000)*_Dummy_2182**5*_Dummy_2183**2*_Dummy_2184**4*pi**11*m - 64488202280123/5000000000000000000000000000000000000000*_Dummy_2182**5*_Dummy_2183**2*_Dummy_2184**3*pi**10*g*m**3 - 10910018262597/100000000000000000000000000000000000000*_Dummy_2182**5*_Dummy_2183**2*_Dummy_2184**3*pi**10*m**2 + (866433735209391/100000000000000000000000000000000000000)*_Dummy_2182**5*_Dummy_2183**2*_Dummy_2184**2*pi**9*g*m**4 + (424243358945869/5000000000000000000000000000000000000)*_Dummy_2182**5*_Dummy_2183**2*_Dummy_2184**2*pi**9*m**3 - 284363745567641/100000000000000000000000000000000000*_Dummy_2182**5*_Dummy_2183**2*_Dummy_2184*pi**8*g*m**5 - 8003712420151/250000000000000000000000000000000*_Dummy_2182**5*_Dummy_2183**2*_Dummy_2184*pi**8*m**4 + (18284699570071/50000000000000000000000000000000)*_Dummy_2182**5*_Dummy_2183**2*pi**7*g*m**6 + (117760175212751/25000000000000000000000000000000)*_Dummy_2182**5*_Dummy_2183**2*pi**7*m**5 - 7863278045172893/5846006549323611672814739330865132078623730171904*_Dummy_2182**5*_Dummy_2184**6*_Dummy_2183*pi**12*g*m - 5081072241330901/730750818665451459101842416358141509827966271488*_Dummy_2182**5*_Dummy_2184**6*_Dummy_2183*pi**12 + (303848242996401/50000000000000000000000000000000000000000000)*_Dummy_2182**5*_Dummy_2184**5*_Dummy_2183*pi**11*g*m**2 + (190381799549291/5000000000000000000000000000000000000000000)*_Dummy_2182**5*_Dummy_2184**5*_Dummy_2183*pi**11*m - 27491550461493/2500000000000000000000000000000000000000*_Dummy_2182**5*_Dummy_2184**4*_Dummy_2183*pi**10*g*m**3 - 102039795432007/1250000000000000000000000000000000000000*_Dummy_2182**5*_Dummy_2184**4*_Dummy_2183*pi**10*m**2 + (102631115249071/10000000000000000000000000000000000000)*_Dummy_2182**5*_Dummy_2184**3*_Dummy_2183*pi**9*g*m**4 + (27786721582313/312500000000000000000000000000000000)*_Dummy_2182**5*_Dummy_2184**3*_Dummy_2183*pi**9*m**3 - 523513544553813/100000000000000000000000000000000000*_Dummy_2182**5*_Dummy_2184**2*_Dummy_2183*pi**8*g*m**5 - 130982760180169/2500000000000000000000000000000000*_Dummy_2182**5*_Dummy_2184**2*_Dummy_2183*pi**8*m**4 + (34724154229401/25000000000000000000000000000000)*_Dummy_2182**5*_Dummy_2183*_Dummy_2184*pi**7*g*m**6 + (4982161259001/312500000000000000000000000000)*_Dummy_2182**5*_Dummy_2183*_Dummy_2184*pi**7*m**5 - 150180737613363/1000000000000000000000000000000*_Dummy_2182**5*_Dummy_2183*pi**6*g*m**7 - 98368383136753/50000000000000000000000000000*_Dummy_2182**5*_Dummy_2183*pi**6*m**6 - 5917797678654439/23384026197294446691258957323460528314494920687616*_Dummy_2182**5*_Dummy_2184**7*pi**12*g*m - 3149781975818105/2923003274661805836407369665432566039311865085952*_Dummy_2182**5*_Dummy_2184**7*pi**12 + (5711582762591/4000000000000000000000000000000000000000000)*_Dummy_2182**5*_Dummy_2184**6*pi**11*g*m**2 + (770632474186313/100000000000000000000000000000000000000000000)*_Dummy_2182**5*_Dummy_2184**6*pi**11*m - 328828916431151/100000000000000000000000000000000000000000*_Dummy_2182**5*_Dummy_2184**5*pi**10*g*m**3 - 21561514251017/1000000000000000000000000000000000000000*_Dummy_2182**5*_Dummy_2184**5*pi**10*m**2 + (403463924992723/100000000000000000000000000000000000000)*_Dummy_2182**5*_Dummy_2184**4*pi**9*g*m**4 + (78343903290783/2500000000000000000000000000000000000)*_Dummy_2182**5*_Dummy_2184**4*pi**9*m**3 - 143292234929731/50000000000000000000000000000000000*_Dummy_2182**5*_Dummy_2184**3*pi**8*g*m**5 - 51885002354099/2000000000000000000000000000000000*_Dummy_2182**5*_Dummy_2184**3*pi**8*m**4 + (118431173362111/100000000000000000000000000000000)*_Dummy_2182**5*_Dummy_2184**2*pi**7*g*m**6 + (123597859112187/10000000000000000000000000000000)*_Dummy_2182**5*_Dummy_2184**2*pi**7*m**5 - 264693550043551/1000000000000000000000000000000*_Dummy_2182**5*_Dummy_2184*pi**6*g*m**7 - 31613045267613/10000000000000000000000000000*_Dummy_2182**5*_Dummy_2184*pi**6*m**6 + (3868682559261/156250000000000000000000000)*_Dummy_2182**5*pi**5*g*m**8 + (1052281656119/3125000000000000000000000)*_Dummy_2182**5*pi**5*m**7 - 4102072062895453/5986310706507378352962293074805895248510699696029696*_Dummy_2182**4*_Dummy_2183**8*pi**12*g*m - 1346179261165237/46768052394588893382517914646921056628989841375232*_Dummy_2182**4*_Dummy_2183**8*pi**12 - 3874843581277371/187072209578355573530071658587684226515959365500928*_Dummy_2182**4*_Dummy_2183**7*_Dummy_2184*pi**12*g*m - 1396936610112213/2923003274661805836407369665432566039311865085952*_Dummy_2182**4*_Dummy_2183**7*_Dummy_2184*pi**12 + (9003524442029143/730750818665451459101842416358141509827966271488)*_Dummy_2182**4*_Dummy_2183**7*pi**11*g*m**2 + (172928880364929/500000000000000000000000000000000000000000000)*_Dummy_2182**4*_Dummy_2183**7*pi**11*m - 5071436987561613/23384026197294446691258957323460528314494920687616*_Dummy_2182**4*_Dummy_2183**6*_Dummy_2184**2*pi**12*g*m - 4832704596897773/1461501637330902918203684832716283019655932542976*_Dummy_2182**4*_Dummy_2183**6*_Dummy_2184**2*pi**12 + (67157245587557/250000000000000000000000000000000000000000000)*_Dummy_2182**4*_Dummy_2183**6*_Dummy_2184*pi**11*g*m**2 + (489912622168711/100000000000000000000000000000000000000000000)*_Dummy_2182**4*_Dummy_2183**6*_Dummy_2184*pi**11*m - 814285492546489/10000000000000000000000000000000000000000000*_Dummy_2182**4*_Dummy_2183**6*pi**10*g*m**3 - 177718582783911/100000000000000000000000000000000000000000*_Dummy_2182**4*_Dummy_2183**6*pi**10*m**2 - 1637747879771133/1461501637330902918203684832716283019655932542976*_Dummy_2182**4*_Dummy_2183**5*_Dummy_2184**3*pi**12*g*m - 562043695863497/45671926166590716193865151022383844364247891968*_Dummy_2182**4*_Dummy_2183**5*_Dummy_2184**3*pi**12 + (214980988114687/100000000000000000000000000000000000000000000)*_Dummy_2182**4*_Dummy_2183**5*_Dummy_2184**2*pi**11*g*m**2 + (70461493072791/2500000000000000000000000000000000000000000)*_Dummy_2182**4*_Dummy_2183**5*_Dummy_2184**2*pi**11*m - 67310139193767/50000000000000000000000000000000000000000*_Dummy_2182**4*_Dummy_2183**5*_Dummy_2184*pi**10*g*m**3 - 52434300076389/2500000000000000000000000000000000000000*_Dummy_2182**4*_Dummy_2183**5*_Dummy_2184*pi**10*m**2 + (275360715147329/1000000000000000000000000000000000000000)*_Dummy_2182**4*_Dummy_2183**5*pi**9*g*m**4 + (508935394523159/100000000000000000000000000000000000000)*_Dummy_2182**4*_Dummy_2183**5*pi**9*m**3 - 2331964994073283/730750818665451459101842416358141509827966271488*_Dummy_2182**4*_Dummy_2183**4*_Dummy_2184**4*pi**12*g*m - 2420547283555853/91343852333181432387730302044767688728495783936*_Dummy_2182**4*_Dummy_2183**4*_Dummy_2184**4*pi**12 + (843746788707589/100000000000000000000000000000000000000000000)*_Dummy_2182**4*_Dummy_2183**4*_Dummy_2184**3*pi**11*g*m**2 + (842170287395493/10000000000000000000000000000000000000000000)*_Dummy_2182**4*_Dummy_2183**4*_Dummy_2184**3*pi**11*m - 817390079128859/100000000000000000000000000000000000000000*_Dummy_2182**4*_Dummy_2183**4*_Dummy_2184**2*pi**10*g*m**3 - 485766753306073/5000000000000000000000000000000000000000*_Dummy_2182**4*_Dummy_2183**4*_Dummy_2184**2*pi**10*m**2 + (17223982824877/5000000000000000000000000000000000000)*_Dummy_2182**4*_Dummy_2183**4*_Dummy_2184*pi**9*g*m**4 + (242341998233541/5000000000000000000000000000000000000)*_Dummy_2182**4*_Dummy_2183**4*_Dummy_2184*pi**9*m**3 - 133382252777481/250000000000000000000000000000000000*_Dummy_2182**4*_Dummy_2183**4*pi**8*g*m**5 - 11073086500091/1250000000000000000000000000000000*_Dummy_2182**4*_Dummy_2183**4*pi**8*m**4 - 7466282231687951/1461501637330902918203684832716283019655932542976*_Dummy_2182**4*_Dummy_2183**3*_Dummy_2184**5*pi**12*g*m - 6030079042692081/182687704666362864775460604089535377456991567872*_Dummy_2182**4*_Dummy_2183**3*_Dummy_2184**5*pi**12 + (17572473049021/1000000000000000000000000000000000000000000)*_Dummy_2182**4*_Dummy_2183**3*_Dummy_2184**4*pi**11*g*m**2 + (138525872472137/1000000000000000000000000000000000000000000)*_Dummy_2182**4*_Dummy_2183**3*_Dummy_2184**4*pi**11*m - 7347920323901/312500000000000000000000000000000000000*_Dummy_2182**4*_Dummy_2183**3*_Dummy_2184**3*pi**10*g*m**3 - 55663520470059/250000000000000000000000000000000000000*_Dummy_2182**4*_Dummy_2183**3*_Dummy_2184**3*pi**10*m**2 + (153463043450091/10000000000000000000000000000000000000)*_Dummy_2182**4*_Dummy_2183**3*_Dummy_2184**2*pi**9*g*m**4 + (43182588966133/250000000000000000000000000000000000)*_Dummy_2182**4*_Dummy_2183**3*_Dummy_2184**2*pi**9*m**3 - 244834853173233/50000000000000000000000000000000000*_Dummy_2182**4*_Dummy_2183**3*_Dummy_2184*pi**8*g*m**5 - 650627803017631/10000000000000000000000000000000000*_Dummy_2182**4*_Dummy_2183**3*_Dummy_2184*pi**8*m**4 + (306049711458273/500000000000000000000000000000000)*_Dummy_2182**4*_Dummy_2183**3*pi**7*g*m**6 + (191249383637701/20000000000000000000000000000000)*_Dummy_2182**4*_Dummy_2183**3*pi**7*m**5 - 403190478720773/91343852333181432387730302044767688728495783936*_Dummy_2182**4*_Dummy_2183**2*_Dummy_2184**6*pi**12*g*m - 2047699459858413/91343852333181432387730302044767688728495783936*_Dummy_2182**4*_Dummy_2183**2*_Dummy_2184**6*pi**12 + (599820958997/31250000000000000000000000000000000000000)*_Dummy_2182**4*_Dummy_2183**2*_Dummy_2184**5*pi**11*g*m**2 + (30542152490569/250000000000000000000000000000000000000000)*_Dummy_2182**4*_Dummy_2183**2*_Dummy_2184**5*pi**11*m - 335606935423897/10000000000000000000000000000000000000000*_Dummy_2182**4*_Dummy_2183**2*_Dummy_2184**4*pi**10*g*m**3 - 260807902906249/1000000000000000000000000000000000000000*_Dummy_2182**4*_Dummy_2183**2*_Dummy_2184**4*pi**10*m**2 + (151757867024273/5000000000000000000000000000000000000)*_Dummy_2182**4*_Dummy_2183**2*_Dummy_2184**3*pi**9*g*m**4 + (70775074464031/250000000000000000000000000000000000)*_Dummy_2182**4*_Dummy_2183**2*_Dummy_2184**3*pi**9*m**3 - 30061944738377/2000000000000000000000000000000000*_Dummy_2182**4*_Dummy_2183**2*_Dummy_2184**2*pi**8*g*m**5 - 166358898148873/1000000000000000000000000000000000*_Dummy_2182**4*_Dummy_2183**2*_Dummy_2184**2*pi**8*m**4 + (387575986605563/100000000000000000000000000000000)*_Dummy_2182**4*_Dummy_2183**2*_Dummy_2184*pi**7*g*m**6 + (63148381389807/1250000000000000000000000000000)*_Dummy_2182**4*_Dummy_2183**2*_Dummy_2184*pi**7*m**5 - 203682625388123/500000000000000000000000000000*_Dummy_2182**4*_Dummy_2183**2*pi**6*g*m**7 - 622499157407389/100000000000000000000000000000*_Dummy_2182**4*_Dummy_2183**2*pi**6*m**6 - 2710729739517219/1461501637330902918203684832716283019655932542976*_Dummy_2182**4*_Dummy_2184**7*_Dummy_2183*pi**12*g*m - 1315566892030715/182687704666362864775460604089535377456991567872*_Dummy_2182**4*_Dummy_2184**7*_Dummy_2183*pi**12 + (50236165039837/5000000000000000000000000000000000000000000)*_Dummy_2182**4*_Dummy_2184**6*_Dummy_2183*pi**11*g*m**2 + (515943505990777/10000000000000000000000000000000000000000000)*_Dummy_2182**4*_Dummy_2184**6*_Dummy_2183*pi**11*m - 2786317200861/125000000000000000000000000000000000000*_Dummy_2182**4*_Dummy_2184**5*_Dummy_2183*pi**10*g*m**3 - 144102017941739/1000000000000000000000000000000000000000*_Dummy_2182**4*_Dummy_2184**5*_Dummy_2183*pi**10*m**2 + (264316047890493/10000000000000000000000000000000000000)*_Dummy_2182**4*_Dummy_2184**4*_Dummy_2183*pi**9*g*m**4 + (52214637763269/250000000000000000000000000000000000)*_Dummy_2182**4*_Dummy_2184**4*_Dummy_2183*pi**9*m**3 - 90949763371517/5000000000000000000000000000000000*_Dummy_2182**4*_Dummy_2184**3*_Dummy_2183*pi**8*g*m**5 - 21551574071047/125000000000000000000000000000000*_Dummy_2182**4*_Dummy_2184**3*_Dummy_2183*pi**8*m**4 + (729598654404547/100000000000000000000000000000000)*_Dummy_2182**4*_Dummy_2184**2*_Dummy_2183*pi**7*g*m**6 + (409674192324499/5000000000000000000000000000000)*_Dummy_2182**4*_Dummy_2184**2*_Dummy_2183*pi**7*m**5 - 79220339091049/50000000000000000000000000000*_Dummy_2182**4*_Dummy_2183*_Dummy_2184*pi**6*g*m**7 - 13070417320413/625000000000000000000000000*_Dummy_2182**4*_Dummy_2183*_Dummy_2184*pi**6*m**6 + (72027835285151/500000000000000000000000000)*_Dummy_2182**4*_Dummy_2183*pi**5*g*m**8 + (222385941442903/100000000000000000000000000)*_Dummy_2182**4*_Dummy_2183*pi**5*m**7 - 848095036771285/2923003274661805836407369665432566039311865085952*_Dummy_2182**4*_Dummy_2184**8*pi**12*g*m - 8993370681805953/11692013098647223345629478661730264157247460343808*_Dummy_2182**4*_Dummy_2184**8*pi**12 + (19342675096677/10000000000000000000000000000000000000000000)*_Dummy_2182**4*_Dummy_2184**7*pi**11*g*m**2 + (47936404765861/6250000000000000000000000000000000000000000)*_Dummy_2182**4*_Dummy_2184**7*pi**11*m - 534667228854663/100000000000000000000000000000000000000000*_Dummy_2182**4*_Dummy_2184**6*pi**10*g*m**3 - 70987230681713/2500000000000000000000000000000000000000*_Dummy_2182**4*_Dummy_2184**6*pi**10*m**2 + (201395321265163/25000000000000000000000000000000000000)*_Dummy_2182**4*_Dummy_2184**5*pi**9*g*m**4 + (541358787996513/10000000000000000000000000000000000000)*_Dummy_2182**4*_Dummy_2184**5*pi**9*m**3 - 364115506697653/50000000000000000000000000000000000*_Dummy_2182**4*_Dummy_2184**4*pi**8*g*m**5 - 149782301672577/2500000000000000000000000000000000*_Dummy_2182**4*_Dummy_2184**4*pi**8*m**4 + (40666215618737/10000000000000000000000000000000)*_Dummy_2182**4*_Dummy_2184**3*pi**7*g*m**6 + (200628446658761/5000000000000000000000000000000)*_Dummy_2182**4*_Dummy_2184**3*pi**7*m**5 - 34400775209561/25000000000000000000000000000*_Dummy_2182**4*_Dummy_2184**2*pi**6*g*m**7 - 160693389246299/10000000000000000000000000000*_Dummy_2182**4*_Dummy_2184**2*pi**6*m**6 + (25885003305601/100000000000000000000000000)*_Dummy_2182**4*_Dummy_2184*pi**5*g*m**8 + (354737088779369/100000000000000000000000000)*_Dummy_2182**4*_Dummy_2184*pi**5*m**7 - 103905192745271/5000000000000000000000000*_Dummy_2182**4*pi**4*g*m**9 - 332496616784867/1000000000000000000000000*_Dummy_2182**4*pi**4*m**8 + (5357808408679889/47890485652059026823698344598447161988085597568237568)*_Dummy_2182**3*_Dummy_2183**9*pi**12*g*m - 313934086446085/23384026197294446691258957323460528314494920687616*_Dummy_2182**3*_Dummy_2183**9*pi**12 - 2045056334563047/748288838313422294120286634350736906063837462003712*_Dummy_2182**3*_Dummy_2183**8*_Dummy_2184*pi**12*g*m - 5967737490917965/23384026197294446691258957323460528314494920687616*_Dummy_2182**3*_Dummy_2183**8*_Dummy_2184*pi**12 + (735181636529315/730750818665451459101842416358141509827966271488)*_Dummy_2182**3*_Dummy_2183**8*pi**11*g*m**2 + (18490103455379/100000000000000000000000000000000000000000000)*_Dummy_2182**3*_Dummy_2183**8*pi**11*m - 6366882257970821/93536104789177786765035829293842113257979682750464*_Dummy_2182**3*_Dummy_2183**7*_Dummy_2184**2*pi**12*g*m - 1505248541574303/730750818665451459101842416358141509827966271488*_Dummy_2182**3*_Dummy_2183**7*_Dummy_2184**2*pi**12 + (378682255183797/5000000000000000000000000000000000000000000000)*_Dummy_2182**3*_Dummy_2183**7*_Dummy_2184*pi**11*g*m**2 + (152629204248399/50000000000000000000000000000000000000000000)*_Dummy_2182**3*_Dummy_2183**7*_Dummy_2184*pi**11*m - 99526909839073/5000000000000000000000000000000000000000000*_Dummy_2182**3*_Dummy_2183**7*pi**10*g*m**3 - 110812630927613/100000000000000000000000000000000000000000*_Dummy_2182**3*_Dummy_2183**7*pi**10*m**2 - 1597887126905043/2923003274661805836407369665432566039311865085952*_Dummy_2182**3*_Dummy_2183**6*_Dummy_2184**3*pi**12*g*m - 6696606481503055/730750818665451459101842416358141509827966271488*_Dummy_2182**3*_Dummy_2183**6*_Dummy_2184**3*pi**12 + (990905355665149/1000000000000000000000000000000000000000000000)*_Dummy_2182**3*_Dummy_2183**6*_Dummy_2184**2*pi**11*g*m**2 + (209679168258547/10000000000000000000000000000000000000000000)*_Dummy_2182**3*_Dummy_2183**6*_Dummy_2184**2*pi**11*m - 580622428428829/1000000000000000000000000000000000000000000*_Dummy_2182**3*_Dummy_2183**6*_Dummy_2184*pi**10*g*m**3 - 155993794862477/10000000000000000000000000000000000000000*_Dummy_2182**3*_Dummy_2183**6*_Dummy_2184*pi**10*m**2 + (109520613883237/1000000000000000000000000000000000000000)*_Dummy_2182**3*_Dummy_2183**6*pi**9*g*m**4 + (94656427029197/25000000000000000000000000000000000000)*_Dummy_2182**3*_Dummy_2183**6*pi**9*m**3 - 6557998976371279/2923003274661805836407369665432566039311865085952*_Dummy_2182**3*_Dummy_2183**5*_Dummy_2184**4*pi**12*g*m - 34797043790017/1427247692705959881058285969449495136382746624*_Dummy_2182**3*_Dummy_2183**5*_Dummy_2184**4*pi**12 + (568737017064603/100000000000000000000000000000000000000000000)*_Dummy_2182**3*_Dummy_2183**5*_Dummy_2184**3*pi**11*g*m**2 + (193219837265523/2500000000000000000000000000000000000000000)*_Dummy_2182**3*_Dummy_2183**5*_Dummy_2184**3*pi**11*m - 13165980316783/2500000000000000000000000000000000000000*_Dummy_2182**3*_Dummy_2183**5*_Dummy_2184**2*pi**10*g*m**3 - 890265956770471/10000000000000000000000000000000000000000*_Dummy_2182**3*_Dummy_2183**5*_Dummy_2184**2*pi**10*m**2 + (3297607569117/1562500000000000000000000000000000000)*_Dummy_2182**3*_Dummy_2183**5*_Dummy_2184*pi**9*g*m**4 + (2219063399433/50000000000000000000000000000000000)*_Dummy_2182**3*_Dummy_2183**5*_Dummy_2184*pi**9*m**3 - 12334537209427/40000000000000000000000000000000000*_Dummy_2182**3*_Dummy_2183**5*pi**8*g*m**5 - 405504255686461/50000000000000000000000000000000000*_Dummy_2182**3*_Dummy_2183**5*pi**8*m**4 - 1905876553752877/365375409332725729550921208179070754913983135744*_Dummy_2182**3*_Dummy_2183**4*_Dummy_2184**5*pi**12*g*m - 7180424690770737/182687704666362864775460604089535377456991567872*_Dummy_2182**3*_Dummy_2183**4*_Dummy_2184**5*pi**12 + (172463408375737/10000000000000000000000000000000000000000000)*_Dummy_2182**3*_Dummy_2183**4*_Dummy_2184**4*pi**11*g*m**2 + (164237565920059/1000000000000000000000000000000000000000000)*_Dummy_2182**3*_Dummy_2183**4*_Dummy_2184**4*pi**11*m - 221907292295437/10000000000000000000000000000000000000000*_Dummy_2182**3*_Dummy_2183**4*_Dummy_2184**3*pi**10*g*m**3 - 65799165332347/250000000000000000000000000000000000000*_Dummy_2182**3*_Dummy_2183**4*_Dummy_2184**3*pi**10*m**2 + (27820503825163/2000000000000000000000000000000000000)*_Dummy_2182**3*_Dummy_2183**4*_Dummy_2184**2*pi**9*g*m**4 + (40756636496781/200000000000000000000000000000000000)*_Dummy_2182**3*_Dummy_2183**4*_Dummy_2184**2*pi**9*m**3 - 212535211464519/50000000000000000000000000000000000*_Dummy_2182**3*_Dummy_2183**4*_Dummy_2184*pi**8*g*m**5 - 383343013485727/5000000000000000000000000000000000*_Dummy_2182**3*_Dummy_2183**4*_Dummy_2184*pi**8*m**4 + (253208607196141/500000000000000000000000000000000)*_Dummy_2182**3*_Dummy_2183**4*pi**7*g*m**6 + (22523171213531/2000000000000000000000000000000)*_Dummy_2182**3*_Dummy_2183**4*pi**7*m**5 - 316308592545437/45671926166590716193865151022383844364247891968*_Dummy_2182**3*_Dummy_2183**3*_Dummy_2184**6*pi**12*g*m - 3381863121607285/91343852333181432387730302044767688728495783936*_Dummy_2182**3*_Dummy_2183**3*_Dummy_2184**6*pi**12 + (57679088975367/2000000000000000000000000000000000000000000)*_Dummy_2182**3*_Dummy_2183**3*_Dummy_2184**5*pi**11*g*m**2 + (40133858781183/200000000000000000000000000000000000000000)*_Dummy_2182**3*_Dummy_2183**3*_Dummy_2184**5*pi**11*m - 242198284745377/5000000000000000000000000000000000000000*_Dummy_2182**3*_Dummy_2183**3*_Dummy_2184**4*pi**10*g*m**3 - 426594402622677/1000000000000000000000000000000000000000*_Dummy_2182**3*_Dummy_2183**3*_Dummy_2184**4*pi**10*m**2 + (421454977345811/10000000000000000000000000000000000000)*_Dummy_2182**3*_Dummy_2183**3*_Dummy_2184**3*pi**9*g*m**4 + (461608125966403/1000000000000000000000000000000000000)*_Dummy_2182**3*_Dummy_2183**3*_Dummy_2184**3*pi**9*m**3 - 100397359001577/5000000000000000000000000000000000*_Dummy_2182**3*_Dummy_2183**3*_Dummy_2184**2*pi**8*g*m**5 - 270645379878083/1000000000000000000000000000000000*_Dummy_2182**3*_Dummy_2183**3*_Dummy_2184**2*pi**8*m**4 + (248679369687959/50000000000000000000000000000000)*_Dummy_2182**3*_Dummy_2183**3*_Dummy_2184*pi**7*g*m**6 + (820615825597789/10000000000000000000000000000000)*_Dummy_2182**3*_Dummy_2183**3*_Dummy_2184*pi**7*m**5 - 500602458711209/1000000000000000000000000000000*_Dummy_2182**3*_Dummy_2183**3*pi**6*g*m**7 - 50510788083961/5000000000000000000000000000*_Dummy_2182**3*_Dummy_2183**3*pi**6*m**6 - 7296444825248259/1461501637330902918203684832716283019655932542976*_Dummy_2182**3*_Dummy_2183**2*_Dummy_2184**7*pi**12*g*m - 6748601814570691/365375409332725729550921208179070754913983135744*_Dummy_2182**3*_Dummy_2183**2*_Dummy_2184**7*pi**12 + (257957064470081/10000000000000000000000000000000000000000000)*_Dummy_2182**3*_Dummy_2183**2*_Dummy_2184**6*pi**11*g*m**2 + (66117760784951/500000000000000000000000000000000000000000)*_Dummy_2182**3*_Dummy_2183**2*_Dummy_2184**6*pi**11*m - 109609053357973/2000000000000000000000000000000000000000*_Dummy_2182**3*_Dummy_2183**2*_Dummy_2184**5*pi**10*g*m**3 - 368275821693457/1000000000000000000000000000000000000000*_Dummy_2182**3*_Dummy_2183**2*_Dummy_2184**5*pi**10*m**2 + (312078469533473/5000000000000000000000000000000000000)*_Dummy_2182**3*_Dummy_2183**2*_Dummy_2184**4*pi**9*g*m**4 + (532125793914283/1000000000000000000000000000000000000)*_Dummy_2182**3*_Dummy_2183**2*_Dummy_2184**4*pi**9*m**3 - 3306125496691/80000000000000000000000000000000*_Dummy_2182**3*_Dummy_2183**2*_Dummy_2184**3*pi**8*g*m**5 - 109517715044921/250000000000000000000000000000000*_Dummy_2182**3*_Dummy_2183**2*_Dummy_2184**3*pi**8*m**4 + (19944954018801/1250000000000000000000000000000)*_Dummy_2182**3*_Dummy_2183**2*_Dummy_2184**2*pi**7*g*m**6 + (207721642651/1000000000000000000000000000)*_Dummy_2182**3*_Dummy_2183**2*_Dummy_2184**2*pi**7*m**5 - 83319021721747/25000000000000000000000000000*_Dummy_2182**3*_Dummy_2183**2*_Dummy_2184*pi**6*g*m**7 - 132321744898841/2500000000000000000000000000*_Dummy_2182**3*_Dummy_2183**2*_Dummy_2184*pi**6*m**6 + (72703096240949/250000000000000000000000000)*_Dummy_2182**3*_Dummy_2183**2*pi**5*g*m**8 + (562177254400603/100000000000000000000000000)*_Dummy_2182**3*_Dummy_2183**2*pi**5*m**7 - 1285307815534397/730750818665451459101842416358141509827966271488*_Dummy_2182**3*_Dummy_2184**8*_Dummy_2183*pi**12*g*m - 2861985705051571/730750818665451459101842416358141509827966271488*_Dummy_2182**3*_Dummy_2184**8*_Dummy_2183*pi**12 + (22370825255757/2000000000000000000000000000000000000000000)*_Dummy_2182**3*_Dummy_2184**7*_Dummy_2183*pi**11*g*m**2 + (8060064673799/200000000000000000000000000000000000000000)*_Dummy_2182**3*_Dummy_2184**7*_Dummy_2183*pi**11*m - 18475653701771/625000000000000000000000000000000000000*_Dummy_2182**3*_Dummy_2184**6*_Dummy_2183*pi**10*g*m**3 - 150503602293029/1000000000000000000000000000000000000000*_Dummy_2182**3*_Dummy_2184**6*_Dummy_2183*pi**10*m**2 + (6672081552691/156250000000000000000000000000000000)*_Dummy_2182**3*_Dummy_2184**5*_Dummy_2183*pi**9*g*m**4 + (287412329480559/1000000000000000000000000000000000000)*_Dummy_2182**3*_Dummy_2184**5*_Dummy_2183*pi**9*m**3 - 370940268315909/10000000000000000000000000000000000*_Dummy_2182**3*_Dummy_2184**4*_Dummy_2183*pi**8*g*m**5 - 158911223366761/500000000000000000000000000000000*_Dummy_2182**3*_Dummy_2184**4*_Dummy_2183*pi**8*m**4 + (778724805371/39062500000000000000000000000)*_Dummy_2182**3*_Dummy_2184**3*_Dummy_2183*pi**7*g*m**6 + (21251555165143/100000000000000000000000000000)*_Dummy_2182**3*_Dummy_2184**3*_Dummy_2183*pi**7*m**5 - 129906338035559/20000000000000000000000000000*_Dummy_2182**3*_Dummy_2184**2*_Dummy_2183*pi**6*g*m**7 - 849622492924661/10000000000000000000000000000*_Dummy_2182**3*_Dummy_2184**2*_Dummy_2183*pi**6*m**6 + (117585441103009/100000000000000000000000000)*_Dummy_2182**3*_Dummy_2183*_Dummy_2184*pi**5*g*m**8 + (11704523233837/625000000000000000000000)*_Dummy_2182**3*_Dummy_2183*_Dummy_2184*pi**5*m**7 - 906808954867819/10000000000000000000000000*_Dummy_2182**3*_Dummy_2183*pi**4*g*m**9 - 21914549742639/12500000000000000000000*_Dummy_2182**3*_Dummy_2183*pi**4*m**8 - 682386190583031/2923003274661805836407369665432566039311865085952*_Dummy_2182**3*_Dummy_2184**9*pi**12*g*m - 247223093076293/1461501637330902918203684832716283019655932542976*_Dummy_2182**3*_Dummy_2184**9*pi**12 + (180475697111879/100000000000000000000000000000000000000000000)*_Dummy_2182**3*_Dummy_2184**8*pi**11*g*m**2 + (95797354778431/25000000000000000000000000000000000000000000)*_Dummy_2182**3*_Dummy_2184**8*pi**11*m - 585667451992053/100000000000000000000000000000000000000000*_Dummy_2182**3*_Dummy_2184**7*pi**10*g*m**3 - 211350572045369/10000000000000000000000000000000000000000*_Dummy_2182**3*_Dummy_2184**7*pi**10*m**2 + (105218220828791/10000000000000000000000000000000000000)*_Dummy_2182**3*_Dummy_2184**6*pi**9*g*m**4 + (109445017255881/2000000000000000000000000000000000000)*_Dummy_2182**3*_Dummy_2184**6*pi**9*m**3 - 23205141241053/2000000000000000000000000000000000*_Dummy_2182**3*_Dummy_2184**5*pi**8*g*m**5 - 804882484790771/10000000000000000000000000000000000*_Dummy_2182**3*_Dummy_2184**5*pi**8*m**4 + (819009157806821/100000000000000000000000000000000)*_Dummy_2182**3*_Dummy_2184**4*pi**7*g*m**6 + (363058459781433/5000000000000000000000000000000)*_Dummy_2182**3*_Dummy_2184**4*pi**7*m**5 - 371822476207751/100000000000000000000000000000*_Dummy_2182**3*_Dummy_2184**3*pi**6*g*m**7 - 20537215868627/500000000000000000000000000*_Dummy_2182**3*_Dummy_2184**3*pi**6*m**6 + (52535302361107/50000000000000000000000000)*_Dummy_2182**3*_Dummy_2184**2*pi**5*g*m**8 + (71217522138193/5000000000000000000000000)*_Dummy_2182**3*_Dummy_2184**2*pi**5*m**7 - 6725499748603/40000000000000000000000*_Dummy_2182**3*_Dummy_2184*pi**4*g*m**9 - 277332405363741/100000000000000000000000*_Dummy_2182**3*_Dummy_2184*pi**4*m**8 + (116278699898187/10000000000000000000000)*_Dummy_2182**3*pi**3*g*m**10 + (116278699898187/500000000000000000000)*_Dummy_2182**3*pi**3*m**9 + (4401056907129839/23945242826029513411849172299223580994042798784118784)*_Dummy_2182**2*_Dummy_2183**10*pi**12*g*m - 6218884760074821/1496577676626844588240573268701473812127674924007424*_Dummy_2182**2*_Dummy_2183**10*pi**12 + (7127798686547259/2993155353253689176481146537402947624255349848014848)*_Dummy_2182**2*_Dummy_2183**9*_Dummy_2184*pi**12*g*m - 8341677154138835/93536104789177786765035829293842113257979682750464*_Dummy_2182**2*_Dummy_2183**9*_Dummy_2184*pi**12 - 2744678109709489/1461501637330902918203684832716283019655932542976*_Dummy_2182**2*_Dummy_2183**9*pi**11*g*m**2 + (161774991056203/2500000000000000000000000000000000000000000000)*_Dummy_2182**2*_Dummy_2183**9*pi**11*m + (3498122677542055/748288838313422294120286634350736906063837462003712)*_Dummy_2182**2*_Dummy_2183**8*_Dummy_2184**2*pi**12*g*m - 2411125903222523/2923003274661805836407369665432566039311865085952*_Dummy_2182**2*_Dummy_2183**8*_Dummy_2184**2*pi**12 - 4744372161069265/365375409332725729550921208179070754913983135744*_Dummy_2182**2*_Dummy_2183**8*_Dummy_2184*pi**11*g*m**2 + (122315843983987/100000000000000000000000000000000000000000000)*_Dummy_2182**2*_Dummy_2183**8*_Dummy_2184*pi**11*m + (325939371022757/50000000000000000000000000000000000000000000)*_Dummy_2182**2*_Dummy_2183**8*pi**10*g*m**3 - 444493484213419/1000000000000000000000000000000000000000000*_Dummy_2182**2*_Dummy_2183**8*pi**10*m**2 - 504723790173141/5846006549323611672814739330865132078623730171904*_Dummy_2182**2*_Dummy_2183**7*_Dummy_2184**3*pi**12*g*m - 6263825919473811/1461501637330902918203684832716283019655932542976*_Dummy_2182**2*_Dummy_2183**7*_Dummy_2184**3*pi**12 + (5549445588719/50000000000000000000000000000000000000000000)*_Dummy_2182**2*_Dummy_2183**7*_Dummy_2184**2*pi**11*g*m**2 + (980093527904679/100000000000000000000000000000000000000000000)*_Dummy_2182**2*_Dummy_2183**7*_Dummy_2184**2*pi**11*m - 78022792441717/2500000000000000000000000000000000000000000*_Dummy_2182**2*_Dummy_2183**7*_Dummy_2184*pi**10*g*m**3 - 2917012133421/400000000000000000000000000000000000000*_Dummy_2182**2*_Dummy_2183**7*_Dummy_2184*pi**10*m**2 - 130404182190569/50000000000000000000000000000000000000000*_Dummy_2182**2*_Dummy_2183**7*pi**9*g*m**4 + (88557669117183/50000000000000000000000000000000000000)*_Dummy_2182**2*_Dummy_2183**7*pi**9*m**3 - 4213911081191935/5846006549323611672814739330865132078623730171904*_Dummy_2182**2*_Dummy_2183**6*_Dummy_2184**4*pi**12*g*m - 4987464291075485/365375409332725729550921208179070754913983135744*_Dummy_2182**2*_Dummy_2183**6*_Dummy_2184**4*pi**12 + (41062141386579/25000000000000000000000000000000000000000000)*_Dummy_2182**2*_Dummy_2183**6*_Dummy_2184**3*pi**11*g*m**2 + (431815279111989/10000000000000000000000000000000000000000000)*_Dummy_2182**2*_Dummy_2183**6*_Dummy_2184**3*pi**11*m - 132341517465427/100000000000000000000000000000000000000000*_Dummy_2182**2*_Dummy_2183**6*_Dummy_2184**2*pi**10*g*m**3 - 496869407929229/10000000000000000000000000000000000000000*_Dummy_2182**2*_Dummy_2183**6*_Dummy_2184**2*pi**10*m**2 + (217708837209311/500000000000000000000000000000000000000)*_Dummy_2182**2*_Dummy_2183**6*_Dummy_2184*pi**9*g*m**4 + (49523350581473/2000000000000000000000000000000000000)*_Dummy_2182**2*_Dummy_2183**6*_Dummy_2184*pi**9*m**3 - 463179638008317/10000000000000000000000000000000000000*_Dummy_2182**2*_Dummy_2183**6*pi**8*g*m**5 - 22629180533653/5000000000000000000000000000000000*_Dummy_2182**2*_Dummy_2183**6*pi**8*m**4 - 7648779777625697/2923003274661805836407369665432566039311865085952*_Dummy_2182**2*_Dummy_2183**5*_Dummy_2184**5*pi**12*g*m - 4975119487155337/182687704666362864775460604089535377456991567872*_Dummy_2182**2*_Dummy_2183**5*_Dummy_2184**5*pi**12 + (810975615612641/100000000000000000000000000000000000000000000)*_Dummy_2182**2*_Dummy_2183**5*_Dummy_2184**4*pi**11*g*m**2 + (28333964105187/250000000000000000000000000000000000000000)*_Dummy_2182**2*_Dummy_2183**5*_Dummy_2184**4*pi**11*m - 969536213195239/100000000000000000000000000000000000000000*_Dummy_2182**2*_Dummy_2183**5*_Dummy_2184**3*pi**10*g*m**3 - 90578382326721/500000000000000000000000000000000000000*_Dummy_2182**2*_Dummy_2183**5*_Dummy_2184**3*pi**10*m**2 + (556519691612929/100000000000000000000000000000000000000)*_Dummy_2182**2*_Dummy_2183**5*_Dummy_2184**2*pi**9*g*m**4 + (70024210962809/500000000000000000000000000000000000)*_Dummy_2182**2*_Dummy_2183**5*_Dummy_2184**2*pi**9*m**3 - 4752250845019/3125000000000000000000000000000000*_Dummy_2182**2*_Dummy_2183**5*_Dummy_2184*pi**8*g*m**5 - 21059953299787/400000000000000000000000000000000*_Dummy_2182**2*_Dummy_2183**5*_Dummy_2184*pi**8*m**4 + (3890191651649/25000000000000000000000000000000)*_Dummy_2182**2*_Dummy_2183**5*pi**7*g*m**6 + (773213534112973/100000000000000000000000000000000)*_Dummy_2182**2*_Dummy_2183**5*pi**7*m**5 - 3838720138964239/730750818665451459101842416358141509827966271488*_Dummy_2182**2*_Dummy_2183**4*_Dummy_2184**6*pi**12*g*m - 6071436179666275/182687704666362864775460604089535377456991567872*_Dummy_2182**2*_Dummy_2183**4*_Dummy_2184**6*pi**12 + (25891041012633/1250000000000000000000000000000000000000000)*_Dummy_2182**2*_Dummy_2183**4*_Dummy_2184**5*pi**11*g*m**2 + (179057711145497/1000000000000000000000000000000000000000000)*_Dummy_2182**2*_Dummy_2183**4*_Dummy_2184**5*pi**11*m - 328979220078929/10000000000000000000000000000000000000000*_Dummy_2182**2*_Dummy_2183**4*_Dummy_2184**4*pi**10*g*m**3 - 379064448650411/1000000000000000000000000000000000000000*_Dummy_2182**2*_Dummy_2183**4*_Dummy_2184**4*pi**10*m**2 + (269499141653647/10000000000000000000000000000000000000)*_Dummy_2182**2*_Dummy_2183**4*_Dummy_2184**3*pi**9*g*m**4 + (409006480718959/1000000000000000000000000000000000000)*_Dummy_2182**2*_Dummy_2183**4*_Dummy_2184**3*pi**9*m**3 - 5996431457407/500000000000000000000000000000000*_Dummy_2182**2*_Dummy_2183**4*_Dummy_2184**2*pi**8*g*m**5 - 239356326345311/1000000000000000000000000000000000*_Dummy_2182**2*_Dummy_2183**4*_Dummy_2184**2*pi**8*m**4 + (54767827519581/20000000000000000000000000000000)*_Dummy_2182**2*_Dummy_2183**4*_Dummy_2184*pi**7*g*m**6 + (14498672393037/200000000000000000000000000000)*_Dummy_2182**2*_Dummy_2183**4*_Dummy_2184*pi**7*m**5 - 62184211668033/250000000000000000000000000000*_Dummy_2182**2*_Dummy_2183**4*pi**6*g*m**7 - 445974215404349/50000000000000000000000000000*_Dummy_2182**2*_Dummy_2183**4*pi**6*m**6 - 8743204456669221/1461501637330902918203684832716283019655932542976*_Dummy_2182**2*_Dummy_2183**3*_Dummy_2184**7*pi**12*g*m - 4182505993451847/182687704666362864775460604089535377456991567872*_Dummy_2182**2*_Dummy_2183**3*_Dummy_2184**7*pi**12 + (292209900636101/10000000000000000000000000000000000000000000)*_Dummy_2182**2*_Dummy_2183**3*_Dummy_2184**6*pi**11*g*m**2 + (40794501699883/250000000000000000000000000000000000000000)*_Dummy_2182**2*_Dummy_2183**3*_Dummy_2184**6*pi**11*m - 588621509752639/10000000000000000000000000000000000000000*_Dummy_2182**2*_Dummy_2183**3*_Dummy_2184**5*pi**10*g*m**3 - 226248196747649/500000000000000000000000000000000000000*_Dummy_2182**2*_Dummy_2183**3*_Dummy_2184**5*pi**10*m**2 + (635932058735617/10000000000000000000000000000000000000)*_Dummy_2182**2*_Dummy_2183**3*_Dummy_2184**4*pi**9*g*m**4 + (81439065454233/125000000000000000000000000000000000)*_Dummy_2182**2*_Dummy_2183**3*_Dummy_2184**4*pi**9*m**3 - 79728443524947/2000000000000000000000000000000000*_Dummy_2182**2*_Dummy_2183**3*_Dummy_2184**3*pi**8*g*m**5 - 267454833563391/500000000000000000000000000000000*_Dummy_2182**2*_Dummy_2183**3*_Dummy_2184**3*pi**8*m**4 + (72507740496957/5000000000000000000000000000000)*_Dummy_2182**2*_Dummy_2183**3*_Dummy_2184**2*pi**7*g*m**6 + (50628919220569/200000000000000000000000000000)*_Dummy_2182**2*_Dummy_2183**3*_Dummy_2184**2*pi**7*m**5 - 282965539786511/100000000000000000000000000000*_Dummy_2182**2*_Dummy_2183**3*_Dummy_2184*pi**6*g*m**7 - 128835048773917/2000000000000000000000000000*_Dummy_2182**2*_Dummy_2183**3*_Dummy_2184*pi**6*m**6 + (45497582621787/200000000000000000000000000)*_Dummy_2182**2*_Dummy_2183**3*pi**5*g*m**8 + (21364506351507/3125000000000000000000000)*_Dummy_2182**2*_Dummy_2183**3*pi**5*m**7 - 1342620056818347/365375409332725729550921208179070754913983135744*_Dummy_2182**2*_Dummy_2183**2*_Dummy_2184**8*pi**12*g*m - 1322517413727003/182687704666362864775460604089535377456991567872*_Dummy_2182**2*_Dummy_2183**2*_Dummy_2184**8*pi**12 + (110386078598753/5000000000000000000000000000000000000000000)*_Dummy_2182**2*_Dummy_2183**2*_Dummy_2184**7*pi**11*g*m**2 + (382102870666331/5000000000000000000000000000000000000000000)*_Dummy_2182**2*_Dummy_2183**2*_Dummy_2184**7*pi**11*m - 13819508458409/250000000000000000000000000000000000000*_Dummy_2182**2*_Dummy_2183**2*_Dummy_2184**6*pi**10*g*m**3 - 286915950510077/1000000000000000000000000000000000000000*_Dummy_2182**2*_Dummy_2183**2*_Dummy_2184**6*pi**10*m**2 + (758219242055311/10000000000000000000000000000000000000)*_Dummy_2182**2*_Dummy_2183**2*_Dummy_2184**5*pi**9*g*m**4 + (547904851152597/1000000000000000000000000000000000000)*_Dummy_2182**2*_Dummy_2183**2*_Dummy_2184**5*pi**9*m**3 - 2445002574373/39062500000000000000000000000000*_Dummy_2182**2*_Dummy_2183**2*_Dummy_2184**4*pi**8*g*m**5 - 15123988992383/25000000000000000000000000000000*_Dummy_2182**2*_Dummy_2183**2*_Dummy_2184**4*pi**8*m**4 + (319316835978127/10000000000000000000000000000000)*_Dummy_2182**2*_Dummy_2183**2*_Dummy_2184**3*pi**7*g*m**6 + (403799017734813/1000000000000000000000000000000)*_Dummy_2182**2*_Dummy_2183**2*_Dummy_2184**3*pi**7*m**5 - 984247009133577/100000000000000000000000000000*_Dummy_2182**2*_Dummy_2183**2*_Dummy_2184**2*pi**6*g*m**7 - 161181476643541/1000000000000000000000000000*_Dummy_2182**2*_Dummy_2183**2*_Dummy_2184**2*pi**6*m**6 + (167494728636011/100000000000000000000000000)*_Dummy_2182**2*_Dummy_2183**2*_Dummy_2184*pi**5*g*m**8 + (177416562946541/5000000000000000000000000)*_Dummy_2182**2*_Dummy_2183**2*_Dummy_2184*pi**5*m**7 - 60076093259993/500000000000000000000000*_Dummy_2182**2*_Dummy_2183**2*pi**4*g*m**9 - 165946038740811/50000000000000000000000*_Dummy_2182**2*_Dummy_2183**2*pi**4*m**8 - 6455549950839105/5846006549323611672814739330865132078623730171904*_Dummy_2182**2*_Dummy_2184**9*_Dummy_2183*pi**12*g*m - 128656915784601/365375409332725729550921208179070754913983135744*_Dummy_2182**2*_Dummy_2184**9*_Dummy_2183*pi**12 + (101347806430527/12500000000000000000000000000000000000000000)*_Dummy_2182**2*_Dummy_2184**8*_Dummy_2183*pi**11*g*m**2 + (8589165476637/625000000000000000000000000000000000000000)*_Dummy_2182**2*_Dummy_2184**8*_Dummy_2183*pi**11*m - 124852680435047/5000000000000000000000000000000000000000*_Dummy_2182**2*_Dummy_2184**7*_Dummy_2183*pi**10*g*m**3 - 811992320488119/10000000000000000000000000000000000000000*_Dummy_2182**2*_Dummy_2184**7*_Dummy_2183*pi**10*m**2 + (213109916384057/5000000000000000000000000000000000000)*_Dummy_2182**2*_Dummy_2184**6*_Dummy_2183*pi**9*g*m**4 + (53628719925871/250000000000000000000000000000000000)*_Dummy_2182**2*_Dummy_2184**6*_Dummy_2183*pi**9*m**3 - 55886707872169/1250000000000000000000000000000000*_Dummy_2182**2*_Dummy_2184**5*_Dummy_2183*pi**8*g*m**5 - 317638126617301/1000000000000000000000000000000000*_Dummy_2182**2*_Dummy_2184**5*_Dummy_2183*pi**8*m**4 + (18770773824697/625000000000000000000000000000)*_Dummy_2182**2*_Dummy_2184**4*_Dummy_2183*pi**7*g*m**6 + (17943429112499/62500000000000000000000000000)*_Dummy_2182**2*_Dummy_2184**4*_Dummy_2183*pi**7*m**5 - 648092458109/50000000000000000000000000*_Dummy_2182**2*_Dummy_2184**3*_Dummy_2183*pi**6*g*m**7 - 16240544965509/100000000000000000000000000*_Dummy_2182**2*_Dummy_2184**3*_Dummy_2183*pi**6*m**6 + (86793541518607/25000000000000000000000000)*_Dummy_2182**2*_Dummy_2184**2*_Dummy_2183*pi**5*g*m**8 + (112562700055791/2000000000000000000000000)*_Dummy_2182**2*_Dummy_2184**2*_Dummy_2183*pi**5*m**7 - 261841085718083/500000000000000000000000*_Dummy_2182**2*_Dummy_2183*_Dummy_2184*pi**4*g*m**9 - 109497181300289/10000000000000000000000*_Dummy_2182**2*_Dummy_2183*_Dummy_2184*pi**4*m**8 + (13530612351789/400000000000000000000)*_Dummy_2182**2*_Dummy_2183*pi**3*g*m**10 + (229386162526423/250000000000000000000)*_Dummy_2182**2*_Dummy_2183*pi**3*m**9 - 5903082018352285/46768052394588893382517914646921056628989841375232*_Dummy_2182**2*_Dummy_2184**10*pi**12*g*m + (7265331714895119/46768052394588893382517914646921056628989841375232)*_Dummy_2182**2*_Dummy_2184**10*pi**12 + (5584859019597/5000000000000000000000000000000000000000000)*_Dummy_2182**2*_Dummy_2184**9*pi**11*g*m**2 + (124061901164327/2854495385411919762116571938898990272765493248)*_Dummy_2182**2*_Dummy_2184**9*pi**11*m - 26144601788729/6250000000000000000000000000000000000000*_Dummy_2182**2*_Dummy_2184**8*pi**10*g*m**3 - 157312188656839/25000000000000000000000000000000000000000*_Dummy_2182**2*_Dummy_2184**8*pi**10*m**2 + (438081510575109/50000000000000000000000000000000000000)*_Dummy_2182**2*_Dummy_2184**7*pi**9*g*m**4 + (8666208368621/312500000000000000000000000000000000)*_Dummy_2182**2*_Dummy_2184**7*pi**9*m**3 - 5713764979691/500000000000000000000000000000000*_Dummy_2182**2*_Dummy_2184**6*pi**8*g*m**5 - 288886091964771/5000000000000000000000000000000000*_Dummy_2182**2*_Dummy_2184**6*pi**8*m**4 + (487595982571831/50000000000000000000000000000000)*_Dummy_2182**2*_Dummy_2184**5*pi**7*g*m**6 + (141211241009969/2000000000000000000000000000000)*_Dummy_2182**2*_Dummy_2184**5*pi**7*m**5 - 277005241762481/50000000000000000000000000000*_Dummy_2182**2*_Dummy_2184**4*pi**6*g*m**7 - 67948961856629/1250000000000000000000000000*_Dummy_2182**2*_Dummy_2184**4*pi**6*m**6 + (51897555902853/25000000000000000000000000)*_Dummy_2182**2*_Dummy_2184**3*pi**5*g*m**8 + (267943547260761/10000000000000000000000000)*_Dummy_2182**2*_Dummy_2184**3*pi**5*m**7 - 30746491125987/62500000000000000000000*_Dummy_2182**2*_Dummy_2184**2*pi**4*g*m**9 - 411464563271273/50000000000000000000000*_Dummy_2182**2*_Dummy_2184**2*pi**4*m**8 + (133191965337923/2000000000000000000000)*_Dummy_2182**2*_Dummy_2184*pi**3*g*m**10 + (71881378118879/50000000000000000000)*_Dummy_2182**2*_Dummy_2184*pi**3*m**9 - 6246033651/1600000000000000*_Dummy_2182**2*pi**2*g*m**11 - 43722235557/400000000000000*_Dummy_2182**2*pi**2*m**10 + (3061604804959881/47890485652059026823698344598447161988085597568237568)*_Dummy_2183**11*_Dummy_2182*pi**12*g*m - 4592407207439861/5986310706507378352962293074805895248510699696029696*_Dummy_2183**11*_Dummy_2182*pi**12 + (3755249643583617/2993155353253689176481146537402947624255349848014848)*_Dummy_2183**10*_Dummy_2182*_Dummy_2184*pi**12*g*m - 214895356793451/11692013098647223345629478661730264157247460343808*_Dummy_2183**10*_Dummy_2182*_Dummy_2184*pi**12 - 2627049047864791/2923003274661805836407369665432566039311865085952*_Dummy_2183**10*_Dummy_2182*pi**11*g*m**2 + (4881606066554753/365375409332725729550921208179070754913983135744)*_Dummy_2183**10*_Dummy_2182*pi**11*m + (3581838433927693/374144419156711147060143317175368453031918731001856)*_Dummy_2183**9*_Dummy_2184**2*_Dummy_2182*pi**12*g*m - 2246123642310681/11692013098647223345629478661730264157247460343808*_Dummy_2183**9*_Dummy_2184**2*_Dummy_2182*pi**12 - 5303110204831549/365375409332725729550921208179070754913983135744*_Dummy_2183**9*_Dummy_2182*_Dummy_2184*pi**11*g*m**2 + (285131775281149/1000000000000000000000000000000000000000000000)*_Dummy_2183**9*_Dummy_2182*_Dummy_2184*pi**11*m + (535914129902701/100000000000000000000000000000000000000000000)*_Dummy_2183**9*_Dummy_2182*pi**10*g*m**3 - 6485011319831/62500000000000000000000000000000000000000*_Dummy_2183**9*_Dummy_2182*pi**10*m**2 + (714760643247779/23384026197294446691258957323460528314494920687616)*_Dummy_2183**8*_Dummy_2184**3*_Dummy_2182*pi**12*g*m - 418426953686901/365375409332725729550921208179070754913983135744*_Dummy_2183**8*_Dummy_2184**3*_Dummy_2182*pi**12 - 162123759693637/2000000000000000000000000000000000000000000000*_Dummy_2183**8*_Dummy_2184**2*_Dummy_2182*pi**11*g*m**2 + (65457166157293/25000000000000000000000000000000000000000000)*_Dummy_2183**8*_Dummy_2184**2*_Dummy_2182*pi**11*m + (666965400324287/10000000000000000000000000000000000000000000)*_Dummy_2183**8*_Dummy_2182*_Dummy_2184*pi**10*g*m**3 - 48727654500397/25000000000000000000000000000000000000000*_Dummy_2183**8*_Dummy_2182*_Dummy_2184*pi**10*m**2 - 174250226057541/10000000000000000000000000000000000000000*_Dummy_2183**8*_Dummy_2182*pi**9*g*m**4 + (473839660272741/1000000000000000000000000000000000000000)*_Dummy_2183**8*_Dummy_2182*pi**9*m**3 - 2774579354495015/187072209578355573530071658587684226515959365500928*_Dummy_2183**7*_Dummy_2184**4*_Dummy_2182*pi**12*g*m - 6235328926507723/1461501637330902918203684832716283019655932542976*_Dummy_2183**7*_Dummy_2184**4*_Dummy_2182*pi**12 - 805923836041173/10000000000000000000000000000000000000000000000*_Dummy_2183**7*_Dummy_2184**3*_Dummy_2182*pi**11*g*m**2 + (134727714939583/10000000000000000000000000000000000000000000)*_Dummy_2183**7*_Dummy_2184**3*_Dummy_2182*pi**11*m + (40558341629443/200000000000000000000000000000000000000000)*_Dummy_2183**7*_Dummy_2184**2*_Dummy_2182*pi**10*g*m**3 - 15491431068653/1000000000000000000000000000000000000000*_Dummy_2183**7*_Dummy_2184**2*_Dummy_2182*pi**10*m**2 - 143557995350659/1000000000000000000000000000000000000000*_Dummy_2183**7*_Dummy_2182*_Dummy_2184*pi**9*g*m**4 + (30881524661783/4000000000000000000000000000000000000)*_Dummy_2183**7*_Dummy_2182*_Dummy_2184*pi**9*m**3 + (162112873302911/5000000000000000000000000000000000000)*_Dummy_2183**7*_Dummy_2182*pi**8*g*m**5 - 35296826386853/25000000000000000000000000000000000*_Dummy_2183**7*_Dummy_2182*pi**8*m**4 - 335949181421937/730750818665451459101842416358141509827966271488*_Dummy_2183**6*_Dummy_2184**5*_Dummy_2182*pi**12*g*m - 3730419886597621/365375409332725729550921208179070754913983135744*_Dummy_2183**6*_Dummy_2184**5*_Dummy_2182*pi**12 + (2808861878293/2500000000000000000000000000000000000000000)*_Dummy_2183**6*_Dummy_2184**4*_Dummy_2182*pi**11*g*m**2 + (84656772334641/2000000000000000000000000000000000000000000)*_Dummy_2183**6*_Dummy_2184**4*_Dummy_2182*pi**11*m - 893130170103399/1000000000000000000000000000000000000000000*_Dummy_2183**6*_Dummy_2184**3*_Dummy_2182*pi**10*g*m**3 - 168761611246403/2500000000000000000000000000000000000000*_Dummy_2183**6*_Dummy_2184**3*_Dummy_2182*pi**10*m**2 + (84932810835423/500000000000000000000000000000000000000)*_Dummy_2183**6*_Dummy_2184**2*_Dummy_2182*pi**9*g*m**4 + (260623152644111/5000000000000000000000000000000000000)*_Dummy_2183**6*_Dummy_2184**2*_Dummy_2182*pi**9*m**3 + (174263407642443/2000000000000000000000000000000000000)*_Dummy_2183**6*_Dummy_2182*_Dummy_2184*pi**8*g*m**5 - 24484674991051/1250000000000000000000000000000000*_Dummy_2183**6*_Dummy_2182*_Dummy_2184*pi**8*m**4 - 151906525480203/5000000000000000000000000000000000*_Dummy_2183**6*_Dummy_2182*pi**7*g*m**6 + (71927273843939/25000000000000000000000000000000)*_Dummy_2183**6*_Dummy_2182*pi**7*m**5 - 4861773865542285/2923003274661805836407369665432566039311865085952*_Dummy_2183**5*_Dummy_2184**6*_Dummy_2182*pi**12*g*m - 5645908335928811/365375409332725729550921208179070754913983135744*_Dummy_2183**5*_Dummy_2184**6*_Dummy_2182*pi**12 + (591613556844641/100000000000000000000000000000000000000000000)*_Dummy_2183**5*_Dummy_2184**5*_Dummy_2182*pi**11*g*m**2 + (827244867698263/10000000000000000000000000000000000000000000)*_Dummy_2183**5*_Dummy_2184**5*_Dummy_2182*pi**11*m - 206517212046057/25000000000000000000000000000000000000000*_Dummy_2183**5*_Dummy_2184**4*_Dummy_2182*pi**10*g*m**3 - 87199894085693/500000000000000000000000000000000000000*_Dummy_2183**5*_Dummy_2184**4*_Dummy_2182*pi**10*m**2 + (141851401488079/25000000000000000000000000000000000000)*_Dummy_2183**5*_Dummy_2184**3*_Dummy_2182*pi**9*g*m**4 + (187678454974939/1000000000000000000000000000000000000)*_Dummy_2183**5*_Dummy_2184**3*_Dummy_2182*pi**9*m**3 - 192210032383631/100000000000000000000000000000000000*_Dummy_2183**5*_Dummy_2184**2*_Dummy_2182*pi**8*g*m**5 - 109660000022761/1000000000000000000000000000000000*_Dummy_2183**5*_Dummy_2184**2*_Dummy_2182*pi**8*m**4 + (129060636109123/500000000000000000000000000000000)*_Dummy_2183**5*_Dummy_2182*_Dummy_2184*pi**7*g*m**6 + (331865033909381/10000000000000000000000000000000)*_Dummy_2183**5*_Dummy_2182*_Dummy_2184*pi**7*m**5 - 89393296198419/250000000000000000000000000000000*_Dummy_2183**5*_Dummy_2182*pi**6*g*m**7 - 25515081567437/6250000000000000000000000000*_Dummy_2183**5*_Dummy_2182*pi**6*m**6 - 8836543787728643/2923003274661805836407369665432566039311865085952*_Dummy_2183**4*_Dummy_2184**7*_Dummy_2182*pi**12*g*m - 2519005708151929/182687704666362864775460604089535377456991567872*_Dummy_2183**4*_Dummy_2184**7*_Dummy_2182*pi**12 + (136976736083901/10000000000000000000000000000000000000000000)*_Dummy_2183**4*_Dummy_2184**6*_Dummy_2182*pi**11*g*m**2 + (19502305160613/200000000000000000000000000000000000000000)*_Dummy_2183**4*_Dummy_2184**6*_Dummy_2182*pi**11*m - 254436717045521/10000000000000000000000000000000000000000*_Dummy_2183**4*_Dummy_2184**5*_Dummy_2182*pi**10*g*m**3 - 134444012177077/500000000000000000000000000000000000000*_Dummy_2183**4*_Dummy_2184**5*_Dummy_2182*pi**10*m**2 + (250345791154947/10000000000000000000000000000000000000)*_Dummy_2183**4*_Dummy_2184**4*_Dummy_2182*pi**9*g*m**4 + (385623687911211/1000000000000000000000000000000000000)*_Dummy_2183**4*_Dummy_2184**4*_Dummy_2182*pi**9*m**3 - 34936156968387/2500000000000000000000000000000000*_Dummy_2183**4*_Dummy_2184**3*_Dummy_2182*pi**8*g*m**5 - 9867282779371/31250000000000000000000000000000*_Dummy_2183**4*_Dummy_2184**3*_Dummy_2182*pi**8*m**4 + (434639051248203/100000000000000000000000000000000)*_Dummy_2183**4*_Dummy_2184**2*_Dummy_2182*pi**7*g*m**6 + (74583308185157/500000000000000000000000000000)*_Dummy_2183**4*_Dummy_2184**2*_Dummy_2182*pi**7*m**5 - 334487366050477/500000000000000000000000000000*_Dummy_2183**4*_Dummy_2182*_Dummy_2184*pi**6*g*m**7 - 189595135840213/5000000000000000000000000000*_Dummy_2183**4*_Dummy_2182*_Dummy_2184*pi**6*m**6 + (347384247260673/10000000000000000000000000000)*_Dummy_2183**4*_Dummy_2182*pi**5*g*m**8 + (402245448469533/100000000000000000000000000)*_Dummy_2183**4*_Dummy_2182*pi**5*m**7 - 1106827878441055/365375409332725729550921208179070754913983135744*_Dummy_2183**3*_Dummy_2184**8*_Dummy_2182*pi**12*g*m - 4293609228733157/730750818665451459101842416358141509827966271488*_Dummy_2183**3*_Dummy_2184**8*_Dummy_2182*pi**12 + (169433950334267/10000000000000000000000000000000000000000000)*_Dummy_2183**3*_Dummy_2184**7*_Dummy_2182*pi**11*g*m**2 + (19564512071353/312500000000000000000000000000000000000000)*_Dummy_2183**3*_Dummy_2184**7*_Dummy_2182*pi**11*m - 395570829025419/10000000000000000000000000000000000000000*_Dummy_2183**3*_Dummy_2184**6*_Dummy_2182*pi**10*g*m**3 - 234857387035731/1000000000000000000000000000000000000000*_Dummy_2183**3*_Dummy_2184**6*_Dummy_2182*pi**10*m**2 + (100959447028329/2000000000000000000000000000000000000)*_Dummy_2183**3*_Dummy_2184**5*_Dummy_2182*pi**9*g*m**4 + (223659954908097/500000000000000000000000000000000000)*_Dummy_2183**3*_Dummy_2184**5*_Dummy_2182*pi**9*m**3 - 192514588857937/5000000000000000000000000000000000*_Dummy_2183**3*_Dummy_2184**4*_Dummy_2182*pi**8*g*m**5 - 492620097191313/1000000000000000000000000000000000*_Dummy_2183**3*_Dummy_2184**4*_Dummy_2182*pi**8*m**4 + (89532987191443/5000000000000000000000000000000)*_Dummy_2183**3*_Dummy_2184**3*_Dummy_2182*pi**7*g*m**6 + (13124672677821/40000000000000000000000000000)*_Dummy_2183**3*_Dummy_2184**3*_Dummy_2182*pi**7*m**5 - 245625959964427/50000000000000000000000000000*_Dummy_2183**3*_Dummy_2184**2*_Dummy_2182*pi**6*g*m**7 - 65382971985901/500000000000000000000000000*_Dummy_2183**3*_Dummy_2184**2*_Dummy_2182*pi**6*m**6 + (71217522138193/100000000000000000000000000)*_Dummy_2183**3*_Dummy_2182*_Dummy_2184*pi**5*g*m**8 + (57514226475193/2000000000000000000000000)*_Dummy_2183**3*_Dummy_2182*_Dummy_2184*pi**5*m**7 - 24874273414777/625000000000000000000000*_Dummy_2183**3*_Dummy_2182*pi**4*g*m**9 - 134409238421519/50000000000000000000000*_Dummy_2183**3*_Dummy_2182*pi**4*m**8 - 2348934719802683/1461501637330902918203684832716283019655932542976*_Dummy_2183**2*_Dummy_2184**9*_Dummy_2182*pi**12*g*m - 14663104372509/182687704666362864775460604089535377456991567872*_Dummy_2183**2*_Dummy_2184**9*_Dummy_2182*pi**12 + (110621497429021/10000000000000000000000000000000000000000000)*_Dummy_2183**2*_Dummy_2184**8*_Dummy_2182*pi**11*g*m**2 + (9944634664759/625000000000000000000000000000000000000000)*_Dummy_2183**2*_Dummy_2184**8*_Dummy_2182*pi**11*m - 63831966421097/2000000000000000000000000000000000000000*_Dummy_2183**2*_Dummy_2184**7*_Dummy_2182*pi**10*g*m**3 - 100426885298903/1000000000000000000000000000000000000000*_Dummy_2183**2*_Dummy_2184**7*_Dummy_2182*pi**10*m**2 + (102069507904437/2000000000000000000000000000000000000)*_Dummy_2183**2*_Dummy_2184**6*_Dummy_2182*pi**9*g*m**4 + (67388685743267/250000000000000000000000000000000000)*_Dummy_2183**2*_Dummy_2184**6*_Dummy_2182*pi**9*m**3 - 500629456596091/10000000000000000000000000000000000*_Dummy_2183**2*_Dummy_2184**5*_Dummy_2182*pi**8*g*m**5 - 80173235565819/200000000000000000000000000000000*_Dummy_2183**2*_Dummy_2184**5*_Dummy_2182*pi**8*m**4 + (31292717622011/1000000000000000000000000000000)*_Dummy_2183**2*_Dummy_2184**4*_Dummy_2182*pi**7*g*m**6 + (22660985446529/62500000000000000000000000000)*_Dummy_2183**2*_Dummy_2184**4*_Dummy_2182*pi**7*m**5 - 124443513704873/10000000000000000000000000000*_Dummy_2183**2*_Dummy_2184**3*_Dummy_2182*pi**6*g*m**7 - 205007076464599/1000000000000000000000000000*_Dummy_2183**2*_Dummy_2184**3*_Dummy_2182*pi**6*m**6 + (1509058178219/500000000000000000000000)*_Dummy_2183**2*_Dummy_2184**2*_Dummy_2182*pi**5*g*m**8 + (354956173445027/5000000000000000000000000)*_Dummy_2183**2*_Dummy_2184**2*_Dummy_2182*pi**5*m**7 - 399625668582721/1000000000000000000000000*_Dummy_2183**2*_Dummy_2182*_Dummy_2184*pi**4*g*m**9 - 138021360758409/10000000000000000000000*_Dummy_2183**2*_Dummy_2182*_Dummy_2184*pi**4*m**8 + (21352997617667/1000000000000000000000)*_Dummy_2183**2*_Dummy_2182*pi**3*g*m**10 + (115602169280597/100000000000000000000)*_Dummy_2183**2*_Dummy_2182*pi**3*m**9 - 4858690584336115/11692013098647223345629478661730264157247460343808*_Dummy_2184**10*_Dummy_2182*_Dummy_2183*pi**12*g*m + (930870625970939/1461501637330902918203684832716283019655932542976)*_Dummy_2184**10*_Dummy_2182*_Dummy_2183*pi**12 + (349216670991921/100000000000000000000000000000000000000000000)*_Dummy_2184**9*_Dummy_2182*_Dummy_2183*pi**11*g*m**2 - 16189571866147/12500000000000000000000000000000000000000000*_Dummy_2184**9*_Dummy_2182*_Dummy_2183*pi**11*m - 30878786712583/2500000000000000000000000000000000000000*_Dummy_2184**8*_Dummy_2182*_Dummy_2183*pi**10*g*m**3 - 26060017988741/2000000000000000000000000000000000000000*_Dummy_2184**8*_Dummy_2182*_Dummy_2183*pi**10*m**2 + (121850801788277/5000000000000000000000000000000000000)*_Dummy_2184**7*_Dummy_2182*_Dummy_2183*pi**9*g*m**4 + (681798422468703/10000000000000000000000000000000000000)*_Dummy_2184**7*_Dummy_2182*_Dummy_2183*pi**9*m**3 - 149490117805039/5000000000000000000000000000000000*_Dummy_2184**6*_Dummy_2182*_Dummy_2183*pi**8*g*m**5 - 148046805638519/1000000000000000000000000000000000*_Dummy_2184**6*_Dummy_2182*_Dummy_2183*pi**8*m**4 + (23943290868213/1000000000000000000000000000000)*_Dummy_2184**5*_Dummy_2182*_Dummy_2183*pi**7*g*m**6 + (22949574561303/125000000000000000000000000000)*_Dummy_2184**5*_Dummy_2182*_Dummy_2183*pi**7*m**5 - 127051116154981/10000000000000000000000000000*_Dummy_2184**4*_Dummy_2182*_Dummy_2183*pi**6*g*m**7 - 71086085496769/500000000000000000000000000*_Dummy_2184**4*_Dummy_2182*_Dummy_2183*pi**6*m**6 + (440840363543159/100000000000000000000000000)*_Dummy_2184**3*_Dummy_2182*_Dummy_2183*pi**5*g*m**8 + (8779442831309/125000000000000000000000)*_Dummy_2184**3*_Dummy_2182*_Dummy_2183*pi**5*m**7 - 952905076740267/1000000000000000000000000*_Dummy_2184**2*_Dummy_2182*_Dummy_2183*pi**4*g*m**9 - 215870909533811/10000000000000000000000*_Dummy_2184**2*_Dummy_2182*_Dummy_2183*pi**4*m**8 + (114587373354213/1000000000000000000000)*_Dummy_2182*_Dummy_2183*_Dummy_2184*pi**3*g*m**10 + (377165819306119/100000000000000000000)*_Dummy_2182*_Dummy_2183*_Dummy_2184*pi**3*m**9 - 567821241/100000000000000*_Dummy_2182*_Dummy_2183*pi**2*g*m**11 - 57349945341/200000000000000*_Dummy_2182*_Dummy_2183*pi**2*m**10 - 1907149575159969/46768052394588893382517914646921056628989841375232*_Dummy_2184**11*_Dummy_2182*pi**12*g*m + (2724499393085671/23384026197294446691258957323460528314494920687616)*_Dummy_2184**11*_Dummy_2182*pi**12 + (103493739614127/250000000000000000000000000000000000000000000)*_Dummy_2184**10*_Dummy_2182*pi**11*g*m**2 - 198838365872811/250000000000000000000000000000000000000000000*_Dummy_2184**10*_Dummy_2182*pi**11*m - 177648778842621/100000000000000000000000000000000000000000*_Dummy_2184**9*_Dummy_2182*pi**10*g*m**3 + (25680644826531/20000000000000000000000000000000000000000)*_Dummy_2184**9*_Dummy_2182*pi**10*m**2 + (427714378090959/100000000000000000000000000000000000000)*_Dummy_2184**8*_Dummy_2182*pi**9*g*m**4 + (328618539120231/100000000000000000000000000000000000000)*_Dummy_2184**8*_Dummy_2182*pi**9*m**3 - 645607379886479/100000000000000000000000000000000000*_Dummy_2184**7*_Dummy_2182*pi**8*g*m**5 - 83871997807157/5000000000000000000000000000000000*_Dummy_2184**7*_Dummy_2182*pi**8*m**4 + (322578366268411/50000000000000000000000000000000)*_Dummy_2184**6*_Dummy_2182*pi**7*g*m**6 + (313301816853503/10000000000000000000000000000000)*_Dummy_2184**6*_Dummy_2182*pi**7*m**5 - 437450564611829/100000000000000000000000000000*_Dummy_2184**5*_Dummy_2182*pi**6*g*m**7 - 13461557687929/400000000000000000000000000*_Dummy_2184**5*_Dummy_2182*pi**6*m**6 + (40346091818997/20000000000000000000000000)*_Dummy_2184**4*_Dummy_2182*pi**5*g*m**8 + (57282386880369/2500000000000000000000000)*_Dummy_2184**4*_Dummy_2182*pi**5*m**7 - 15494468287863/25000000000000000000000*_Dummy_2184**3*_Dummy_2182*pi**4*g*m**9 - 20176499245809/2000000000000000000000*_Dummy_2184**3*_Dummy_2182*pi**4*m**8 + (30073900110031/250000000000000000000)*_Dummy_2184**2*_Dummy_2182*pi**3*g*m**10 + (139745855695821/50000000000000000000)*_Dummy_2184**2*_Dummy_2182*pi**3*m**9 - 21009385917/1600000000000000*_Dummy_2182*_Dummy_2184*pi**2*g*m**11 - 177728048433/400000000000000*_Dummy_2182*_Dummy_2184*pi**2*m**10 + (23829/40000000)*_Dummy_2182*pi*g*m**12 + (309777/10000000)*_Dummy_2182*pi*m**11 + (3061604804959881/383123885216472214589586756787577295904684780545900544)*_Dummy_2183**12*pi**12*g*m - 3061604804959901/47890485652059026823698344598447161988085597568237568*_Dummy_2183**12*pi**12 + (4592407207439839/23945242826029513411849172299223580994042798784118784)*_Dummy_2183**11*_Dummy_2184*pi**12*g*m - 2535391479107425/1496577676626844588240573268701473812127674924007424*_Dummy_2183**11*_Dummy_2184*pi**12 - 6273549965050247/46768052394588893382517914646921056628989841375232*_Dummy_2183**11*pi**11*g*m**2 + (3607291229903909/2923003274661805836407369665432566039311865085952)*_Dummy_2183**11*pi**11*m + (2918092079727405/1496577676626844588240573268701473812127674924007424)*_Dummy_2183**10*_Dummy_2184**2*pi**12*g*m - 925358092905365/46768052394588893382517914646921056628989841375232*_Dummy_2183**10*_Dummy_2184**2*pi**12 - 8194824641846907/2923003274661805836407369665432566039311865085952*_Dummy_2183**10*_Dummy_2184*pi**11*g*m**2 + (5371727157574309/182687704666362864775460604089535377456991567872)*_Dummy_2183**10*_Dummy_2184*pi**11*m + (495382809153757/500000000000000000000000000000000000000000000)*_Dummy_2183**10*pi**10*g*m**3 - 107182825980541/10000000000000000000000000000000000000000000*_Dummy_2183**10*pi**10*m**2 + (7964956250403503/748288838313422294120286634350736906063837462003712)*_Dummy_2183**9*_Dummy_2184**3*pi**12*g*m - 1560327155848103/11692013098647223345629478661730264157247460343808*_Dummy_2183**9*_Dummy_2184**3*pi**12 - 4391484975535191/182687704666362864775460604089535377456991567872*_Dummy_2183**9*_Dummy_2184**2*pi**11*g*m**2 + (6102914587971/20000000000000000000000000000000000000000000)*_Dummy_2183**9*_Dummy_2184**2*pi**11*m + (176536419262067/10000000000000000000000000000000000000000000)*_Dummy_2183**9*_Dummy_2184*pi**10*g*m**3 - 227335674600743/1000000000000000000000000000000000000000000*_Dummy_2183**9*_Dummy_2184*pi**10*m**2 - 423341113198363/100000000000000000000000000000000000000000*_Dummy_2183**9*pi**9*g*m**4 + (138341828063037/2500000000000000000000000000000000000000)*_Dummy_2183**9*pi**9*m**3 + (5843658780560679/187072209578355573530071658587684226515959365500928)*_Dummy_2183**8*_Dummy_2184**4*pi**12*g*m - 3340221306680821/5846006549323611672814739330865132078623730171904*_Dummy_2183**8*_Dummy_2184**4*pi**12 - 12959773070827/125000000000000000000000000000000000000000000*_Dummy_2183**8*_Dummy_2184**3*pi**11*g*m**2 + (18016851242737/10000000000000000000000000000000000000000000)*_Dummy_2183**8*_Dummy_2184**3*pi**11*m + (30724992867741/250000000000000000000000000000000000000000)*_Dummy_2183**8*_Dummy_2184**2*pi**10*g*m**3 - 103539510593219/50000000000000000000000000000000000000000*_Dummy_2183**8*_Dummy_2184**2*pi**10*m**2 - 624428141967587/10000000000000000000000000000000000000000*_Dummy_2183**8*_Dummy_2184*pi**9*g*m**4 + (20646950863703/20000000000000000000000000000000000000)*_Dummy_2183**8*_Dummy_2184*pi**9*m**3 + (57818143169189/5000000000000000000000000000000000000)*_Dummy_2183**8*pi**8*g*m**5 - 94475956300601/500000000000000000000000000000000000*_Dummy_2183**8*pi**8*m**4 + (2858295110880519/93536104789177786765035829293842113257979682750464)*_Dummy_2183**7*_Dummy_2184**5*pi**12*g*m - 2342826552867737/1461501637330902918203684832716283019655932542976*_Dummy_2183**7*_Dummy_2184**5*pi**12 - 192681258004253/1000000000000000000000000000000000000000000000*_Dummy_2183**7*_Dummy_2184**4*pi**11*g*m**2 + (331088750352339/50000000000000000000000000000000000000000000)*_Dummy_2183**7*_Dummy_2184**4*pi**11*m + (5915039621799/15625000000000000000000000000000000000000)*_Dummy_2183**7*_Dummy_2184**3*pi**10*g*m**3 - 105390440907421/10000000000000000000000000000000000000000*_Dummy_2183**7*_Dummy_2184**3*pi**10*m**2 - 331188824450363/1000000000000000000000000000000000000000*_Dummy_2183**7*_Dummy_2184**2*pi**9*g*m**4 + (406528423274201/50000000000000000000000000000000000000)*_Dummy_2183**7*_Dummy_2184**2*pi**9*m**3 + (6757346773683/50000000000000000000000000000000000)*_Dummy_2183**7*_Dummy_2184*pi**8*g*m**5 - 305501868362501/100000000000000000000000000000000000*_Dummy_2183**7*_Dummy_2184*pi**8*m**4 - 210352594442349/10000000000000000000000000000000000*_Dummy_2183**7*pi**7*g*m**6 + (448929714214939/1000000000000000000000000000000000)*_Dummy_2183**7*pi**7*m**5 - 2501008222020497/23384026197294446691258957323460528314494920687616*_Dummy_2183**6*_Dummy_2184**6*pi**12*g*m - 4266233428932949/1461501637330902918203684832716283019655932542976*_Dummy_2183**6*_Dummy_2184**6*pi**12 + (90800573338263/500000000000000000000000000000000000000000000)*_Dummy_2183**6*_Dummy_2184**5*pi**11*g*m**2 + (155231018283661/10000000000000000000000000000000000000000000)*_Dummy_2183**6*_Dummy_2184**5*pi**11*m + (145102128281217/1000000000000000000000000000000000000000000)*_Dummy_2183**6*_Dummy_2184**4*pi**10*g*m**3 - 162950320547021/5000000000000000000000000000000000000000*_Dummy_2183**6*_Dummy_2184**4*pi**10*m**2 - 543237364186329/1000000000000000000000000000000000000000*_Dummy_2183**6*_Dummy_2184**3*pi**9*g*m**4 + (174923036041017/5000000000000000000000000000000000000)*_Dummy_2183**6*_Dummy_2184**3*pi**9*m**3 + (95789356096049/200000000000000000000000000000000000)*_Dummy_2183**6*_Dummy_2184**2*pi**8*g*m**5 - 10207178511761/500000000000000000000000000000000*_Dummy_2183**6*_Dummy_2184**2*pi**8*m**4 - 90598063618999/500000000000000000000000000000000*_Dummy_2183**6*_Dummy_2184*pi**7*g*m**6 + (308744354819991/50000000000000000000000000000000)*_Dummy_2183**6*_Dummy_2184*pi**7*m**5 + (257005726570487/10000000000000000000000000000000)*_Dummy_2183**6*pi**6*g*m**7 - 379832115547131/500000000000000000000000000000*_Dummy_2183**6*pi**6*m**6 - 5334637083251711/11692013098647223345629478661730264157247460343808*_Dummy_2183**5*_Dummy_2184**7*pi**12*g*m - 4736760827546781/1461501637330902918203684832716283019655932542976*_Dummy_2183**5*_Dummy_2184**7*pi**12 + (175328676874047/100000000000000000000000000000000000000000000)*_Dummy_2183**5*_Dummy_2184**6*pi**11*g*m**2 + (1134050735811/50000000000000000000000000000000000000000)*_Dummy_2183**5*_Dummy_2184**6*pi**11*m - 255752633925837/100000000000000000000000000000000000000000*_Dummy_2183**5*_Dummy_2184**5*pi**10*g*m**3 - 621269488615913/10000000000000000000000000000000000000000*_Dummy_2183**5*_Dummy_2184**5*pi**10*m**2 + (162721740385621/100000000000000000000000000000000000000)*_Dummy_2183**5*_Dummy_2184**4*pi**9*g*m**4 + (443579842274341/5000000000000000000000000000000000000)*_Dummy_2183**5*_Dummy_2184**4*pi**9*m**3 - 52266332439637/250000000000000000000000000000000000*_Dummy_2183**5*_Dummy_2184**3*pi**8*g*m**5 - 181110376503619/2500000000000000000000000000000000*_Dummy_2183**5*_Dummy_2184**3*pi**8*m**4 - 55511783404229/200000000000000000000000000000000*_Dummy_2183**5*_Dummy_2184**2*pi**7*g*m**6 + (85421525911969/2500000000000000000000000000000)*_Dummy_2183**5*_Dummy_2184**2*pi**7*m**5 + (1765517599919/12500000000000000000000000000)*_Dummy_2183**5*_Dummy_2184*pi**6*g*m**7 - 867883755472081/100000000000000000000000000000*_Dummy_2183**5*_Dummy_2184*pi**6*m**6 - 207080026444809/10000000000000000000000000000*_Dummy_2183**5*pi**5*g*m**8 + (920455711748159/1000000000000000000000000000)*_Dummy_2183**5*pi**5*m**7 - 4549661717990757/5846006549323611672814739330865132078623730171904*_Dummy_2183**4*_Dummy_2184**8*pi**12*g*m - 1299182580962145/730750818665451459101842416358141509827966271488*_Dummy_2183**4*_Dummy_2184**8*pi**12 + (98471471235069/25000000000000000000000000000000000000000000)*_Dummy_2183**4*_Dummy_2184**7*pi**11*g*m**2 + (46992013073669/2500000000000000000000000000000000000000000)*_Dummy_2183**4*_Dummy_2184**7*pi**11*m - 819110971455659/100000000000000000000000000000000000000000*_Dummy_2183**4*_Dummy_2184**6*pi**10*g*m**3 - 700392030893951/10000000000000000000000000000000000000000*_Dummy_2183**4*_Dummy_2184**6*pi**10*m**2 + (901882883692701/100000000000000000000000000000000000000)*_Dummy_2183**4*_Dummy_2184**5*pi**9*g*m**4 + (132726208196461/1000000000000000000000000000000000000)*_Dummy_2183**4*_Dummy_2184**5*pi**9*m**3 - 34762266325179/6250000000000000000000000000000000*_Dummy_2183**4*_Dummy_2184**4*pi**8*g*m**5 - 145638588767203/1000000000000000000000000000000000*_Dummy_2183**4*_Dummy_2184**4*pi**8*m**4 + (89462425878117/50000000000000000000000000000000)*_Dummy_2183**4*_Dummy_2184**3*pi**7*g*m**6 + (967632585199081/10000000000000000000000000000000)*_Dummy_2183**4*_Dummy_2184**3*pi**7*m**5 - 35819893786711/200000000000000000000000000000*_Dummy_2183**4*_Dummy_2184**2*pi**6*g*m**7 - 96253337748697/2500000000000000000000000000*_Dummy_2183**4*_Dummy_2184**2*pi**6*m**6 - 232965029750411/5000000000000000000000000000*_Dummy_2183**4*_Dummy_2184*pi**5*g*m**8 + (845906902228027/100000000000000000000000000)*_Dummy_2183**4*_Dummy_2184*pi**5*m**7 + (13066865148269/1250000000000000000000000)*_Dummy_2183**4*pi**4*g*m**9 - 197608784748279/250000000000000000000000*_Dummy_2183**4*pi**4*m**8 - 2033283806321347/2923003274661805836407369665432566039311865085952*_Dummy_2183**3*_Dummy_2184**9*pi**12*g*m + (81987250254899/1461501637330902918203684832716283019655932542976)*_Dummy_2183**3*_Dummy_2184**9*pi**12 + (13710883220533/3125000000000000000000000000000000000000000)*_Dummy_2183**3*_Dummy_2184**8*pi**11*g*m**2 + (619622361266309/100000000000000000000000000000000000000000000)*_Dummy_2183**3*_Dummy_2184**8*pi**11*m - 14480827620579/1250000000000000000000000000000000000000*_Dummy_2183**3*_Dummy_2184**7*pi**10*g*m**3 - 202907897933363/5000000000000000000000000000000000000000*_Dummy_2183**3*_Dummy_2184**7*pi**10*m**2 + (42053836823911/2500000000000000000000000000000000000)*_Dummy_2183**3*_Dummy_2184**6*pi**9*g*m**4 + (109558261003661/1000000000000000000000000000000000000)*_Dummy_2183**3*_Dummy_2184**6*pi**9*m**3 - 73623989693059/5000000000000000000000000000000000*_Dummy_2183**3*_Dummy_2184**5*pi**8*g*m**5 - 81467556167137/500000000000000000000000000000000*_Dummy_2183**3*_Dummy_2184**5*pi**8*m**4 + (158671890948039/20000000000000000000000000000000)*_Dummy_2183**3*_Dummy_2184**4*pi**7*g*m**6 + (29437540873583/200000000000000000000000000000)*_Dummy_2183**3*_Dummy_2184**4*pi**7*m**5 - 50618060039399/20000000000000000000000000000*_Dummy_2183**3*_Dummy_2184**3*pi**6*g*m**7 - 831110929147901/10000000000000000000000000000*_Dummy_2183**3*_Dummy_2184**3*pi**6*m**6 + (205129272572503/500000000000000000000000000)*_Dummy_2183**3*_Dummy_2184**2*pi**5*g*m**8 + (287493102221073/10000000000000000000000000)*_Dummy_2183**3*_Dummy_2184**2*pi**5*m**7 - 4408099086163/312500000000000000000000*_Dummy_2183**3*_Dummy_2184*pi**4*g*m**9 - 279271968961653/50000000000000000000000*_Dummy_2183**3*_Dummy_2184*pi**4*m**8 - 59196429039077/20000000000000000000000*_Dummy_2183**3*pi**3*g*m**10 + (116912947352177/250000000000000000000)*_Dummy_2183**3*pi**3*m**9 - 3723482503883755/11692013098647223345629478661730264157247460343808*_Dummy_2183**2*_Dummy_2184**10*pi**12*g*m + (3223990948484719/5846006549323611672814739330865132078623730171904)*_Dummy_2183**2*_Dummy_2184**10*pi**12 + (31279013429309/12500000000000000000000000000000000000000000)*_Dummy_2183**2*_Dummy_2184**9*pi**11*g*m**2 - 165155364003647/100000000000000000000000000000000000000000000*_Dummy_2183**2*_Dummy_2184**9*pi**11*m - 821488808939597/100000000000000000000000000000000000000000*_Dummy_2183**2*_Dummy_2184**8*pi**10*g*m**3 - 4930255187977/781250000000000000000000000000000000000*_Dummy_2183**2*_Dummy_2184**8*pi**10*m**2 + (149803788702883/10000000000000000000000000000000000000)*_Dummy_2183**2*_Dummy_2184**7*pi**9*g*m**4 + (81214363928993/2000000000000000000000000000000000000)*_Dummy_2183**2*_Dummy_2184**7*pi**9*m**3 - 84369281425361/5000000000000000000000000000000000*_Dummy_2183**2*_Dummy_2184**6*pi**8*g*m**5 - 457480942229179/5000000000000000000000000000000000*_Dummy_2183**2*_Dummy_2184**6*pi**8*m**4 + (122497901431627/10000000000000000000000000000000)*_Dummy_2183**2*_Dummy_2184**5*pi**7*g*m**6 + (114773913925169/1000000000000000000000000000000)*_Dummy_2183**2*_Dummy_2184**5*pi**7*m**5 - 575151998075889/100000000000000000000000000000*_Dummy_2183**2*_Dummy_2184**4*pi**6*g*m**7 - 892332821982357/10000000000000000000000000000*_Dummy_2183**2*_Dummy_2184**4*pi**6*m**6 + (84190035389029/50000000000000000000000000)*_Dummy_2183**2*_Dummy_2184**3*pi**5*g*m**8 + (441410583905833/10000000000000000000000000)*_Dummy_2183**2*_Dummy_2184**3*pi**5*m**7 - 276072948481981/1000000000000000000000000*_Dummy_2183**2*_Dummy_2184**2*pi**4*g*m**9 - 135714035751023/10000000000000000000000*_Dummy_2183**2*_Dummy_2184**2*pi**4*m**8 + (89851722648599/5000000000000000000000)*_Dummy_2183**2*_Dummy_2184*pi**3*g*m**10 + (118561990732551/50000000000000000000)*_Dummy_2183**2*_Dummy_2184*pi**3*m**9 + (567821241/1600000000000000)*_Dummy_2183**2*pi**2*g*m**11 - 72113297607/400000000000000*_Dummy_2183**2*pi**2*m**10 - 1634699635851403/23384026197294446691258957323460528314494920687616*_Dummy_2184**11*_Dummy_2183*pi**12*g*m + (4904098907554211/23384026197294446691258957323460528314494920687616)*_Dummy_2184**11*_Dummy_2183*pi**12 + (2648461840519/3906250000000000000000000000000000000000000)*_Dummy_2184**10*_Dummy_2183*pi**11*g*m**2 - 149943685740153/100000000000000000000000000000000000000000000*_Dummy_2184**10*_Dummy_2183*pi**11*m - 137522771301167/50000000000000000000000000000000000000000*_Dummy_2184**9*_Dummy_2183*pi**10*g*m**3 + (316630677690751/100000000000000000000000000000000000000000)*_Dummy_2184**9*_Dummy_2183*pi**10*m**2 + (124140245647779/20000000000000000000000000000000000000)*_Dummy_2184**8*_Dummy_2183*pi**9*g*m**4 + (83685466484033/50000000000000000000000000000000000000)*_Dummy_2184**8*_Dummy_2183*pi**9*m**3 - 872725611905891/100000000000000000000000000000000000*_Dummy_2184**7*_Dummy_2183*pi**8*g*m**5 - 190905515485349/10000000000000000000000000000000000*_Dummy_2184**7*_Dummy_2183*pi**8*m**4 + (806507823238377/100000000000000000000000000000000)*_Dummy_2184**6*_Dummy_2183*pi**7*g*m**6 + (389603892123629/10000000000000000000000000000000)*_Dummy_2184**6*_Dummy_2183*pi**7*m**5 - 249925777511571/50000000000000000000000000000*_Dummy_2184**5*_Dummy_2183*pi**6*g*m**7 - 430609295653753/10000000000000000000000000000*_Dummy_2184**5*_Dummy_2183*pi**6*m**6 + (206359748091957/100000000000000000000000000)*_Dummy_2184**4*_Dummy_2183*pi**5*g*m**8 + (29664363846209/1000000000000000000000000)*_Dummy_2184**4*_Dummy_2183*pi**5*m**7 - 109119344235761/200000000000000000000000*_Dummy_2184**3*_Dummy_2183*pi**4*g*m**9 - 131310974492387/10000000000000000000000*_Dummy_2184**3*_Dummy_2183*pi**4*m**8 + (167441327853389/2000000000000000000000)*_Dummy_2184**2*_Dummy_2183*pi**3*g*m**10 + (45591821150989/12500000000000000000)*_Dummy_2184**2*_Dummy_2183*pi**3*m**9 - 567821241/100000000000000*_Dummy_2183*_Dummy_2184*pi**2*g*m**11 - 232238887569/400000000000000*_Dummy_2183*_Dummy_2184*pi**2*m**10 + (405093/10000000)*_Dummy_2183*pi*m**11 - 8718398057874143/1496577676626844588240573268701473812127674924007424*_Dummy_2184**12*pi**12*g*m + (4359199028937073/187072209578355573530071658587684226515959365500928)*_Dummy_2184**12*pi**12 + (342262760928609/5000000000000000000000000000000000000000000000)*_Dummy_2184**11*pi**11*g*m**2 - 5867361615919/25000000000000000000000000000000000000000000*_Dummy_2184**11*pi**11*m - 339247154668661/1000000000000000000000000000000000000000000*_Dummy_2184**10*pi**10*g*m**3 + (897363441381619/1000000000000000000000000000000000000000000)*_Dummy_2184**10*pi**10*m**2 + (938910111772087/1000000000000000000000000000000000000000)*_Dummy_2184**9*pi**9*g*m**4 - 36944071789293/25000000000000000000000000000000000000*_Dummy_2184**9*pi**9*m**3 - 253958163573/156250000000000000000000000000000*_Dummy_2184**8*pi**8*g*m**5 + (197009969317251/1000000000000000000000000000000000000)*_Dummy_2184**8*pi**8*m**4 + (46652344545263/25000000000000000000000000000000)*_Dummy_2184**7*pi**7*g*m**6 + (86223262192811/25000000000000000000000000000000)*_Dummy_2184**7*pi**7*m**5 - 146323416882401/100000000000000000000000000000*_Dummy_2184**6*pi**6*g*m**7 - 5216378187229/781250000000000000000000000*_Dummy_2184**6*pi**6*m**6 + (789530115318381/1000000000000000000000000000)*_Dummy_2184**5*pi**5*g*m**8 + (333338819380071/50000000000000000000000000)*_Dummy_2184**5*pi**5*m**7 - 289045354364117/1000000000000000000000000*_Dummy_2184**4*pi**4*g*m**9 - 82902489785027/20000000000000000000000*_Dummy_2184**4*pi**4*m**8 + (137420281697857/2000000000000000000000)*_Dummy_2184**3*pi**3*g*m**10 + (83297832290701/50000000000000000000)*_Dummy_2184**3*pi**3*m**9 - 15331173507/1600000000000000*_Dummy_2184**2*pi**2*g*m**11 - 84605364909/200000000000000*_Dummy_2184**2*pi**2*m**10 + (23829/40000000)*_Dummy_2184*pi*g*m**12 + (309777/5000000)*_Dummy_2184*pi*m**11 - 4*m**12)/((7470590043892701/6277101735386680763835789423207666416102355444464034512896)*_Dummy_2182**13*pi**13 + (1342371648511973/49039857307708443467467104868809893875799651909875269632)*_Dummy_2182**12*_Dummy_2183*pi**13 + (8170957860507655/196159429230833773869868419475239575503198607639501078528)*_Dummy_2182**12*_Dummy_2184*pi**13 - 2870254504649915/95780971304118053647396689196894323976171195136475136*_Dummy_2182**12*pi**12*m + (3180837167126205/12259964326927110866866776217202473468949912977468817408)*_Dummy_2182**11*_Dummy_2183**2*pi**13 + (5208985636073641/6129982163463555433433388108601236734474956488734408704)*_Dummy_2182**11*_Dummy_2183*_Dummy_2184*pi**13 - 3611736918351153/5986310706507378352962293074805895248510699696029696*_Dummy_2182**11*_Dummy_2183*pi**12*m + (988539991159633/1532495540865888858358347027150309183618739122183602176)*_Dummy_2182**11*_Dummy_2184**2*pi**13 - 2810457535803047/2993155353253689176481146537402947624255349848014848*_Dummy_2182**11*_Dummy_2184*pi**12*m + (3920968728156427/11692013098647223345629478661730264157247460343808)*_Dummy_2182**11*pi**11*m**2 + (4194911401599933/3064991081731777716716694054300618367237478244367204352)*_Dummy_2182**10*_Dummy_2183**3*pi**13 + (2755874403398909/383123885216472214589586756787577295904684780545900544)*_Dummy_2182**10*_Dummy_2183**2*_Dummy_2184*pi**13 - 3785148128007093/748288838313422294120286634350736906063837462003712*_Dummy_2182**10*_Dummy_2183**2*pi**12*m + (4479435827099745/383123885216472214589586756787577295904684780545900544)*_Dummy_2182**10*_Dummy_2184**2*_Dummy_2183*pi**13 - 3149057871898473/187072209578355573530071658587684226515959365500928*_Dummy_2182**10*_Dummy_2183*_Dummy_2184*pi**12*m + (4347374077343449/730750818665451459101842416358141509827966271488)*_Dummy_2182**10*_Dummy_2183*pi**11*m**2 + (8977110399423835/1532495540865888858358347027150309183618739122183602176)*_Dummy_2182**10*_Dummy_2184**3*pi**13 - 607686695906351/46768052394588893382517914646921056628989841375232*_Dummy_2182**10*_Dummy_2184**2*pi**12*m + (859549863375543/91343852333181432387730302044767688728495783936)*_Dummy_2182**10*_Dummy_2184*pi**11*m**2 - 27865283014899/12500000000000000000000000000000000000000000*_Dummy_2182**10*pi**10*m**3 + (6967200675700761/1532495540865888858358347027150309183618739122183602176)*_Dummy_2182**9*_Dummy_2183**4*pi**13 + (810199260512813/23945242826029513411849172299223580994042798784118784)*_Dummy_2182**9*_Dummy_2183**3*_Dummy_2184*pi**13 - 8842476768231429/374144419156711147060143317175368453031918731001856*_Dummy_2182**9*_Dummy_2183**3*pi**12*m + (8431771917215855/95780971304118053647396689196894323976171195136475136)*_Dummy_2182**9*_Dummy_2183**2*_Dummy_2184**2*pi**13 - 5876360247898849/46768052394588893382517914646921056628989841375232*_Dummy_2182**9*_Dummy_2183**2*_Dummy_2184*pi**12*m + (8047788314541097/182687704666362864775460604089535377456991567872)*_Dummy_2182**9*_Dummy_2183**2*pi**11*m**2 + (4508503827301051/47890485652059026823698344598447161988085597568237568)*_Dummy_2182**9*_Dummy_2184**3*_Dummy_2183*pi**13 - 2418180076891181/11692013098647223345629478661730264157247460343808*_Dummy_2182**9*_Dummy_2184**2*_Dummy_2183*pi**12*m + (148394348139241/1000000000000000000000000000000000000000000000)*_Dummy_2182**9*_Dummy_2183*_Dummy_2184*pi**11*m**2 - 174228385719419/5000000000000000000000000000000000000000000*_Dummy_2182**9*_Dummy_2183*pi**10*m**3 + (832370735176159/23945242826029513411849172299223580994042798784118784)*_Dummy_2182**9*_Dummy_2184**4*pi**13 - 4906154428358321/46768052394588893382517914646921056628989841375232*_Dummy_2182**9*_Dummy_2184**3*pi**12*m + (23193114389401/200000000000000000000000000000000000000000000)*_Dummy_2182**9*_Dummy_2184**2*pi**11*m**2 - 557868595308381/10000000000000000000000000000000000000000000*_Dummy_2182**9*_Dummy_2184*pi**10*m**3 + (987480944848863/100000000000000000000000000000000000000000)*_Dummy_2182**9*pi**9*m**4 + (7780648712706655/766247770432944429179173513575154591809369561091801088)*_Dummy_2182**8*_Dummy_2183**5*pi**13 + (2383063051797483/23945242826029513411849172299223580994042798784118784)*_Dummy_2182**8*_Dummy_2183**4*_Dummy_2184*pi**13 - 3237071535419971/46768052394588893382517914646921056628989841375232*_Dummy_2182**8*_Dummy_2183**4*pi**12*m + (4385762771549077/11972621413014756705924586149611790497021399392059392)*_Dummy_2182**8*_Dummy_2183**3*_Dummy_2184**2*pi**13 - 6074017259766915/11692013098647223345629478661730264157247460343808*_Dummy_2182**8*_Dummy_2183**3*_Dummy_2184*pi**12*m + (181098114987917/1000000000000000000000000000000000000000000000)*_Dummy_2182**8*_Dummy_2183**3*pi**11*m**2 + (3748589357332553/5986310706507378352962293074805895248510699696029696)*_Dummy_2182**8*_Dummy_2183**2*_Dummy_2184**3*pi**13 - 997108615973877/730750818665451459101842416358141509827966271488*_Dummy_2182**8*_Dummy_2183**2*_Dummy_2184**2*pi**12*m + (485834711946399/500000000000000000000000000000000000000000000)*_Dummy_2182**8*_Dummy_2183**2*_Dummy_2184*pi**11*m**2 - 226603859087221/1000000000000000000000000000000000000000000*_Dummy_2182**8*_Dummy_2183**2*pi**10*m**3 + (5898324711435743/11972621413014756705924586149611790497021399392059392)*_Dummy_2182**8*_Dummy_2184**4*_Dummy_2183*pi**13 - 8614757764603225/5846006549323611672814739330865132078623730171904*_Dummy_2182**8*_Dummy_2184**3*_Dummy_2183*pi**12*m + (161502683235437/100000000000000000000000000000000000000000000)*_Dummy_2182**8*_Dummy_2184**2*_Dummy_2183*pi**11*m**2 - 385300867869649/500000000000000000000000000000000000000000*_Dummy_2182**8*_Dummy_2183*_Dummy_2184*pi**10*m**3 + (135365210860861/1000000000000000000000000000000000000000)*_Dummy_2182**8*_Dummy_2183*pi**9*m**4 + (849355566666333/5986310706507378352962293074805895248510699696029696)*_Dummy_2182**8*_Dummy_2184**5*pi**13 - 6417382666817317/11692013098647223345629478661730264157247460343808*_Dummy_2182**8*_Dummy_2184**4*pi**12*m + (33067291082309/40000000000000000000000000000000000000000000)*_Dummy_2182**8*_Dummy_2184**3*pi**11*m**2 - 607800930731039/1000000000000000000000000000000000000000000*_Dummy_2182**8*_Dummy_2184**2*pi**10*m**3 + (218710492521789/1000000000000000000000000000000000000000)*_Dummy_2182**8*_Dummy_2184*pi**9*m**4 - 308839299726779/10000000000000000000000000000000000000*_Dummy_2182**8*pi**8*m**5 + (378738943799341/23945242826029513411849172299223580994042798784118784)*_Dummy_2182**7*_Dummy_2183**6*pi**13 + (2329629227898025/11972621413014756705924586149611790497021399392059392)*_Dummy_2182**7*_Dummy_2183**5*_Dummy_2184*pi**13 - 3157186522351099/23384026197294446691258957323460528314494920687616*_Dummy_2182**7*_Dummy_2183**5*pi**12*m + (5645646844979999/5986310706507378352962293074805895248510699696029696)*_Dummy_2182**7*_Dummy_2183**4*_Dummy_2184**2*pi**13 - 7785915716727269/5846006549323611672814739330865132078623730171904*_Dummy_2182**7*_Dummy_2183**4*_Dummy_2184*pi**12*m + (462608062111091/1000000000000000000000000000000000000000000000)*_Dummy_2182**7*_Dummy_2183**4*pi**11*m**2 + (853161836055437/374144419156711147060143317175368453031918731001856)*_Dummy_2182**7*_Dummy_2183**3*_Dummy_2184**3*pi**13 - 7215987536500983/1461501637330902918203684832716283019655932542976*_Dummy_2182**7*_Dummy_2183**3*_Dummy_2184**2*pi**12*m + (34963251052117/10000000000000000000000000000000000000000000)*_Dummy_2182**7*_Dummy_2183**3*_Dummy_2184*pi**11*m**2 - 811392006593027/1000000000000000000000000000000000000000000*_Dummy_2182**7*_Dummy_2183**3*pi**10*m**3 + (8579470130983793/2993155353253689176481146537402947624255349848014848)*_Dummy_2182**7*_Dummy_2183**2*_Dummy_2184**4*pi**13 - 3107559125891609/365375409332725729550921208179070754913983135744*_Dummy_2182**7*_Dummy_2183**2*_Dummy_2184**3*pi**12*m + (5783011585601/625000000000000000000000000000000000000000)*_Dummy_2182**7*_Dummy_2183**2*_Dummy_2184**2*pi**11*m**2 - 438553393983657/100000000000000000000000000000000000000000*_Dummy_2182**7*_Dummy_2183**2*_Dummy_2184*pi**10*m**3 + (382878018405611/500000000000000000000000000000000000000)*_Dummy_2182**7*_Dummy_2183**2*pi**9*m**4 + (2630208736352167/1496577676626844588240573268701473812127674924007424)*_Dummy_2182**7*_Dummy_2184**5*_Dummy_2183*pi**13 - 1231434337925225/182687704666362864775460604089535377456991567872*_Dummy_2182**7*_Dummy_2184**4*_Dummy_2183*pi**12*m + (20136613364351/2000000000000000000000000000000000000000000)*_Dummy_2182**7*_Dummy_2184**3*_Dummy_2183*pi**11*m**2 - 183608008862737/25000000000000000000000000000000000000000*_Dummy_2182**7*_Dummy_2184**2*_Dummy_2183*pi**10*m**3 + (32792399510639/12500000000000000000000000000000000000)*_Dummy_2182**7*_Dummy_2183*_Dummy_2184*pi**9*m**4 - 367942290521951/1000000000000000000000000000000000000*_Dummy_2182**7*_Dummy_2183*pi**8*m**5 + (4880317747523023/11972621413014756705924586149611790497021399392059392)*_Dummy_2182**7*_Dummy_2184**6*pi**13 - 5705880491207867/2923003274661805836407369665432566039311865085952*_Dummy_2182**7*_Dummy_2184**5*pi**12*m + (75479569521111/20000000000000000000000000000000000000000000)*_Dummy_2182**7*_Dummy_2184**4*pi**11*m**2 - 378494983593889/100000000000000000000000000000000000000000*_Dummy_2182**7*_Dummy_2184**3*pi**10*m**3 + (40695938311/19531250000000000000000000000000000)*_Dummy_2182**7*_Dummy_2184**2*pi**9*m**4 - 598643819809383/1000000000000000000000000000000000000*_Dummy_2182**7*_Dummy_2184*pi**8*m**5 + (70295044218709/1000000000000000000000000000000000)*_Dummy_2182**7*pi**7*m**6 + (6700003058164041/383123885216472214589586756787577295904684780545900544)*_Dummy_2182**6*_Dummy_2183**7*pi**13 + (1562661493174797/5986310706507378352962293074805895248510699696029696)*_Dummy_2182**6*_Dummy_2183**6*_Dummy_2184*pi**13 - 4232877932248053/23384026197294446691258957323460528314494920687616*_Dummy_2182**6*_Dummy_2183**6*pi**12*m + (2377676922348413/1496577676626844588240573268701473812127674924007424)*_Dummy_2182**6*_Dummy_2183**5*_Dummy_2184**2*pi**13 - 1635806230147935/730750818665451459101842416358141509827966271488*_Dummy_2182**6*_Dummy_2183**5*_Dummy_2184*pi**12*m + (776171188432341/1000000000000000000000000000000000000000000000)*_Dummy_2182**6*_Dummy_2183**5*pi**11*m**2 + (7573756508822873/1496577676626844588240573268701473812127674924007424)*_Dummy_2182**6*_Dummy_2183**4*_Dummy_2184**3*pi**13 - 3986440258342653/365375409332725729550921208179070754913983135744*_Dummy_2182**6*_Dummy_2183**4*_Dummy_2184**2*pi**12*m + (384917165286861/50000000000000000000000000000000000000000000)*_Dummy_2182**6*_Dummy_2183**4*_Dummy_2184*pi**11*m**2 - 89060259190669/50000000000000000000000000000000000000000*_Dummy_2182**6*_Dummy_2183**4*pi**10*m**3 + (3368150327369473/374144419156711147060143317175368453031918731001856)*_Dummy_2182**6*_Dummy_2183**3*_Dummy_2184**4*pi**13 - 4848017350956245/182687704666362864775460604089535377456991567872*_Dummy_2182**6*_Dummy_2183**3*_Dummy_2184**3*pi**12*m + (28706368524897/1000000000000000000000000000000000000000000)*_Dummy_2182**6*_Dummy_2183**3*_Dummy_2184**2*pi**11*m**2 - 135390823829773/10000000000000000000000000000000000000000*_Dummy_2182**6*_Dummy_2183**3*_Dummy_2184*pi**10*m**3 + (117702058878933/50000000000000000000000000000000000000)*_Dummy_2182**6*_Dummy_2183**3*pi**9*m**4 + (3300569898592637/374144419156711147060143317175368453031918731001856)*_Dummy_2182**6*_Dummy_2183**2*_Dummy_2184**5*pi**13 - 383143676304683/11417981541647679048466287755595961091061972992*_Dummy_2182**6*_Dummy_2183**2*_Dummy_2184**4*pi**12*m + (49747526764613/1000000000000000000000000000000000000000000)*_Dummy_2182**6*_Dummy_2183**2*_Dummy_2184**3*pi**11*m**2 - 360447962682413/10000000000000000000000000000000000000000*_Dummy_2182**6*_Dummy_2183**2*_Dummy_2184**2*pi**10*m**3 + (127981310283781/10000000000000000000000000000000000000)*_Dummy_2182**6*_Dummy_2183**2*_Dummy_2184*pi**9*m**4 - 35709246612477/20000000000000000000000000000000000*_Dummy_2182**6*_Dummy_2183**2*pi**8*m**5 + (203696193291779/46768052394588893382517914646921056628989841375232)*_Dummy_2182**6*_Dummy_2184**6*_Dummy_2183*pi**13 - 7555036057885363/365375409332725729550921208179070754913983135744*_Dummy_2182**6*_Dummy_2184**5*_Dummy_2183*pi**12*m + (99107973998387/2500000000000000000000000000000000000000000)*_Dummy_2182**6*_Dummy_2184**4*_Dummy_2183*pi**11*m**2 - 49307252387107/1250000000000000000000000000000000000000*_Dummy_2182**6*_Dummy_2184**3*_Dummy_2183*pi**10*m**3 + (6736415463769/312500000000000000000000000000000000)*_Dummy_2182**6*_Dummy_2184**2*_Dummy_2183*pi**9*m**4 - 615185043320173/100000000000000000000000000000000000*_Dummy_2182**6*_Dummy_2183*_Dummy_2184*pi**8*m**5 + (358984009907817/500000000000000000000000000000000)*_Dummy_2182**6*_Dummy_2183*pi**7*m**6 + (1239426043387285/1496577676626844588240573268701473812127674924007424)*_Dummy_2182**6*_Dummy_2184**7*pi**13 - 3513556602216151/730750818665451459101842416358141509827966271488*_Dummy_2182**6*_Dummy_2184**6*pi**12*m + (7202256807977/625000000000000000000000000000000000000000)*_Dummy_2182**6*_Dummy_2184**5*pi**11*m**2 - 74262330278731/5000000000000000000000000000000000000000*_Dummy_2182**6*_Dummy_2184**4*pi**10*m**3 + (111642989196281/10000000000000000000000000000000000000)*_Dummy_2182**6*_Dummy_2184**3*pi**9*m**4 - 122783846094767/25000000000000000000000000000000000*_Dummy_2182**6*_Dummy_2184**2*pi**8*m**5 + (117424676138071/100000000000000000000000000000000)*_Dummy_2182**6*_Dummy_2184*pi**7*m**6 - 14749893872741/125000000000000000000000000000*_Dummy_2182**6*pi**6*m**7 + (2635270700602899/191561942608236107294793378393788647952342390272950272)*_Dummy_2182**5*_Dummy_2183**8*pi**13 + (2910134290741703/11972621413014756705924586149611790497021399392059392)*_Dummy_2182**5*_Dummy_2183**7*_Dummy_2184*pi**13 - 3944824721380999/23384026197294446691258957323460528314494920687616*_Dummy_2182**5*_Dummy_2183**7*pi**12*m + (2688512162736323/1496577676626844588240573268701473812127674924007424)*_Dummy_2182**5*_Dummy_2183**6*_Dummy_2184**2*pi**13 - 7394560906358139/2923003274661805836407369665432566039311865085952*_Dummy_2182**5*_Dummy_2183**6*_Dummy_2184*pi**12*m + (877018981364391/1000000000000000000000000000000000000000000000)*_Dummy_2182**5*_Dummy_2183**6*pi**11*m**2 + (672707575032457/93536104789177786765035829293842113257979682750464)*_Dummy_2182**5*_Dummy_2183**5*_Dummy_2184**3*pi**13 - 88312096345979/5708990770823839524233143877797980545530986496*_Dummy_2182**5*_Dummy_2183**5*_Dummy_2184**2*pi**12*m + (27238981493149/2500000000000000000000000000000000000000000)*_Dummy_2182**5*_Dummy_2183**5*_Dummy_2184*pi**11*m**2 - 125888593441189/50000000000000000000000000000000000000000*_Dummy_2182**5*_Dummy_2183**5*pi**10*m**3 + (3156246476085803/187072209578355573530071658587684226515959365500928)*_Dummy_2182**5*_Dummy_2183**4*_Dummy_2184**4*pi**13 - 61884987336603/1250000000000000000000000000000000000000000000*_Dummy_2182**5*_Dummy_2183**4*_Dummy_2184**3*pi**12*m + (533548273674207/10000000000000000000000000000000000000000000)*_Dummy_2182**5*_Dummy_2183**4*_Dummy_2184**2*pi**11*m**2 - 250877729322757/10000000000000000000000000000000000000000*_Dummy_2182**5*_Dummy_2183**4*_Dummy_2184*pi**10*m**3 + (217564258659491/50000000000000000000000000000000000000)*_Dummy_2182**5*_Dummy_2183**4*pi**9*m**4 + (4382112796094867/187072209578355573530071658587684226515959365500928)*_Dummy_2182**5*_Dummy_2183**3*_Dummy_2184**5*pi**13 - 884793976865203/10000000000000000000000000000000000000000000000*_Dummy_2182**5*_Dummy_2183**3*_Dummy_2184**4*pi**12*m + (32596865907757/250000000000000000000000000000000000000000)*_Dummy_2182**5*_Dummy_2183**3*_Dummy_2184**3*pi**11*m**2 - 939915248469899/10000000000000000000000000000000000000000*_Dummy_2182**5*_Dummy_2183**3*_Dummy_2184**2*pi**10*m**3 + (166141542815677/5000000000000000000000000000000000000)*_Dummy_2182**5*_Dummy_2183**3*_Dummy_2184*pi**9*m**4 - 46186623821287/10000000000000000000000000000000000*_Dummy_2182**5*_Dummy_2183**3*pi**8*m**5 + (3461093120660185/187072209578355573530071658587684226515959365500928)*_Dummy_2182**5*_Dummy_2183**2*_Dummy_2184**6*pi**13 - 870646584536629/10000000000000000000000000000000000000000000000*_Dummy_2182**5*_Dummy_2183**2*_Dummy_2184**5*pi**12*m + (82804810869863/500000000000000000000000000000000000000000)*_Dummy_2182**5*_Dummy_2183**2*_Dummy_2184**4*pi**11*m**2 - 163634151480257/1000000000000000000000000000000000000000*_Dummy_2182**5*_Dummy_2183**2*_Dummy_2184**3*pi**10*m**3 + (177744528963857/2000000000000000000000000000000000000)*_Dummy_2182**5*_Dummy_2183**2*_Dummy_2184**2*pi**9*m**4 - 126126036153957/5000000000000000000000000000000000*_Dummy_2182**5*_Dummy_2183**2*_Dummy_2184*pi**8*m**5 + (29300252522071/10000000000000000000000000000000)*_Dummy_2182**5*_Dummy_2183**2*pi**7*m**6 + (350317158905821/46768052394588893382517914646921056628989841375232)*_Dummy_2182**5*_Dummy_2184**7*_Dummy_2183*pi**13 - 7872946146398207/182687704666362864775460604089535377456991567872*_Dummy_2182**5*_Dummy_2184**6*_Dummy_2183*pi**12*m + (399972049621/3906250000000000000000000000000000000000)*_Dummy_2182**5*_Dummy_2184**5*_Dummy_2183*pi**11*m**2 - 130902216489531/1000000000000000000000000000000000000000*_Dummy_2182**5*_Dummy_2184**4*_Dummy_2183*pi**10*m**3 + (195321651983853/2000000000000000000000000000000000000)*_Dummy_2182**5*_Dummy_2184**3*_Dummy_2183*pi**9*m**4 - 85338881375803/2000000000000000000000000000000000*_Dummy_2182**5*_Dummy_2184**2*_Dummy_2183*pi**8*m**5 + (101387820368357/10000000000000000000000000000000)*_Dummy_2182**5*_Dummy_2183*_Dummy_2184*pi**7*m**6 - 101318361911301/100000000000000000000000000000*_Dummy_2182**5*_Dummy_2183*pi**6*m**7 + (3523650769990477/2993155353253689176481146537402947624255349848014848)*_Dummy_2182**5*_Dummy_2184**8*pi**13 - 374077230982359/45671926166590716193865151022383844364247891968*_Dummy_2182**5*_Dummy_2184**7*pi**12*m + (2979491903841/125000000000000000000000000000000000000000)*_Dummy_2182**5*_Dummy_2184**6*pi**11*m**2 - 238342250291/6250000000000000000000000000000000000*_Dummy_2182**5*_Dummy_2184**5*pi**10*m**3 + (368792287821777/10000000000000000000000000000000000000)*_Dummy_2182**5*_Dummy_2184**4*pi**9*m**4 - 221730437641131/10000000000000000000000000000000000*_Dummy_2182**5*_Dummy_2184**3*pi**8*m**5 + (162471018565133/20000000000000000000000000000000)*_Dummy_2182**5*_Dummy_2184**2*pi**7*m**6 - 415812917267/250000000000000000000000000*_Dummy_2182**5*_Dummy_2184*pi**6*m**7 + (73040726718849/500000000000000000000000000)*_Dummy_2182**5*pi**5*m**8 + (1455679853218227/191561942608236107294793378393788647952342390272950272)*_Dummy_2182**4*_Dummy_2183**9*pi**13 + (934130109410279/5986310706507378352962293074805895248510699696029696)*_Dummy_2182**4*_Dummy_2183**8*_Dummy_2184*pi**13 - 1269167305583929/11692013098647223345629478661730264157247460343808*_Dummy_2182**4*_Dummy_2183**8*pi**12*m + (8181915356661977/5986310706507378352962293074805895248510699696029696)*_Dummy_2182**4*_Dummy_2183**7*_Dummy_2184**2*pi**13 - 1407964596017223/730750818665451459101842416358141509827966271488*_Dummy_2182**4*_Dummy_2183**7*_Dummy_2184*pi**12*m + (167212763610051/250000000000000000000000000000000000000000000)*_Dummy_2182**4*_Dummy_2183**7*pi**11*m**2 + (311144154682331/46768052394588893382517914646921056628989841375232)*_Dummy_2182**4*_Dummy_2183**6*_Dummy_2184**3*pi**13 - 2612801983821921/182687704666362864775460604089535377456991567872*_Dummy_2182**4*_Dummy_2183**6*_Dummy_2184**2*pi**12*m + (25182940072303/2500000000000000000000000000000000000000000)*_Dummy_2182**4*_Dummy_2183**6*_Dummy_2184*pi**11*m**2 - 232846808352579/100000000000000000000000000000000000000000*_Dummy_2182**4*_Dummy_2183**6*pi**10*m**3 + (7349407474671145/374144419156711147060143317175368453031918731001856)*_Dummy_2182**4*_Dummy_2183**5*_Dummy_2184**4*pi**13 - 287467947130823/5000000000000000000000000000000000000000000000*_Dummy_2182**4*_Dummy_2183**5*_Dummy_2184**3*pi**12*m + (309242084116111/5000000000000000000000000000000000000000000)*_Dummy_2182**4*_Dummy_2183**5*_Dummy_2184**2*pi**11*m**2 - 72613690660517/2500000000000000000000000000000000000000*_Dummy_2182**4*_Dummy_2183**5*_Dummy_2184*pi**10*m**3 + (503379042412431/100000000000000000000000000000000000000)*_Dummy_2182**4*_Dummy_2183**5*pi**9*m**4 + (842450469452457/23384026197294446691258957323460528314494920687616)*_Dummy_2182**4*_Dummy_2183**4*_Dummy_2184**5*pi**13 - 3384789765687/25000000000000000000000000000000000000000000*_Dummy_2182**4*_Dummy_2183**4*_Dummy_2184**4*pi**12*m + (99358232263469/500000000000000000000000000000000000000000)*_Dummy_2182**4*_Dummy_2183**4*_Dummy_2184**3*pi**11*m**2 - 142790210487/1000000000000000000000000000000000000*_Dummy_2182**4*_Dummy_2183**4*_Dummy_2184**2*pi**10*m**3 + (62941279458393/1250000000000000000000000000000000000)*_Dummy_2182**4*_Dummy_2183**4*_Dummy_2184*pi**9*m**4 - 698528825992203/100000000000000000000000000000000000*_Dummy_2182**4*_Dummy_2183**4*pi**8*m**5 + (1889012023575179/46768052394588893382517914646921056628989841375232)*_Dummy_2182**4*_Dummy_2183**3*_Dummy_2184**6*pi**13 - 94296453752981/500000000000000000000000000000000000000000000*_Dummy_2182**4*_Dummy_2183**3*_Dummy_2184**5*pi**12*m + (89098070972031/250000000000000000000000000000000000000000)*_Dummy_2182**4*_Dummy_2183**3*_Dummy_2184**4*pi**11*m**2 - 43777752880557/125000000000000000000000000000000000000*_Dummy_2182**4*_Dummy_2183**3*_Dummy_2184**3*pi**10*m**3 + (94672774799863/500000000000000000000000000000000000)*_Dummy_2182**4*_Dummy_2183**3*_Dummy_2184**2*pi**9*m**4 - 267697209757527/5000000000000000000000000000000000*_Dummy_2182**4*_Dummy_2183**3*_Dummy_2184*pi**8*m**5 + (123985546931817/20000000000000000000000000000000)*_Dummy_2182**4*_Dummy_2183**3*pi**7*m**6 + (1225190493457203/46768052394588893382517914646921056628989841375232)*_Dummy_2182**4*_Dummy_2183**2*_Dummy_2184**7*pi**13 - 18658865430287/125000000000000000000000000000000000000000000*_Dummy_2182**4*_Dummy_2183**2*_Dummy_2184**6*pi**12*m + (351645871380009/1000000000000000000000000000000000000000000)*_Dummy_2182**4*_Dummy_2183**2*_Dummy_2184**5*pi**11*m**2 - 223099616794219/500000000000000000000000000000000000000*_Dummy_2182**4*_Dummy_2183**2*_Dummy_2184**4*pi**10*m**3 + (330724094183687/1000000000000000000000000000000000000)*_Dummy_2182**4*_Dummy_2183**2*_Dummy_2184**3*pi**9*m**4 - 71840652912829/500000000000000000000000000000000*_Dummy_2182**4*_Dummy_2183**2*_Dummy_2184**2*pi**8*m**5 + (169866909278083/5000000000000000000000000000000)*_Dummy_2182**4*_Dummy_2183**2*_Dummy_2184*pi**7*m**6 - 42258445945403/12500000000000000000000000000*_Dummy_2182**4*_Dummy_2183**2*pi**6*m**7 + (6560650317125463/748288838313422294120286634350736906063837462003712)*_Dummy_2182**4*_Dummy_2184**8*_Dummy_2183*pi**13 - 604184903502191/10000000000000000000000000000000000000000000000*_Dummy_2182**4*_Dummy_2184**7*_Dummy_2183*pi**12*m + (87114625407713/500000000000000000000000000000000000000000)*_Dummy_2182**4*_Dummy_2184**6*_Dummy_2183*pi**11*m**2 - 276378403826463/1000000000000000000000000000000000000000*_Dummy_2182**4*_Dummy_2184**5*_Dummy_2183*pi**10*m**3 + (132596862367053/500000000000000000000000000000000000)*_Dummy_2182**4*_Dummy_2184**4*_Dummy_2183*pi**9*m**4 - 989468691369/6250000000000000000000000000000*_Dummy_2182**4*_Dummy_2184**3*_Dummy_2183*pi**8*m**5 + (115265553204129/2000000000000000000000000000000)*_Dummy_2182**4*_Dummy_2184**2*_Dummy_2183*pi**7*m**6 - 2933217531511/250000000000000000000000000*_Dummy_2182**4*_Dummy_2183*_Dummy_2184*pi**6*m**7 + (102527121788707/100000000000000000000000000)*_Dummy_2182**4*_Dummy_2183*pi**5*m**8 + (3411247378035581/2993155353253689176481146537402947624255349848014848)*_Dummy_2182**4*_Dummy_2184**9*pi**13 - 432005635795701/45671926166590716193865151022383844364247891968*_Dummy_2182**4*_Dummy_2184**8*pi**12*m + (165263515816697/5000000000000000000000000000000000000000000)*_Dummy_2182**4*_Dummy_2184**7*pi**11*m**2 - 128630762463859/2000000000000000000000000000000000000000*_Dummy_2182**4*_Dummy_2184**6*pi**10*m**3 + (773105918905991/10000000000000000000000000000000000000)*_Dummy_2182**4*_Dummy_2184**5*pi**9*m**4 - 598678399659069/10000000000000000000000000000000000*_Dummy_2182**4*_Dummy_2184**4*pi**8*m**5 + (60009601157799/2000000000000000000000000000000)*_Dummy_2182**4*_Dummy_2184**3*pi**7*m**6 - 471057974317629/50000000000000000000000000000*_Dummy_2182**4*_Dummy_2184**2*pi**6*m**7 + (8435134772847/5000000000000000000000000)*_Dummy_2182**4*_Dummy_2184*pi**5*m**8 - 13161324414401/100000000000000000000000*_Dummy_2182**4*pi**4*m**9 + (8740006711507263/3064991081731777716716694054300618367237478244367204352)*_Dummy_2182**3*_Dummy_2183**10*pi**13 + (6432805440627335/95780971304118053647396689196894323976171195136475136)*_Dummy_2182**3*_Dummy_2183**9*_Dummy_2184*pi**13 - 4386855127028735/93536104789177786765035829293842113257979682750464*_Dummy_2182**3*_Dummy_2183**9*pi**12*m + (8200082856787785/11972621413014756705924586149611790497021399392059392)*_Dummy_2182**3*_Dummy_2183**8*_Dummy_2184**2*pi**13 - 707443689930875/730750818665451459101842416358141509827966271488*_Dummy_2182**3*_Dummy_2183**8*_Dummy_2184*pi**12*m + (337037938456271/1000000000000000000000000000000000000000000000)*_Dummy_2182**3*_Dummy_2183**8*pi**11*m**2 + (740393312970561/187072209578355573530071658587684226515959365500928)*_Dummy_2182**3*_Dummy_2183**7*_Dummy_2184**3*pi**13 - 6225226508919331/730750818665451459101842416358141509827966271488*_Dummy_2182**3*_Dummy_2183**7*_Dummy_2184**2*pi**12*m + (586897812921/97656250000000000000000000000000000000000)*_Dummy_2182**3*_Dummy_2183**7*_Dummy_2184*pi**11*m**2 - 17397787963979/12500000000000000000000000000000000000000*_Dummy_2182**3*_Dummy_2183**7*pi**10*m**3 + (2662708969175273/187072209578355573530071658587684226515959365500928)*_Dummy_2182**3*_Dummy_2183**6*_Dummy_2184**4*pi**13 - 7606621162724323/182687704666362864775460604089535377456991567872*_Dummy_2182**3*_Dummy_2183**6*_Dummy_2184**3*pi**12*m + (447937243519187/10000000000000000000000000000000000000000000)*_Dummy_2182**3*_Dummy_2183**6*_Dummy_2184**2*pi**11*m**2 - 210469015819079/10000000000000000000000000000000000000000*_Dummy_2182**3*_Dummy_2183**6*_Dummy_2184*pi**10*m**3 + (91266390771163/25000000000000000000000000000000000000)*_Dummy_2182**3*_Dummy_2183**6*pi**9*m**4 + (769850489522599/23384026197294446691258957323460528314494920687616)*_Dummy_2182**3*_Dummy_2183**5*_Dummy_2184**5*pi**13 - 30842031284353/250000000000000000000000000000000000000000000*_Dummy_2182**3*_Dummy_2183**5*_Dummy_2184**4*pi**12*m + (180716280400817/1000000000000000000000000000000000000000000)*_Dummy_2182**3*_Dummy_2183**5*_Dummy_2184**3*pi**11*m**2 - 129694934807523/1000000000000000000000000000000000000000*_Dummy_2182**3*_Dummy_2183**5*_Dummy_2184**2*pi**10*m**3 + (91407094993831/2000000000000000000000000000000000000)*_Dummy_2182**3*_Dummy_2183**5*_Dummy_2184*pi**9*m**4 - 39616333413399/6250000000000000000000000000000000*_Dummy_2182**3*_Dummy_2183**5*pi**8*m**5 + (1142859768913387/23384026197294446691258957323460528314494920687616)*_Dummy_2182**3*_Dummy_2183**4*_Dummy_2184**6*pi**13 - 28360064454667/125000000000000000000000000000000000000000000*_Dummy_2182**3*_Dummy_2183**4*_Dummy_2184**5*pi**12*m + (426829966794321/1000000000000000000000000000000000000000000)*_Dummy_2182**3*_Dummy_2183**4*_Dummy_2184**4*pi**11*m**2 - 104499568106709/250000000000000000000000000000000000000*_Dummy_2182**3*_Dummy_2183**4*_Dummy_2184**3*pi**10*m**3 + (225396352741013/1000000000000000000000000000000000000)*_Dummy_2182**3*_Dummy_2183**4*_Dummy_2184**2*pi**9*m**4 - 318039601844629/5000000000000000000000000000000000*_Dummy_2182**3*_Dummy_2183**4*_Dummy_2184*pi**8*m**5 + (45965703085873/6250000000000000000000000000000)*_Dummy_2182**3*_Dummy_2183**4*pi**7*m**6 + (8439024668246453/187072209578355573530071658587684226515959365500928)*_Dummy_2182**3*_Dummy_2183**3*_Dummy_2184**7*pi**13 - 127378097921713/500000000000000000000000000000000000000000000*_Dummy_2182**3*_Dummy_2183**3*_Dummy_2184**6*pi**12*m + (297884762085423/500000000000000000000000000000000000000000)*_Dummy_2182**3*_Dummy_2183**3*_Dummy_2184**5*pi**11*m**2 - 75145440205649/100000000000000000000000000000000000000*_Dummy_2182**3*_Dummy_2183**3*_Dummy_2184**4*pi**10*m**3 + (138565357840553/250000000000000000000000000000000000)*_Dummy_2182**3*_Dummy_2183**3*_Dummy_2184**3*pi**9*m**4 - 119917874497641/500000000000000000000000000000000*_Dummy_2182**3*_Dummy_2183**3*_Dummy_2184**2*pi**8*m**5 + (113049768204241/2000000000000000000000000000000)*_Dummy_2182**3*_Dummy_2183**3*_Dummy_2184*pi**7*m**6 - 560996569622869/100000000000000000000000000000*_Dummy_2182**3*_Dummy_2183**3*pi**6*m**7 + (4531458107484519/187072209578355573530071658587684226515959365500928)*_Dummy_2182**3*_Dummy_2183**2*_Dummy_2184**8*pi**13 - 165152997132909/1000000000000000000000000000000000000000000000*_Dummy_2182**3*_Dummy_2183**2*_Dummy_2184**7*pi**12*m + (471807747087557/1000000000000000000000000000000000000000000)*_Dummy_2182**3*_Dummy_2183**2*_Dummy_2184**6*pi**11*m**2 - 92795200694959/125000000000000000000000000000000000000*_Dummy_2182**3*_Dummy_2183**2*_Dummy_2184**5*pi**10*m**3 + (707347720120713/1000000000000000000000000000000000000)*_Dummy_2182**3*_Dummy_2183**2*_Dummy_2184**4*pi**9*m**4 - 419743603294881/1000000000000000000000000000000000*_Dummy_2182**3*_Dummy_2183**2*_Dummy_2184**3*pi**8*m**5 + (76010297582797/500000000000000000000000000000)*_Dummy_2182**3*_Dummy_2183**2*_Dummy_2184**2*pi**7*m**6 - 308131540532297/10000000000000000000000000000*_Dummy_2182**3*_Dummy_2183**2*_Dummy_2184*pi**6*m**7 + (134129334520067/50000000000000000000000000)*_Dummy_2182**3*_Dummy_2183**2*pi**5*m**8 + (5012562899419243/748288838313422294120286634350736906063837462003712)*_Dummy_2182**3*_Dummy_2184**9*_Dummy_2183*pi**13 - 550602128534031/10000000000000000000000000000000000000000000000*_Dummy_2182**3*_Dummy_2184**8*_Dummy_2183*pi**12*m + (47646829543997/250000000000000000000000000000000000000000)*_Dummy_2182**3*_Dummy_2184**7*_Dummy_2183*pi**11*m**2 - 367562222756871/1000000000000000000000000000000000000000*_Dummy_2182**3*_Dummy_2184**6*_Dummy_2183*pi**10*m**3 + (438225427654439/1000000000000000000000000000000000000)*_Dummy_2182**3*_Dummy_2184**5*_Dummy_2183*pi**9*m**4 - 168424377950379/500000000000000000000000000000000*_Dummy_2182**3*_Dummy_2184**4*_Dummy_2183*pi**8*m**5 + (167707786344141/1000000000000000000000000000000)*_Dummy_2182**3*_Dummy_2184**3*_Dummy_2183*pi**7*m**6 - 104698143653971/2000000000000000000000000000*_Dummy_2182**3*_Dummy_2184**2*_Dummy_2183*pi**6*m**7 + (466267689978719/50000000000000000000000000)*_Dummy_2182**3*_Dummy_2183*_Dummy_2184*pi**5*m**8 - 144837541402499/200000000000000000000000*_Dummy_2182**3*_Dummy_2183*pi**4*m**9 + (8576256977039969/11972621413014756705924586149611790497021399392059392)*_Dummy_2182**3*_Dummy_2184**10*pi**13 - 1296935814969587/182687704666362864775460604089535377456991567872*_Dummy_2182**3*_Dummy_2184**9*pi**12*m + (59346672558547/2000000000000000000000000000000000000000000)*_Dummy_2182**3*_Dummy_2184**8*pi**11*m**2 - 2714309896757/39062500000000000000000000000000000000*_Dummy_2182**3*_Dummy_2184**7*pi**10*m**3 + (50887255482667/500000000000000000000000000000000000)*_Dummy_2182**3*_Dummy_2184**6*pi**9*m**4 - 245270511692339/2500000000000000000000000000000000*_Dummy_2182**3*_Dummy_2184**5*pi**8*m**5 + (634082067843093/10000000000000000000000000000000)*_Dummy_2182**3*_Dummy_2184**4*pi**7*m**6 - 272631674745973/10000000000000000000000000000*_Dummy_2182**3*_Dummy_2184**3*pi**6*m**7 + (187328643487709/25000000000000000000000000)*_Dummy_2182**3*_Dummy_2184**2*pi**5*m**8 - 119270566702753/100000000000000000000000*_Dummy_2182**3*_Dummy_2184*pi**4*m**9 + (167441327853389/2000000000000000000000)*_Dummy_2182**3*pi**3*m**10 + (2086512453665339/3064991081731777716716694054300618367237478244367204352)*_Dummy_2182**2*_Dummy_2183**11*pi**13 + (6987263295447495/383123885216472214589586756787577295904684780545900544)*_Dummy_2182**2*_Dummy_2183**10*_Dummy_2184*pi**13 - 4792727053076885/374144419156711147060143317175368453031918731001856*_Dummy_2182**2*_Dummy_2183**10*pi**12*m + (5122693572730935/23945242826029513411849172299223580994042798784118784)*_Dummy_2182**2*_Dummy_2183**9*_Dummy_2184**2*pi**13 - 7103879899008547/23384026197294446691258957323460528314494920687616*_Dummy_2182**2*_Dummy_2183**9*_Dummy_2184*pi**12*m + (106260413901469/1000000000000000000000000000000000000000000000)*_Dummy_2182**2*_Dummy_2183**9*pi**11*m**2 + (4319319592657553/2993155353253689176481146537402947624255349848014848)*_Dummy_2182**2*_Dummy_2183**8*_Dummy_2184**3*pi**13 - 569290209635803/182687704666362864775460604089535377456991567872*_Dummy_2182**2*_Dummy_2183**8*_Dummy_2184**2*pi**12*m + (5515122059833/2500000000000000000000000000000000000000000)*_Dummy_2182**2*_Dummy_2183**8*_Dummy_2184*pi**11*m**2 - 102550996714953/200000000000000000000000000000000000000000*_Dummy_2182**2*_Dummy_2183**8*pi**10*m**3 + (4621534176123021/748288838313422294120286634350736906063837462003712)*_Dummy_2182**2*_Dummy_2183**7*_Dummy_2184**4*pi**13 - 6611535950041997/365375409332725729550921208179070754913983135744*_Dummy_2182**2*_Dummy_2183**7*_Dummy_2184**3*pi**12*m + (48766541193847/2500000000000000000000000000000000000000000)*_Dummy_2182**2*_Dummy_2183**7*_Dummy_2184**2*pi**11*m**2 - 459351590877969/50000000000000000000000000000000000000000*_Dummy_2182**2*_Dummy_2183**7*_Dummy_2184*pi**10*m**3 + (159760242508917/100000000000000000000000000000000000000)*_Dummy_2182**2*_Dummy_2183**7*pi**9*m**4 + (6526368066275293/374144419156711147060143317175368453031918731001856)*_Dummy_2182**2*_Dummy_2183**6*_Dummy_2184**5*pi**13 - 653285915507847/10000000000000000000000000000000000000000000000*_Dummy_2182**2*_Dummy_2183**6*_Dummy_2184**4*pi**12*m + (478588171582101/5000000000000000000000000000000000000000000)*_Dummy_2182**2*_Dummy_2183**6*_Dummy_2184**3*pi**11*m**2 - 687474698971263/10000000000000000000000000000000000000000*_Dummy_2182**2*_Dummy_2183**6*_Dummy_2184**2*pi**10*m**3 + (15159249940193/625000000000000000000000000000000000)*_Dummy_2182**2*_Dummy_2183**6*_Dummy_2184*pi**9*m**4 - 336883875069201/100000000000000000000000000000000000*_Dummy_2182**2*_Dummy_2183**6*pi**8*m**5 + (3063016475991629/93536104789177786765035829293842113257979682750464)*_Dummy_2182**2*_Dummy_2183**5*_Dummy_2184**6*pi**13 - 37878872212239/250000000000000000000000000000000000000000000*_Dummy_2182**2*_Dummy_2183**5*_Dummy_2184**5*pi**12*m + (5688869875787/20000000000000000000000000000000000000000)*_Dummy_2182**2*_Dummy_2183**5*_Dummy_2184**4*pi**11*m**2 - 278217681385949/1000000000000000000000000000000000000000*_Dummy_2182**2*_Dummy_2183**5*_Dummy_2184**3*pi**10*m**3 + (1199518901057/8000000000000000000000000000000000)*_Dummy_2182**2*_Dummy_2183**5*_Dummy_2184**2*pi**9*m**4 - 423116820044891/10000000000000000000000000000000000*_Dummy_2182**2*_Dummy_2183**5*_Dummy_2184*pi**8*m**5 + (244690658466761/50000000000000000000000000000000)*_Dummy_2182**2*_Dummy_2183**5*pi**7*m**6 + (469405122230537/11692013098647223345629478661730264157247460343808)*_Dummy_2182**2*_Dummy_2183**4*_Dummy_2184**7*pi**13 - 112602568342043/500000000000000000000000000000000000000000000*_Dummy_2182**2*_Dummy_2183**4*_Dummy_2184**6*pi**12*m + (524011490395481/1000000000000000000000000000000000000000000)*_Dummy_2182**2*_Dummy_2183**4*_Dummy_2184**5*pi**11*m**2 - 1646187191841/2500000000000000000000000000000000000*_Dummy_2182**2*_Dummy_2183**4*_Dummy_2184**4*pi**10*m**3 + (484353166726611/1000000000000000000000000000000000000)*_Dummy_2182**2*_Dummy_2183**4*_Dummy_2184**3*pi**9*m**4 - 209175985277547/1000000000000000000000000000000000*_Dummy_2182**2*_Dummy_2183**4*_Dummy_2184**2*pi**8*m**5 + (246163659166071/5000000000000000000000000000000)*_Dummy_2182**2*_Dummy_2183**4*_Dummy_2184*pi**7*m**6 - 488203608528487/100000000000000000000000000000*_Dummy_2182**2*_Dummy_2183**4*pi**6*m**7 + (359800159821677/11692013098647223345629478661730264157247460343808)*_Dummy_2182**2*_Dummy_2183**3*_Dummy_2184**8*pi**13 - 6489801978311/31250000000000000000000000000000000000000000*_Dummy_2182**2*_Dummy_2183**3*_Dummy_2184**7*pi**12*m + (117681398281249/200000000000000000000000000000000000000000)*_Dummy_2182**2*_Dummy_2183**3*_Dummy_2184**6*pi**11*m**2 - 183945486149733/200000000000000000000000000000000000000*_Dummy_2182**2*_Dummy_2183**3*_Dummy_2184**5*pi**10*m**3 + (8717342872323/10000000000000000000000000000000000)*_Dummy_2182**2*_Dummy_2183**3*_Dummy_2184**4*pi**9*m**4 - 515118635687341/1000000000000000000000000000000000*_Dummy_2182**2*_Dummy_2183**3*_Dummy_2184**3*pi**8*m**5 + (185939977646333/1000000000000000000000000000000)*_Dummy_2182**2*_Dummy_2183**3*_Dummy_2184**2*pi**7*m**6 - 187944041659427/5000000000000000000000000000*_Dummy_2182**2*_Dummy_2183**3*_Dummy_2184*pi**6*m**7 + (326571204023071/100000000000000000000000000)*_Dummy_2182**2*_Dummy_2183**3*pi**5*m**8 + (5111677299370345/374144419156711147060143317175368453031918731001856)*_Dummy_2182**2*_Dummy_2183**2*_Dummy_2184**9*pi**13 - 2775904720759/25000000000000000000000000000000000000000000*_Dummy_2182**2*_Dummy_2183**2*_Dummy_2184**8*pi**12*m + (47560685367323/125000000000000000000000000000000000000000)*_Dummy_2182**2*_Dummy_2183**2*_Dummy_2184**7*pi**11*m**2 - 14548044762909/20000000000000000000000000000000000000*_Dummy_2182**2*_Dummy_2183**2*_Dummy_2184**6*pi**10*m**3 + (860785419801483/1000000000000000000000000000000000000)*_Dummy_2182**2*_Dummy_2183**2*_Dummy_2184**5*pi**9*m**4 - 657476326385809/1000000000000000000000000000000000*_Dummy_2182**2*_Dummy_2183**2*_Dummy_2184**4*pi**8*m**5 + (162796399413751/500000000000000000000000000000)*_Dummy_2182**2*_Dummy_2183**2*_Dummy_2184**3*pi**7*m**6 - 101175153850791/1000000000000000000000000000*_Dummy_2182**2*_Dummy_2183**2*_Dummy_2184**2*pi**6*m**7 + (179550387566863/10000000000000000000000000)*_Dummy_2182**2*_Dummy_2183**2*_Dummy_2184*pi**5*m**8 - 138993661471129/100000000000000000000000*_Dummy_2182**2*_Dummy_2183**2*pi**4*m**9 + (579032960995255/187072209578355573530071658587684226515959365500928)*_Dummy_2182**2*_Dummy_2184**10*_Dummy_2183*pi**13 - 5558735567281739/182687704666362864775460604089535377456991567872*_Dummy_2182**2*_Dummy_2184**9*_Dummy_2183*pi**12*m + (63028049607819/500000000000000000000000000000000000000000)*_Dummy_2182**2*_Dummy_2184**8*_Dummy_2183*pi**11*m**2 - 58519755888017/200000000000000000000000000000000000000*_Dummy_2182**2*_Dummy_2184**7*_Dummy_2183*pi**10*m**3 + (53128435620391/125000000000000000000000000000000000)*_Dummy_2182**2*_Dummy_2184**6*_Dummy_2183*pi**9*m**4 - 406633811235179/1000000000000000000000000000000000*_Dummy_2182**2*_Dummy_2184**5*_Dummy_2183*pi**8*m**5 + (1044152362091/4000000000000000000000000000)*_Dummy_2182**2*_Dummy_2184**4*_Dummy_2183*pi**7*m**6 - 111564979094749/1000000000000000000000000000*_Dummy_2182**2*_Dummy_2184**3*_Dummy_2183*pi**6*m**7 + (152506936577093/5000000000000000000000000)*_Dummy_2182**2*_Dummy_2184**2*_Dummy_2183*pi**5*m**8 - 241626802765821/50000000000000000000000*_Dummy_2182**2*_Dummy_2183*_Dummy_2184*pi**4*m**9 + (84460619289683/250000000000000000000)*_Dummy_2182**2*_Dummy_2183*pi**3*m**10 + (6454121974108313/23945242826029513411849172299223580994042798784118784)*_Dummy_2182**2*_Dummy_2184**11*pi**13 - 1171865841383637/365375409332725729550921208179070754913983135744*_Dummy_2182**2*_Dummy_2184**10*pi**12*m + (40195501625723/2500000000000000000000000000000000000000000)*_Dummy_2182**2*_Dummy_2184**9*pi**11*m**2 - 451959691256381/10000000000000000000000000000000000000000*_Dummy_2182**2*_Dummy_2184**8*pi**10*m**3 + (399452106474679/5000000000000000000000000000000000000)*_Dummy_2182**2*_Dummy_2184**7*pi**9*m**4 - 940500848306951/10000000000000000000000000000000000*_Dummy_2182**2*_Dummy_2184**6*pi**8*m**5 + (47378593534303/625000000000000000000000000000)*_Dummy_2182**2*_Dummy_2184**5*pi**7*m**6 - 210469811401991/5000000000000000000000000000*_Dummy_2182**2*_Dummy_2184**4*pi**6*m**7 + (79309399258509/5000000000000000000000000)*_Dummy_2182**2*_Dummy_2184**3*pi**5*m**8 - 77582543916469/20000000000000000000000*_Dummy_2182**2*_Dummy_2184**2*pi**4*m**9 + (556023601331329/1000000000000000000000)*_Dummy_2182**2*_Dummy_2184*pi**3*m**10 - 567821241/16000000000000*_Dummy_2182**2*pi**2*m**11 + (4435662838561283/49039857307708443467467104868809893875799651909875269632)*_Dummy_2183**12*_Dummy_2182*pi**13 + (1054199473967281/383123885216472214589586756787577295904684780545900544)*_Dummy_2183**11*_Dummy_2182*_Dummy_2184*pi**13 - 5836184159454823/2993155353253689176481146537402947624255349848014848*_Dummy_2183**11*_Dummy_2182*pi**12*m + (7071161523479505/191561942608236107294793378393788647952342390272950272)*_Dummy_2183**10*_Dummy_2184**2*_Dummy_2182*pi**13 - 2469614813375867/46768052394588893382517914646921056628989841375232*_Dummy_2183**10*_Dummy_2182*_Dummy_2184*pi**12*m + (1699494883110301/91343852333181432387730302044767688728495783936)*_Dummy_2183**10*_Dummy_2182*pi**11*m**2 + (6889002055551341/23945242826029513411849172299223580994042798784118784)*_Dummy_2183**9*_Dummy_2184**3*_Dummy_2182*pi**13 - 7306442130977339/11692013098647223345629478661730264157247460343808*_Dummy_2183**9*_Dummy_2184**2*_Dummy_2182*pi**12*m + (8900575627331/20000000000000000000000000000000000000000000)*_Dummy_2183**9*_Dummy_2182*_Dummy_2184*pi**11*m**2 - 20810581464541/200000000000000000000000000000000000000000*_Dummy_2183**9*_Dummy_2182*pi**10*m**3 + (8637442267659765/5986310706507378352962293074805895248510699696029696)*_Dummy_2183**8*_Dummy_2184**4*_Dummy_2182*pi**13 - 6204075667008849/1461501637330902918203684832716283019655932542976*_Dummy_2183**8*_Dummy_2184**3*_Dummy_2182*pi**12*m + (114914906426733/25000000000000000000000000000000000000000000)*_Dummy_2183**8*_Dummy_2184**2*_Dummy_2182*pi**11*m**2 - 27186101924849/12500000000000000000000000000000000000000*_Dummy_2183**8*_Dummy_2182*_Dummy_2184*pi**10*m**3 + (379976997830791/1000000000000000000000000000000000000000)*_Dummy_2183**8*_Dummy_2182*pi**9*m**4 + (1820846605747111/374144419156711147060143317175368453031918731001856)*_Dummy_2183**7*_Dummy_2184**5*_Dummy_2182*pi**13 - 208555797779351/11417981541647679048466287755595961091061972992*_Dummy_2183**7*_Dummy_2184**4*_Dummy_2182*pi**12*m + (268354394119141/10000000000000000000000000000000000000000000)*_Dummy_2183**7*_Dummy_2184**3*_Dummy_2182*pi**11*m**2 - 193342956584621/10000000000000000000000000000000000000000*_Dummy_2183**7*_Dummy_2184**2*_Dummy_2182*pi**10*m**3 + (684423515353669/100000000000000000000000000000000000000)*_Dummy_2183**7*_Dummy_2182*_Dummy_2184*pi**9*m**4 - 190785596373591/200000000000000000000000000000000000*_Dummy_2183**7*_Dummy_2182*pi**8*m**5 + (8376642459971303/748288838313422294120286634350736906063837462003712)*_Dummy_2183**6*_Dummy_2184**6*_Dummy_2182*pi**13 - 258870157611093/5000000000000000000000000000000000000000000000*_Dummy_2183**6*_Dummy_2184**5*_Dummy_2182*pi**12*m + (486267319198601/5000000000000000000000000000000000000000000)*_Dummy_2183**6*_Dummy_2184**4*_Dummy_2182*pi**11*m**2 - 952468474027859/10000000000000000000000000000000000000000*_Dummy_2183**6*_Dummy_2184**3*_Dummy_2182*pi**10*m**3 + (257109610396133/5000000000000000000000000000000000000)*_Dummy_2183**6*_Dummy_2184**2*_Dummy_2182*pi**9*m**4 - 568010960563/39062500000000000000000000000000*_Dummy_2183**6*_Dummy_2182*_Dummy_2184*pi**8*m**5 + (4214241154733/2500000000000000000000000000000)*_Dummy_2183**6*_Dummy_2182*pi**7*m**6 + (6516810536307149/374144419156711147060143317175368453031918731001856)*_Dummy_2183**5*_Dummy_2184**7*_Dummy_2182*pi**13 - 121684131712167/1250000000000000000000000000000000000000000000*_Dummy_2183**5*_Dummy_2184**6*_Dummy_2182*pi**12*m + (9040881494201/40000000000000000000000000000000000000000)*_Dummy_2183**5*_Dummy_2184**5*_Dummy_2182*pi**11*m**2 - 17732779329969/62500000000000000000000000000000000000*_Dummy_2183**5*_Dummy_2184**4*_Dummy_2182*pi**10*m**3 + (208650754823629/1000000000000000000000000000000000000)*_Dummy_2183**5*_Dummy_2184**3*_Dummy_2182*pi**9*m**4 - 901417052509889/10000000000000000000000000000000000*_Dummy_2183**5*_Dummy_2184**2*_Dummy_2182*pi**8*m**5 + (2654110546921/125000000000000000000000000000)*_Dummy_2183**5*_Dummy_2182*_Dummy_2184*pi**7*m**6 - 210780453106279/100000000000000000000000000000*_Dummy_2183**5*_Dummy_2182*pi**6*m**7 + (3329886366075073/187072209578355573530071658587684226515959365500928)*_Dummy_2183**4*_Dummy_2184**8*_Dummy_2182*pi**13 - 23842109522159/200000000000000000000000000000000000000000000*_Dummy_2183**4*_Dummy_2184**7*_Dummy_2182*pi**12*m + (67178682785999/200000000000000000000000000000000000000000)*_Dummy_2183**4*_Dummy_2184**6*_Dummy_2182*pi**11*m**2 - 522964102714611/1000000000000000000000000000000000000000*_Dummy_2183**4*_Dummy_2184**5*_Dummy_2182*pi**10*m**3 + (494330031622031/1000000000000000000000000000000000000)*_Dummy_2183**4*_Dummy_2184**4*_Dummy_2182*pi**9*m**4 - 291583098167921/1000000000000000000000000000000000*_Dummy_2183**4*_Dummy_2184**3*_Dummy_2182*pi**8*m**5 + (21027377878671/200000000000000000000000000000)*_Dummy_2183**4*_Dummy_2184**2*_Dummy_2182*pi**7*m**6 - 53105651989361/2500000000000000000000000000*_Dummy_2183**4*_Dummy_2182*_Dummy_2184*pi**6*m**7 + (92263155260573/50000000000000000000000000)*_Dummy_2183**4*_Dummy_2182*pi**5*m**8 + (8464494790971869/748288838313422294120286634350736906063837462003712)*_Dummy_2183**3*_Dummy_2184**9*_Dummy_2182*pi**13 - 909134934638083/10000000000000000000000000000000000000000000000*_Dummy_2183**3*_Dummy_2184**8*_Dummy_2182*pi**12*m + (308745236363729/1000000000000000000000000000000000000000000)*_Dummy_2183**3*_Dummy_2184**7*_Dummy_2182*pi**11*m**2 - 586086185570191/1000000000000000000000000000000000000000*_Dummy_2183**3*_Dummy_2184**6*_Dummy_2182*pi**10*m**3 + (344868780687281/500000000000000000000000000000000000)*_Dummy_2183**3*_Dummy_2184**5*_Dummy_2182*pi**9*m**4 - 104916171274619/200000000000000000000000000000000*_Dummy_2183**3*_Dummy_2184**4*_Dummy_2182*pi**8*m**5 + (64732070156851/250000000000000000000000000000)*_Dummy_2183**3*_Dummy_2184**3*_Dummy_2182*pi**7*m**6 - 802585528330969/10000000000000000000000000000*_Dummy_2183**3*_Dummy_2184**2*_Dummy_2182*pi**6*m**7 + (28432687862833/2000000000000000000000000)*_Dummy_2183**3*_Dummy_2182*_Dummy_2184*pi**5*m**8 - 109900207502453/100000000000000000000000*_Dummy_2183**3*_Dummy_2182*pi**4*m**9 + (3068362530072775/748288838313422294120286634350736906063837462003712)*_Dummy_2183**2*_Dummy_2184**10*_Dummy_2182*pi**13 - 7293711916906435/182687704666362864775460604089535377456991567872*_Dummy_2183**2*_Dummy_2184**9*_Dummy_2182*pi**12*m + (40953550259187/250000000000000000000000000000000000000000)*_Dummy_2183**2*_Dummy_2184**8*_Dummy_2182*pi**11*m**2 - 23558737301047/62500000000000000000000000000000000000*_Dummy_2183**2*_Dummy_2184**7*_Dummy_2182*pi**10*m**3 + (543427678695701/1000000000000000000000000000000000000)*_Dummy_2183**2*_Dummy_2184**6*_Dummy_2182*pi**9*m**4 - 516605156803653/1000000000000000000000000000000000*_Dummy_2183**2*_Dummy_2184**5*_Dummy_2182*pi**8*m**5 + (164934806611177/500000000000000000000000000000)*_Dummy_2183**2*_Dummy_2184**4*_Dummy_2182*pi**7*m**6 - 140358738586857/1000000000000000000000000000*_Dummy_2183**2*_Dummy_2184**3*_Dummy_2182*pi**6*m**7 + (76465350170677/2000000000000000000000000)*_Dummy_2183**2*_Dummy_2184**2*_Dummy_2182*pi**5*m**8 - 150977393701083/25000000000000000000000*_Dummy_2183**2*_Dummy_2182*_Dummy_2184*pi**4*m**9 + (421140309449433/1000000000000000000000)*_Dummy_2183**2*_Dummy_2182*pi**3*m**10 + (4473565230980657/5986310706507378352962293074805895248510699696029696)*_Dummy_2184**11*_Dummy_2182*_Dummy_2183*pi**13 - 1622401548313169/182687704666362864775460604089535377456991567872*_Dummy_2184**10*_Dummy_2182*_Dummy_2183*pi**12*m + (221438573578573/5000000000000000000000000000000000000000000)*_Dummy_2184**9*_Dummy_2182*_Dummy_2183*pi**11*m**2 - 2472811825761/20000000000000000000000000000000000000*_Dummy_2184**8*_Dummy_2182*_Dummy_2183*pi**10*m**3 + (216974586066951/1000000000000000000000000000000000000)*_Dummy_2184**7*_Dummy_2182*_Dummy_2183*pi**9*m**4 - 10146264678929/40000000000000000000000000000000*_Dummy_2184**6*_Dummy_2182*_Dummy_2183*pi**8*m**5 + (10157269100927/50000000000000000000000000000)*_Dummy_2184**5*_Dummy_2182*_Dummy_2183*pi**7*m**6 - 56078873020921/500000000000000000000000000*_Dummy_2184**4*_Dummy_2182*_Dummy_2183*pi**6*m**7 + (210245499747601/5000000000000000000000000)*_Dummy_2184**3*_Dummy_2182*_Dummy_2183*pi**5*m**8 - 102376212090813/10000000000000000000000*_Dummy_2184**2*_Dummy_2182*_Dummy_2183*pi**4*m**9 + (146172896562921/100000000000000000000)*_Dummy_2182*_Dummy_2183*_Dummy_2184*pi**3*m**10 - 74384582571/800000000000000*_Dummy_2182*_Dummy_2183*pi**2*m**11 + (2493008487852997/47890485652059026823698344598447161988085597568237568)*_Dummy_2184**12*_Dummy_2182*pi**13 - 137643979754849/182687704666362864775460604089535377456991567872*_Dummy_2184**11*_Dummy_2182*pi**12*m + (28596596949809/6250000000000000000000000000000000000000000)*_Dummy_2184**10*_Dummy_2182*pi**11*m**2 - 155293728883541/10000000000000000000000000000000000000000*_Dummy_2184**9*_Dummy_2182*pi**10*m**3 + (331216700706701/10000000000000000000000000000000000000)*_Dummy_2184**8*_Dummy_2182*pi**9*m**4 - 472453699897289/10000000000000000000000000000000000*_Dummy_2184**7*_Dummy_2182*pi**8*m**5 + (466501345116759/10000000000000000000000000000000)*_Dummy_2184**6*_Dummy_2182*pi**7*m**6 - 323853139534707/10000000000000000000000000000*_Dummy_2184**5*_Dummy_2182*pi**6*m**7 + (19739941035349/1250000000000000000000000)*_Dummy_2184**4*_Dummy_2182*pi**5*m**8 - 265178646454749/50000000000000000000000*_Dummy_2184**3*_Dummy_2182*pi**4*m**9 + (1827425476809/1562500000000000000)*_Dummy_2184**2*_Dummy_2182*pi**3*m**10 - 24416313363/160000000000000*_Dummy_2182*_Dummy_2184*pi**2*m**11 + (71487/8000000)*_Dummy_2182*pi*m**12 + (7470590043892701/1569275433846670190958947355801916604025588861116008628224)*_Dummy_2183**13*pi**13 + (8170957860507655/49039857307708443467467104868809893875799651909875269632)*_Dummy_2183**12*_Dummy_2184*pi**13 - 2870254504649915/23945242826029513411849172299223580994042798784118784*_Dummy_2183**12*pi**12*m + (3939568968459053/1532495540865888858358347027150309183618739122183602176)*_Dummy_2183**11*_Dummy_2184**2*pi**13 - 2786538748264297/748288838313422294120286634350736906063837462003712*_Dummy_2183**11*_Dummy_2184*pi**12*m + (7763518081749725/5846006549323611672814739330865132078623730171904)*_Dummy_2183**11*pi**11*m**2 + (4432015089516439/191561942608236107294793378393788647952342390272950272)*_Dummy_2183**10*_Dummy_2184**3*pi**13 - 4749374250662919/93536104789177786765035829293842113257979682750464*_Dummy_2183**10*_Dummy_2184**2*pi**12*m + (6672998654231229/182687704666362864775460604089535377456991567872)*_Dummy_2183**10*_Dummy_2184*pi**11*m**2 - 431208217967931/50000000000000000000000000000000000000000000*_Dummy_2183**10*pi**10*m**3 + (6469510915391361/47890485652059026823698344598447161988085597568237568)*_Dummy_2183**9*_Dummy_2184**4*pi**13 - 4685279374680181/11692013098647223345629478661730264157247460343808*_Dummy_2183**9*_Dummy_2184**3*pi**12*m + (21875171365249/50000000000000000000000000000000000000000000)*_Dummy_2183**9*_Dummy_2184**2*pi**11*m**2 - 208691267056229/1000000000000000000000000000000000000000000*_Dummy_2183**9*_Dummy_2184*pi**10*m**3 + (367494104738491/10000000000000000000000000000000000000000)*_Dummy_2183**9*pi**9*m**4 + (100501007681291/187072209578355573530071658587684226515959365500928)*_Dummy_2183**8*_Dummy_2184**5*pi**13 - 741169997897197/365375409332725729550921208179070754913983135744*_Dummy_2183**8*_Dummy_2184**4*pi**12*m + (14995911204527/5000000000000000000000000000000000000000000)*_Dummy_2183**8*_Dummy_2184**3*pi**11*m**2 - 1739838467509/800000000000000000000000000000000000000*_Dummy_2183**8*_Dummy_2184**2*pi**10*m**3 + (96852272814453/125000000000000000000000000000000000000)*_Dummy_2183**8*_Dummy_2184*pi**9*m**4 - 27168182362971/250000000000000000000000000000000000*_Dummy_2183**8*pi**8*m**5 + (2220168258512525/1496577676626844588240573268701473812127674924007424)*_Dummy_2183**7*_Dummy_2184**6*pi**13 - 5031517839218153/730750818665451459101842416358141509827966271488*_Dummy_2183**7*_Dummy_2184**5*pi**12*m + (16235079466243/1250000000000000000000000000000000000000000)*_Dummy_2183**7*_Dummy_2184**4*pi**11*m**2 - 127787148057271/10000000000000000000000000000000000000000*_Dummy_2183**7*_Dummy_2184**3*pi**10*m**3 + (346611481389003/50000000000000000000000000000000000000)*_Dummy_2183**7*_Dummy_2184**2*pi**9*m**4 - 196987762074319/100000000000000000000000000000000000*_Dummy_2183**7*_Dummy_2184*pi**8*m**5 + (229470716316983/1000000000000000000000000000000000)*_Dummy_2183**7*pi**7*m**6 + (4252420445135443/1496577676626844588240573268701473812127674924007424)*_Dummy_2183**6*_Dummy_2184**7*pi**13 - 725644100346257/45671926166590716193865151022383844364247891968*_Dummy_2183**6*_Dummy_2184**6*pi**12*m + (369496494124473/10000000000000000000000000000000000000000000)*_Dummy_2183**6*_Dummy_2184**5*pi**11*m**2 - 464952343883461/10000000000000000000000000000000000000000*_Dummy_2183**6*_Dummy_2184**4*pi**10*m**3 + (42866476944051/1250000000000000000000000000000000000)*_Dummy_2183**6*_Dummy_2184**3*pi**9*m**4 - 148636883807489/10000000000000000000000000000000000*_Dummy_2183**6*_Dummy_2184**2*pi**8*m**5 + (87828864907353/25000000000000000000000000000000)*_Dummy_2183**6*_Dummy_2184*pi**7*m**6 - 69994950923371/200000000000000000000000000000*_Dummy_2183**6*pi**6*m**7 + (2769592647121359/748288838313422294120286634350736906063837462003712)*_Dummy_2183**5*_Dummy_2184**8*pi**13 - 4513590831607239/182687704666362864775460604089535377456991567872*_Dummy_2183**5*_Dummy_2184**7*pi**12*m + (695071480602539/10000000000000000000000000000000000000000000)*_Dummy_2183**5*_Dummy_2184**6*pi**11*m**2 - 108189984266351/1000000000000000000000000000000000000000*_Dummy_2183**5*_Dummy_2184**5*pi**10*m**3 + (12791643892793/125000000000000000000000000000000000)*_Dummy_2183**5*_Dummy_2184**4*pi**9*m**4 - 24175832518861/400000000000000000000000000000000*_Dummy_2183**5*_Dummy_2184**3*pi**8*m**5 + (27287923746757/1250000000000000000000000000000)*_Dummy_2183**5*_Dummy_2184**2*pi**7*m**6 - 22097575853771/5000000000000000000000000000*_Dummy_2183**5*_Dummy_2184*pi**6*m**7 + (384748686814849/1000000000000000000000000000)*_Dummy_2183**5*pi**5*m**8 + (4709593117909329/1496577676626844588240573268701473812127674924007424)*_Dummy_2183**4*_Dummy_2184**9*pi**13 - 2293126892004979/91343852333181432387730302044767688728495783936*_Dummy_2183**4*_Dummy_2184**8*pi**12*m + (848083257217847/10000000000000000000000000000000000000000000)*_Dummy_2183**4*_Dummy_2184**7*pi**11*m**2 - 40107959845021/250000000000000000000000000000000000000*_Dummy_2183**4*_Dummy_2184**6*pi**10*m**3 + (94203281945663/500000000000000000000000000000000000)*_Dummy_2183**4*_Dummy_2184**5*pi**9*m**4 - 143135800765689/1000000000000000000000000000000000*_Dummy_2183**4*_Dummy_2184**4*pi**8*m**5 + (706255906880011/10000000000000000000000000000000)*_Dummy_2183**4*_Dummy_2184**3*pi**7*m**6 - 1751643760349/80000000000000000000000000*_Dummy_2183**4*_Dummy_2184**2*pi**6*m**7 + (48508121049721/12500000000000000000000000)*_Dummy_2183**4*_Dummy_2184*pi**5*m**8 - 300254520611789/1000000000000000000000000*_Dummy_2183**4*pi**4*m**9 + (4882911069109603/2993155353253689176481146537402947624255349848014848)*_Dummy_2183**3*_Dummy_2184**10*pi**13 - 5750932602013879/365375409332725729550921208179070754913983135744*_Dummy_2183**3*_Dummy_2184**9*pi**12*m + (80080280577393/1250000000000000000000000000000000000000000)*_Dummy_2183**3*_Dummy_2184**8*pi**11*m**2 - 146463620379977/1000000000000000000000000000000000000000*_Dummy_2183**3*_Dummy_2184**7*pi**10*m**3 + (210112037630437/1000000000000000000000000000000000000)*_Dummy_2183**3*_Dummy_2184**6*pi**9*m**4 - 49751988740647/250000000000000000000000000000000*_Dummy_2183**3*_Dummy_2184**5*pi**8*m**5 + (63367387730223/500000000000000000000000000000)*_Dummy_2183**3*_Dummy_2184**4*pi**7*m**6 - 269121200004257/5000000000000000000000000000*_Dummy_2183**3*_Dummy_2184**3*pi**6*m**7 + (73214043697503/5000000000000000000000000)*_Dummy_2183**3*_Dummy_2184**2*pi**5*m**8 - 115555168901559/50000000000000000000000*_Dummy_2183**3*_Dummy_2184*pi**4*m**9 + (10068678332093/62500000000000000000)*_Dummy_2183**3*pi**3*m**10 + (5595419050514503/11972621413014756705924586149611790497021399392059392)*_Dummy_2183**2*_Dummy_2184**11*pi**13 - 4064990934753169/730750818665451459101842416358141509827966271488*_Dummy_2183**2*_Dummy_2184**10*pi**12*m + (69069168429617/2500000000000000000000000000000000000000000)*_Dummy_2183**2*_Dummy_2184**9*pi**11*m**2 - 95852267118423/1250000000000000000000000000000000000000*_Dummy_2183**2*_Dummy_2184**8*pi**10*m**3 + (26757248600883/200000000000000000000000000000000000)*_Dummy_2183**2*_Dummy_2184**7*pi**9*m**4 - 77796762362023/500000000000000000000000000000000*_Dummy_2183**2*_Dummy_2184**6*pi**8*m**5 + (124060528312317/1000000000000000000000000000000)*_Dummy_2183**2*_Dummy_2184**5*pi**7*m**6 - 682440044307329/10000000000000000000000000000*_Dummy_2183**2*_Dummy_2184**4*pi**6*m**7 + (31886009905283/1250000000000000000000000)*_Dummy_2183**2*_Dummy_2184**3*pi**5*m**8 - 309776014637901/50000000000000000000000*_Dummy_2183**2*_Dummy_2184**2*pi**4*m**9 + (110359056994279/125000000000000000000)*_Dummy_2183**2*_Dummy_2184*pi**3*m**10 - 44857878039/800000000000000*_Dummy_2183**2*pi**2*m**11 + (6315621502560927/95780971304118053647396689196894323976171195136475136)*_Dummy_2184**12*_Dummy_2183*pi**13 - 2849372281935431/2923003274661805836407369665432566039311865085952*_Dummy_2184**11*_Dummy_2183*pi**12*m + (597058371842129/100000000000000000000000000000000000000000000)*_Dummy_2184**10*_Dummy_2183*pi**11*m**2 - 25361460675633/1250000000000000000000000000000000000000*_Dummy_2184**9*_Dummy_2183*pi**10*m**3 + (6745160753297/156250000000000000000000000000000000)*_Dummy_2184**8*_Dummy_2183*pi**9*m**4 - 613352945779419/10000000000000000000000000000000000*_Dummy_2184**7*_Dummy_2183*pi**8*m**5 + (75373328625297/1250000000000000000000000000000)*_Dummy_2184**6*_Dummy_2183*pi**7*m**6 - 208407508058691/5000000000000000000000000000*_Dummy_2184**5*_Dummy_2183*pi**6*m**7 + (202444735128229/10000000000000000000000000)*_Dummy_2184**4*_Dummy_2183*pi**5*m**8 - 677461856699167/100000000000000000000000*_Dummy_2184**3*_Dummy_2183*pi**4*m**9 + (74460651098439/50000000000000000000)*_Dummy_2184**2*_Dummy_2183*pi**3*m**10 - 155015198793/800000000000000*_Dummy_2183*_Dummy_2184*pi**2*m**11 + (452751/40000000)*_Dummy_2183*pi*m**12 + (2659209053709867/766247770432944429179173513575154591809369561091801088)*_Dummy_2184**13*pi**13 - 5993898664788481/93536104789177786765035829293842113257979682750464*_Dummy_2184**12*pi**12*m + (485687155984407/1000000000000000000000000000000000000000000000)*_Dummy_2184**11*pi**11*m**2 - 203122713933333/100000000000000000000000000000000000000000*_Dummy_2184**10*pi**10*m**3 + (529336089373247/100000000000000000000000000000000000000)*_Dummy_2184**9*pi**9*m**4 - 918908746017577/100000000000000000000000000000000000*_Dummy_2184**8*pi**8*m**5 + (55321933531017/5000000000000000000000000000000)*_Dummy_2184**7*pi**7*m**6 - 189115093839627/20000000000000000000000000000*_Dummy_2184**6*pi**6*m**7 + (578653621722081/100000000000000000000000000)*_Dummy_2184**5*pi**5*m**8 - 50448804855813/20000000000000000000000*_Dummy_2184**4*pi**4*m**9 + (765748092784059/1000000000000000000000)*_Dummy_2184**3*pi**3*m**10 - 123217209297/800000000000000*_Dummy_2184**2*pi**2*m**11 + (738699/40000000)*_Dummy_2184*pi*m**12 - m**13)\n",
      "100%|██████████| 1/1 [08:55<00:00, 535.53s/it]\n"
     ]
    }
   ],
   "source": [
    "if spin_type == 0:                             #No spin (N=0)\n",
    "    if do_all_correlations: \n",
    "        f_results_p = calc_f_results(p_origin, phi_p_list, z0)\n",
    "    else:\n",
    "    \n",
    "        if init_vel_known != 0:                         #Initial velocity is known\n",
    "            v0_list = [init_vel_known]\n",
    "        elif v_init != 0:                               #Velocity computed based on the force applied (F known)\n",
    "            v0_list = [v_init]\n",
    "            del v_init\n",
    "        elif init_vel_known == 0 and v_init == 0 and init_f_known == 0: #Initial velocity and force are unknown\n",
    "            v0_list = []\n",
    "            if ctc_pt[0] != 0:                          #Theta is known\n",
    "                theta_list = [ctc_pt[0]]\n",
    "                f_results_p = calc_f_results(p_origin, phi_p_list, z0, theta_list = theta_list)\n",
    "                theta_list.clear()\n",
    "            elif ctc_pt[0] == 0:                        #Theta is unknown\n",
    "                f_results_p = calc_f_results(p_origin, phi_p_list, z0)\n",
    "        \n",
    "        if v0_list != []:                               #With velocity known                                         \n",
    "            if ctc_pt[0] != 0:                          #Theta is known\n",
    "                theta_list = [ctc_pt[0]]\n",
    "                f_results_p = calc_f_results(p_origin, phi_p_list, z0, v0_list = v0_list, theta_list = theta_list)\n",
    "                theta_list.clear()\n",
    "                v0_list.clear()\n",
    "            elif ctc_pt[0] == 0:                        #Theta is unknown\n",
    "                f_results_p = calc_f_results(p_origin, phi_p_list, z0, v0_list = v0_list)\n",
    "                v0_list.clear()\n",
    "    \n",
    "        \n",
    "elif spin_type == 1 or spin_type == 2:          #Topspin or Slice (must have F or inital velocity to imply the spin along with spin angle)\n",
    "    if do_all_correlations: \n",
    "        f_results_p = calc_f_results(p_origin, phi_p_list, z0)\n",
    "    else: \n",
    "        if F != 0:                                      #Force is known\n",
    "            if init_vel_known != 0:                     #Initial velocity is known\n",
    "                v0_list = [init_vel_known]\n",
    "            elif v_init != 0:                   \n",
    "                v0_list = [v_init]\n",
    "                del v_init\n",
    "\n",
    "            if ctc_pt[0] != 0:                          #Theta is known\n",
    "                theta_list = [ctc_pt[0]]\n",
    "                f_results_p = calc_f_results(p_origin, phi_p_list, z0, v0_list = v0_list, theta_list = theta_list)\n",
    "                theta_list.clear()\n",
    "            elif ctc_pt[0] == 0:                        #Theta is unknown             \n",
    "                f_results_p = calc_f_results(p_origin, phi_p_list, z0, v0_list = v0_list)\n",
    "            v0_list.clear()\n",
    "        else:\n",
    "            print(\"Force unkown?!\")\n",
    "else:\n",
    "    print(\"Invalid spin type\")\n",
    "    \n",
    "#Execution time with aerodynamic disturbances: ~9min~"
   ]
  },
  {
   "cell_type": "markdown",
   "metadata": {},
   "source": [
    "Check results that are `IN` the singles court"
   ]
  },
  {
   "cell_type": "code",
   "execution_count": 61,
   "metadata": {},
   "outputs": [
    {
     "name": "stderr",
     "output_type": "stream",
     "text": [
      "  0%|          | 0/89 [00:00<?, ?it/s]"
     ]
    },
    {
     "name": "stderr",
     "output_type": "stream",
     "text": [
      "100%|██████████| 89/89 [00:00<00:00, 1667.43it/s]"
     ]
    },
    {
     "name": "stdout",
     "output_type": "stream",
     "text": [
      "Total number of results IN: 0\n",
      "Percentage of results IN: 0.0 %\n"
     ]
    },
    {
     "name": "stderr",
     "output_type": "stream",
     "text": [
      "\n"
     ]
    }
   ],
   "source": [
    "checked_results_p = in_results(f_results_p)"
   ]
  },
  {
   "cell_type": "markdown",
   "metadata": {},
   "source": [
    "Compute the errors of all `IN` results to see whats the best one"
   ]
  },
  {
   "cell_type": "code",
   "execution_count": 62,
   "metadata": {},
   "outputs": [],
   "source": [
    "error_results_p, checked_err_results_p = compute_errors(checked_results_p, p_final)"
   ]
  },
  {
   "cell_type": "code",
   "execution_count": null,
   "metadata": {},
   "outputs": [],
   "source": [
    "min_error_p = min(error_results_p)\n",
    "min_index_p = error_results_p.index(min_error_p)"
   ]
  },
  {
   "cell_type": "markdown",
   "metadata": {},
   "source": [
    "Results Demonstration"
   ]
  },
  {
   "cell_type": "code",
   "execution_count": 64,
   "metadata": {},
   "outputs": [],
   "source": [
    "# K values of the best results | How many results do I want to show\n",
    "k_value_p = 10"
   ]
  },
  {
   "cell_type": "code",
   "execution_count": 65,
   "metadata": {},
   "outputs": [],
   "source": [
    "#Sort the error results and get the k smallest values\n",
    "errors_p = np.copy(error_results_p)\n",
    "errors_p.sort()"
   ]
  },
  {
   "cell_type": "code",
   "execution_count": null,
   "metadata": {},
   "outputs": [],
   "source": [
    "#Get the k smallest values of the error and their function values from checked_err_results | sort the list by its error values\n",
    "checked_err_results_p.sort(key=lambda x: x[5])\n",
    "final_results_p = []\n",
    "final_results_p = checked_err_results_p[:k_value_p]\n",
    "\n",
    "#Print all the value results of the k smallest errors | number 1 is the closest to the desired value and k is the k-th closest\n",
    "idx_p = 0\n",
    "for res in final_results_p:\n",
    "    idx_p += 1\n",
    "    min_y = min(res[3].T[2])\n",
    "    max_y = max(res[3].T[2])\n",
    "    if min_y == -0.0:\n",
    "        min_y = 0.0\n",
    "    if max_y == -0.0:\n",
    "        max_y = 0.0\n",
    "    impact_force = res[4]\n",
    "        \n",
    "    print(\"{:<2} | v0: {:<3} | theta: {:<3} | phi: {:<3} | max simul x: {:<13} | min simul y: {:<10} | max y: {:<10} | error: {:<15} | init_force: {:<18}\".format(idx_p, res[0], res[1], round(res[2],3), round(max(res[3].T[0]),10), round(min_y,7), round(max_y,5), round(res[5],11), impact_force))"
   ]
  },
  {
   "cell_type": "markdown",
   "metadata": {},
   "source": [
    "### Analysis of the best result and force computations"
   ]
  },
  {
   "cell_type": "code",
   "execution_count": 67,
   "metadata": {},
   "outputs": [],
   "source": [
    "x_time = final_results_p[0][3].T[0]\n",
    "y_time = final_results_p[0][3].T[2]\n",
    "z_time = final_results_p[0][3].T[4]\n",
    "v0x_ = round(final_results_p[0][3].T[1][0],2)\n",
    "v0y_ = round(final_results_p[0][3].T[3][0],2)\n",
    "v0z_ = round(final_results_p[0][3].T[5][0],2)\n",
    "force_init_value = final_results_p[0][4]\n",
    "\n",
    "x_traj = x_time\n",
    "y_traj = y_time\n",
    "z_traj = z_time"
   ]
  },
  {
   "cell_type": "code",
   "execution_count": null,
   "metadata": {},
   "outputs": [],
   "source": [
    "print(\"Max z:\", round(max(z_traj), 3), \"m\")\n",
    "print(\"Max *real* y:\", round(max(x_traj), 3), \"m\")"
   ]
  },
  {
   "cell_type": "markdown",
   "metadata": {},
   "source": [
    "Flight time (s)"
   ]
  },
  {
   "cell_type": "code",
   "execution_count": null,
   "metadata": {},
   "outputs": [],
   "source": [
    "i = 0\n",
    "j = 0\n",
    "\n",
    "# Time when the ball reaches the maximum height\n",
    "for i in range(len(z_traj)):\n",
    "    if z_traj[i] == max(z_traj):\n",
    "        t_zmax = t[i]\n",
    "        print(\"Time to reach the maximum height:\", round(t[i],2), \"s\")\n",
    "        \n",
    "# Time when the ball reaches the ground\n",
    "for j in range(len(z_traj)):\n",
    "    if z_traj[j] >= 0:\n",
    "        if z_traj[j] == min(z_traj):\n",
    "            t_zf = t[j]\n",
    "            print(\"Time when the ball reaches the ground:\", round(t[j],2), \"s\")"
   ]
  },
  {
   "cell_type": "markdown",
   "metadata": {},
   "source": [
    "Compute distance displacement from one point to the other"
   ]
  },
  {
   "cell_type": "code",
   "execution_count": null,
   "metadata": {},
   "outputs": [],
   "source": [
    "p_init = p_origin\n",
    "x_fin = max(final_results_p[0][3].T[0])\n",
    "phi_fin = final_results_p[0][2]\n",
    "\n",
    "if phi_p < 0:\n",
    "    y_fin = min(final_results_p[0][3].T[2])\n",
    "else:\n",
    "    y_fin = max(final_results_p[0][3].T[2])\n",
    "if y_fin == -0.0:\n",
    "    y_fin = 0.0\n",
    "p_fin = [x_fin, y_fin]\n",
    "\n",
    "d = round(distance_bt_two_points(p_init, p_fin),3)\n",
    "print(\"Displacement of the ball:\", d, \"m\")"
   ]
  },
  {
   "cell_type": "markdown",
   "metadata": {},
   "source": [
    "Motors computations"
   ]
  },
  {
   "cell_type": "code",
   "execution_count": null,
   "metadata": {},
   "outputs": [],
   "source": [
    "#Kinetic energy\n",
    "vf_ = final_results_p[0][0]     #Velocity of the ball\n",
    "max_spin = 418.88               #Max spin that the ball can have => 4000rpm = 418.88rad/s\n",
    "KE = smp.Rational(1,2)*m*vf_**2 + smp.Rational(1,2)*smp.Rational(2,3)*m*R**2*max_spin**2\n",
    "KE = round(float(KE),2)\n",
    "print(\"Kinetic Energy:\", KE, \"J\")\n",
    "\n",
    "#Motor power\n",
    "dt = 0.01                       #Time of contact between the ball and the wheels in s\n",
    "P = KE / dt                     #Power of the motor, respecting the kinetic energy and the time of contact\n",
    "P = P + (0.25*P)                #Adding 25% of the power to the motor\n",
    "P = mt.ceil(P)                  #Rounding up the power to the nearest integer\n",
    "print(\"Minimum power required:\", P, \"W\")\n"
   ]
  },
  {
   "cell_type": "markdown",
   "metadata": {},
   "source": [
    "Forces (to show on graphs later on)\n",
    "\n",
    "- The curve is not instantaneous in 0s\n",
    "- There are no infinite derivatives"
   ]
  },
  {
   "cell_type": "code",
   "execution_count": null,
   "metadata": {},
   "outputs": [],
   "source": [
    "vx_time = compute_time_results(x_time,time_step,v0x_,is_velocity=True)  #vx time function\n",
    "vy_time = compute_time_results(y_time,time_step,v0y_,is_velocity=True)  #vy time function\n",
    "vz_time = compute_time_results(z_time,time_step,v0z_,is_velocity=True)  #vz time function\n",
    "\n",
    "ax_time = compute_time_results(vx_time,time_step)                       #ax time function\n",
    "ay_time = compute_time_results(vy_time,time_step)                       #ay time function\n",
    "az_time = compute_time_results(vz_time,time_step)                       #az time function\n",
    "\n",
    "fx_time = calc_force_from_a(ax_time, m)                                 #Fx time function\n",
    "fy_time = calc_force_from_a(ay_time, m)                                 #Fy time function\n",
    "fz_time = calc_force_from_a(az_time, m)                                 #Fz time function\n",
    "print(fx_time)\n",
    "\n",
    "forces_ = force_magnitude_calc(fx_time, fy_time, fz_time)               #Magnitude of the forces combined\n",
    "forces_ = force_max_value_upd(forces_, force_init_value)                #Updated force list\n",
    "print(\"Forces:\", forces_)"
   ]
  },
  {
   "cell_type": "markdown",
   "metadata": {},
   "source": [
    "### Display graphs & trajectories"
   ]
  },
  {
   "cell_type": "markdown",
   "metadata": {},
   "source": [
    "Magnitude of the ball's force at impact [results in a concave curve] (after the impact, after the dotted line, it becomes 0)\n",
    "\n",
    "The \"negative\" convex curve after the impact is due to the python function `make_interp_spline` that smooths the points and curves (https://www.geeksforgeeks.org/how-to-plot-a-smooth-curve-in-matplotlib/)"
   ]
  },
  {
   "cell_type": "code",
   "execution_count": null,
   "metadata": {},
   "outputs": [],
   "source": [
    "t_graph = np.arange(0, 3*time_step + 10*time_step, time_step)\n",
    "t_graph_l = t_graph.tolist()\n",
    "print(\"time for graph:\", t_graph_l) \n",
    "\n",
    "fx_time_cut = fx_time[:len(t_graph_l)]\n",
    "fy_time_cut = fy_time[:len(t_graph_l)]\n",
    "fz_time_cut = fz_time[:len(t_graph_l)]\n",
    "forces_cut_ = forces_[:len(t_graph_l)]\n",
    "print(\"fx cut:\", fx_time_cut)\n",
    "print(\"forces cut:\", forces_cut_)"
   ]
  },
  {
   "cell_type": "code",
   "execution_count": null,
   "metadata": {},
   "outputs": [],
   "source": [
    "force_smooth   = update_list_smooth(forces_cut_)\n",
    "spl = make_interp_spline(t_graph_l, force_smooth) \n",
    "tf_new = np.linspace(min(t_graph_l), max(t_graph_l), 300)\n",
    "f_new = spl(tf_new)\n",
    "plt.plot(tf_new, f_new, color='red', label='F')\n",
    "cursor(hover=True)\n",
    "plt.axvline(x = ct_s, color = 'k', linestyle = ':') \n",
    "plt.xlabel(\"t [s]\")\n",
    "plt.ylabel(\"F [N]\")\n",
    "plt.grid(True)\n",
    "plt.legend()\n",
    "plt.title(\"Force magnitude over time (at impact and after)\")\n",
    "plt.show()"
   ]
  },
  {
   "cell_type": "markdown",
   "metadata": {},
   "source": [
    "Force $x$ applied to the ball at the moment of the impact "
   ]
  },
  {
   "cell_type": "code",
   "execution_count": null,
   "metadata": {},
   "outputs": [],
   "source": [
    "fx_time_smooth = update_list_smooth(fx_time_cut)\n",
    "spl = make_interp_spline(t_graph_l, fx_time_smooth) \n",
    "tfx_new = np.linspace(min(t_graph_l), max(t_graph_l), 300)\n",
    "fx_new = spl(tfx_new)\n",
    "plt.plot(tf_new, fx_new, color='blue', label='fx')\n",
    "cursor(hover=True)\n",
    "plt.axvline(x = ct_s, color = 'k', linestyle = ':') \n",
    "plt.xlabel(\"t [s]\")\n",
    "plt.ylabel(\"Fx [N]\")\n",
    "plt.grid(True)\n",
    "plt.legend()\n",
    "plt.title(\"Force in X-axis over time\")\n",
    "plt.show()"
   ]
  },
  {
   "cell_type": "markdown",
   "metadata": {},
   "source": [
    "Trajectory of the ball seen in side plane\n",
    "\n",
    "Behaviour of the ball between $x$ and $z$ with respect to time "
   ]
  },
  {
   "cell_type": "code",
   "execution_count": null,
   "metadata": {},
   "outputs": [],
   "source": [
    "t_ = np.linspace(0, t_zf, len(z_traj))\n",
    "fig_11, ax_11 = plt.subplots()\n",
    "ax_11.plot(x_traj, z_traj, color='blue')\n",
    "plt.xlabel(\"y [m]\") # x simul\n",
    "plt.ylabel(\"z [m]\")\n",
    "ax_aa = ax_11.twiny()\n",
    "ax_aa.plot(t_, z_traj, color='black')\n",
    "plt.xlabel(\"time [s]\")\n",
    "fig_11.tight_layout()\n",
    "plt.title(\"Ball trajectory in 2D space\")\n",
    "plt.show()"
   ]
  },
  {
   "cell_type": "markdown",
   "metadata": {},
   "source": [
    "Trajectory of the ball seen in upper plane\n",
    "\n",
    "Behaviour of the ball between $x$ and $y$ "
   ]
  },
  {
   "cell_type": "code",
   "execution_count": null,
   "metadata": {},
   "outputs": [],
   "source": [
    "plt.plot(y_traj, x_traj, color='black')\n",
    "plt.xlabel(\"x [m]\") # y simul\n",
    "plt.ylabel(\"y [m]\") # x simul\n",
    "plt.title(\"Ball trajectory in upper view\")\n",
    "plt.show()\n"
   ]
  },
  {
   "cell_type": "markdown",
   "metadata": {},
   "source": [
    "**Half moon range results on the court from the last best variables values**\n",
    "\n",
    "- varing from integer -$\\phi$ to $\\phi$"
   ]
  },
  {
   "cell_type": "markdown",
   "metadata": {},
   "source": [
    "Get the best variable values of the best result"
   ]
  },
  {
   "cell_type": "code",
   "execution_count": null,
   "metadata": {},
   "outputs": [],
   "source": [
    "v0_best_p_list = [final_results_p[0][0]]\n",
    "theta_best_p_list = [final_results_p[0][1]]\n",
    "print(v0_best_p_list)\n",
    "print(theta_best_p_list)"
   ]
  },
  {
   "cell_type": "markdown",
   "metadata": {},
   "source": [
    "Get the $\\phi$ variation between [-10 to 10]"
   ]
  },
  {
   "cell_type": "code",
   "execution_count": null,
   "metadata": {},
   "outputs": [],
   "source": [
    "if phi_p < 0:\n",
    "    phi_p_list = list(range(mt.floor(phi_p), mt.ceil(-phi_p)+1))\n",
    "elif phi_p == 0.0 or phi_p == -0.0:\n",
    "    phi_p = 10\n",
    "    phi_p_list = list(range(-mt.ceil(phi_p), mt.ceil(phi_p)+1))\n",
    "else:\n",
    "    phi_p_list = list(range(-mt.ceil(phi_p), mt.ceil(phi_p)+1))\n",
    "print(phi_p_list)"
   ]
  },
  {
   "cell_type": "markdown",
   "metadata": {},
   "source": [
    "Get the results varing the $\\phi$ values from -$\\phi$ to $\\phi$ degrees"
   ]
  },
  {
   "cell_type": "code",
   "execution_count": null,
   "metadata": {},
   "outputs": [],
   "source": [
    "half_moon_results_p = calc_f_results(p_origin, phi_p_list, z0, v0_best_p_list, theta_best_p_list)"
   ]
  },
  {
   "cell_type": "markdown",
   "metadata": {},
   "source": [
    "Check results that go over the net and cut the list to only the values above the ground"
   ]
  },
  {
   "cell_type": "code",
   "execution_count": null,
   "metadata": {},
   "outputs": [],
   "source": [
    "checked_results_p_g = check_ball_ground(half_moon_results_p)"
   ]
  },
  {
   "cell_type": "code",
   "execution_count": null,
   "metadata": {},
   "outputs": [],
   "source": [
    "half_moon_slim_results_p = []\n",
    "\n",
    "for res in checked_results_p_g:\n",
    "    \n",
    "    #if phi is negative\n",
    "    if res[2] < 0: \n",
    "        data_hf = [res[2], max(res[3].T[0]), min(res[3].T[2])] \n",
    "    else:\n",
    "        data_hf = [res[2], max(res[3].T[0]), max(res[3].T[2])] \n",
    "    \n",
    "    half_moon_slim_results_p.append(data_hf) #[phi, max x, max y]\n",
    "    \n",
    "print(half_moon_slim_results_p)"
   ]
  },
  {
   "cell_type": "markdown",
   "metadata": {},
   "source": [
    "Find each values"
   ]
  },
  {
   "cell_type": "code",
   "execution_count": 83,
   "metadata": {},
   "outputs": [],
   "source": [
    "phi_values_hm_p = []\n",
    "x_values_hm_p = []\n",
    "y_values_hm_p = []\n",
    "nr_res_p = 0\n",
    "for res in half_moon_slim_results_p:\n",
    "    nr_res_p += 1\n",
    "    phi_values_hm_p.append(res[0]) \n",
    "    x_values_hm_p.append(res[1])\n",
    "    y_values_hm_p.append(res[2])"
   ]
  },
  {
   "cell_type": "markdown",
   "metadata": {},
   "source": [
    "Display the Half moon range results\n",
    "- Plot results in respect to $x$, $y$ and $\\phi$\n",
    "- The red dotted line is the limits of the court"
   ]
  },
  {
   "cell_type": "code",
   "execution_count": null,
   "metadata": {},
   "outputs": [],
   "source": [
    "fig, ax1 = plt.subplots()\n",
    "ax1.plot(y_values_hm_p, x_values_hm_p, color='green')\n",
    "plt.xlabel(\"x [m]\")\n",
    "plt.ylabel(\"y [m]\")\n",
    "plt.axvline(x = 4.115, color = 'r', linestyle = ':') \n",
    "plt.axvline(x = -4.115, color = 'r', linestyle = ':') \n",
    "plt.scatter([y_fin], [x_fin], color=\"yellow\")\n",
    "plt.scatter([p_init[1]], [p_init[0]], color=\"black\")\n",
    "ax2 = ax1.twiny()\n",
    "ax2.plot(phi_values_hm_p, x_values_hm_p, color='green')\n",
    "plt.xlabel(\"phi [º]\")\n",
    "ax2.set_ylim(0, 25)\n",
    "plt.axhline(y = 23.77, color = 'r', linestyle = ':') \n",
    "plt.scatter([phi_fin], [x_fin], color=\"orange\")\n",
    "fig.tight_layout()\n",
    "plt.title(\"Ball range with the best result values from 0 to B with v0 = {} m/s and theta = {} º\".format(v0_best_p_list[0], theta_best_p_list[0]))\n",
    "plt.show()"
   ]
  },
  {
   "cell_type": "markdown",
   "metadata": {},
   "source": [
    "Close up view from the last result"
   ]
  },
  {
   "cell_type": "code",
   "execution_count": null,
   "metadata": {},
   "outputs": [],
   "source": [
    "fig, ax1 = plt.subplots()\n",
    "ax1.plot(y_values_hm_p, x_values_hm_p, color='green')\n",
    "plt.xlabel(\"x [m]\")\n",
    "plt.ylabel(\"y [m]\")\n",
    "plt.axvline(x = 4.115, color = 'r', linestyle = ':') \n",
    "plt.axvline(x = -4.115, color = 'r', linestyle = ':') \n",
    "plt.scatter([y_fin], [x_fin], color=\"yellow\")\n",
    "ax2 = ax1.twiny()\n",
    "ax2.plot(phi_values_hm_p, x_values_hm_p, color='green')\n",
    "plt.xlabel(\"phi [º]\")\n",
    "ax2.set_ylim(23, 24.5)\n",
    "plt.axhline(y = 23.77, color = 'r', linestyle = ':') \n",
    "plt.scatter([phi_fin], [x_fin], color=\"orange\")\n",
    "fig.tight_layout()\n",
    "plt.title(\"Close up\")\n",
    "plt.show()"
   ]
  },
  {
   "cell_type": "markdown",
   "metadata": {},
   "source": [
    "____________________________________________________________________________________________________\n",
    "____________________________________________________________________________________________________"
   ]
  },
  {
   "cell_type": "markdown",
   "metadata": {},
   "source": [
    "## Create 2D Animation and export data for 3D Animation"
   ]
  },
  {
   "cell_type": "markdown",
   "metadata": {},
   "source": [
    "The location $(x,y)$ together given the $x$ and $y$ computed before"
   ]
  },
  {
   "cell_type": "code",
   "execution_count": 86,
   "metadata": {},
   "outputs": [],
   "source": [
    "coord = list(zip(x_traj, z_traj))"
   ]
  },
  {
   "cell_type": "code",
   "execution_count": 87,
   "metadata": {},
   "outputs": [],
   "source": [
    "#resolve max values for x and y axes\n",
    "max_x = max([pt[0] for pt in coord]) + 1\n",
    "max_y = max([pt[1] for pt in coord]) + 1\n",
    "\n",
    "#create figure and set limits\n",
    "fig = plt.figure()\n",
    "plt.xlim(0, max_x)\n",
    "plt.ylim(0, max_y)\n",
    "\n",
    "#create graph\n",
    "graph_a, = plt.plot([], [], 'o')\n",
    "\n",
    "#hide figure\n",
    "plt.close()"
   ]
  },
  {
   "cell_type": "markdown",
   "metadata": {},
   "source": [
    "2D Animation"
   ]
  },
  {
   "cell_type": "code",
   "execution_count": 88,
   "metadata": {},
   "outputs": [],
   "source": [
    "valid_types = tuple(range(3))\n",
    "is_invalid = False\n",
    "if spin_type in valid_types:\n",
    "    \n",
    "    # Increase animation embed limit: 50MB\n",
    "    mpl.rcParams['animation.embed_limit'] = 50\n",
    "    \n",
    "    #it sets point coordinates based an frame number\n",
    "    def animate(j):\n",
    "        graph_a.set_data(coord[j][0], coord[j][1])\n",
    "        \n",
    "        return graph_a\n",
    "\n",
    "    #init FuncAnimation\n",
    "    ani = animation.FuncAnimation(fig, animate, frames=len(coord), interval=200, repeat=False)\n",
    "\n",
    "    #is needed to make animation available in jupiter / colab\n",
    "    HTML(ani.to_jshtml())\n",
    "else:\n",
    "    is_invalid = True\n",
    "    print(\"Invalid spin type\")"
   ]
  },
  {
   "cell_type": "markdown",
   "metadata": {},
   "source": [
    "Data organization"
   ]
  },
  {
   "cell_type": "code",
   "execution_count": 89,
   "metadata": {},
   "outputs": [],
   "source": [
    "if not is_invalid:\n",
    "    res = final_results_p[0][3]\n",
    "    x     = res.T[0]\n",
    "    v0x   = res.T[1]\n",
    "    y     = res.T[2]\n",
    "    v0y   = res.T[3]\n",
    "    z     = res.T[4]\n",
    "    v0z   = res.T[5]\n",
    "    alpha = res.T[6]\n",
    "    w0x   = res.T[7]\n",
    "    beta  = res.T[8]\n",
    "    w0y   = res.T[9]\n",
    "    gamma = res.T[10]\n",
    "    w0z   = res.T[11]\n",
    "    t = np.linspace(0, 5.5, len(x))"
   ]
  },
  {
   "cell_type": "markdown",
   "metadata": {},
   "source": [
    "Export data to be used in the 3D Animation"
   ]
  },
  {
   "cell_type": "code",
   "execution_count": 90,
   "metadata": {},
   "outputs": [],
   "source": [
    "# if not is_invalid:\n",
    "#     np.save('../Tests/3DBallTest_hs_MAIN', np.array([x, y, z, alpha, beta, gamma, t, v0x, v0y, v0z, w0x, w0y, w0z]))"
   ]
  },
  {
   "cell_type": "markdown",
   "metadata": {},
   "source": [
    "To see the animation, please download the file \"**3DBallTest_hs_MAIN.npy**\" and run the code from the python script \"**vpythonTrajectoryTest_hs_MAIN.py.**\""
   ]
  }
 ],
 "metadata": {
  "kernelspec": {
   "display_name": "Python 3",
   "language": "python",
   "name": "python3"
  },
  "language_info": {
   "codemirror_mode": {
    "name": "ipython",
    "version": 3
   },
   "file_extension": ".py",
   "mimetype": "text/x-python",
   "name": "python",
   "nbconvert_exporter": "python",
   "pygments_lexer": "ipython3",
   "version": "3.10.7"
  }
 },
 "nbformat": 4,
 "nbformat_minor": 2
}
