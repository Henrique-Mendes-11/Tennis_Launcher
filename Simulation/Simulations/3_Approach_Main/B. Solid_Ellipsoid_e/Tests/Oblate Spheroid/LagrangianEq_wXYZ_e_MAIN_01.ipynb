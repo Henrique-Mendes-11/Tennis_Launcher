{
 "cells": [
  {
   "cell_type": "code",
   "execution_count": 1,
   "metadata": {},
   "outputs": [],
   "source": [
    "import math as mt\n",
    "import numpy as np\n",
    "import sympy as smp\n",
    "from sympy.physics.mechanics import *\n",
    "from scipy.integrate import odeint\n",
    "import matplotlib as mpl\n",
    "import matplotlib.pyplot as plt\n",
    "from matplotlib import animation\n",
    "from matplotlib.animation import PillowWriter\n",
    "from IPython.display import HTML\n",
    "\n",
    "import time\n",
    "from tqdm import tqdm\n",
    "import json\n",
    "\n",
    "from scipy.integrate import ode\n",
    "from scipy.integrate import solve_ivp\n",
    "import matplotlib.gridspec as gridspec\n",
    "from mplcursors import cursor\n",
    "from scipy.interpolate import make_interp_spline\n",
    "\n",
    "import pyperclip as clip"
   ]
  },
  {
   "cell_type": "markdown",
   "metadata": {},
   "source": [
    "## Ellipsoid"
   ]
  },
  {
   "cell_type": "markdown",
   "metadata": {},
   "source": [
    "### Symbols"
   ]
  },
  {
   "cell_type": "markdown",
   "metadata": {},
   "source": [
    "t, g, m, R, $\\theta$:"
   ]
  },
  {
   "cell_type": "code",
   "execution_count": 2,
   "metadata": {},
   "outputs": [],
   "source": [
    "t, g, m, R = smp.symbols('t g m R')\n",
    "theta, thetadot, thetaddot = smp.symbols('theta thetadot thetaddot')"
   ]
  },
  {
   "cell_type": "markdown",
   "metadata": {},
   "source": [
    "$x(t)$, $y(t)$ and $z(t)$:"
   ]
  },
  {
   "cell_type": "code",
   "execution_count": 3,
   "metadata": {},
   "outputs": [],
   "source": [
    "x, y, z =  smp.symbols('x y z', cls=smp.Function)\n",
    "xdot, xddot, ydot, yddot, zdot, zddot = smp.symbols('xdot xddot ydot yddot zdot zddot', cls=smp.Function)\n",
    "x = x(t)\n",
    "y = y(t)\n",
    "z = z(t)\n",
    "xdot = smp.diff(x, t) \n",
    "ydot = smp.diff(y, t)\n",
    "zdot = smp.diff(z, t)\n",
    "xddot = smp.diff(xdot, t)\n",
    "yddot = smp.diff(ydot, t)\n",
    "zddot = smp.diff(zdot, t)"
   ]
  },
  {
   "cell_type": "markdown",
   "metadata": {},
   "source": [
    "$\\alpha(t)$, $\\beta(t)$ and $\\gamma(t)$"
   ]
  },
  {
   "cell_type": "code",
   "execution_count": 4,
   "metadata": {},
   "outputs": [],
   "source": [
    "alpha, beta, gamma = smp.symbols('alpha beta gamma', cls=smp.Function)\n",
    "alphadot, alphaddot, betadot, betaddot, gammadot, gammaddot = smp.symbols('alphadot alphaddot betadot betaddot gammadot gammaddot', cls=smp.Function)\n",
    "alpha = alpha(t)\n",
    "beta  = beta(t)\n",
    "gamma = gamma(t)\n",
    "alphadot = smp.diff(alpha, t)     # alpha_d\n",
    "betadot = smp.diff(beta, t)       # beta_d\n",
    "gammadot = smp.diff(gamma, t)     # gamma_d\n",
    "alphaddot = smp.diff(alphadot, t) # alpha_dd\n",
    "betaddot = smp.diff(betadot, t)   # beta_dd\n",
    "gammaddot = smp.diff(gammadot, t) # gamma_dd"
   ]
  },
  {
   "cell_type": "markdown",
   "metadata": {},
   "source": [
    "### Initialization Variables\n",
    "[Ellipsoid]"
   ]
  },
  {
   "cell_type": "code",
   "execution_count": 5,
   "metadata": {},
   "outputs": [],
   "source": [
    "# Court variables (m)\n",
    "court_length = 23.77 \n",
    "doubles_court_width = 10.97 \n",
    "singles_court_width = 8.23 \n",
    "net_height_middle = 0.915 \n",
    "net_height_sides = 1.065 \n",
    "\n",
    "# Ball\n",
    "mg_b = 58.3                  #ball mass in g\n",
    "mkg_b = mg_b / 1000          #ball mass in kg\n",
    "dcm_b = 6.5                  #ball diameter in cm\n",
    "rm_b = (dcm_b/2)/100         #ball radius in m\n",
    "\n",
    "# Ellipsoid values with radius: a, b, c and with Volume of 143.8 cm^3, assuming a forward deformation of 6mm and return deformation of 8mm\n",
    "# (Volume for a tennis ball with 6.5cm diameter - 4/3 * pi * r^3 = 143.8 cm^3)\n",
    "a, b, c = smp.symbols('a b c')\n",
    "# Oblate\n",
    "ellipsoid_a_cm = 3.066\n",
    "ellipsoid_b_cm = 3.65\n",
    "ellipsoid_c_cm = 3.066\n",
    "\n",
    "# Game\n",
    "avg_dist_cp = 0.95           #average distance from impact point to the ground in m\n",
    "a_gravity = 9.8              #gravity accerelation in m/s^2\n",
    "ct_s = 1/200                 #contact time with the racket in seconds <=> 0.005s\n",
    "init_vel_known = 0           #known initial velocity of the ball, normally 17 m/s, (limited to 28 m/s)\n",
    "init_f_known = 0             #known initial force of the hit, considered normally to be 200N if initial velocity is unknown (= 0)           \n",
    "init_theta_known = 0         #known initial angle of the hit, normally 18º\n",
    "in_psi_ = 50                 #known initial angle of spin, normally 50º. Valid if spin_type is \"Slice\" or \"Topspin\"\n",
    "\n",
    "# Parameters\n",
    "rho = 1.2                    #density of the air in kg/m^3 \n",
    "A = smp.pi*rm_b**2           #cross sectional area of the ball in m^2\n",
    "Cd = 0.53                    #drag coefficient of the spherical ball considered (based on research articles)\n",
    "Cl = 0.2                     #lift coefficient of the spherical ball considered (based on research articles)\n",
    "spin_type = 0                #spin type of the ball: \"0->None/Flat hit\", \"1->Topspin\" or \"2->Slice\"\n",
    "\n",
    "# Initial contact point based on the initial angles of impact\n",
    "ctc_pt = (init_theta_known, in_psi_) "
   ]
  },
  {
   "cell_type": "markdown",
   "metadata": {},
   "source": [
    "### Initial functions"
   ]
  },
  {
   "cell_type": "code",
   "execution_count": 6,
   "metadata": {},
   "outputs": [],
   "source": [
    "def calc_f_init_with_v(vi, vf, delta_t):\n",
    "    \"\"\"From the initial and final velocities of the ball, calculates the force applied to the ball\"\"\"\n",
    "    a = (vf-vi)/delta_t\n",
    "    F = (mg_b/1000)*a\n",
    "    return F"
   ]
  },
  {
   "cell_type": "code",
   "execution_count": 7,
   "metadata": {},
   "outputs": [],
   "source": [
    "def calc_v_init_with_f(F, delta_t):\n",
    "    \"\"\"From the force applied to the ball, it calculates the initial velocity of the ball\"\"\"\n",
    "    a = F/(mg_b/1000)\n",
    "    v = a*delta_t\n",
    "    return round(v,2)"
   ]
  },
  {
   "cell_type": "markdown",
   "metadata": {},
   "source": [
    "### Spin analysis"
   ]
  },
  {
   "cell_type": "code",
   "execution_count": 8,
   "metadata": {},
   "outputs": [],
   "source": [
    "match spin_type:\n",
    "    case 0: #None\n",
    "        psi_= 0\n",
    "        lift_sign_up = False\n",
    "        \n",
    "    case 1: #Topspin\n",
    "        # Cross product result: downward lift force (Fy positive)\n",
    "        psi_ = ctc_pt[1]          \n",
    "        lift_sign_up = False\n",
    "        betadot = betadot\n",
    "        #alphadot = alphadot\n",
    "        \n",
    "    case 2: #Slice\n",
    "        # Cross product result: upward lift force (Fy negative)\n",
    "        psi_ = -ctc_pt[1]         \n",
    "        lift_sign_up = True\n",
    "        betadot = -betadot\n",
    "        #alphadot = -alphadot\n",
    "        "
   ]
  },
  {
   "cell_type": "markdown",
   "metadata": {},
   "source": [
    "### Forces & Torque\n",
    "\n",
    "Notes:\n",
    "- N - Initial binary (external torque, rotation)\n",
    "- N computation with impact force applied\n",
    "- When N its equal to 0 the system is in equilibrium\n",
    "- Afetrwards, N incorporated into all the lagrangian equations, making the system of differential equations affected by it"
   ]
  },
  {
   "cell_type": "code",
   "execution_count": 9,
   "metadata": {},
   "outputs": [
    {
     "name": "stdout",
     "output_type": "stream",
     "text": [
      "No spin. (N = 0 N.m)\n",
      "Velocity initially unkonwn\n",
      "Force unknown\n",
      "Initial angle unkonwn\n"
     ]
    }
   ],
   "source": [
    "if spin_type == 0:\n",
    "    N = 0\n",
    "    psi = int(mt.radians(psi_))\n",
    "    print(\"No spin. (N =\", N, \"N.m)\")\n",
    "    \n",
    "    v_init = 0\n",
    "    if init_vel_known != 0:\n",
    "        if init_theta_known != 0:\n",
    "            if init_f_known != 0:\n",
    "                F = init_f_known\n",
    "                print(\"Initial force: \", init_f_known, \"Newtons\")\n",
    "            else:\n",
    "                F = calc_f_init_with_v(0,init_vel_known,ct_s)\n",
    "                print(\"Force initially unknown\")\n",
    "            print(\"Initial angle:\", init_theta_known, \"º\")\n",
    "        else:\n",
    "            if init_f_known != 0:\n",
    "                F = init_f_known\n",
    "                print(\"Initial force: \", init_f_known, \"Newtons\")\n",
    "            else:\n",
    "                F = calc_f_init_with_v(0,init_vel_known,ct_s)\n",
    "                print(\"Force initially unknown\")\n",
    "            print(\"Initial angle unkonwn\")\n",
    "            \n",
    "        if init_f_known == 0:\n",
    "            print(\"Initial velocity:\", init_vel_known, \"m/s. Creates a Force of\", F, \"N in\", ct_s, \"s\")\n",
    "        else:\n",
    "            print(\"Initial velocity:\", init_vel_known, \"m/s\")\n",
    "        \n",
    "    else:\n",
    "        print(\"Velocity initially unkonwn\")\n",
    "        if init_theta_known != 0:\n",
    "            if init_f_known != 0: \n",
    "                F = init_f_known\n",
    "                v_init = calc_v_init_with_f(F,ct_s)\n",
    "                print(\"Initial force: \", init_f_known, \"N. Creates a initial velocity of\", v_init, \"m/s in \", ct_s, \"s\")\n",
    "            else:\n",
    "                print(\"Force unknown\")\n",
    "            print(\"Initial angle:\", init_theta_known, \"º\")\n",
    "        else:\n",
    "            if init_f_known != 0: \n",
    "                F = init_f_known\n",
    "                v_init = calc_v_init_with_f(F,ct_s)\n",
    "                print(\"Initial force: \", init_f_known, \"N. Creates a initial velocity of\", v_init, \"m/s in \", ct_s, \"s\")\n",
    "            else:\n",
    "                print(\"Force unknown\")\n",
    "            print(\"Initial angle unkonwn\")\n",
    "        \n",
    "    \n",
    "elif spin_type == 1 or spin_type == 2:\n",
    "    if in_psi_ == 0 or (init_vel_known == 0 and init_f_known == 0):\n",
    "        print(\"Invalid input. Please provide a valid initial velocity or force and a valid spin angle | [Valid values > 0]\")\n",
    "    else:\n",
    "        # The racket hit with an angle making a psi angle after for the spin \n",
    "        psi = mt.radians(psi_)                            #spin_ang\n",
    "\n",
    "        # Force (needed to create spin)\n",
    "        if init_vel_known != 0:                           #if the initial velocity is known\n",
    "            F = calc_f_init_with_v(0,init_vel_known,ct_s) #computes Force from velocity\n",
    "            print(\"Initial velocity:\", init_vel_known, \"m/s\")\n",
    "        elif init_vel_known == 0:                         #if the initial velocity is unknown\n",
    "            F = init_f_known                              #Known force                             \n",
    "            v_init = calc_v_init_with_f(F,ct_s)           #computes velocity in respect to the force applied \n",
    "            print(\"Initial velocity:\", v_init, \"m/s\")\n",
    "            \n",
    "        print(\"F:\", F, \"Newtons\")\n",
    "\n",
    "\n",
    "        # Axis forces\n",
    "        Fx = round(F*mt.cos(psi),2)                       #responsible for the linear component\n",
    "        Fy = round(F*mt.sin(psi),2)                       #responsible for the spin\n",
    "        print(\"Fx:\", Fx, \"Newtons\")\n",
    "        print(\"Fy:\", Fy, \"Newtons\")\n",
    "\n",
    "\n",
    "        # Torque\n",
    "        N = int(rm_b*Fy)                                  #torque from the force applied \n",
    "        print(\"N:\", N, \"N.m\")\n",
    "    \n",
    "else:\n",
    "    print(\"Invalid spin type\")"
   ]
  },
  {
   "cell_type": "markdown",
   "metadata": {},
   "source": [
    "## Kinetic energy (T) and Potential energy (U)"
   ]
  },
  {
   "cell_type": "markdown",
   "metadata": {},
   "source": [
    "- Assumption: The forces are applied on the center of mass [COM] \n",
    "- Off-diagonal elements are slight asymmetries in the mass distribution (example: $1e^{-6}$ $kg·m^2$)"
   ]
  },
  {
   "cell_type": "code",
   "execution_count": 10,
   "metadata": {},
   "outputs": [
    {
     "data": {
      "text/latex": [
       "$\\displaystyle \\left[\\begin{matrix}\\frac{m \\left(b^{2} + c^{2}\\right)}{5} & 0 & 0\\\\0 & \\frac{m \\left(a^{2} + c^{2}\\right)}{5} & 0\\\\0 & 0 & \\frac{m \\left(a^{2} + b^{2}\\right)}{5}\\end{matrix}\\right]$"
      ],
      "text/plain": [
       "Matrix([\n",
       "[m*(b**2 + c**2)/5,                 0,                 0],\n",
       "[                0, m*(a**2 + c**2)/5,                 0],\n",
       "[                0,                 0, m*(a**2 + b**2)/5]])"
      ]
     },
     "execution_count": 10,
     "metadata": {},
     "output_type": "execute_result"
    }
   ],
   "source": [
    "# Moments of inertia\n",
    "Ixx = smp.Rational(1,5) * m * (b**2 + c**2)\n",
    "Iyy = smp.Rational(1,5) * m * (a**2 + c**2)\t\n",
    "Izz = smp.Rational(1,5) * m * (a**2 + b**2)\n",
    "\n",
    "# Off-diagonal elements\n",
    "Ixy = Iyx = 0\n",
    "Ixz = Izx = 0\n",
    "Iyz = Izy = 0\n",
    "I = smp.Matrix([\n",
    "        [Ixx, Ixy, Ixz],\n",
    "        [Iyx, Iyy, Iyz],\n",
    "        [Izx, Izy, Izz]\n",
    "    ])\n",
    "I"
   ]
  },
  {
   "cell_type": "code",
   "execution_count": 11,
   "metadata": {},
   "outputs": [],
   "source": [
    "omega   = smp.Matrix([alphadot, betadot, gammadot]) #angular velocity vector\n",
    "upsilon = smp.Matrix([xdot, ydot, zdot])            #velocity vector\n",
    "epsilon = smp.Matrix([x, y, z])                     #position vector\n",
    "\n",
    "upsilon_squared = upsilon.dot(upsilon)              #squared norm, same as (xdot^2 + ydot^2 + zdot^2)"
   ]
  },
  {
   "cell_type": "markdown",
   "metadata": {},
   "source": [
    "### Aerodynamic disturbances"
   ]
  },
  {
   "cell_type": "markdown",
   "metadata": {},
   "source": [
    "Drag Force"
   ]
  },
  {
   "cell_type": "code",
   "execution_count": 12,
   "metadata": {},
   "outputs": [
    {
     "data": {
      "text/latex": [
       "$\\displaystyle - 0.0003358875 \\pi \\left(\\left(\\frac{d}{d t} x{\\left(t \\right)}\\right)^{2} + \\left(\\frac{d}{d t} y{\\left(t \\right)}\\right)^{2} + \\left(\\frac{d}{d t} z{\\left(t \\right)}\\right)^{2}\\right)$"
      ],
      "text/plain": [
       "-0.0003358875*pi*(Derivative(x(t), t)**2 + Derivative(y(t), t)**2 + Derivative(z(t), t)**2)"
      ]
     },
     "execution_count": 12,
     "metadata": {},
     "output_type": "execute_result"
    }
   ],
   "source": [
    "Fd = -smp.Rational(1,2)*rho*A*Cd*upsilon_squared.simplify()\n",
    "Fd"
   ]
  },
  {
   "cell_type": "markdown",
   "metadata": {},
   "source": [
    "Lift Force (using Magnus effect)\n",
    "\n",
    "Scaled and with direction where: \n",
    "- 1st row  - x-component of the lift force\n",
    "- 2nd row  - y-component of the lift force\n",
    "- 3rd row  - z-component of the lift force"
   ]
  },
  {
   "cell_type": "code",
   "execution_count": 13,
   "metadata": {},
   "outputs": [
    {
     "data": {
      "text/latex": [
       "$\\displaystyle \\left[\\begin{matrix}0.00012675 \\pi \\left(\\frac{d}{d t} \\beta{\\left(t \\right)} \\frac{d}{d t} z{\\left(t \\right)} - \\frac{d}{d t} \\gamma{\\left(t \\right)} \\frac{d}{d t} y{\\left(t \\right)}\\right) \\left(\\left(\\frac{d}{d t} x{\\left(t \\right)}\\right)^{2} + \\left(\\frac{d}{d t} y{\\left(t \\right)}\\right)^{2} + \\left(\\frac{d}{d t} z{\\left(t \\right)}\\right)^{2}\\right)\\\\0.00012675 \\pi \\left(- \\frac{d}{d t} \\alpha{\\left(t \\right)} \\frac{d}{d t} z{\\left(t \\right)} + \\frac{d}{d t} \\gamma{\\left(t \\right)} \\frac{d}{d t} x{\\left(t \\right)}\\right) \\left(\\left(\\frac{d}{d t} x{\\left(t \\right)}\\right)^{2} + \\left(\\frac{d}{d t} y{\\left(t \\right)}\\right)^{2} + \\left(\\frac{d}{d t} z{\\left(t \\right)}\\right)^{2}\\right)\\\\0.00012675 \\pi \\left(\\frac{d}{d t} \\alpha{\\left(t \\right)} \\frac{d}{d t} y{\\left(t \\right)} - \\frac{d}{d t} \\beta{\\left(t \\right)} \\frac{d}{d t} x{\\left(t \\right)}\\right) \\left(\\left(\\frac{d}{d t} x{\\left(t \\right)}\\right)^{2} + \\left(\\frac{d}{d t} y{\\left(t \\right)}\\right)^{2} + \\left(\\frac{d}{d t} z{\\left(t \\right)}\\right)^{2}\\right)\\end{matrix}\\right]$"
      ],
      "text/plain": [
       "Matrix([\n",
       "[  0.00012675*pi*(Derivative(beta(t), t)*Derivative(z(t), t) - Derivative(gamma(t), t)*Derivative(y(t), t))*(Derivative(x(t), t)**2 + Derivative(y(t), t)**2 + Derivative(z(t), t)**2)],\n",
       "[0.00012675*pi*(-Derivative(alpha(t), t)*Derivative(z(t), t) + Derivative(gamma(t), t)*Derivative(x(t), t))*(Derivative(x(t), t)**2 + Derivative(y(t), t)**2 + Derivative(z(t), t)**2)],\n",
       "[  0.00012675*pi*(Derivative(alpha(t), t)*Derivative(y(t), t) - Derivative(beta(t), t)*Derivative(x(t), t))*(Derivative(x(t), t)**2 + Derivative(y(t), t)**2 + Derivative(z(t), t)**2)]])"
      ]
     },
     "execution_count": 13,
     "metadata": {},
     "output_type": "execute_result"
    }
   ],
   "source": [
    "Fl_magn = smp.Rational(1,2)*rho*A*Cl*upsilon_squared.simplify()     #lift force magnitude\n",
    "Fl_dire = omega.cross(upsilon)                                      #lift force direction\n",
    "Fl = Fl_magn * Fl_dire \n",
    "Fl"
   ]
  },
  {
   "cell_type": "markdown",
   "metadata": {},
   "source": [
    "Total aerodynamic disturbance forces\n",
    "- There is no lift force if the ball has no spin ($N = 0 => Fl = 0$)"
   ]
  },
  {
   "cell_type": "code",
   "execution_count": 14,
   "metadata": {},
   "outputs": [
    {
     "data": {
      "text/plain": [
       "0"
      ]
     },
     "execution_count": 14,
     "metadata": {},
     "output_type": "execute_result"
    }
   ],
   "source": [
    "if N == 0: \n",
    "    #T3 = Fd #With drag\n",
    "    T3 = 0 #Without drag \n",
    "else:\n",
    "    T3 = smp.Matrix([Fd, Fd, Fd]) + Fl\n",
    "    T3 = T3.dot(upsilon) \n",
    "T3"
   ]
  },
  {
   "cell_type": "markdown",
   "metadata": {},
   "source": [
    "### Kinetic energy (T)"
   ]
  },
  {
   "cell_type": "code",
   "execution_count": 15,
   "metadata": {},
   "outputs": [
    {
     "data": {
      "text/latex": [
       "$\\displaystyle \\frac{m \\left(\\left(a^{2} + b^{2}\\right) \\left(\\frac{d}{d t} \\gamma{\\left(t \\right)}\\right)^{2} + \\left(a^{2} + c^{2}\\right) \\left(\\frac{d}{d t} \\beta{\\left(t \\right)}\\right)^{2} + \\left(b^{2} + c^{2}\\right) \\left(\\frac{d}{d t} \\alpha{\\left(t \\right)}\\right)^{2}\\right)}{10} + \\frac{m \\left(\\left(\\frac{d}{d t} x{\\left(t \\right)}\\right)^{2} + \\left(\\frac{d}{d t} y{\\left(t \\right)}\\right)^{2} + \\left(\\frac{d}{d t} z{\\left(t \\right)}\\right)^{2}\\right)}{2}$"
      ],
      "text/plain": [
       "m*((a**2 + b**2)*Derivative(gamma(t), t)**2 + (a**2 + c**2)*Derivative(beta(t), t)**2 + (b**2 + c**2)*Derivative(alpha(t), t)**2)/10 + m*(Derivative(x(t), t)**2 + Derivative(y(t), t)**2 + Derivative(z(t), t)**2)/2"
      ]
     },
     "execution_count": 15,
     "metadata": {},
     "output_type": "execute_result"
    }
   ],
   "source": [
    "T1 = smp.Rational(1,2)*m*upsilon_squared.simplify()         #translational motion\n",
    "T2 = smp.Rational(1,2)*(omega.T*I*omega)[0].simplify()      #rotational motion \n",
    "T = T1 + T2 + T3                                            #sum with the airodinamic disturbances\n",
    "T"
   ]
  },
  {
   "cell_type": "markdown",
   "metadata": {},
   "source": [
    "### Potential energy (U)"
   ]
  },
  {
   "cell_type": "code",
   "execution_count": 16,
   "metadata": {},
   "outputs": [
    {
     "data": {
      "text/latex": [
       "$\\displaystyle g m z{\\left(t \\right)}$"
      ],
      "text/plain": [
       "g*m*z(t)"
      ]
     },
     "execution_count": 16,
     "metadata": {},
     "output_type": "execute_result"
    }
   ],
   "source": [
    "U = m*g*z\n",
    "U"
   ]
  },
  {
   "cell_type": "markdown",
   "metadata": {},
   "source": [
    "### Lagrangian (L)"
   ]
  },
  {
   "cell_type": "code",
   "execution_count": 17,
   "metadata": {},
   "outputs": [
    {
     "data": {
      "text/latex": [
       "$\\displaystyle - g m z{\\left(t \\right)} + \\frac{m \\left(\\left(a^{2} + b^{2}\\right) \\left(\\frac{d}{d t} \\gamma{\\left(t \\right)}\\right)^{2} + \\left(a^{2} + c^{2}\\right) \\left(\\frac{d}{d t} \\beta{\\left(t \\right)}\\right)^{2} + \\left(b^{2} + c^{2}\\right) \\left(\\frac{d}{d t} \\alpha{\\left(t \\right)}\\right)^{2}\\right)}{10} + \\frac{m \\left(\\left(\\frac{d}{d t} x{\\left(t \\right)}\\right)^{2} + \\left(\\frac{d}{d t} y{\\left(t \\right)}\\right)^{2} + \\left(\\frac{d}{d t} z{\\left(t \\right)}\\right)^{2}\\right)}{2}$"
      ],
      "text/plain": [
       "-g*m*z(t) + m*((a**2 + b**2)*Derivative(gamma(t), t)**2 + (a**2 + c**2)*Derivative(beta(t), t)**2 + (b**2 + c**2)*Derivative(alpha(t), t)**2)/10 + m*(Derivative(x(t), t)**2 + Derivative(y(t), t)**2 + Derivative(z(t), t)**2)/2"
      ]
     },
     "execution_count": 17,
     "metadata": {},
     "output_type": "execute_result"
    }
   ],
   "source": [
    "L = T - U\n",
    "L"
   ]
  },
  {
   "cell_type": "markdown",
   "metadata": {},
   "source": [
    "### Get Lagrange's equations for each free variable\n",
    "\n",
    " \n",
    "$\\frac{d}{dt}\\frac{\\partial L}{\\partial \\dot{x}} - \\frac{\\partial L}{\\partial x} = 0$ \n",
    "\n",
    "$\\frac{d}{dt}\\frac{\\partial L}{\\partial \\dot{y}} - \\frac{\\partial L}{\\partial y} = 0$ \n",
    "\n",
    "$\\frac{d}{dt}\\frac{\\partial L}{\\partial \\dot{z}} - \\frac{\\partial L}{\\partial z} = 0$\n",
    "\n",
    "$\\frac{d}{dt}\\frac{\\partial L}{\\partial \\dot{\\alpha}} - \\frac{\\partial L}{\\partial \\alpha} = 0$\n",
    "\n",
    "$\\frac{d}{dt}\\frac{\\partial L}{\\partial \\dot{\\beta}} - \\frac{\\partial L}{\\partial \\beta} = 0$\n",
    "\n",
    "$\\frac{d}{dt}\\frac{\\partial L}{\\partial \\dot{\\gamma}} - \\frac{\\partial L}{\\partial \\gamma} = 0$\n",
    "\n",
    "This later equations (=0) show that the system is conservative meaning there are no non-conservative forces (like friction or external forces) acting on the system."
   ]
  },
  {
   "cell_type": "code",
   "execution_count": 18,
   "metadata": {},
   "outputs": [
    {
     "data": {
      "text/latex": [
       "$\\displaystyle m \\frac{d^{2}}{d t^{2}} x{\\left(t \\right)}$"
      ],
      "text/plain": [
       "m*Derivative(x(t), (t, 2))"
      ]
     },
     "execution_count": 18,
     "metadata": {},
     "output_type": "execute_result"
    }
   ],
   "source": [
    "LEx = smp.diff(smp.diff(L, xdot), t).simplify() - smp.diff(L, x) \n",
    "LEx"
   ]
  },
  {
   "cell_type": "code",
   "execution_count": 19,
   "metadata": {},
   "outputs": [
    {
     "data": {
      "text/latex": [
       "$\\displaystyle m \\frac{d^{2}}{d t^{2}} y{\\left(t \\right)}$"
      ],
      "text/plain": [
       "m*Derivative(y(t), (t, 2))"
      ]
     },
     "execution_count": 19,
     "metadata": {},
     "output_type": "execute_result"
    }
   ],
   "source": [
    "LEy = smp.diff(smp.diff(L, ydot), t).simplify() - smp.diff(L, y)\n",
    "LEy"
   ]
  },
  {
   "cell_type": "code",
   "execution_count": 20,
   "metadata": {},
   "outputs": [
    {
     "data": {
      "text/latex": [
       "$\\displaystyle g m + m \\frac{d^{2}}{d t^{2}} z{\\left(t \\right)}$"
      ],
      "text/plain": [
       "g*m + m*Derivative(z(t), (t, 2))"
      ]
     },
     "execution_count": 20,
     "metadata": {},
     "output_type": "execute_result"
    }
   ],
   "source": [
    "LEz = smp.diff(smp.diff(L, zdot), t).simplify() - smp.diff(L, z)\n",
    "LEz"
   ]
  },
  {
   "cell_type": "code",
   "execution_count": 21,
   "metadata": {},
   "outputs": [
    {
     "data": {
      "text/latex": [
       "$\\displaystyle \\frac{m \\left(b^{2} + c^{2}\\right) \\frac{d^{2}}{d t^{2}} \\alpha{\\left(t \\right)}}{5}$"
      ],
      "text/plain": [
       "m*(b**2 + c**2)*Derivative(alpha(t), (t, 2))/5"
      ]
     },
     "execution_count": 21,
     "metadata": {},
     "output_type": "execute_result"
    }
   ],
   "source": [
    "LEalpha = smp.diff(smp.diff(L, alphadot), t).simplify() - smp.diff(L, alpha)\n",
    "LEalpha"
   ]
  },
  {
   "cell_type": "code",
   "execution_count": 22,
   "metadata": {},
   "outputs": [
    {
     "data": {
      "text/latex": [
       "$\\displaystyle \\frac{m \\left(a^{2} + c^{2}\\right) \\frac{d^{2}}{d t^{2}} \\beta{\\left(t \\right)}}{5}$"
      ],
      "text/plain": [
       "m*(a**2 + c**2)*Derivative(beta(t), (t, 2))/5"
      ]
     },
     "execution_count": 22,
     "metadata": {},
     "output_type": "execute_result"
    }
   ],
   "source": [
    "#If its a slice: betadot is negative and can't be negative for this computation\n",
    "#It needs to be positive and then turn back to negative afterwards\n",
    "if lift_sign_up:\n",
    "    LEbeta = smp.diff(smp.diff(L, -betadot), t).simplify() - smp.diff(L, beta)\n",
    "    LEbeta = LEbeta.subs(smp.diff(smp.diff(beta, t), t), smp.diff(betadot, t))\n",
    "else: \n",
    "    LEbeta = smp.diff(smp.diff(L, betadot), t).simplify() - smp.diff(L, beta)\n",
    "LEbeta"
   ]
  },
  {
   "cell_type": "code",
   "execution_count": 23,
   "metadata": {},
   "outputs": [
    {
     "data": {
      "text/latex": [
       "$\\displaystyle \\frac{m \\left(a^{2} + b^{2}\\right) \\frac{d^{2}}{d t^{2}} \\gamma{\\left(t \\right)}}{5}$"
      ],
      "text/plain": [
       "m*(a**2 + b**2)*Derivative(gamma(t), (t, 2))/5"
      ]
     },
     "execution_count": 23,
     "metadata": {},
     "output_type": "execute_result"
    }
   ],
   "source": [
    "LEgamma = smp.diff(smp.diff(L, gammadot), t).simplify() - smp.diff(L, gamma)\n",
    "LEgamma"
   ]
  },
  {
   "cell_type": "markdown",
   "metadata": {},
   "source": [
    "#### Solve Lagranges equations (assuming that all `LE`'s are equal to N)\n",
    "\n",
    "- When $N = 0$ these equations are linear in $\\ddot{x}, \\ddot{y}, \\ddot{z}, \\ddot{\\alpha}, \\ddot{\\beta}, \\ddot{\\gamma}$. (Giving: 6 unkowns, 6 equations, 6 linear equations)\n",
    "- When $N \\neq 0$ some of these equations become nonlinear in their respective free variable, since is multiplied by other time derivatives"
   ]
  },
  {
   "cell_type": "code",
   "execution_count": 24,
   "metadata": {},
   "outputs": [],
   "source": [
    "sols = smp.solve([smp.Eq(LEx, N), smp.Eq(LEy, N), smp.Eq(LEz, N), smp.Eq(LEalpha, N), smp.Eq(LEbeta, N), smp.Eq(LEgamma, N)], (xddot, yddot, zddot, alphaddot, betaddot, gammaddot), simplyfy=False, rational=False)"
   ]
  },
  {
   "cell_type": "code",
   "execution_count": 25,
   "metadata": {},
   "outputs": [],
   "source": [
    "sols_xddot = smp.simplify(sols[xddot])\n",
    "sols_xddot = smp.nsimplify(sols_xddot)"
   ]
  },
  {
   "cell_type": "code",
   "execution_count": 26,
   "metadata": {},
   "outputs": [],
   "source": [
    "sols_yddot = smp.simplify(sols[yddot])\n",
    "sols_yddot = smp.nsimplify(sols_yddot)"
   ]
  },
  {
   "cell_type": "code",
   "execution_count": 27,
   "metadata": {},
   "outputs": [],
   "source": [
    "sols_zddot = smp.simplify(sols[zddot])\n",
    "sols_zddot = smp.nsimplify(sols_zddot)"
   ]
  },
  {
   "cell_type": "code",
   "execution_count": 28,
   "metadata": {},
   "outputs": [],
   "source": [
    "sols_alphaddot = smp.simplify(sols[alphaddot])\n",
    "sols_alphaddot = smp.nsimplify(sols_alphaddot)"
   ]
  },
  {
   "cell_type": "code",
   "execution_count": 29,
   "metadata": {},
   "outputs": [],
   "source": [
    "sols_betaddot = smp.simplify(sols[betaddot])\n",
    "sols_betaddot = smp.nsimplify(sols_betaddot)"
   ]
  },
  {
   "cell_type": "code",
   "execution_count": 30,
   "metadata": {},
   "outputs": [],
   "source": [
    "sols_gammaddot = smp.simplify(sols[gammaddot])\n",
    "sols_gammaddot = smp.nsimplify(sols_gammaddot)"
   ]
  },
  {
   "cell_type": "markdown",
   "metadata": {},
   "source": [
    "Now I have: \n",
    "\n",
    "$\\frac{d^2 x}{dt^2} = ...$\n",
    "\n",
    "$\\frac{d^2 y}{dt^2} = ...$\n",
    "\n",
    "$\\frac{d^2 z}{dt^2} = ...$\n",
    "\n",
    "$\\frac{d^2 \\alpha}{dt^2} = ...$\n",
    "\n",
    "$\\frac{d^2 \\beta}{dt^2} = ...$\n",
    "\n",
    "$\\frac{d^2 \\gamma}{dt^2} = ...$\n",
    "\n",
    "(explicity in terms of second derivatives)\n",
    "\n",
    "Which are 6 second order ODEs\n",
    "\n",
    "Convert to first order, example: \n",
    "\n",
    "1. Define $b_x = \\frac{dx}{dt}$\n",
    "2. Then $\\frac{db_x}{dt} = \\frac{d^2x}{dt^2}$\n",
    "\n",
    "Now I get a system of 12 first order ODEs:\n",
    "\n",
    "* $\\frac{db_x}{dt} = ...$ \n",
    "* $\\frac{dx}{dt} = b_x $ \n",
    "\n",
    "* $\\frac{db_y}{dt} = ...$ \n",
    "* $\\frac{dy}{dt} = b_y $ \n",
    "\n",
    "* $\\frac{db_z}{dt} = ...$ \n",
    "* $\\frac{dz}{dt} = b_z $\n",
    "\n",
    "* $\\frac{db_\\alpha}{dt} = ...$ \n",
    "* $\\frac{d\\alpha}{dt} = b_\\alpha $  \n",
    "\n",
    "* $\\frac{db_\\beta}{dt} = ...$ \n",
    "* $\\frac{d\\beta}{dt} = b_\\beta $ \n",
    "\n",
    "* $\\frac{db_\\gamma}{dt} = ...$ \n",
    "* $\\frac{d\\gamma}{dt} = b_\\gamma $ \n",
    "\n",
    "Convert the **symbolic** expressions above to numerical functions so I can use them in a **numerical** python solver. For this we use `smp.lambdify`"
   ]
  },
  {
   "cell_type": "markdown",
   "metadata": {},
   "source": [
    "### First order ODE's (python numerical functions):"
   ]
  },
  {
   "cell_type": "code",
   "execution_count": 31,
   "metadata": {},
   "outputs": [],
   "source": [
    "dbxdt_f = smp.lambdify((t,g,m,a,b,c,xdot,ydot,zdot,alphadot,betadot,gammadot), sols_xddot) \n",
    "dxdt_f = smp.lambdify(xdot, xdot)"
   ]
  },
  {
   "cell_type": "code",
   "execution_count": 32,
   "metadata": {},
   "outputs": [],
   "source": [
    "dbydt_f = smp.lambdify((t,g,m,a,b,c,xdot,ydot,zdot,alphadot,betadot,gammadot), sols_yddot) \n",
    "dydt_f = smp.lambdify(ydot, ydot)"
   ]
  },
  {
   "cell_type": "code",
   "execution_count": 33,
   "metadata": {},
   "outputs": [],
   "source": [
    "dbzdt_f = smp.lambdify((t,g,m,a,b,c,xdot,ydot,zdot,alphadot,betadot,gammadot), sols_zddot) \n",
    "dzdt_f = smp.lambdify(zdot, zdot)"
   ]
  },
  {
   "cell_type": "code",
   "execution_count": 34,
   "metadata": {},
   "outputs": [],
   "source": [
    "dbalphadt_f = smp.lambdify((t,g,m,a,b,c,xdot,ydot,zdot,alphadot,betadot,gammadot), sols_alphaddot) \n",
    "dalphadt_f = smp.lambdify(alphadot, alphadot)"
   ]
  },
  {
   "cell_type": "code",
   "execution_count": 35,
   "metadata": {},
   "outputs": [],
   "source": [
    "dbbetadt_f = smp.lambdify((t,g,m,a,b,c,xdot,ydot,zdot,alphadot,betadot,gammadot), sols_betaddot) \n",
    "dbetadt_f = smp.lambdify(betadot, betadot)"
   ]
  },
  {
   "cell_type": "code",
   "execution_count": 36,
   "metadata": {},
   "outputs": [],
   "source": [
    "dbgammadt_f = smp.lambdify((t,g,m,a,b,c,xdot,ydot,zdot,alphadot,betadot,gammadot), sols_gammaddot) \n",
    "dgammadt_f = smp.lambdify(gammadot, gammadot)"
   ]
  },
  {
   "cell_type": "markdown",
   "metadata": {},
   "source": [
    "## Functions"
   ]
  },
  {
   "cell_type": "markdown",
   "metadata": {},
   "source": [
    "There are 12 \"things\" I want to solve: ($x$, $b_x$, $y$, $b_y$, $z$, $b_z$, $\\alpha$, $b_\\alpha$, $\\beta$, $b_\\beta$, $\\gamma$, $b_\\gamma$)\n",
    "\n",
    "Now I define state solver vector $\\vec{S} = (x, b_x, y, b_y, z, b_z, \\alpha, b_\\alpha, \\beta, b_\\beta, \\gamma, b_\\gamma)$. \n",
    "\n",
    "If I'm going to use an ODE solver in python, I need to write a function that takes in $\\vec{S}$ and $t$ and returns $d\\vec{S}/dt$. In other words, I need to define $d\\vec{S}/dt (\\vec{S}, t)$\n",
    "\n",
    "- The system of ODEs can be fully specified using  $d\\vec{S}/dt$ and depends only on  $\\vec{S}$ and $t$\n",
    "- Function of $S$ and $t$ that is the differential equation that describes the system\n",
    "- It takes parameters of the system\n",
    "\n",
    "Returns: $\\frac{ds}{dt} = [\\frac{dx}{dt}, \\frac{db_x}{dt}, \\frac{dy}{dt}, \\frac{db_y}{dt}, \\frac{dz}{dt}, \\frac{db_z}{dt}, \\frac{d\\alpha}{dt}, \\frac{db_\\alpha}{dt}, \\frac{d\\beta}{dt}, \\frac{db_\\beta}{dt}, \\frac{d\\gamma}{dt}, \\frac{db_\\gamma}{dt}]$"
   ]
  },
  {
   "cell_type": "code",
   "execution_count": 37,
   "metadata": {},
   "outputs": [],
   "source": [
    "def dSdt(S, t, g, m, a,b,c):\n",
    "    x, bx, y, by, z, bz, alpha, balpha, beta, bbeta, gamma, bgamma = S\n",
    "    return [\n",
    "        dxdt_f(bx),\n",
    "        dbxdt_f(t,g,m,a,b,c,bx,by,bz,balpha,bbeta,bgamma),\n",
    "        dydt_f(by),\n",
    "        dbydt_f(t,g,m,a,b,c,bx,by,bz,balpha,bbeta,bgamma),\n",
    "        dzdt_f(bz),\n",
    "        dbzdt_f(t,g,m,a,b,c,bx,by,bz,balpha,bbeta,bgamma),\n",
    "        dalphadt_f(balpha),\n",
    "        dbalphadt_f(t,g,m,a,b,c,bx,by,bz,balpha,bbeta,bgamma),\n",
    "        dbetadt_f(bbeta),\n",
    "        dbbetadt_f(t,g,m,a,b,c,bx,by,bz,balpha,bbeta,bgamma),\n",
    "        dgammadt_f(bgamma),\n",
    "        dbgammadt_f(t,g,m,a,b,c,bx,by,bz,balpha,bbeta,bgamma),\n",
    "    ]"
   ]
  },
  {
   "cell_type": "markdown",
   "metadata": {},
   "source": [
    "Court validation function : `IN` | `OUT` "
   ]
  },
  {
   "cell_type": "code",
   "execution_count": 38,
   "metadata": {},
   "outputs": [],
   "source": [
    "def check_court(_x, _y, _z):\n",
    "    if max(_x) >= (court_length/2):\n",
    "        if max(_x) <= court_length:\n",
    "            if max(_y) <= (singles_court_width/2) and min(_y) >= -(singles_court_width/2):\n",
    "                i=0\n",
    "                flag = False\n",
    "                while i < len(_x):\n",
    "                    if _x[i] >= (court_length/2):\n",
    "                        if flag == False:\n",
    "                            if _z[i] > net_height_middle and i != 0:\n",
    "                                flag = True\n",
    "                                #IN: the ball did go over the net \n",
    "                            else: \n",
    "                                return False\n",
    "                                #OUT: the ball didn't go over the net\n",
    "                        else:\n",
    "                            if (_y[i] <= (singles_court_width/2) and _y[i] >= -(singles_court_width/2)) and _x[i] <= court_length: \n",
    "                                return True\n",
    "                                #IN: the ball is in the limits of the court\n",
    "                            else: \n",
    "                                return False\n",
    "                                #OUT: the ball is out the limits of the court\n",
    "                    i += 1\n",
    "            else: \n",
    "                return False\n",
    "                #OUT: the ball is out the limits of the court\n",
    "        else:\n",
    "            return False\n",
    "            #OUT: the ball is out the limits of the court\n",
    "    else:\n",
    "        return False\n",
    "        #OUT: the ball didn't surpass the net"
   ]
  },
  {
   "cell_type": "markdown",
   "metadata": {},
   "source": [
    "Function that checks the ball when it hits the ground\n",
    "- when it does: cut the list after that point and make xmax"
   ]
  },
  {
   "cell_type": "code",
   "execution_count": 39,
   "metadata": {},
   "outputs": [],
   "source": [
    "def check_ball_ground(f_results_g):\n",
    "    res_above_ground_values = []\n",
    "    i = 0\n",
    "    \n",
    "    for f_result_g in tqdm(f_results_g):\n",
    "        z_res = f_result_g[3].T[4]\n",
    "        z_n_res = [g for g in z_res if g>=0] \n",
    "        lz_res = len(z_n_res)\n",
    "        f_result_g[3] = f_result_g[3][:lz_res]  #all values above the ground\n",
    "        \n",
    "        flag_g = False\n",
    "        while i < len(f_result_g[3].T[0]):      #x\n",
    "            if f_result_g[3].T[0][i] >= (court_length/2):\n",
    "                if flag_g == False:\n",
    "                    if z_n_res[i] > net_height_middle and i != 0:  #z at the net\n",
    "                        flag_g = True\n",
    "                        print(\"Over the net at *real* y=\", round(f_result_g[3].T[0][i], 3), \"with z=\", round(z_n_res[i], 3), \"m\") #x simul at the net\n",
    "                        #IN: the ball did go over the net \n",
    "                    else: \n",
    "                        f_result_g[3].T[0][i] = (court_length/2)   #Xmax is the Xnet \n",
    "                        #OUT: the ball didn't go over the net\n",
    "                else:\n",
    "                    pass\n",
    "            else:\n",
    "                pass\n",
    "            i+=1\n",
    "            \n",
    "        res_above_ground_values.append(f_result_g)\n",
    "    \n",
    "    return res_above_ground_values\n",
    "        "
   ]
  },
  {
   "cell_type": "markdown",
   "metadata": {},
   "source": [
    "Compute the angle $\\phi$ from a point in the court to another "
   ]
  },
  {
   "cell_type": "code",
   "execution_count": 40,
   "metadata": {},
   "outputs": [],
   "source": [
    "def compute_phi(p1, p2):\n",
    "    #p1 = [x1,y1], p2 = [x2,y2]\n",
    "    c_opt = abs(p2[1]-p1[1])\n",
    "    c_adj = abs(p2[0]-p1[0])\n",
    "    phi_ = mt.degrees(mt.atan((c_opt)/(c_adj)))\n",
    "    if (p2[1]-p1[1]) < 0:\n",
    "        phi_ = phi_ * -1\n",
    "    else:\n",
    "        phi_ = phi_ * 1\n",
    "        \n",
    "    if phi_ == -0.0:\n",
    "        phi_ = 0.0\n",
    "    \n",
    "    return phi_"
   ]
  },
  {
   "cell_type": "markdown",
   "metadata": {},
   "source": [
    "Find **f_results** matrix\n",
    "\n",
    "- from an initial point $p_0$\n",
    "- $\\phi$ can vary or not\n",
    "- initial contact height $z_0$\n",
    "- $v_0$ from $1$ to $28$ m/s\n",
    "- $\\theta$ from $1$ to $89$ degrees \n",
    "- f_results is the list to store all the function results\n",
    "- computes all the possibilities inside the values\n",
    "- solves the system of ODEs using scipys `odeint` method\n",
    "\n",
    "Returns: $f_{results} = [v_0, \\theta, \\phi, f, F]$\n",
    "\n",
    "Where $f.T = [x, v_{0x}, y, v_{0y}, z, v_{0z}, \\alpha, \\omega _{0x}, \\beta, \\omega _{0y}, \\gamma, \\omega _{0z}]$"
   ]
  },
  {
   "cell_type": "code",
   "execution_count": 41,
   "metadata": {},
   "outputs": [],
   "source": [
    "def calc_f_results(p0, phi_list, z0=0.95, v0_list=range(1,28), theta_list=range(1,90)):\n",
    "    f_results = []          \n",
    "    \n",
    "    for v0_ in tqdm(v0_list):\n",
    "        for theta_ in theta_list:\n",
    "            for phi_ in phi_list:\n",
    "                neg = False\n",
    "                init_magn_force_ = round(calc_f_init_with_v(0,v0_,ct_s))\n",
    "                data = [v0_, theta_, phi_]\n",
    "                #Mirror the phi, it doesn't matter if it's negative or positive for Vx\n",
    "                if phi_ < 0: \n",
    "                    phi_ = phi_ * -1 \n",
    "                    p0[1] = p0[1] * -1\n",
    "                    neg = True\n",
    "                v0x_ = v0_ * mt.cos(mt.radians(theta_))*mt.cos(mt.radians(phi_))\n",
    "                v0y_ = v0_ * mt.cos(mt.radians(theta_))*mt.sin(mt.radians(phi_))\n",
    "                v0z_ = v0_ * mt.sin(mt.radians(theta_))                \n",
    "                w0x_ = v0x_/a\n",
    "                w0y_ = v0y_/b\n",
    "                w0z_ = v0z_/c\n",
    "                init = [p0[0], v0x_, p0[1], v0y_, z0, v0z_, 0, w0x_, 0, w0y_, 0, w0z_]\n",
    "            \n",
    "                odeint.mxstep = 50000000\n",
    "                f_result = odeint(dSdt, y0=init, t=t, args=(g, m, a, b, c))\n",
    "                \n",
    "                #Make all the y and vy values negative again, return the phi to the original value\n",
    "                if neg:     \n",
    "                    phi_ = phi_ * -1\n",
    "                    p0[1] = p0[1] * -1\n",
    "                    f_result[:,2] = f_result[:,2] * -1\n",
    "                    f_result[:,3] = f_result[:,3] * -1\n",
    "                data.append(f_result)     \n",
    "                data.append(init_magn_force_)           \n",
    "                f_results.append(data)\n",
    "  \n",
    "            time.sleep(0.02)\n",
    "    return f_results"
   ]
  },
  {
   "cell_type": "markdown",
   "metadata": {},
   "source": [
    "`IN` Results function\n",
    "\n",
    "- Checks if the values computed and in `f_results` are inside the court and valid or not\n",
    "- Uses `check_court[]` function to check if the ball is in the court or not"
   ]
  },
  {
   "cell_type": "code",
   "execution_count": 42,
   "metadata": {},
   "outputs": [],
   "source": [
    "def in_results(f_results):\n",
    "    checked_results = []\n",
    "    count_in = 0\n",
    "    len_results = len(f_results)\n",
    "\n",
    "    for f_result in tqdm(f_results):\n",
    "    \n",
    "        v0_ = f_result[0]\n",
    "        theta_ = f_result[1]\n",
    "        phi_ = f_result[2]\n",
    "        x_ = f_result[3].T[0]\n",
    "        y_ = f_result[3].T[2]\n",
    "        z_ = f_result[3].T[4]\n",
    "            \n",
    "        #Cut the lists to the same length of the z list (above the ground 0)\n",
    "        #Replace the list of coordinates with the lists above the ground 0\n",
    "        z_n_=[h for h in z_ if h>=0]\n",
    "        lz_ = len(z_n_)\n",
    "        f_result[3] = f_result[3][:lz_]\n",
    "        x_n_ = f_result[3].T[0]\n",
    "        y_n_ = f_result[3].T[2]\n",
    "\n",
    "        if check_court(x_n_, y_n_, z_n_) != False:\n",
    "            count_in += 1\n",
    "            checked_results.append(f_result)\n",
    "            \n",
    "    print(\"Total number of results IN:\", count_in)\n",
    "    percentage_in = (count_in * 100) / len_results\n",
    "    print(\"Percentage of results IN:\", percentage_in, \"%\")\n",
    "    \n",
    "    return checked_results"
   ]
  },
  {
   "cell_type": "markdown",
   "metadata": {},
   "source": [
    "Min error and compute error functions\n",
    "\n",
    "$min || x_{max} - x ||^2$"
   ]
  },
  {
   "cell_type": "code",
   "execution_count": 43,
   "metadata": {},
   "outputs": [],
   "source": [
    "def norm_error(x_real, x_pred, y_real, y_pred):\n",
    "    error = np.linalg.norm(x_real - x_pred)**2 + np.linalg.norm(y_real - y_pred)**2\n",
    "    return error"
   ]
  },
  {
   "cell_type": "markdown",
   "metadata": {},
   "source": [
    "Compute errors ($e$) using `norm_error` and add them to the checked `f_results` matrix resulting in: $f_{results} = [v_0, \\theta, \\phi, f, F,e]$"
   ]
  },
  {
   "cell_type": "code",
   "execution_count": 44,
   "metadata": {},
   "outputs": [],
   "source": [
    "def compute_errors(checked_results, desire_values):\n",
    "    error_results = []\n",
    "    checked_err_results = checked_results.copy()\n",
    "\n",
    "    x_real = desire_values[0]\n",
    "    y_real = desire_values[1]\n",
    "\n",
    "    for result in checked_results:\n",
    "        x_chk = result[3].T[0]\n",
    "        y_chk = result[3].T[2]\n",
    "        x_max_pred = max(x_chk)\n",
    "        if min (y_chk) < 0:\n",
    "            y_max_pred = min(y_chk)\n",
    "        else:\n",
    "            y_max_pred = max(y_chk)\n",
    "        # Ymax - y_max_pred | Xmax - x_max_pred | Yreal - y_real | Xreal - x_real\n",
    "\n",
    "        error = norm_error(x_real, x_max_pred, y_real, y_max_pred)\n",
    "        result_index = checked_results.index(result)\n",
    "        checked_err_results[result_index].append(error)\n",
    "        error_results.append(error)\n",
    "    \n",
    "    return error_results, checked_err_results"
   ]
  },
  {
   "cell_type": "markdown",
   "metadata": {},
   "source": [
    "Computes the Euclidean distance between two points, normally the origin and final"
   ]
  },
  {
   "cell_type": "code",
   "execution_count": 45,
   "metadata": {},
   "outputs": [],
   "source": [
    "def distance_bt_two_points(p1, p2):\n",
    "   # p1[x1,y1] p2[x2,y2]\n",
    "   d = mt.sqrt((p2[0]-p1[0])**2 + (p2[1]-p1[1])**2)\n",
    "   return d"
   ]
  },
  {
   "cell_type": "code",
   "execution_count": 46,
   "metadata": {},
   "outputs": [],
   "source": [
    "def cal_delta_from_coord(i_1, i_2, time_step_i):\n",
    "    \"\"\"Euclidean value between two values divided by the time step\"\"\"\n",
    "    delta = round(((i_2 - i_1) / time_step_i),3)\n",
    "    return delta"
   ]
  },
  {
   "cell_type": "code",
   "execution_count": 47,
   "metadata": {},
   "outputs": [],
   "source": [
    "def compute_time_results(i_time, time_step_i, i_0=None, is_velocity=False):\n",
    "    \"\"\"Similar to np.gradient() function that handles the differentiation\"\"\"\n",
    "    vector_i = [0]\n",
    "    if is_velocity:\n",
    "        NUM = 1\n",
    "    elif not is_velocity:\n",
    "        NUM = 0\n",
    "            \n",
    "    if i_0 is not None:\n",
    "        vector_i.append(i_0)\n",
    "    \n",
    "    if i_time is not None:\n",
    "        if np.all(i_time == 0):\n",
    "            return i_time\n",
    "        else:\n",
    "            for i in range(NUM, len(i_time)-1):\n",
    "                i_now = i_time[i]\n",
    "                i_after = i_time[i+1]\n",
    "                i_result = cal_delta_from_coord(i_now, i_after, time_step_i)\n",
    "                vector_i.append(i_result)\n",
    "            return vector_i\n",
    "            \n",
    "    vector_i.clear()"
   ]
  },
  {
   "cell_type": "code",
   "execution_count": 48,
   "metadata": {},
   "outputs": [],
   "source": [
    "def calc_force_from_a(a_time, m=m):\n",
    "    \"\"\"From the acceleration, calculates the force applied\"\"\"\n",
    "    force_time = []\n",
    "    for a in a_time:\n",
    "        force = m*a\n",
    "        force_time.append(force)\n",
    "    return force_time"
   ]
  },
  {
   "cell_type": "code",
   "execution_count": 49,
   "metadata": {},
   "outputs": [],
   "source": [
    "def force_magnitude_calc(fx_time_, fy_time_, fz_time_):\n",
    "    \"\"\"From the forces applied, calculates the magnitude of the force magnitude vector\"\"\"\n",
    "    forces_magnitude = []\n",
    "    if len(fx_time_) == len(fy_time_) and len(fy_time_) == len(fz_time_):\n",
    "        for fc_i in range(0, len(fx_time_)):\n",
    "            force = round(mt.sqrt(fx_time_[fc_i] + fy_time_[fc_i]**2 + fz_time_[fc_i]**2),2)\n",
    "            forces_magnitude.append(force)\n",
    "    return forces_magnitude"
   ]
  },
  {
   "cell_type": "code",
   "execution_count": 50,
   "metadata": {},
   "outputs": [],
   "source": [
    "def force_max_value_upd(force_, upd_force):\n",
    "    \"\"\"Update force list\"\"\"\n",
    "    max_index = force_.index(max(force_))\n",
    "    if force_[max_index] > upd_force:\n",
    "        force_[max_index] = upd_force\n",
    "    return force_"
   ]
  },
  {
   "cell_type": "code",
   "execution_count": 51,
   "metadata": {},
   "outputs": [],
   "source": [
    "def update_list_smooth(force_):\n",
    "    \"\"\"Update the list of force for smoothing the graph\"\"\"\n",
    "    max_force = max(force_)\n",
    "    max_index = force_.index(max_force)\n",
    "    force_[max_index+1] = max_force/2\n",
    "    return force_\n"
   ]
  },
  {
   "cell_type": "code",
   "execution_count": 52,
   "metadata": {},
   "outputs": [],
   "source": [
    "def match_origin(origin, x_=23.77, y_=4.115):\n",
    "    match origin:\n",
    "        case 'a':\n",
    "            p_origin = [0, -y_]\n",
    "        case 'b':\n",
    "            p_origin = [0, 0]\n",
    "        case 'c':\n",
    "            p_origin = [0, y_]\n",
    "    return p_origin"
   ]
  },
  {
   "cell_type": "code",
   "execution_count": 53,
   "metadata": {},
   "outputs": [],
   "source": [
    "def match_goal(goal, x_=23.77, y_=4.115):\n",
    "    match goal:\n",
    "        case 'A':\n",
    "            p_final = [x_, -y_]\n",
    "        case 'B':\n",
    "            p_final = [x_, 0]\n",
    "        case 'C':\n",
    "            p_final = [x_, y_]\n",
    "    return p_final"
   ]
  },
  {
   "cell_type": "markdown",
   "metadata": {},
   "source": [
    "## Simulation tests"
   ]
  },
  {
   "cell_type": "markdown",
   "metadata": {},
   "source": [
    "Simulation Variables:"
   ]
  },
  {
   "cell_type": "code",
   "execution_count": 54,
   "metadata": {},
   "outputs": [],
   "source": [
    "simul_t = 5.5      #total simulation time in s\n",
    "time_step = ct_s/3 #time step of 5ms/3\n",
    "m = mkg_b          #ball mass in kg\n",
    "g = a_gravity      #gravity acceleration in m/s^2\n",
    "z0 = avg_dist_cp   #height of impact in m\n",
    "\n",
    "x_value = 23.77    #max distance in x in m (inside the court) \n",
    "y_value = 4.115    #max distance in y in m (inside the court) \n",
    "\n",
    "do_all_correlations = False #If True: ignores F, theta and initial velocity values and calculates all the possible values\n",
    "\n",
    "t = np.arange(0, simul_t + time_step, time_step) # = np.linspace(0, 5.5, 1100) where 1100 is the number of points (5.5/time_step)"
   ]
  },
  {
   "cell_type": "markdown",
   "metadata": {},
   "source": [
    "Ellipsoid variables (m)"
   ]
  },
  {
   "cell_type": "code",
   "execution_count": 55,
   "metadata": {},
   "outputs": [],
   "source": [
    "a = ellipsoid_a_cm/100 \n",
    "b = ellipsoid_b_cm/100 \n",
    "c = ellipsoid_c_cm/100 "
   ]
  },
  {
   "cell_type": "markdown",
   "metadata": {},
   "source": [
    "Court"
   ]
  },
  {
   "cell_type": "code",
   "execution_count": 56,
   "metadata": {},
   "outputs": [
    {
     "data": {
      "text/plain": [
       "' \\n|---|A---------B---------C|---|\\n|   |          |          |   |\\n|   |          |          |   |\\n|   |---------------------|   |\\n|   |          |          |   |\\n|   |          |          |   |\\n|   |          |          |   |\\n|   |=====================|   |\\n|   |          |          |   |\\n|   |          |          |   |\\n|   |          |          |   |\\n|   |---------------------|   |\\n|   |          |          |   |\\n|   |          |          |   |\\n|-- a)-------- b)-------- c)--| \\n\\n'"
      ]
     },
     "execution_count": 56,
     "metadata": {},
     "output_type": "execute_result"
    }
   ],
   "source": [
    "\"\"\" \n",
    "|---|A---------B---------C|---|\n",
    "|   |          |          |   |\n",
    "|   |          |          |   |\n",
    "|   |---------------------|   |\n",
    "|   |          |          |   |\n",
    "|   |          |          |   |\n",
    "|   |          |          |   |\n",
    "|   |=====================|   |\n",
    "|   |          |          |   |\n",
    "|   |          |          |   |\n",
    "|   |          |          |   |\n",
    "|   |---------------------|   |\n",
    "|   |          |          |   |\n",
    "|   |          |          |   |\n",
    "|-- a)-------- b)-------- c)--| \n",
    "\n",
    "\"\"\""
   ]
  },
  {
   "cell_type": "markdown",
   "metadata": {},
   "source": [
    "In simulation: \n",
    "\n",
    "[x_max, y_max]\n",
    "\n",
    "- a) - [0, -4.115] : Left side of the court \n",
    "\n",
    "- b) - [0, 0] : Middle of the court \n",
    "\n",
    "- c) - [0, 4.115] : Right side of the court\n",
    "\n",
    "- A - [23.77, -4.115]\n",
    "\n",
    "- B - [23.77, 0]\n",
    "\n",
    "- C - [23.77, 4.115]"
   ]
  },
  {
   "cell_type": "markdown",
   "metadata": {},
   "source": [
    "Insert the **origin point** from where it is launched at the singles court"
   ]
  },
  {
   "cell_type": "code",
   "execution_count": 57,
   "metadata": {},
   "outputs": [
    {
     "name": "stdout",
     "output_type": "stream",
     "text": [
      "[0, 0]\n"
     ]
    }
   ],
   "source": [
    "origin = 'b'\n",
    "p_origin = match_origin(origin, x_value, y_value)\n",
    "print(p_origin)"
   ]
  },
  {
   "cell_type": "markdown",
   "metadata": {},
   "source": [
    "Insert the **desire point**, where the ball arrives"
   ]
  },
  {
   "cell_type": "code",
   "execution_count": 58,
   "metadata": {},
   "outputs": [
    {
     "name": "stdout",
     "output_type": "stream",
     "text": [
      "[23.77, 0]\n"
     ]
    }
   ],
   "source": [
    "goal = 'B'\n",
    "p_final = match_goal(goal, x_value, y_value)\n",
    "print(p_final)"
   ]
  },
  {
   "cell_type": "markdown",
   "metadata": {},
   "source": [
    "### Compute the **closest** way possible to reach that desired point"
   ]
  },
  {
   "cell_type": "markdown",
   "metadata": {},
   "source": [
    "Compute the angle phi between the origin and the final point"
   ]
  },
  {
   "cell_type": "code",
   "execution_count": 59,
   "metadata": {},
   "outputs": [
    {
     "name": "stdout",
     "output_type": "stream",
     "text": [
      "phi: 0.0\n"
     ]
    }
   ],
   "source": [
    "phi_p = compute_phi(p_origin, p_final)\n",
    "phi_p_list = [phi_p]\n",
    "print(\"phi:\", phi_p)"
   ]
  },
  {
   "cell_type": "markdown",
   "metadata": {},
   "source": [
    "Compute the results function from the points and the $\\phi$"
   ]
  },
  {
   "cell_type": "code",
   "execution_count": 60,
   "metadata": {},
   "outputs": [
    {
     "name": "stderr",
     "output_type": "stream",
     "text": [
      "100%|██████████| 27/27 [01:12<00:00,  2.70s/it]\n"
     ]
    }
   ],
   "source": [
    "if spin_type == 0:                             #No spin (N=0)\n",
    "    if do_all_correlations: \n",
    "        f_results_p = calc_f_results(p_origin, phi_p_list, z0)\n",
    "    else:\n",
    "    \n",
    "        if init_vel_known != 0:                         #Initial velocity is known\n",
    "            v0_list = [init_vel_known]\n",
    "        elif v_init != 0:                               #Velocity computed based on the force applied (F known)\n",
    "            v0_list = [v_init]\n",
    "            del v_init\n",
    "        elif init_vel_known == 0 and v_init == 0 and init_f_known == 0: #Initial velocity and force are unknown\n",
    "            v0_list = []\n",
    "            if ctc_pt[0] != 0:                          #Theta is known\n",
    "                theta_list = [ctc_pt[0]]\n",
    "                f_results_p = calc_f_results(p_origin, phi_p_list, z0, theta_list = theta_list)\n",
    "                theta_list.clear()\n",
    "            elif ctc_pt[0] == 0:                        #Theta is unknown\n",
    "                f_results_p = calc_f_results(p_origin, phi_p_list, z0)\n",
    "        \n",
    "        if v0_list != []:                               #With velocity known                                         \n",
    "            if ctc_pt[0] != 0:                          #Theta is known\n",
    "                theta_list = [ctc_pt[0]]\n",
    "                f_results_p = calc_f_results(p_origin, phi_p_list, z0, v0_list = v0_list, theta_list = theta_list)\n",
    "                theta_list.clear()\n",
    "                v0_list.clear()\n",
    "            elif ctc_pt[0] == 0:                        #Theta is unknown\n",
    "                f_results_p = calc_f_results(p_origin, phi_p_list, z0, v0_list = v0_list)\n",
    "                v0_list.clear()\n",
    "    \n",
    "        \n",
    "elif spin_type == 1 or spin_type == 2:          #Topspin or Slice (must have F or inital velocity to imply the spin along with spin angle)\n",
    "    if do_all_correlations: \n",
    "        f_results_p = calc_f_results(p_origin, phi_p_list, z0)\n",
    "    else: \n",
    "        if F != 0:                                      #Force is known\n",
    "            if init_vel_known != 0:                     #Initial velocity is known\n",
    "                v0_list = [init_vel_known]\n",
    "            elif v_init != 0:                   \n",
    "                v0_list = [v_init]\n",
    "                del v_init\n",
    "\n",
    "            if ctc_pt[0] != 0:                          #Theta is known\n",
    "                theta_list = [ctc_pt[0]]\n",
    "                f_results_p = calc_f_results(p_origin, phi_p_list, z0, v0_list = v0_list, theta_list = theta_list)\n",
    "                theta_list.clear()\n",
    "            elif ctc_pt[0] == 0:                        #Theta is unknown             \n",
    "                f_results_p = calc_f_results(p_origin, phi_p_list, z0, v0_list = v0_list)\n",
    "            v0_list.clear()\n",
    "        else:\n",
    "            print(\"Force unkown?!\")\n",
    "else:\n",
    "    print(\"Invalid spin type\")"
   ]
  },
  {
   "cell_type": "markdown",
   "metadata": {},
   "source": [
    "Check results that are `IN` the singles court"
   ]
  },
  {
   "cell_type": "code",
   "execution_count": 62,
   "metadata": {},
   "outputs": [
    {
     "name": "stderr",
     "output_type": "stream",
     "text": [
      "100%|██████████| 2403/2403 [00:01<00:00, 1985.82it/s]"
     ]
    },
    {
     "name": "stdout",
     "output_type": "stream",
     "text": [
      "Total number of results IN: 395\n",
      "Percentage of results IN: 16.43778610070745 %\n"
     ]
    },
    {
     "name": "stderr",
     "output_type": "stream",
     "text": [
      "\n"
     ]
    }
   ],
   "source": [
    "checked_results_p = in_results(f_results_p)"
   ]
  },
  {
   "cell_type": "markdown",
   "metadata": {},
   "source": [
    "Compute the errors of all `IN` results to see whats the best one"
   ]
  },
  {
   "cell_type": "code",
   "execution_count": 63,
   "metadata": {},
   "outputs": [],
   "source": [
    "error_results_p, checked_err_results_p = compute_errors(checked_results_p, p_final)"
   ]
  },
  {
   "cell_type": "code",
   "execution_count": 64,
   "metadata": {},
   "outputs": [],
   "source": [
    "min_error_p = min(error_results_p)\n",
    "min_index_p = error_results_p.index(min_error_p)"
   ]
  },
  {
   "cell_type": "markdown",
   "metadata": {},
   "source": [
    "Results Demonstration"
   ]
  },
  {
   "cell_type": "code",
   "execution_count": 65,
   "metadata": {},
   "outputs": [],
   "source": [
    "# K values of the best results | How many results do I want to show\n",
    "k_value_p = 10"
   ]
  },
  {
   "cell_type": "code",
   "execution_count": 66,
   "metadata": {},
   "outputs": [],
   "source": [
    "#Sort the error results and get the k smallest values\n",
    "errors_p = np.copy(error_results_p)\n",
    "errors_p.sort()"
   ]
  },
  {
   "cell_type": "code",
   "execution_count": 67,
   "metadata": {},
   "outputs": [
    {
     "name": "stdout",
     "output_type": "stream",
     "text": [
      "1  | v0: 26  | theta: 80  | phi: 0.0 | max simul x: 23.7556495321 | min simul y: 0.0        | max y: 0.0        | error: 0.00020593593   | init_force: 303               \n",
      "2  | v0: 15  | theta: 47  | phi: 0.0 | max simul x: 23.7505928892 | min simul y: 0.0        | max y: 0.0        | error: 0.00037663595   | init_force: 175               \n",
      "3  | v0: 16  | theta: 29  | phi: 0.0 | max simul x: 23.7430096498 | min simul y: 0.0        | max y: 0.0        | error: 0.000728479     | init_force: 187               \n",
      "4  | v0: 15  | theta: 40  | phi: 0.0 | max simul x: 23.6899244035 | min simul y: 0.0        | max y: 0.0        | error: 0.00641210116   | init_force: 175               \n",
      "5  | v0: 17  | theta: 64  | phi: 0.0 | max simul x: 23.6859236796 | min simul y: 0.0        | max y: 0.0        | error: 0.00706882765   | init_force: 198               \n",
      "6  | v0: 15  | theta: 48  | phi: 0.0 | max simul x: 23.6537669348 | min simul y: 0.0        | max y: 0.0        | error: 0.01351012545   | init_force: 175               \n",
      "7  | v0: 16  | theta: 59  | phi: 0.0 | max simul x: 23.6093453539 | min simul y: 0.0        | max y: 0.0        | error: 0.02580991532   | init_force: 187               \n",
      "8  | v0: 18  | theta: 20  | phi: 0.0 | max simul x: 23.5956817079 | min simul y: 0.0        | max y: 0.0        | error: 0.03038686695   | init_force: 210               \n",
      "9  | v0: 15  | theta: 39  | phi: 0.0 | max simul x: 23.5669512812 | min simul y: 0.0        | max y: 0.0        | error: 0.04122878221   | init_force: 175               \n",
      "10 | v0: 15  | theta: 49  | phi: 0.0 | max simul x: 23.5197161893 | min simul y: 0.0        | max y: 0.0        | error: 0.06264198589   | init_force: 175               \n"
     ]
    }
   ],
   "source": [
    "#Get the k smallest values of the error and their function values from checked_err_results | sort the list by its error values\n",
    "checked_err_results_p.sort(key=lambda x: x[5])\n",
    "final_results_p = []\n",
    "final_results_p = checked_err_results_p[:k_value_p]\n",
    "\n",
    "#Print all the value results of the k smallest errors | number 1 is the closest to the desired value and k is the k-th closest\n",
    "idx_p = 0\n",
    "for res in final_results_p:\n",
    "    idx_p += 1\n",
    "    min_y = min(res[3].T[2])\n",
    "    max_y = max(res[3].T[2])\n",
    "    if min_y == -0.0:\n",
    "        min_y = 0.0\n",
    "    if max_y == -0.0:\n",
    "        max_y = 0.0\n",
    "    impact_force = res[4]\n",
    "        \n",
    "    print(\"{:<2} | v0: {:<3} | theta: {:<3} | phi: {:<3} | max simul x: {:<13} | min simul y: {:<10} | max y: {:<10} | error: {:<15} | init_force: {:<18}\".format(idx_p, res[0], res[1], round(res[2],3), round(max(res[3].T[0]),10), round(min_y,7), round(max_y,5), round(res[5],11), impact_force))"
   ]
  },
  {
   "cell_type": "markdown",
   "metadata": {},
   "source": [
    "### Analysis of the best result and force computations"
   ]
  },
  {
   "cell_type": "code",
   "execution_count": 68,
   "metadata": {},
   "outputs": [],
   "source": [
    "x_time = final_results_p[0][3].T[0]\n",
    "y_time = final_results_p[0][3].T[2]\n",
    "z_time = final_results_p[0][3].T[4]\n",
    "v0x_ = round(final_results_p[0][3].T[1][0],2)\n",
    "v0y_ = round(final_results_p[0][3].T[3][0],2)\n",
    "v0z_ = round(final_results_p[0][3].T[5][0],2)\n",
    "force_init_value = final_results_p[0][4]\n",
    "\n",
    "x_traj = x_time\n",
    "y_traj = y_time\n",
    "z_traj = z_time"
   ]
  },
  {
   "cell_type": "code",
   "execution_count": 69,
   "metadata": {},
   "outputs": [
    {
     "name": "stdout",
     "output_type": "stream",
     "text": [
      "Max z: 34.4 m\n",
      "Max *real* y: 23.756 m\n"
     ]
    }
   ],
   "source": [
    "print(\"Max z:\", round(max(z_traj), 3), \"m\")\n",
    "print(\"Max *real* y:\", round(max(x_traj), 3), \"m\")"
   ]
  },
  {
   "cell_type": "markdown",
   "metadata": {},
   "source": [
    "Flight time (s)"
   ]
  },
  {
   "cell_type": "code",
   "execution_count": 70,
   "metadata": {},
   "outputs": [
    {
     "name": "stdout",
     "output_type": "stream",
     "text": [
      "Time to reach the maximum height: 2.61 s\n",
      "Time when the ball reaches the ground: 5.26 s\n"
     ]
    }
   ],
   "source": [
    "i = 0\n",
    "j = 0\n",
    "\n",
    "# Time when the ball reaches the maximum height\n",
    "for i in range(len(z_traj)):\n",
    "    if z_traj[i] == max(z_traj):\n",
    "        t_zmax = t[i]\n",
    "        print(\"Time to reach the maximum height:\", round(t[i],2), \"s\")\n",
    "        \n",
    "# Time when the ball reaches the ground\n",
    "for j in range(len(z_traj)):\n",
    "    if z_traj[j] >= 0:\n",
    "        if z_traj[j] == min(z_traj):\n",
    "            t_zf = t[j]\n",
    "            print(\"Time when the ball reaches the ground:\", round(t[j],2), \"s\")"
   ]
  },
  {
   "cell_type": "markdown",
   "metadata": {},
   "source": [
    "Compute distance displacement from one point to the other"
   ]
  },
  {
   "cell_type": "code",
   "execution_count": 71,
   "metadata": {},
   "outputs": [
    {
     "name": "stdout",
     "output_type": "stream",
     "text": [
      "Displacement of the ball: 23.756 m\n"
     ]
    }
   ],
   "source": [
    "p_init = p_origin\n",
    "x_fin = max(final_results_p[0][3].T[0])\n",
    "phi_fin = final_results_p[0][2]\n",
    "\n",
    "if phi_p < 0:\n",
    "    y_fin = min(final_results_p[0][3].T[2])\n",
    "else:\n",
    "    y_fin = max(final_results_p[0][3].T[2])\n",
    "if y_fin == -0.0:\n",
    "    y_fin = 0.0\n",
    "p_fin = [x_fin, y_fin]\n",
    "\n",
    "d = round(distance_bt_two_points(p_init, p_fin),3)\n",
    "print(\"Displacement of the ball:\", d, \"m\")"
   ]
  },
  {
   "cell_type": "markdown",
   "metadata": {},
   "source": [
    "Motors computations"
   ]
  },
  {
   "cell_type": "code",
   "execution_count": 78,
   "metadata": {},
   "outputs": [
    {
     "name": "stdout",
     "output_type": "stream",
     "text": [
      "Kinetic Energy: 24.25 J\n",
      "Minimum power required: 3032 W\n"
     ]
    }
   ],
   "source": [
    "#Kinetic energy\n",
    "vf_ = final_results_p[0][0]     #Velocity of the ball\n",
    "max_spin = 418.88               #Max spin that the ball can have => 4000rpm = 418.88rad/s\n",
    "KE = smp.Rational(1,2)*m*vf_**2 + smp.Rational(1,2)*smp.Rational(2,3)*m*b**2*max_spin**2\n",
    "KE = round(float(KE),2)\n",
    "print(\"Kinetic Energy:\", KE, \"J\")\n",
    "\n",
    "#Motor power\n",
    "dt = 0.01                       #Time of contact between the ball and the wheels in s\n",
    "P = KE / dt                     #Power of the motor, respecting the kinetic energy and the time of contact\n",
    "P = P + (0.25*P)                #Adding 25% of the power to the motor\n",
    "P = mt.ceil(P)                  #Rounding up the power to the nearest integer\n",
    "print(\"Minimum power required:\", P, \"W\")\n"
   ]
  },
  {
   "cell_type": "markdown",
   "metadata": {},
   "source": [
    "Forces (to show on graphs later on)\n",
    "\n",
    "- The curve is not instantaneous in 0s\n",
    "- There are no infinite derivatives"
   ]
  },
  {
   "cell_type": "code",
   "execution_count": 79,
   "metadata": {},
   "outputs": [
    {
     "name": "stdout",
     "output_type": "stream",
     "text": [
      "[0.0, 157.75979999999998, 0.1749, 0.0, 0.0, 0.0, 0.0, 0.0, 0.0, 0.0, 0.0, 0.0, 0.0, 0.0, 0.0, 0.0, 0.0, 0.0, 0.0, 0.0, 0.0, 0.0, 0.0, 0.0, 0.0, 0.0, 0.0, 0.0, 0.0, 0.0, 0.0, 0.0, 0.0, 0.0, 0.0, 0.0, 0.0, 0.0, 0.0, 0.0, 0.0, 0.0, 0.0, 0.0, 0.0, 0.0, 0.0, 0.0, 0.0, 0.0, 0.0, 0.0, 0.0, 0.0, 0.0, 0.0, 0.0, 0.0, 0.0, 0.0, 0.0, 0.0, 0.0, 0.0, 0.0, 0.0, 0.0, 0.0, 0.0, 0.0, 0.0, 0.0, 0.0, 0.0, 0.0, 0.0, 0.0, 0.0, 0.0, 0.0, 0.0, 0.0, 0.0, 0.0, 0.0, 0.0, 0.0, 0.0, 0.0, 0.0, 0.0, 0.0, 0.0, 0.0, 0.0, 0.0, 0.0, 0.0, 0.0, 0.0, 0.0, 0.0, 0.0, 0.0, 0.0, 0.0, 0.0, 0.0, 0.0, 0.0, 0.0, 0.0, 0.0, 0.0, 0.0, 0.0, 0.0, 0.0, 0.0, 0.0, 0.0, 0.0, 0.0, 0.0, 0.0, 0.0, 0.0, 0.0, 0.0, 0.0, 0.0, 0.0, 0.0, 0.0, 0.0, 0.0, 0.0, 0.0, 0.0, 0.0, 0.0, 0.0, 0.0, 0.0, 0.0, 0.0, 0.0, 0.0, 0.0, 0.0, 0.0, 0.0, 0.0, 0.0, 0.0, 0.0, 0.0, 0.0, 0.0, 0.0, 0.0, 0.0, 0.0, 0.0, 0.0, 0.0, 0.0, 0.0, 0.0, 0.0, 0.0, 0.0, 0.0, 0.0, 0.0, 0.0, 0.0, 0.0, 0.0, 0.0, 0.0, 0.0, 0.0, 0.0, 0.0, 0.0, 0.0, 0.0, 0.0, 0.0, 0.0, 0.0, 0.0, 0.0, 0.0, 0.0, 0.0, 0.0, 0.0, 0.0, 0.0, 0.0, 0.0, 0.0, 0.0, 0.0, 0.0, 0.0, 0.0, 0.0, 0.0, 0.0, 0.0, 0.0, 0.0, 0.0, 0.0, 0.0, 0.0, 0.0, 0.0, 0.0, 0.0, 0.0, 0.0, 0.0, 0.0, 0.0, 0.0, 0.0, 0.0, 0.0, 0.0, 0.0, 0.0, 0.0, 0.0, 0.0, 0.0, 0.0, 0.0, 0.0, 0.0, 0.0, 0.0, 0.0, 0.0, 0.0, 0.0, 0.0, 0.0, 0.0, 0.0, 0.0, 0.0, 0.0, 0.0, 0.0, 0.0, 0.0, 0.0, 0.0, 0.0, 0.0, 0.0, 0.0, 0.0, 0.0, 0.0, 0.0, 0.0, 0.0, 0.0, 0.0, 0.0, 0.0, 0.0, 0.0, 0.0, 0.0, 0.0, 0.0, 0.0, 0.0, 0.0, 0.0, 0.0, 0.0, 0.0, 0.0, 0.0, 0.0, 0.0, 0.0, 0.0, 0.0, 0.0, 0.0, 0.0, 0.0, 0.0, 0.0, 0.0, 0.0, 0.0, 0.0, 0.0, 0.0, 0.0, 0.0, 0.0, 0.0, 0.0, 0.0, 0.0, 0.0, 0.0, 0.0, 0.0, 0.0, 0.0, 0.0, 0.0, 0.0, 0.0, 0.0, 0.0, 0.0, 0.0, 0.0, 0.0, 0.0, 0.0, 0.0, 0.0, 0.0, 0.0, 0.0, 0.0, 0.0, 0.0, 0.0, 0.0, 0.0, 0.0, 0.0, 0.0, 0.0, 0.0, 0.0, 0.0, 0.0, 0.0, 0.0, 0.0, 0.0, 0.0, 0.0, 0.0, 0.0, 0.0, 0.0, 0.0, 0.0, 0.0, 0.0, 0.0, 0.0, 0.0, 0.0, 0.0, 0.0, 0.0, 0.0, 0.0, 0.0, 0.0, 0.0, 0.0, 0.0, 0.0, 0.0, 0.0, 0.0, 0.0, 0.0, 0.0, 0.0, 0.0, 0.0, 0.0, 0.0, 0.0, 0.0, 0.0, 0.0, 0.0, 0.0, 0.0, 0.0, 0.0, 0.0, 0.0, 0.0, 0.0, 0.0, 0.0, 0.0, 0.0, 0.0, 0.0, 0.0, 0.0, 0.0, 0.0, 0.0, 0.0, 0.0, 0.0, 0.0, 0.0, 0.0, 0.0, 0.0, 0.0, 0.0, 0.0, 0.0, 0.0, 0.0, 0.0, 0.0, 0.0, 0.0, 0.0, 0.0, 0.0, 0.0, 0.0, 0.0, 0.0, 0.0, 0.0, 0.0, 0.0, 0.0, 0.0, 0.0, 0.0, 0.0, 0.0, 0.0, 0.0, 0.0, 0.0, 0.0, 0.0, 0.0, 0.0, 0.0, 0.0, 0.0, 0.0, 0.0, 0.0, 0.0, 0.0, 0.0, 0.0, 0.0, 0.0, 0.0, 0.0, 0.0, 0.0, 0.0, 0.0, 0.0, 0.0, 0.0, 0.0, 0.0, 0.0, 0.0, 0.0, 0.0, 0.0, 0.0, 0.0, 0.0, 0.0, 0.0, 0.0, 0.0, 0.0, 0.0, 0.0, 0.0, 0.0, 0.0, 0.0, 0.0, 0.0, 0.0, 0.0, 0.0, 0.0, 0.0, 0.0, 0.0, 0.0, 0.0, 0.0, 0.0, 0.0, 0.0, 0.0, 0.0, 0.0, 0.0, 0.0, 0.0, 0.0, 0.0, 0.0, 0.0, 0.0, 0.0, 0.0, 0.0, 0.0, 0.0, 0.0, 0.0, 0.0, 0.0, 0.0, 0.0, 0.0, 0.0, 0.0, 0.0, 0.0, 0.0, 0.0, 0.0, 0.0, 0.0, 0.0, 0.0, 0.0, 0.0, 0.0, 0.0, 0.0, 0.0, 0.0, 0.0, 0.0, 0.0, 0.0, 0.0, 0.0, 0.0, 0.0, 0.0, 0.0, 0.0, 0.0, 0.0, 0.0, 0.0, 0.0, 0.0, 0.0, 0.0, 0.0, 0.0, 0.0, 0.0, 0.0, 0.0, 0.0, 0.0, 0.0, 0.0, 0.0, 0.0, 0.0, 0.0, 0.0, 0.0, 0.0, 0.0, 0.0, 0.0, 0.0, 0.0, 0.0, 0.0, 0.0, 0.0, 0.0, 0.0, 0.0, 0.0, 0.0, 0.0, 0.0, 0.0, 0.0, 0.0, 0.0, 0.0, 0.0, 0.0, 0.0, 0.0, 0.0, 0.0, 0.0, 0.0, 0.0, 0.0, 0.0, 0.0, 0.0, 0.0, 0.0, 0.0, 0.0, 0.0, 0.0, 0.0, 0.0, 0.0, 0.0, 0.0, 0.0, 0.0, 0.0, 0.0, 0.0, 0.0, 0.0, 0.0, 0.0, 0.0, 0.0, 0.0, 0.0, 0.0, 0.0, 0.0, 0.0, 0.0, 0.0, 0.0, 0.0, 0.0, 0.0, 0.0, 0.0, 0.0, 0.0, 0.0, 0.0, 0.0, 0.0, 0.0, 0.0, 0.0, 0.0, 0.0, 0.0, 0.0, 0.0, 0.0, 0.0, 0.0, 0.0, 0.0, 0.0, 0.0, 0.0, 0.0, 0.0, 0.0, 0.0, 0.0, 0.0, 0.0, 0.0, 0.0, 0.0, 0.0, 0.0, 0.0, 0.0, 0.0, 0.0, 0.0, 0.0, 0.0, 0.0, 0.0, 0.0, 0.0, 0.0, 0.0, 0.0, 0.0, 0.0, 0.0, 0.0, 0.0, 0.0, 0.0, 0.0, 0.0, 0.0, 0.0, 0.0, 0.0, 0.0, 0.0, 0.0, 0.0, 0.0, 0.0, 0.0, 0.0, 0.0, 0.0, 0.0, 0.0, 0.0, 0.0, 0.0, 0.0, 0.0, 0.0, 0.0, 0.0, 0.0, 0.0, 0.0, 0.0, 0.0, 0.0, 0.0, 0.0, 0.0, 0.0, 0.0, 0.0, 0.0, 0.0, 0.0, 0.0, 0.0, 0.0, 0.0, 0.0, 0.0, 0.0, 0.0, 0.0, 0.0, 0.0, 0.0, 0.0, 0.0, 0.0, 0.0, 0.0, 0.0, 0.0, 0.0, 0.0, 0.0, 0.0, 0.0, 0.0, 0.0, 0.0, 0.0, 0.0, 0.0, 0.0, 0.0, 0.0, 0.0, 0.0, 0.0, 0.0, 0.0, 0.0, 0.0, 0.0, 0.0, 0.0, 0.0, 0.0, 0.0, 0.0, 0.0, 0.0, 0.0, 0.0, 0.0, 0.0, 0.0, 0.0, 0.0, 0.0, 0.0, 0.0, 0.0, 0.0, 0.0, 0.0, 0.0, 0.0, 0.0, 0.0, 0.0, 0.0, 0.0, 0.0, 0.0, 0.0, 0.0, 0.0, 0.0, 0.0, 0.0, 0.0, 0.0, 0.0, 0.0, 0.0, 0.0, 0.0, 0.0, 0.0, 0.0, 0.0, 0.0, 0.0, 0.0, 0.0, 0.0, 0.0, 0.0, 0.0, 0.0, 0.0, 0.0, 0.0, 0.0, 0.0, 0.0, 0.0, 0.0, 0.0, 0.0, 0.0, 0.0, 0.0, 0.0, 0.0, 0.0, 0.0, 0.0, 0.0, 0.0, 0.0, 0.0, 0.0, 0.0, 0.0, 0.0, 0.0, 0.0, 0.0, 0.0, 0.0, 0.0, 0.0, 0.0, 0.0, 0.0, 0.0, 0.0, 0.0, 0.0, 0.0, 0.0, 0.0, 0.0, 0.0, 0.0, 0.0, 0.0, 0.0, 0.0, 0.0, 0.0, 0.0, 0.0, 0.0, 0.0, 0.0, 0.0, 0.0, 0.0, 0.0, 0.0, 0.0, 0.0, 0.0, 0.0, 0.0, 0.0, 0.0, 0.0, 0.0, 0.0, 0.0, 0.0, 0.0, 0.0, 0.0, 0.0, 0.0, 0.0, 0.0, 0.0, 0.0, 0.0, 0.0, 0.0, 0.0, 0.0, 0.0, 0.0, 0.0, 0.0, 0.0, 0.0, 0.0, 0.0, 0.0, 0.0, 0.0, 0.0, 0.0, 0.0, 0.0, 0.0, 0.0, 0.0, 0.0, 0.0, 0.0, 0.0, 0.0, 0.0, 0.0, 0.0, 0.0, 0.0, 0.0, 0.0, 0.0, 0.0, 0.0, 0.0, 0.0, 0.0, 0.0, 0.0, 0.0, 0.0, 0.0, 0.0, 0.0, 0.0, 0.0, 0.0, 0.0, 0.0, 0.0, 0.0, 0.0, 0.0, 0.0, 0.0, 0.0, 0.0, 0.0, 0.0, 0.0, 0.0, 0.0, 0.0, 0.0, 0.0, 0.0, 0.0, 0.0, 0.0, 0.0, 0.0, 0.0, 0.0, 0.0, 0.0, 0.0, 0.0, 0.0, 0.0, 0.0, 0.0, 0.0, 0.0, 0.0, 0.0, 0.0, 0.0, 0.0, 0.0, 0.0, 0.0, 0.0, 0.0, 0.0, 0.0, 0.0, 0.0, 0.0, 0.0, 0.0, 0.0, 0.0, 0.0, 0.0, 0.0, 0.0, 0.0, 0.0, 0.0, 0.0, 0.0, 0.0, 0.0, 0.0, 0.0, 0.0, 0.0, 0.0, 0.0, 0.0, 0.0, 0.0, 0.0, 0.0, 0.0, 0.0, 0.0, 0.0, 0.0, 0.0, 0.0, 0.0, 0.0, 0.0, 0.0, 0.0, 0.0, 0.0, 0.0, 0.0, 0.0, 0.0, 0.0, 0.0, 0.0, 0.0, 0.0, 0.0, 0.0, 0.0, 0.0, 0.0, 0.0, 0.0, 0.0, 0.0, 0.0, 0.0, 0.0, 0.0, 0.0, 0.0, 0.0, 0.0, 0.0, 0.0, 0.0, 0.0, 0.0, 0.0, 0.0, 0.0, 0.0, 0.0, 0.0, 0.0, 0.0, 0.0, 0.0, 0.0, 0.0, 0.0, 0.0, 0.0, 0.0, 0.0, 0.0, 0.0, 0.0, 0.0, 0.0, 0.0, 0.0, 0.0, 0.0, 0.0, 0.0, 0.0, 0.0, 0.0, 0.0, 0.0, 0.0, 0.0, 0.0, 0.0, 0.0, 0.0, 0.0, 0.0, 0.0, 0.0, 0.0, 0.0, 0.0, 0.0, 0.0, 0.0, 0.0, 0.0, 0.0, 0.0, 0.0, 0.0, 0.0, 0.0, 0.0, 0.0, 0.0, 0.0, 0.0, 0.0, 0.0, 0.0, 0.0, 0.0, 0.0, 0.0, 0.0, 0.0, 0.0, 0.0, 0.0, 0.0, 0.0, 0.0, 0.0, 0.0, 0.0, 0.0, 0.0, 0.0, 0.0, 0.0, 0.0, 0.0, 0.0, 0.0, 0.0, 0.0, 0.0, 0.0, 0.0, 0.0, 0.0, 0.0, 0.0, 0.0, 0.0, 0.0, 0.0, 0.0, 0.0, 0.0, 0.0, 0.0, 0.0, 0.0, 0.0, 0.0, 0.0, 0.0, 0.0, 0.0, 0.0, 0.0, 0.0, 0.0, 0.0, 0.0, 0.0, 0.0, 0.0, 0.0, 0.0, 0.0, 0.0, 0.0, 0.0, 0.0, 0.0, 0.0, 0.0, 0.0, 0.0, 0.0, 0.0, 0.0, 0.0, 0.0, 0.0, 0.0, 0.0, 0.0, 0.0, 0.0, 0.0, 0.0, 0.0, 0.0, 0.0, 0.0, 0.0, 0.0, 0.0, 0.0, 0.0, 0.0, 0.0, 0.0, 0.0, 0.0, 0.0, 0.0, 0.0, 0.0, 0.0, 0.0, 0.0, 0.0, 0.0, 0.0, 0.0, 0.0, 0.0, 0.0, 0.0, 0.0, 0.0, 0.0, 0.0, 0.0, 0.0, 0.0, 0.0, 0.0, 0.0, 0.0, 0.0, 0.0, 0.0, 0.0, 0.0, 0.0, 0.0, 0.0, 0.0, 0.0, 0.0, 0.0, 0.0, 0.0, 0.0, 0.0, 0.0, 0.0, 0.0, 0.0, 0.0, 0.0, 0.0, 0.0, 0.0, 0.0, 0.0, 0.0, 0.0, 0.0, 0.0, 0.0, 0.0, 0.0, 0.0, 0.0, 0.0, 0.0, 0.0, 0.0, 0.0, 0.0, 0.0, 0.0, 0.0, 0.0, 0.0, 0.0, 0.0, 0.0, 0.0, 0.0, 0.0, 0.0, 0.0, 0.0, 0.0, 0.0, 0.0, 0.0, 0.0, 0.0, 0.0, 0.0, 0.0, 0.0, 0.0, 0.0, 0.0, 0.0, 0.0, 0.0, 0.0, 0.0, 0.0, 0.0, 0.0, 0.0, 0.0, 0.0, 0.0, 0.0, 0.0, 0.0, 0.0, 0.0, 0.0, 0.0, 0.0, 0.0, 0.0, 0.0, 0.0, 0.0, 0.0, 0.0, 0.0, 0.0, 0.0, 0.0, 0.0, 0.0, 0.0, 0.0, 0.0, 0.0, 0.0, 0.0, 0.0, 0.0, 0.0, 0.0, 0.0, 0.0, 0.0, 0.0, 0.0, 0.0, 0.0, 0.0, 0.0, 0.0, 0.0, 0.0, 0.0, 0.0, 0.0, 0.0, 0.0, 0.0, 0.0, 0.0, 0.0, 0.0, 0.0, 0.0, 0.0, 0.0, 0.0, 0.0, 0.0, 0.0, 0.0, 0.0, 0.0, 0.0, 0.0, 0.0, 0.0, 0.0, 0.0, 0.0, 0.0, 0.0, 0.0, 0.0, 0.0, 0.0, 0.0, 0.0, 0.0, 0.0, 0.0, 0.0, 0.0, 0.0, 0.0, 0.0, 0.0, 0.0, 0.0, 0.0, 0.0, 0.0, 0.0, 0.0, 0.0, 0.0, 0.0, 0.0, 0.0, 0.0, 0.0, 0.0, 0.0, 0.0, 0.0, 0.0, 0.0, 0.0, 0.0, 0.0, 0.0, 0.0, 0.0, 0.0, 0.0, 0.0, 0.0, 0.0, 0.0, 0.0, 0.0, 0.0, 0.0, 0.0, 0.0, 0.0, 0.0, 0.0, 0.0, 0.0, 0.0, 0.0, 0.0, 0.0, 0.0, 0.0, 0.0, 0.0, 0.0, 0.0, 0.0, 0.0, 0.0, 0.0, 0.0, 0.0, 0.0, 0.0, 0.0, 0.0, 0.0, 0.0, 0.0, 0.0, 0.0, 0.0, 0.0, 0.0, 0.0, 0.0, 0.0, 0.0, 0.0, 0.0, 0.0, 0.0, 0.0, 0.0, 0.0, 0.0, 0.0, 0.0, 0.0, 0.0, 0.0, 0.0, 0.0, 0.0, 0.0, 0.0, 0.0, 0.0, 0.0, 0.0, 0.0, 0.0, 0.0, 0.0, 0.0, 0.0, 0.0, 0.0, 0.0, 0.0, 0.0, 0.0, 0.0, 0.0, 0.0, 0.0, 0.0, 0.0, 0.0, 0.0, 0.0, 0.0, 0.0, 0.0, 0.0, 0.0, 0.0, 0.0, 0.0, 0.0, 0.0, 0.0, 0.0, 0.0, 0.0, 0.0, 0.0, 0.0, 0.0, 0.0, 0.0, 0.0, 0.0, 0.0, 0.0, 0.0, 0.0, 0.0, 0.0, 0.0, 0.0, 0.0, 0.0, 0.0, 0.0, 0.0, 0.0, 0.0, 0.0, 0.0, 0.0, 0.0, 0.0, 0.0, 0.0, 0.0, 0.0, 0.0, 0.0, 0.0, 0.0, 0.0, 0.0, 0.0, 0.0, 0.0, 0.0, 0.0, 0.0, 0.0, 0.0, 0.0, 0.0, 0.0, 0.0, 0.0, 0.0, 0.0, 0.0, 0.0, 0.0, 0.0, 0.0, 0.0, 0.0, 0.0, 0.0, 0.0, 0.0, 0.0, 0.0, 0.0, 0.0, 0.0, 0.0, 0.0, 0.0, 0.0, 0.0, 0.0, 0.0, 0.0, 0.0, 0.0, 0.0, 0.0, 0.0, 0.0, 0.0, 0.0, 0.0, 0.0, 0.0, 0.0, 0.0, 0.0, 0.0, 0.0, 0.0, 0.0, 0.0, 0.0, 0.0, 0.0, 0.0, 0.0, 0.0, 0.0, 0.0, 0.0, 0.0, 0.0, 0.0, 0.0, 0.0, 0.0, 0.0, 0.0, 0.0, 0.0, 0.0, 0.0, 0.0, 0.0, 0.0, 0.0, 0.0, 0.0, 0.0, 0.0, 0.0, 0.0, 0.0, 0.0, 0.0, 0.0, 0.0, 0.0, 0.0, 0.0, 0.0, 0.0, 0.0, 0.0, 0.0, 0.0, 0.0, 0.0, 0.0, 0.0, 0.0, 0.0, 0.0, 0.0, 0.0, 0.0, 0.0, 0.0, 0.0, 0.0, 0.0, 0.0, 0.0, 0.0, 0.0, 0.0, 0.0, 0.0, 0.0, 0.0, 0.0, 0.0, 0.0, 0.0, 0.0, 0.0, 0.0, 0.0, 0.0, 0.0, 0.0, 0.0, 0.0, 0.0, 0.0, 0.0, 0.0, 0.0, 0.0, 0.0, 0.0, 0.0, 0.0, 0.0, 0.0, 0.0, 0.0, 0.0, 0.0, 0.0, 0.0, 0.0, 0.0, 0.0, 0.0, 0.0, 0.0, 0.0, 0.0, 0.0, 0.0, 0.0, 0.0, 0.0, 0.0, 0.0, 0.0, 0.0, 0.0, 0.0, 0.0, 0.0, 0.0, 0.0, 0.0, 0.0, 0.0, 0.0, 0.0, 0.0, 0.0, 0.0, 0.0, 0.0, 0.0, 0.0, 0.0, 0.0, 0.0, 0.0, 0.0, 0.0, 0.0, 0.0, 0.0, 0.0, 0.0, 0.0, 0.0, 0.0, 0.0, 0.0, 0.0, 0.0, 0.0, 0.0, 0.0, 0.0, 0.0, 0.0, 0.0, 0.0, 0.0, 0.0, 0.0, 0.0, 0.0, 0.0, 0.0, 0.0, 0.0, 0.0, 0.0, 0.0, 0.0, 0.0, 0.0, 0.0, 0.0, 0.0, 0.0, 0.0, 0.0, 0.0, 0.0, 0.0, 0.0, 0.0, 0.0, 0.0, 0.0, 0.0, 0.0, 0.0, 0.0, 0.0, 0.0, 0.0, 0.0, 0.0, 0.0, 0.0, 0.0, 0.0, 0.0, 0.0, 0.0, 0.0, 0.0, 0.0, 0.0, 0.0, 0.0, 0.0, 0.0, 0.0, 0.0, 0.0, 0.0, 0.0, 0.0, 0.0, 0.0, 0.0, 0.0, 0.0, 0.0, 0.0, 0.0, 0.0, 0.0, 0.0, 0.0, 0.0, 0.0, 0.0, 0.0, 0.0, 0.0, 0.0, 0.0, 0.0, 0.0, 0.0, 0.0, 0.0, 0.0, 0.0, 0.0, 0.0, 0.0, 0.0, 0.0, 0.0, 0.0, 0.0, 0.0, 0.0, 0.0, 0.0, 0.0, 0.0, 0.0, 0.0, 0.0, 0.0, 0.0, 0.0, 0.0, 0.0, 0.0, 0.0, 0.0, 0.0, 0.0, 0.0, 0.0, 0.0, 0.0, 0.0, 0.0, 0.0, 0.0, 0.0, 0.0, 0.0, 0.0, 0.0, 0.0, 0.0, 0.0, 0.0, 0.0, 0.0, 0.0, 0.0, 0.0, 0.0, 0.0, 0.0, 0.0, 0.0, 0.0, 0.0, 0.0, 0.0, 0.0, 0.0, 0.0, 0.0, 0.0, 0.0, 0.0, 0.0, 0.0, 0.0, 0.0, 0.0, 0.0, 0.0, 0.0, 0.0, 0.0, 0.0, 0.0, 0.0, 0.0, 0.0, 0.0, 0.0, 0.0, 0.0, 0.0, 0.0, 0.0, 0.0, 0.0, 0.0, 0.0, 0.0, 0.0, 0.0, 0.0, 0.0, 0.0, 0.0, 0.0, 0.0, 0.0, 0.0, 0.0, 0.0, 0.0, 0.0, 0.0, 0.0, 0.0, 0.0, 0.0, 0.0, 0.0, 0.0, 0.0, 0.0, 0.0, 0.0, 0.0, 0.0, 0.0, 0.0, 0.0, 0.0, 0.0, 0.0, 0.0, 0.0, 0.0, 0.0, 0.0, 0.0, 0.0, 0.0, 0.0, 0.0, 0.0, 0.0, 0.0, 0.0, 0.0, 0.0, 0.0, 0.0, 0.0, 0.0, 0.0, 0.0, 0.0, 0.0, 0.0, 0.0, 0.0, 0.0, 0.0, 0.0, 0.0, 0.0, 0.0, 0.0, 0.0, 0.0, 0.0, 0.0, 0.0, 0.0, 0.0, 0.0, 0.0, 0.0, 0.0, 0.0, 0.0, 0.0, 0.0, 0.0, 0.0, 0.0, 0.0, 0.0, 0.0, 0.0, 0.0, 0.0, 0.0, 0.0, 0.0, 0.0, 0.0, 0.0, 0.0, 0.0, 0.0, 0.0, 0.0, 0.0, 0.0, 0.0, 0.0, 0.0, 0.0, 0.0, 0.0, 0.0, 0.0, 0.0, 0.0, 0.0, 0.0, 0.0, 0.0, 0.0, 0.0, 0.0, 0.0, 0.0, 0.0, 0.0, 0.0, 0.0, 0.0, 0.0, 0.0, 0.0, 0.0, 0.0, 0.0, 0.0, 0.0, 0.0, 0.0, 0.0, 0.0, 0.0, 0.0, 0.0, 0.0, 0.0, 0.0, 0.0, 0.0, 0.0, 0.0, 0.0, 0.0, 0.0, 0.0, 0.0, 0.0, 0.0, 0.0, 0.0, 0.0, 0.0, 0.0, 0.0, 0.0, 0.0, 0.0, 0.0, 0.0, 0.0, 0.0, 0.0, 0.0, 0.0, 0.0, 0.0, 0.0, 0.0, 0.0, 0.0, 0.0, 0.0, 0.0, 0.0, 0.0, 0.0, 0.0, 0.0, 0.0, 0.0, 0.0, 0.0, 0.0, 0.0, 0.0, 0.0, 0.0, 0.0, 0.0, 0.0, 0.0, 0.0, 0.0, 0.0, 0.0, 0.0, 0.0, 0.0, 0.0, 0.0, 0.0, 0.0, 0.0, 0.0, 0.0, 0.0, 0.0, 0.0, 0.0, 0.0, 0.0, 0.0, 0.0, 0.0, 0.0, 0.0, 0.0, 0.0, 0.0, 0.0, 0.0, 0.0, 0.0, 0.0, 0.0, 0.0, 0.0, 0.0, 0.0, 0.0, 0.0, 0.0, 0.0, 0.0, 0.0, 0.0, 0.0, 0.0, 0.0, 0.0, 0.0, 0.0, 0.0, 0.0, 0.0, 0.0, 0.0, 0.0, 0.0, 0.0, 0.0, 0.0, 0.0, 0.0, 0.0, 0.0, 0.0, 0.0, 0.0, 0.0, 0.0, 0.0, 0.0, 0.0, 0.0, 0.0, 0.0, 0.0, 0.0, 0.0, 0.0, 0.0, 0.0, 0.0, 0.0, 0.0, 0.0, 0.0, 0.0, 0.0, 0.0, 0.0, 0.0, 0.0, 0.0, 0.0, 0.0, 0.0, 0.0, 0.0, 0.0, 0.0, 0.0, 0.0, 0.0, 0.0, 0.0, 0.0, 0.0, 0.0, 0.0, 0.0, 0.0, 0.0, 0.0, 0.0, 0.0, 0.0, 0.0, 0.0, 0.0, 0.0, 0.0, 0.0, 0.0, 0.0, 0.0, 0.0, 0.0, 0.0, 0.0, 0.0, 0.0, 0.0, 0.0, 0.0, 0.0, 0.0, 0.0, 0.0, 0.0, 0.0, 0.0, 0.0, 0.0, 0.0, 0.0, 0.0, 0.0, 0.0, 0.0, 0.0, 0.0, 0.0, 0.0, 0.0, 0.0, 0.0, 0.0, 0.0, 0.0, 0.0, 0.0, 0.0, 0.0, 0.0, 0.0, 0.0, 0.0, 0.0, 0.0, 0.0, 0.0, 0.0, 0.0, 0.0, 0.0, 0.0, 0.0, 0.0, 0.0, 0.0, 0.0, 0.0, 0.0, 0.0, 0.0, 0.0, 0.0, 0.0, 0.0, 0.0, 0.0, 0.0, 0.0, 0.0, 0.0, 0.0, 0.0, 0.0, 0.0, 0.0, 0.0, 0.0, 0.0, 0.0, 0.0, 0.0, 0.0, 0.0, 0.0, 0.0, 0.0, 0.0, 0.0, 0.0, 0.0, 0.0, 0.0, 0.0, 0.0, 0.0, 0.0, 0.0, 0.0, 0.0, 0.0, 0.0, 0.0, 0.0, 0.0, 0.0, 0.0, 0.0, 0.0, 0.0, 0.0, 0.0, 0.0, 0.0, 0.0, 0.0, 0.0, 0.0, 0.0, 0.0, 0.0, 0.0, 0.0, 0.0, 0.0, 0.0, 0.0, 0.0, 0.0, 0.0, 0.0, 0.0, 0.0, 0.0, 0.0, 0.0, 0.0, 0.0, 0.0, 0.0, 0.0, 0.0, 0.0, 0.0, 0.0, 0.0, 0.0, 0.0, 0.0, 0.0, 0.0, 0.0, 0.0, 0.0, 0.0, 0.0, 0.0, 0.0, 0.0, 0.0, 0.0, 0.0, 0.0, 0.0, 0.0, 0.0, 0.0, 0.0, 0.0, 0.0, 0.0, 0.0, 0.0, 0.0, 0.0, 0.0, 0.0, 0.0, 0.0, 0.0, 0.0, 0.0, 0.0, 0.0, 0.0, 0.0, 0.0, 0.0, 0.0, 0.0, 0.0, 0.0, 0.0, 0.0, 0.0, 0.0, 0.0, 0.0, 0.0, 0.0, 0.0, 0.0, 0.0, 0.0, 0.0, 0.0, 0.0, 0.0, 0.0, 0.0, 0.0, 0.0, 0.0, 0.0, 0.0, 0.0, 0.0, 0.0, 0.0, 0.0, 0.0, 0.0, 0.0, 0.0, 0.0, 0.0, 0.0, 0.0, 0.0, 0.0, 0.0, 0.0, 0.0, 0.0, 0.0, 0.0, 0.0, 0.0, 0.0, 0.0, 0.0, 0.0, 0.0, 0.0, 0.0, 0.0, 0.0, 0.0, 0.0, 0.0, 0.0, 0.0, 0.0, 0.0, 0.0, 0.0, 0.0, 0.0, 0.0, 0.0, 0.0, 0.0, 0.0, 0.0, 0.0, 0.0, 0.0, 0.0, 0.0, 0.0, 0.0, 0.0, 0.0, 0.0, 0.0, 0.0, 0.0, 0.0, 0.0, 0.0, 0.0, 0.0, 0.0, 0.0, 0.0, 0.0, 0.0, 0.0, 0.0, 0.0, 0.0, 0.0, 0.0, 0.0, 0.0, 0.0, 0.0, 0.0, 0.0, 0.0, 0.0, 0.0, 0.0, 0.0, 0.0, 0.0, 0.0, 0.0, 0.0, 0.0, 0.0, 0.0, 0.0, 0.0, 0.0, 0.0, 0.0, 0.0, 0.0, 0.0, 0.0, 0.0, 0.0, 0.0, 0.0, 0.0, 0.0, 0.0, 0.0, 0.0, 0.0, 0.0, 0.0, 0.0, 0.0, 0.0, 0.0, 0.0, 0.0, 0.0, 0.0, 0.0, 0.0, 0.0, 0.0, 0.0, 0.0, 0.0, 0.0, 0.0, 0.0, 0.0, 0.0, 0.0, 0.0, 0.0, 0.0, 0.0, 0.0, 0.0, 0.0, 0.0, 0.0, 0.0, 0.0, 0.0, 0.0, 0.0, 0.0, 0.0, 0.0, 0.0, 0.0, 0.0, 0.0, 0.0, 0.0, 0.0, 0.0, 0.0, 0.0, 0.0, 0.0, 0.0, 0.0, 0.0, 0.0, 0.0, 0.0, 0.0, 0.0, 0.0, 0.0, 0.0, 0.0, 0.0, 0.0, 0.0, 0.0, 0.0, 0.0, 0.0, 0.0, 0.0, 0.0, 0.0, 0.0, 0.0, 0.0, 0.0, 0.0, 0.0, 0.0, 0.0, 0.0, 0.0, 0.0, 0.0, 0.0, 0.0, 0.0, 0.0, 0.0, 0.0, 0.0, 0.0, 0.0, 0.0, 0.0, 0.0, 0.0, 0.0, 0.0, 0.0, 0.0, 0.0, 0.0, 0.0, 0.0, 0.0, 0.0, 0.0, 0.0, 0.0, 0.0, 0.0, 0.0, 0.0, 0.0, 0.0, 0.0, 0.0, 0.0, 0.0, 0.0, 0.0, 0.0, 0.0, 0.0, 0.0, 0.0, 0.0, 0.0, 0.0, 0.0, 0.0, 0.0, 0.0, 0.0, 0.0, 0.0, 0.0, 0.0, 0.0, 0.0, 0.0, 0.0, 0.0, 0.0, 0.0, 0.0, 0.0, 0.0, 0.0, 0.0, 0.0, 0.0, 0.0, 0.0, 0.0, 0.0, 0.0, 0.0, 0.0, 0.0, 0.0, 0.0, 0.0, 0.0, 0.0, 0.0, 0.0, 0.0, 0.0, 0.0, 0.0, 0.0, 0.0, 0.0, 0.0, 0.0, 0.0, 0.0, 0.0, 0.0, 0.0, 0.0, 0.0, 0.0, 0.0, 0.0, 0.0, 0.0, 0.0, 0.0, 0.0, 0.0, 0.0, 0.0, 0.0, 0.0, 0.0, 0.0, 0.0, 0.0, 0.0, 0.0, 0.0, 0.0, 0.0, 0.0, 0.0, 0.0, 0.0, 0.0, 0.0, 0.0, 0.0, 0.0, 0.0, 0.0, 0.0, 0.0, 0.0, 0.0, 0.0, 0.0, 0.0, 0.0, 0.0, 0.0, 0.0, 0.0, 0.0, 0.0, 0.0, 0.0, 0.0, 0.0, 0.0, 0.0, 0.0, 0.0, 0.0, 0.0, 0.0, 0.0, 0.0, 0.0, 0.0, 0.0, 0.0, 0.0, 0.0, 0.0, 0.0, 0.0, 0.0, 0.0, 0.0, 0.0, 0.0, 0.0, 0.0, 0.0, 0.0, 0.0, 0.0, 0.0, 0.0, 0.0, 0.0, 0.0, 0.0, 0.0, 0.0, 0.0, 0.0, 0.0, 0.0, 0.0, 0.0, 0.0, 0.0, 0.0, 0.0, 0.0, 0.0, 0.0, 0.0, 0.0, 0.0, 0.0, 0.0, 0.0, 0.0, 0.0, 0.0, 0.0, 0.0, 0.0, 0.0, 0.0, 0.0, 0.0, 0.0, 0.0, 0.0, 0.0, 0.0, 0.0, 0.0, 0.0, 0.0, 0.0, 0.0, 0.0, 0.0, 0.0, 0.0, 0.0, 0.0, 0.0, 0.0, 0.0, 0.0, 0.0, 0.0, 0.0, 0.0, 0.0, 0.0, 0.0, 0.0, 0.0, 0.0, 0.0, 0.0, 0.0, 0.0, 0.0, 0.0, 0.0, 0.0, 0.0, 0.0, 0.0, 0.0, 0.0, 0.0, 0.0, 0.0, 0.0, 0.0, 0.0, 0.0, 0.0, 0.0, 0.0, 0.0, 0.0, 0.0, 0.0, 0.0, 0.0, 0.0, 0.0, 0.0, 0.0, 0.0, 0.0, 0.0, 0.0, 0.0, 0.0, 0.0, 0.0, 0.0, 0.0, 0.0, 0.0, 0.0, 0.0, 0.0, 0.0, 0.0, 0.0, 0.0, 0.0, 0.0, 0.0, 0.0, 0.0, 0.0, 0.0, 0.0, 0.0, 0.0, 0.0, 0.0, 0.0, 0.0, 0.0, 0.0, 0.0, 0.0, 0.0, 0.0, 0.0, 0.0, 0.0, 0.0, 0.0, 0.0, 0.0, 0.0, 0.0, 0.0, 0.0, 0.0, 0.0, 0.0, 0.0, 0.0, 0.0, 0.0, 0.0, 0.0, 0.0, 0.0, 0.0, 0.0, 0.0, 0.0, 0.0, 0.0, 0.0, 0.0, 0.0, 0.0, 0.0, 0.0, 0.0, 0.0, 0.0, 0.0, 0.0, 0.0, 0.0, 0.0, 0.0, 0.0, 0.0, 0.0, 0.0, 0.0, 0.0, 0.0, 0.0, 0.0, 0.0, 0.0, 0.0, 0.0]\n",
      "Forces: [0.0, 303, 1.1, 0.59, 0.56, 0.56, 0.59, 0.56, 0.56, 0.59, 0.56, 0.56, 0.59, 0.56, 0.56, 0.59, 0.56, 0.56, 0.59, 0.56, 0.56, 0.59, 0.56, 0.56, 0.59, 0.56, 0.56, 0.59, 0.56, 0.56, 0.59, 0.56, 0.56, 0.59, 0.56, 0.56, 0.59, 0.56, 0.56, 0.59, 0.56, 0.56, 0.59, 0.56, 0.56, 0.59, 0.56, 0.56, 0.59, 0.56, 0.56, 0.59, 0.56, 0.56, 0.59, 0.56, 0.56, 0.59, 0.56, 0.56, 0.59, 0.56, 0.56, 0.59, 0.56, 0.56, 0.59, 0.56, 0.56, 0.59, 0.56, 0.56, 0.59, 0.56, 0.56, 0.59, 0.56, 0.56, 0.59, 0.56, 0.56, 0.59, 0.56, 0.56, 0.59, 0.56, 0.56, 0.59, 0.56, 0.56, 0.59, 0.56, 0.56, 0.59, 0.56, 0.56, 0.59, 0.56, 0.56, 0.59, 0.56, 0.56, 0.59, 0.56, 0.56, 0.59, 0.56, 0.56, 0.59, 0.56, 0.56, 0.59, 0.56, 0.56, 0.59, 0.56, 0.56, 0.59, 0.56, 0.56, 0.59, 0.56, 0.56, 0.59, 0.56, 0.56, 0.59, 0.56, 0.56, 0.59, 0.56, 0.56, 0.59, 0.56, 0.56, 0.59, 0.56, 0.56, 0.59, 0.56, 0.56, 0.59, 0.56, 0.56, 0.59, 0.56, 0.56, 0.59, 0.56, 0.56, 0.59, 0.56, 0.56, 0.59, 0.56, 0.56, 0.59, 0.56, 0.56, 0.59, 0.56, 0.56, 0.59, 0.56, 0.56, 0.59, 0.56, 0.56, 0.59, 0.56, 0.56, 0.59, 0.56, 0.56, 0.59, 0.56, 0.56, 0.59, 0.56, 0.56, 0.59, 0.56, 0.56, 0.59, 0.56, 0.56, 0.59, 0.56, 0.56, 0.59, 0.56, 0.56, 0.59, 0.56, 0.56, 0.59, 0.56, 0.56, 0.59, 0.56, 0.56, 0.59, 0.56, 0.56, 0.59, 0.56, 0.56, 0.59, 0.56, 0.56, 0.59, 0.56, 0.56, 0.59, 0.56, 0.56, 0.59, 0.56, 0.56, 0.59, 0.56, 0.56, 0.59, 0.56, 0.56, 0.59, 0.56, 0.56, 0.59, 0.56, 0.56, 0.59, 0.56, 0.56, 0.59, 0.56, 0.56, 0.59, 0.56, 0.56, 0.59, 0.56, 0.56, 0.59, 0.56, 0.56, 0.59, 0.56, 0.56, 0.59, 0.56, 0.56, 0.59, 0.56, 0.56, 0.59, 0.56, 0.56, 0.59, 0.56, 0.56, 0.59, 0.56, 0.56, 0.59, 0.56, 0.56, 0.59, 0.56, 0.56, 0.59, 0.56, 0.56, 0.59, 0.56, 0.56, 0.59, 0.56, 0.56, 0.59, 0.56, 0.56, 0.59, 0.56, 0.56, 0.59, 0.56, 0.56, 0.59, 0.56, 0.56, 0.59, 0.56, 0.56, 0.59, 0.56, 0.56, 0.59, 0.56, 0.56, 0.59, 0.56, 0.56, 0.59, 0.56, 0.56, 0.59, 0.56, 0.56, 0.59, 0.56, 0.56, 0.59, 0.56, 0.56, 0.59, 0.56, 0.56, 0.59, 0.56, 0.56, 0.59, 0.56, 0.56, 0.59, 0.56, 0.56, 0.59, 0.56, 0.56, 0.59, 0.56, 0.56, 0.59, 0.56, 0.56, 0.59, 0.56, 0.56, 0.59, 0.56, 0.56, 0.59, 0.56, 0.56, 0.59, 0.56, 0.56, 0.59, 0.56, 0.56, 0.59, 0.56, 0.56, 0.59, 0.56, 0.56, 0.59, 0.56, 0.56, 0.59, 0.56, 0.56, 0.59, 0.56, 0.56, 0.59, 0.56, 0.56, 0.59, 0.56, 0.56, 0.59, 0.56, 0.56, 0.59, 0.56, 0.56, 0.59, 0.56, 0.56, 0.59, 0.56, 0.56, 0.59, 0.56, 0.56, 0.59, 0.56, 0.56, 0.59, 0.56, 0.56, 0.59, 0.56, 0.56, 0.59, 0.56, 0.56, 0.59, 0.56, 0.56, 0.59, 0.56, 0.56, 0.59, 0.56, 0.56, 0.59, 0.56, 0.56, 0.59, 0.56, 0.56, 0.59, 0.56, 0.56, 0.59, 0.56, 0.56, 0.59, 0.56, 0.56, 0.59, 0.56, 0.56, 0.59, 0.56, 0.56, 0.59, 0.56, 0.56, 0.59, 0.56, 0.56, 0.59, 0.56, 0.56, 0.59, 0.56, 0.56, 0.59, 0.56, 0.56, 0.59, 0.56, 0.56, 0.59, 0.56, 0.56, 0.59, 0.56, 0.56, 0.59, 0.56, 0.56, 0.59, 0.56, 0.56, 0.59, 0.56, 0.56, 0.59, 0.56, 0.56, 0.59, 0.56, 0.56, 0.59, 0.56, 0.56, 0.59, 0.56, 0.56, 0.59, 0.56, 0.56, 0.59, 0.56, 0.56, 0.59, 0.56, 0.56, 0.59, 0.56, 0.56, 0.59, 0.56, 0.56, 0.59, 0.56, 0.56, 0.59, 0.56, 0.56, 0.59, 0.56, 0.56, 0.59, 0.56, 0.56, 0.59, 0.56, 0.56, 0.59, 0.56, 0.56, 0.59, 0.56, 0.56, 0.59, 0.56, 0.56, 0.59, 0.56, 0.56, 0.59, 0.56, 0.56, 0.59, 0.56, 0.56, 0.59, 0.56, 0.56, 0.59, 0.56, 0.56, 0.59, 0.56, 0.56, 0.59, 0.56, 0.56, 0.59, 0.56, 0.56, 0.59, 0.56, 0.56, 0.59, 0.56, 0.56, 0.59, 0.56, 0.56, 0.59, 0.56, 0.56, 0.59, 0.56, 0.56, 0.59, 0.56, 0.56, 0.59, 0.56, 0.56, 0.59, 0.56, 0.56, 0.59, 0.56, 0.56, 0.59, 0.56, 0.56, 0.59, 0.56, 0.56, 0.59, 0.56, 0.56, 0.59, 0.56, 0.56, 0.59, 0.56, 0.56, 0.59, 0.56, 0.56, 0.59, 0.56, 0.56, 0.59, 0.56, 0.56, 0.59, 0.56, 0.56, 0.59, 0.56, 0.56, 0.59, 0.56, 0.56, 0.59, 0.56, 0.56, 0.59, 0.56, 0.56, 0.59, 0.56, 0.56, 0.59, 0.56, 0.56, 0.59, 0.56, 0.56, 0.59, 0.56, 0.56, 0.59, 0.56, 0.56, 0.59, 0.56, 0.56, 0.59, 0.56, 0.56, 0.59, 0.56, 0.56, 0.59, 0.56, 0.56, 0.59, 0.56, 0.56, 0.59, 0.56, 0.56, 0.59, 0.56, 0.56, 0.59, 0.56, 0.56, 0.59, 0.56, 0.56, 0.59, 0.56, 0.56, 0.59, 0.56, 0.56, 0.59, 0.56, 0.56, 0.59, 0.56, 0.56, 0.59, 0.56, 0.56, 0.59, 0.56, 0.56, 0.59, 0.56, 0.56, 0.59, 0.56, 0.56, 0.59, 0.56, 0.56, 0.59, 0.56, 0.56, 0.59, 0.56, 0.56, 0.59, 0.56, 0.56, 0.59, 0.56, 0.56, 0.59, 0.56, 0.56, 0.59, 0.56, 0.56, 0.59, 0.56, 0.56, 0.59, 0.56, 0.56, 0.59, 0.56, 0.56, 0.59, 0.56, 0.56, 0.59, 0.56, 0.56, 0.59, 0.56, 0.56, 0.59, 0.56, 0.56, 0.59, 0.56, 0.56, 0.59, 0.56, 0.56, 0.59, 0.56, 0.56, 0.59, 0.56, 0.56, 0.59, 0.56, 0.56, 0.59, 0.56, 0.56, 0.59, 0.56, 0.56, 0.59, 0.56, 0.56, 0.59, 0.56, 0.56, 0.59, 0.56, 0.56, 0.59, 0.56, 0.56, 0.59, 0.56, 0.56, 0.59, 0.56, 0.56, 0.59, 0.56, 0.56, 0.59, 0.56, 0.56, 0.59, 0.56, 0.56, 0.59, 0.56, 0.56, 0.59, 0.56, 0.56, 0.59, 0.56, 0.56, 0.59, 0.56, 0.56, 0.59, 0.56, 0.56, 0.59, 0.56, 0.56, 0.59, 0.56, 0.56, 0.59, 0.56, 0.56, 0.59, 0.56, 0.56, 0.59, 0.56, 0.56, 0.59, 0.56, 0.56, 0.59, 0.56, 0.56, 0.59, 0.56, 0.56, 0.59, 0.56, 0.56, 0.59, 0.56, 0.56, 0.59, 0.56, 0.56, 0.59, 0.56, 0.56, 0.59, 0.56, 0.56, 0.59, 0.56, 0.56, 0.59, 0.56, 0.56, 0.59, 0.56, 0.56, 0.59, 0.56, 0.56, 0.59, 0.56, 0.56, 0.59, 0.56, 0.56, 0.59, 0.56, 0.56, 0.59, 0.56, 0.56, 0.59, 0.56, 0.56, 0.59, 0.56, 0.56, 0.59, 0.56, 0.56, 0.59, 0.56, 0.56, 0.59, 0.56, 0.56, 0.59, 0.56, 0.56, 0.59, 0.56, 0.56, 0.59, 0.56, 0.56, 0.59, 0.56, 0.56, 0.59, 0.56, 0.56, 0.59, 0.56, 0.56, 0.59, 0.56, 0.56, 0.59, 0.56, 0.56, 0.59, 0.56, 0.56, 0.59, 0.56, 0.56, 0.59, 0.56, 0.56, 0.59, 0.56, 0.56, 0.59, 0.56, 0.56, 0.59, 0.56, 0.56, 0.59, 0.56, 0.56, 0.59, 0.56, 0.56, 0.59, 0.56, 0.56, 0.59, 0.56, 0.56, 0.59, 0.56, 0.56, 0.59, 0.56, 0.56, 0.59, 0.56, 0.56, 0.59, 0.56, 0.56, 0.59, 0.56, 0.56, 0.59, 0.56, 0.56, 0.59, 0.56, 0.56, 0.59, 0.56, 0.56, 0.59, 0.56, 0.56, 0.59, 0.56, 0.56, 0.59, 0.56, 0.56, 0.59, 0.56, 0.56, 0.59, 0.56, 0.56, 0.59, 0.56, 0.56, 0.59, 0.56, 0.56, 0.59, 0.56, 0.56, 0.59, 0.56, 0.56, 0.59, 0.56, 0.56, 0.59, 0.56, 0.56, 0.59, 0.56, 0.56, 0.59, 0.56, 0.56, 0.59, 0.56, 0.56, 0.59, 0.56, 0.56, 0.59, 0.56, 0.56, 0.59, 0.56, 0.56, 0.59, 0.56, 0.56, 0.59, 0.56, 0.56, 0.59, 0.56, 0.56, 0.59, 0.56, 0.56, 0.59, 0.56, 0.56, 0.59, 0.56, 0.56, 0.59, 0.56, 0.56, 0.59, 0.56, 0.56, 0.59, 0.56, 0.56, 0.59, 0.56, 0.56, 0.59, 0.56, 0.56, 0.59, 0.56, 0.56, 0.59, 0.56, 0.56, 0.59, 0.56, 0.56, 0.59, 0.56, 0.56, 0.59, 0.56, 0.56, 0.59, 0.56, 0.56, 0.59, 0.56, 0.56, 0.59, 0.56, 0.56, 0.59, 0.56, 0.56, 0.59, 0.56, 0.56, 0.59, 0.56, 0.56, 0.59, 0.56, 0.56, 0.59, 0.56, 0.56, 0.59, 0.56, 0.56, 0.59, 0.56, 0.56, 0.59, 0.56, 0.56, 0.59, 0.56, 0.56, 0.59, 0.56, 0.56, 0.59, 0.56, 0.56, 0.59, 0.56, 0.56, 0.59, 0.56, 0.56, 0.59, 0.56, 0.56, 0.59, 0.56, 0.56, 0.59, 0.56, 0.56, 0.59, 0.56, 0.56, 0.59, 0.56, 0.56, 0.59, 0.56, 0.56, 0.59, 0.56, 0.56, 0.59, 0.56, 0.56, 0.59, 0.56, 0.56, 0.59, 0.56, 0.56, 0.59, 0.56, 0.56, 0.59, 0.56, 0.56, 0.59, 0.56, 0.56, 0.59, 0.56, 0.56, 0.59, 0.56, 0.56, 0.59, 0.56, 0.56, 0.59, 0.56, 0.56, 0.59, 0.56, 0.56, 0.59, 0.56, 0.56, 0.59, 0.56, 0.56, 0.59, 0.56, 0.56, 0.59, 0.56, 0.56, 0.59, 0.56, 0.56, 0.59, 0.56, 0.56, 0.59, 0.56, 0.56, 0.59, 0.56, 0.56, 0.59, 0.56, 0.56, 0.59, 0.56, 0.56, 0.59, 0.56, 0.56, 0.59, 0.56, 0.56, 0.59, 0.56, 0.56, 0.59, 0.56, 0.56, 0.59, 0.56, 0.56, 0.59, 0.56, 0.56, 0.59, 0.56, 0.56, 0.59, 0.56, 0.56, 0.59, 0.56, 0.56, 0.59, 0.56, 0.56, 0.59, 0.56, 0.56, 0.59, 0.56, 0.56, 0.59, 0.56, 0.56, 0.59, 0.56, 0.56, 0.59, 0.56, 0.56, 0.59, 0.56, 0.56, 0.59, 0.56, 0.56, 0.59, 0.56, 0.56, 0.59, 0.56, 0.56, 0.59, 0.56, 0.56, 0.59, 0.56, 0.56, 0.59, 0.56, 0.56, 0.59, 0.56, 0.56, 0.59, 0.56, 0.56, 0.59, 0.56, 0.56, 0.59, 0.56, 0.56, 0.59, 0.56, 0.56, 0.59, 0.56, 0.56, 0.59, 0.56, 0.56, 0.59, 0.56, 0.56, 0.59, 0.56, 0.56, 0.59, 0.56, 0.56, 0.59, 0.56, 0.56, 0.59, 0.56, 0.56, 0.59, 0.56, 0.56, 0.59, 0.56, 0.56, 0.59, 0.56, 0.56, 0.59, 0.56, 0.56, 0.59, 0.56, 0.56, 0.59, 0.56, 0.56, 0.59, 0.56, 0.56, 0.59, 0.56, 0.56, 0.59, 0.56, 0.56, 0.59, 0.56, 0.56, 0.59, 0.56, 0.56, 0.59, 0.56, 0.56, 0.59, 0.56, 0.56, 0.59, 0.56, 0.56, 0.59, 0.56, 0.56, 0.59, 0.56, 0.56, 0.59, 0.56, 0.56, 0.59, 0.56, 0.56, 0.59, 0.56, 0.56, 0.59, 0.56, 0.56, 0.59, 0.56, 0.56, 0.59, 0.56, 0.56, 0.59, 0.56, 0.56, 0.59, 0.56, 0.56, 0.59, 0.56, 0.56, 0.59, 0.56, 0.56, 0.59, 0.56, 0.56, 0.59, 0.56, 0.56, 0.59, 0.56, 0.56, 0.59, 0.56, 0.56, 0.59, 0.56, 0.56, 0.59, 0.56, 0.56, 0.59, 0.56, 0.56, 0.59, 0.56, 0.56, 0.59, 0.56, 0.56, 0.59, 0.56, 0.56, 0.59, 0.56, 0.56, 0.59, 0.56, 0.56, 0.59, 0.56, 0.56, 0.59, 0.56, 0.56, 0.59, 0.56, 0.56, 0.59, 0.56, 0.56, 0.59, 0.56, 0.56, 0.59, 0.56, 0.56, 0.59, 0.56, 0.56, 0.59, 0.56, 0.56, 0.59, 0.56, 0.56, 0.59, 0.56, 0.56, 0.59, 0.56, 0.56, 0.59, 0.56, 0.56, 0.59, 0.56, 0.56, 0.59, 0.56, 0.56, 0.59, 0.56, 0.56, 0.59, 0.56, 0.56, 0.59, 0.56, 0.56, 0.59, 0.56, 0.56, 0.59, 0.56, 0.56, 0.59, 0.56, 0.56, 0.59, 0.56, 0.56, 0.59, 0.56, 0.56, 0.59, 0.56, 0.56, 0.59, 0.56, 0.56, 0.59, 0.56, 0.56, 0.59, 0.56, 0.56, 0.59, 0.56, 0.56, 0.59, 0.56, 0.56, 0.59, 0.56, 0.56, 0.59, 0.56, 0.56, 0.59, 0.56, 0.56, 0.59, 0.56, 0.56, 0.59, 0.56, 0.56, 0.59, 0.56, 0.56, 0.59, 0.56, 0.56, 0.59, 0.56, 0.56, 0.59, 0.56, 0.56, 0.59, 0.56, 0.56, 0.59, 0.56, 0.56, 0.59, 0.56, 0.56, 0.59, 0.56, 0.56, 0.59, 0.56, 0.56, 0.59, 0.56, 0.56, 0.59, 0.56, 0.56, 0.59, 0.56, 0.56, 0.59, 0.56, 0.56, 0.59, 0.56, 0.56, 0.59, 0.56, 0.56, 0.59, 0.56, 0.56, 0.59, 0.56, 0.56, 0.59, 0.56, 0.56, 0.59, 0.56, 0.56, 0.59, 0.56, 0.56, 0.59, 0.56, 0.56, 0.59, 0.56, 0.56, 0.59, 0.56, 0.56, 0.59, 0.56, 0.56, 0.59, 0.56, 0.56, 0.59, 0.56, 0.56, 0.59, 0.56, 0.56, 0.59, 0.56, 0.56, 0.59, 0.56, 0.56, 0.59, 0.56, 0.56, 0.59, 0.56, 0.56, 0.59, 0.56, 0.56, 0.59, 0.56, 0.56, 0.59, 0.56, 0.56, 0.59, 0.56, 0.56, 0.59, 0.56, 0.56, 0.59, 0.56, 0.56, 0.59, 0.56, 0.56, 0.59, 0.56, 0.56, 0.59, 0.56, 0.56, 0.59, 0.56, 0.56, 0.59, 0.56, 0.56, 0.59, 0.56, 0.56, 0.59, 0.56, 0.56, 0.59, 0.56, 0.56, 0.59, 0.56, 0.56, 0.59, 0.56, 0.56, 0.59, 0.56, 0.56, 0.59, 0.56, 0.56, 0.59, 0.56, 0.56, 0.59, 0.56, 0.56, 0.59, 0.56, 0.56, 0.59, 0.56, 0.56, 0.59, 0.56, 0.56, 0.59, 0.56, 0.56, 0.59, 0.56, 0.56, 0.59, 0.56, 0.56, 0.59, 0.56, 0.56, 0.59, 0.56, 0.56, 0.59, 0.56, 0.56, 0.59, 0.56, 0.56, 0.59, 0.56, 0.56, 0.59, 0.56, 0.56, 0.59, 0.56, 0.56, 0.59, 0.56, 0.56, 0.59, 0.56, 0.56, 0.59, 0.56, 0.56, 0.59, 0.56, 0.56, 0.59, 0.56, 0.56, 0.59, 0.56, 0.56, 0.59, 0.56, 0.56, 0.59, 0.56, 0.56, 0.59, 0.56, 0.56, 0.59, 0.56, 0.56, 0.59, 0.56, 0.56, 0.59, 0.56, 0.56, 0.59, 0.56, 0.56, 0.59, 0.56, 0.56, 0.59, 0.56, 0.56, 0.59, 0.56, 0.56, 0.59, 0.56, 0.56, 0.59, 0.56, 0.56, 0.59, 0.56, 0.56, 0.59, 0.56, 0.56, 0.59, 0.56, 0.56, 0.59, 0.56, 0.56, 0.59, 0.56, 0.56, 0.59, 0.56, 0.56, 0.59, 0.56, 0.56, 0.59, 0.56, 0.56, 0.59, 0.56, 0.56, 0.59, 0.56, 0.56, 0.59, 0.56, 0.56, 0.59, 0.56, 0.56, 0.59, 0.56, 0.56, 0.59, 0.56, 0.56, 0.59, 0.56, 0.56, 0.59, 0.56, 0.56, 0.59, 0.56, 0.56, 0.59, 0.56, 0.56, 0.59, 0.56, 0.56, 0.59, 0.56, 0.56, 0.59, 0.56, 0.56, 0.59, 0.56, 0.56, 0.59, 0.56, 0.56, 0.59, 0.56, 0.56, 0.59, 0.56, 0.56, 0.59, 0.56, 0.56, 0.59, 0.56, 0.56, 0.59, 0.56, 0.56, 0.59, 0.56, 0.56, 0.59, 0.56, 0.56, 0.59, 0.56, 0.56, 0.59, 0.56, 0.56, 0.59, 0.56, 0.56, 0.59, 0.56, 0.56, 0.59, 0.56, 0.56, 0.59, 0.56, 0.56, 0.59, 0.56, 0.56, 0.59, 0.56, 0.56, 0.59, 0.56, 0.56, 0.59, 0.56, 0.56, 0.59, 0.56, 0.56, 0.59, 0.56, 0.56, 0.59, 0.56, 0.56, 0.59, 0.56, 0.56, 0.59, 0.56, 0.56, 0.59, 0.56, 0.56, 0.59, 0.56, 0.56, 0.59, 0.56, 0.56, 0.59, 0.56, 0.56, 0.59, 0.56, 0.56, 0.59, 0.56, 0.56, 0.59, 0.56, 0.56, 0.59, 0.56, 0.56, 0.59, 0.56, 0.56, 0.59, 0.56, 0.56, 0.59, 0.56, 0.56, 0.59, 0.56, 0.56, 0.59, 0.56, 0.56, 0.59, 0.56, 0.56, 0.59, 0.56, 0.56, 0.59, 0.56, 0.56, 0.59, 0.56, 0.56, 0.59, 0.56, 0.56, 0.59, 0.56, 0.56, 0.59, 0.56, 0.56, 0.59, 0.56, 0.56, 0.59, 0.56, 0.56, 0.59, 0.56, 0.56, 0.59, 0.56, 0.56, 0.59, 0.56, 0.56, 0.59, 0.56, 0.56, 0.59, 0.56, 0.56, 0.59, 0.56, 0.56, 0.59, 0.56, 0.56, 0.59, 0.56, 0.56, 0.59, 0.56, 0.56, 0.59, 0.56, 0.56, 0.59, 0.56, 0.56, 0.59, 0.56, 0.56, 0.59, 0.56, 0.56, 0.59, 0.56, 0.56, 0.59, 0.56, 0.56, 0.59, 0.56, 0.56, 0.59, 0.56, 0.56, 0.59, 0.56, 0.56, 0.59, 0.56, 0.56, 0.59, 0.56, 0.56, 0.59, 0.56, 0.56, 0.59, 0.56, 0.56, 0.59, 0.56, 0.56, 0.59, 0.56, 0.56, 0.59, 0.56, 0.56, 0.59, 0.56, 0.56, 0.59, 0.56, 0.56, 0.59, 0.56, 0.56, 0.59, 0.56, 0.56, 0.59, 0.56, 0.56, 0.59, 0.56, 0.56, 0.59, 0.56, 0.56, 0.59, 0.56, 0.56, 0.59, 0.56, 0.56, 0.59, 0.56, 0.56, 0.59, 0.56, 0.56, 0.59, 0.56, 0.56, 0.59, 0.56, 0.56, 0.59, 0.56, 0.56, 0.59, 0.56, 0.56, 0.59, 0.56, 0.56, 0.59, 0.56, 0.56, 0.59, 0.56, 0.56, 0.59, 0.56, 0.56, 0.59, 0.56, 0.56, 0.59, 0.56, 0.56, 0.59, 0.56, 0.56, 0.59, 0.56, 0.56, 0.59, 0.56, 0.56, 0.59, 0.56, 0.56, 0.59, 0.56, 0.56, 0.59, 0.56, 0.56, 0.59, 0.56, 0.56, 0.59, 0.56, 0.56, 0.59, 0.56, 0.56, 0.59, 0.56, 0.56, 0.59, 0.56, 0.56, 0.59, 0.56, 0.56, 0.59, 0.56, 0.56, 0.59, 0.56, 0.56, 0.59, 0.56, 0.56, 0.59, 0.56, 0.56, 0.59, 0.56, 0.56, 0.59, 0.56, 0.56, 0.59, 0.56, 0.56, 0.59, 0.56, 0.56, 0.59, 0.56, 0.56, 0.59, 0.56, 0.56, 0.59, 0.56, 0.56, 0.59, 0.56, 0.56, 0.59, 0.56, 0.56, 0.59, 0.56, 0.56, 0.59, 0.56, 0.56, 0.59, 0.56, 0.56, 0.59, 0.56, 0.56, 0.59, 0.56, 0.56, 0.59, 0.56, 0.56, 0.59, 0.56, 0.56, 0.59, 0.56, 0.56, 0.59, 0.56, 0.56, 0.59, 0.56, 0.56, 0.59, 0.56, 0.56, 0.59, 0.56, 0.56, 0.59, 0.56, 0.56, 0.59, 0.56, 0.56, 0.59, 0.56, 0.56, 0.59, 0.56, 0.56, 0.59, 0.56, 0.56, 0.59, 0.56, 0.56, 0.59, 0.56, 0.56, 0.59, 0.56, 0.56, 0.59, 0.56, 0.56, 0.59, 0.56, 0.56, 0.59, 0.56, 0.56, 0.59, 0.56, 0.56, 0.59, 0.56, 0.56, 0.59, 0.56, 0.56, 0.59, 0.56, 0.56, 0.59, 0.56, 0.56, 0.59, 0.56, 0.56, 0.59, 0.56, 0.56, 0.59, 0.56, 0.56, 0.59, 0.56, 0.56, 0.59, 0.56, 0.56, 0.59, 0.56, 0.56, 0.59, 0.56, 0.56, 0.59, 0.56, 0.56, 0.59, 0.56, 0.56, 0.59, 0.56, 0.56, 0.59, 0.56, 0.56, 0.59, 0.56, 0.56, 0.59, 0.56, 0.56, 0.59, 0.56, 0.56, 0.59, 0.56, 0.56, 0.59, 0.56, 0.56, 0.59, 0.56, 0.56, 0.59, 0.56, 0.56, 0.59, 0.56, 0.56, 0.59, 0.56, 0.56, 0.59, 0.56, 0.56, 0.59, 0.56, 0.56, 0.59, 0.56, 0.56, 0.59, 0.56, 0.56, 0.59, 0.56, 0.56, 0.59, 0.56, 0.56, 0.59, 0.56, 0.56, 0.59, 0.56, 0.56, 0.59, 0.56, 0.56, 0.59, 0.56, 0.56, 0.59, 0.56, 0.56, 0.59, 0.56, 0.56, 0.59, 0.56, 0.56, 0.59, 0.56, 0.56, 0.59, 0.56, 0.56, 0.59, 0.56, 0.56, 0.59, 0.56, 0.56, 0.59, 0.56, 0.56, 0.59, 0.56, 0.56, 0.59, 0.56, 0.56, 0.59, 0.56, 0.56, 0.59, 0.56, 0.56, 0.59, 0.56, 0.56, 0.59, 0.56, 0.56, 0.59, 0.56, 0.56, 0.59, 0.56, 0.56, 0.59, 0.56, 0.56, 0.59, 0.56, 0.56, 0.59, 0.56, 0.56, 0.59, 0.56, 0.56, 0.59, 0.56, 0.56, 0.59, 0.56, 0.56, 0.59, 0.56, 0.56, 0.59, 0.56, 0.56, 0.59, 0.56, 0.56, 0.59, 0.56, 0.56, 0.59, 0.56, 0.56, 0.59, 0.56, 0.56, 0.59, 0.56, 0.56, 0.59, 0.56, 0.56, 0.59, 0.56, 0.56, 0.59, 0.56, 0.56, 0.59, 0.56, 0.56, 0.59, 0.56, 0.56, 0.59, 0.56, 0.56, 0.59, 0.56, 0.56, 0.59, 0.56, 0.56, 0.59, 0.56, 0.56, 0.59, 0.56, 0.56, 0.59, 0.56, 0.56, 0.59, 0.56, 0.56, 0.59, 0.56, 0.56, 0.59, 0.56, 0.56, 0.59, 0.56, 0.56, 0.59, 0.56, 0.56, 0.59, 0.56, 0.56, 0.59, 0.56, 0.56, 0.59, 0.56, 0.56, 0.59, 0.56, 0.56, 0.59, 0.56, 0.56, 0.59, 0.56, 0.56, 0.59, 0.56, 0.56, 0.59, 0.56, 0.56, 0.59, 0.56, 0.56, 0.59, 0.56, 0.56, 0.59, 0.56, 0.56, 0.59, 0.56, 0.56, 0.59, 0.56, 0.56, 0.59, 0.56, 0.56, 0.59, 0.56, 0.56, 0.59, 0.56, 0.56, 0.59, 0.56, 0.56, 0.59, 0.56, 0.56, 0.59, 0.56, 0.56, 0.59, 0.56, 0.56, 0.59, 0.56, 0.56, 0.59, 0.56, 0.56, 0.59, 0.56, 0.56, 0.59, 0.56, 0.56, 0.59, 0.56, 0.56, 0.59, 0.56, 0.56, 0.59, 0.56, 0.56, 0.59, 0.56, 0.56, 0.59, 0.56, 0.56, 0.59, 0.56, 0.56, 0.59, 0.56, 0.56, 0.59, 0.56, 0.56, 0.59, 0.56, 0.56, 0.59, 0.56, 0.56, 0.59, 0.56, 0.56, 0.59, 0.56, 0.56, 0.59, 0.56, 0.56, 0.59, 0.56, 0.56, 0.59, 0.56, 0.56, 0.59, 0.56, 0.56, 0.59, 0.56, 0.56, 0.59, 0.56, 0.56, 0.59, 0.56, 0.56, 0.59, 0.56, 0.56, 0.59, 0.56, 0.56, 0.59, 0.56, 0.56, 0.59, 0.56, 0.56, 0.59, 0.56, 0.56, 0.59, 0.56, 0.56, 0.59, 0.56, 0.56, 0.59, 0.56, 0.56, 0.59, 0.56, 0.56, 0.59, 0.56, 0.56, 0.59, 0.56, 0.56, 0.59, 0.56, 0.56, 0.59, 0.56, 0.56, 0.59, 0.56, 0.56, 0.59, 0.56, 0.56, 0.59, 0.56, 0.56, 0.59, 0.56, 0.56, 0.59, 0.56, 0.56, 0.59, 0.56, 0.56, 0.59, 0.56, 0.56, 0.59, 0.56, 0.56, 0.59, 0.56, 0.56, 0.59, 0.56, 0.56, 0.59, 0.56, 0.56, 0.59, 0.56, 0.56, 0.59, 0.56, 0.56, 0.59, 0.56, 0.56, 0.59, 0.56, 0.56, 0.59, 0.56, 0.56, 0.59, 0.56, 0.56, 0.59, 0.56, 0.56, 0.59, 0.56, 0.56, 0.59, 0.56, 0.56, 0.59, 0.56, 0.56, 0.59, 0.56, 0.56, 0.59, 0.56, 0.56, 0.59, 0.56, 0.56, 0.59, 0.56, 0.56, 0.59, 0.56, 0.56, 0.59, 0.56, 0.56, 0.59, 0.56, 0.56, 0.59, 0.56, 0.56, 0.59, 0.56, 0.56, 0.59, 0.56, 0.56, 0.59, 0.56, 0.56, 0.59, 0.56, 0.56, 0.59, 0.56, 0.56, 0.59, 0.56, 0.56, 0.59, 0.56, 0.56, 0.59, 0.56, 0.56, 0.59, 0.56, 0.56, 0.59, 0.56, 0.56, 0.59, 0.56, 0.56, 0.59, 0.56, 0.56, 0.59, 0.56, 0.56, 0.59, 0.56, 0.56, 0.59, 0.56, 0.56, 0.59, 0.56, 0.56, 0.59, 0.56, 0.56, 0.59, 0.56, 0.56, 0.59, 0.56, 0.56, 0.59, 0.56, 0.56, 0.59, 0.56, 0.56, 0.59, 0.56, 0.56, 0.59, 0.56, 0.56, 0.59, 0.56, 0.56, 0.59, 0.56, 0.56, 0.59, 0.56, 0.56, 0.59, 0.56, 0.56, 0.59, 0.56, 0.56, 0.59, 0.56, 0.56, 0.59, 0.56, 0.56, 0.59, 0.56, 0.56, 0.59, 0.56, 0.56, 0.59, 0.56, 0.56, 0.59, 0.56, 0.56, 0.59, 0.56, 0.56, 0.59, 0.56, 0.56, 0.59, 0.56, 0.56, 0.59, 0.56, 0.56, 0.59, 0.56, 0.56, 0.59, 0.56, 0.56, 0.59, 0.56, 0.56, 0.59, 0.56, 0.56, 0.59, 0.56, 0.56, 0.59, 0.56, 0.56, 0.59, 0.56, 0.56, 0.59, 0.56, 0.56, 0.59, 0.56, 0.56, 0.59, 0.56, 0.56, 0.59, 0.56, 0.56, 0.59, 0.56, 0.56, 0.59, 0.56, 0.56, 0.59, 0.56, 0.56, 0.59, 0.56, 0.56, 0.59, 0.56, 0.56, 0.59, 0.56, 0.56, 0.59, 0.56, 0.56, 0.59, 0.56, 0.56, 0.59, 0.56, 0.56, 0.59, 0.56, 0.56, 0.59, 0.56, 0.56, 0.59, 0.56, 0.56, 0.59, 0.56, 0.56, 0.59, 0.56, 0.56, 0.59, 0.56, 0.56, 0.59, 0.56, 0.56, 0.59, 0.56, 0.56, 0.59, 0.56, 0.56, 0.59, 0.56, 0.56, 0.59, 0.56, 0.56, 0.59, 0.56, 0.56, 0.59, 0.56, 0.56, 0.59, 0.56, 0.56, 0.59, 0.56, 0.56, 0.59, 0.56, 0.56, 0.59, 0.56, 0.56, 0.59, 0.56, 0.56, 0.59, 0.56, 0.56, 0.59, 0.56, 0.56, 0.59, 0.56, 0.56, 0.59, 0.56, 0.56, 0.59, 0.56, 0.56, 0.59, 0.56, 0.56, 0.59, 0.56, 0.56, 0.59, 0.56, 0.56, 0.59, 0.56, 0.56, 0.59, 0.56, 0.56, 0.59, 0.56, 0.56, 0.59, 0.56, 0.56, 0.59, 0.56, 0.56, 0.59, 0.56, 0.56, 0.59, 0.56, 0.56, 0.59, 0.56, 0.56, 0.59, 0.56, 0.56, 0.59, 0.56, 0.56, 0.59, 0.56, 0.56, 0.59, 0.56, 0.56, 0.59, 0.56, 0.56, 0.59, 0.56, 0.56, 0.59, 0.56, 0.56, 0.59, 0.56, 0.56, 0.59, 0.56, 0.56, 0.59, 0.56, 0.56, 0.59, 0.56, 0.56, 0.59, 0.56, 0.56, 0.59, 0.56, 0.56, 0.59, 0.56, 0.56, 0.59, 0.56, 0.56, 0.59, 0.56, 0.56, 0.59, 0.56, 0.56, 0.59, 0.56, 0.56, 0.59, 0.56, 0.56, 0.59, 0.56, 0.56, 0.59, 0.56, 0.56, 0.59, 0.56, 0.56, 0.59, 0.56, 0.56, 0.59, 0.56, 0.56, 0.59, 0.56, 0.56, 0.59, 0.56, 0.56, 0.59, 0.56, 0.56, 0.59, 0.56, 0.56, 0.59, 0.56, 0.56, 0.59, 0.56, 0.56, 0.59, 0.56, 0.56, 0.59, 0.56, 0.56, 0.59, 0.56, 0.56, 0.59, 0.56, 0.56, 0.59, 0.56, 0.56, 0.59, 0.56, 0.56, 0.59, 0.56, 0.56, 0.59, 0.56, 0.56, 0.59, 0.56, 0.56, 0.59, 0.56, 0.56, 0.59, 0.56, 0.56, 0.59, 0.56, 0.56, 0.59, 0.56, 0.56, 0.59, 0.56, 0.56, 0.59, 0.56, 0.56, 0.59, 0.56, 0.56, 0.59, 0.56, 0.56, 0.59, 0.56, 0.56, 0.59, 0.56, 0.56, 0.59, 0.56, 0.56, 0.59, 0.56, 0.56, 0.59, 0.56, 0.56, 0.59, 0.56, 0.56, 0.59, 0.56, 0.56, 0.59, 0.56, 0.56, 0.59, 0.56, 0.56, 0.59, 0.56, 0.56, 0.59, 0.56, 0.56, 0.59, 0.56, 0.56, 0.59, 0.56, 0.56, 0.59, 0.56]\n"
     ]
    }
   ],
   "source": [
    "vx_time = compute_time_results(x_time,time_step,v0x_,is_velocity=True)  #vx time function\n",
    "vy_time = compute_time_results(y_time,time_step,v0y_,is_velocity=True)  #vy time function\n",
    "vz_time = compute_time_results(z_time,time_step,v0z_,is_velocity=True)  #vz time function\n",
    "\n",
    "ax_time = compute_time_results(vx_time,time_step)                       #ax time function\n",
    "ay_time = compute_time_results(vy_time,time_step)                       #ay time function\n",
    "az_time = compute_time_results(vz_time,time_step)                       #az time function\n",
    "\n",
    "fx_time = calc_force_from_a(ax_time, m)                                 #Fx time function\n",
    "fy_time = calc_force_from_a(ay_time, m)                                 #Fy time function\n",
    "fz_time = calc_force_from_a(az_time, m)                                 #Fz time function\n",
    "print(fx_time)\n",
    "\n",
    "forces_ = force_magnitude_calc(fx_time, fy_time, fz_time)               #Magnitude of the forces combined\n",
    "forces_ = force_max_value_upd(forces_, force_init_value)                #Updated force list\n",
    "print(\"Forces:\", forces_)"
   ]
  },
  {
   "cell_type": "markdown",
   "metadata": {},
   "source": [
    "### Display graphs & trajectories"
   ]
  },
  {
   "cell_type": "markdown",
   "metadata": {},
   "source": [
    "Magnitude of the ball's force at impact [results in a concave curve] (after the impact, after the dotted line, it becomes 0)\n",
    "\n",
    "The \"negative\" convex curve after the impact is due to the python function `make_interp_spline` that smooths the points and curves (https://www.geeksforgeeks.org/how-to-plot-a-smooth-curve-in-matplotlib/)"
   ]
  },
  {
   "cell_type": "code",
   "execution_count": 80,
   "metadata": {},
   "outputs": [
    {
     "name": "stdout",
     "output_type": "stream",
     "text": [
      "time for graph: [0.0, 0.0016666666666666668, 0.0033333333333333335, 0.005, 0.006666666666666667, 0.008333333333333333, 0.01, 0.011666666666666667, 0.013333333333333334, 0.015000000000000001, 0.016666666666666666, 0.018333333333333333, 0.02]\n",
      "fx cut: [0.0, 157.75979999999998, 0.1749, 0.0, 0.0, 0.0, 0.0, 0.0, 0.0, 0.0, 0.0, 0.0, 0.0]\n",
      "forces cut: [0.0, 303, 1.1, 0.59, 0.56, 0.56, 0.59, 0.56, 0.56, 0.59, 0.56, 0.56, 0.59]\n"
     ]
    }
   ],
   "source": [
    "t_graph = np.arange(0, 3*time_step + 10*time_step, time_step)\n",
    "t_graph_l = t_graph.tolist()\n",
    "print(\"time for graph:\", t_graph_l) \n",
    "\n",
    "fx_time_cut = fx_time[:len(t_graph_l)]\n",
    "fy_time_cut = fy_time[:len(t_graph_l)]\n",
    "fz_time_cut = fz_time[:len(t_graph_l)]\n",
    "forces_cut_ = forces_[:len(t_graph_l)]\n",
    "print(\"fx cut:\", fx_time_cut)\n",
    "print(\"forces cut:\", forces_cut_)"
   ]
  },
  {
   "cell_type": "code",
   "execution_count": 81,
   "metadata": {},
   "outputs": [
    {
     "data": {
      "image/png": "[encoded data removed]",
      "text/plain": [
       "<Figure size 640x480 with 1 Axes>"
      ]
     },
     "metadata": {},
     "output_type": "display_data"
    }
   ],
   "source": [
    "force_smooth   = update_list_smooth(forces_cut_)\n",
    "spl = make_interp_spline(t_graph_l, force_smooth) \n",
    "tf_new = np.linspace(min(t_graph_l), max(t_graph_l), 300)\n",
    "f_new = spl(tf_new)\n",
    "plt.plot(tf_new, f_new, color='red', label='F')\n",
    "cursor(hover=True)\n",
    "plt.axvline(x = ct_s, color = 'k', linestyle = ':') \n",
    "plt.xlabel(\"t [s]\")\n",
    "plt.ylabel(\"F [N]\")\n",
    "plt.grid(True)\n",
    "plt.legend()\n",
    "plt.title(\"Force magnitude over time (at impact and after)\")\n",
    "plt.show()"
   ]
  },
  {
   "cell_type": "markdown",
   "metadata": {},
   "source": [
    "Force $x$ applied to the ball at the moment of the impact "
   ]
  },
  {
   "cell_type": "code",
   "execution_count": 82,
   "metadata": {},
   "outputs": [
    {
     "data": {
      "image/png": "[encoded data removed]",
      "text/plain": [
       "<Figure size 640x480 with 1 Axes>"
      ]
     },
     "metadata": {},
     "output_type": "display_data"
    }
   ],
   "source": [
    "fx_time_smooth = update_list_smooth(fx_time_cut)\n",
    "spl = make_interp_spline(t_graph_l, fx_time_smooth) \n",
    "tfx_new = np.linspace(min(t_graph_l), max(t_graph_l), 300)\n",
    "fx_new = spl(tfx_new)\n",
    "plt.plot(tf_new, fx_new, color='blue', label='fx')\n",
    "cursor(hover=True)\n",
    "plt.axvline(x = ct_s, color = 'k', linestyle = ':') \n",
    "plt.xlabel(\"t [s]\")\n",
    "plt.ylabel(\"Fx [N]\")\n",
    "plt.grid(True)\n",
    "plt.legend()\n",
    "plt.title(\"Force in X-axis over time\")\n",
    "plt.show()"
   ]
  },
  {
   "cell_type": "markdown",
   "metadata": {},
   "source": [
    "Trajectory of the ball seen in side plane\n",
    "\n",
    "Behaviour of the ball between $x$ and $z$ with respect to time "
   ]
  },
  {
   "cell_type": "code",
   "execution_count": 83,
   "metadata": {},
   "outputs": [
    {
     "data": {
      "image/png": "[encoded data removed]",
      "text/plain": [
       "<Figure size 640x480 with 2 Axes>"
      ]
     },
     "metadata": {},
     "output_type": "display_data"
    }
   ],
   "source": [
    "t_ = np.linspace(0, t_zf, len(z_traj))\n",
    "fig_11, ax_11 = plt.subplots()\n",
    "ax_11.plot(x_traj, z_traj, color='blue')\n",
    "plt.xlabel(\"y [m]\") # x simul\n",
    "plt.ylabel(\"z [m]\")\n",
    "ax_aa = ax_11.twiny()\n",
    "ax_aa.plot(t_, z_traj, color='black')\n",
    "plt.xlabel(\"time [s]\")\n",
    "fig_11.tight_layout()\n",
    "plt.title(\"Ball trajectory in 2D space\")\n",
    "plt.show()"
   ]
  },
  {
   "cell_type": "markdown",
   "metadata": {},
   "source": [
    "Trajectory of the ball seen in upper plane\n",
    "\n",
    "Behaviour of the ball between $x$ and $y$ "
   ]
  },
  {
   "cell_type": "code",
   "execution_count": 84,
   "metadata": {},
   "outputs": [
    {
     "data": {
      "image/png": "[encoded data removed]",
      "text/plain": [
       "<Figure size 640x480 with 1 Axes>"
      ]
     },
     "metadata": {},
     "output_type": "display_data"
    }
   ],
   "source": [
    "plt.plot(y_traj, x_traj, color='black')\n",
    "plt.xlabel(\"x [m]\") # y simul\n",
    "plt.ylabel(\"y [m]\") # x simul\n",
    "plt.title(\"Ball trajectory in upper view\")\n",
    "plt.show()\n"
   ]
  },
  {
   "cell_type": "markdown",
   "metadata": {},
   "source": [
    "**Half moon range results on the court from the last best variables values**\n",
    "\n",
    "- varing from integer -$\\phi$ to $\\phi$"
   ]
  },
  {
   "cell_type": "markdown",
   "metadata": {},
   "source": [
    "Get the best variable values of the best result"
   ]
  },
  {
   "cell_type": "code",
   "execution_count": 85,
   "metadata": {},
   "outputs": [
    {
     "name": "stdout",
     "output_type": "stream",
     "text": [
      "[26]\n",
      "[80]\n"
     ]
    }
   ],
   "source": [
    "v0_best_p_list = [final_results_p[0][0]]\n",
    "theta_best_p_list = [final_results_p[0][1]]\n",
    "print(v0_best_p_list)\n",
    "print(theta_best_p_list)"
   ]
  },
  {
   "cell_type": "markdown",
   "metadata": {},
   "source": [
    "Get the $\\phi$ variation between [-10 to 10]"
   ]
  },
  {
   "cell_type": "code",
   "execution_count": 86,
   "metadata": {},
   "outputs": [
    {
     "name": "stdout",
     "output_type": "stream",
     "text": [
      "[-10, -9, -8, -7, -6, -5, -4, -3, -2, -1, 0, 1, 2, 3, 4, 5, 6, 7, 8, 9, 10]\n"
     ]
    }
   ],
   "source": [
    "if phi_p < 0:\n",
    "    phi_p_list = list(range(mt.floor(phi_p), mt.ceil(-phi_p)+1))\n",
    "elif phi_p == 0.0 or phi_p == -0.0:\n",
    "    phi_p = 10\n",
    "    phi_p_list = list(range(-mt.ceil(phi_p), mt.ceil(phi_p)+1))\n",
    "else:\n",
    "    phi_p_list = list(range(-mt.ceil(phi_p), mt.ceil(phi_p)+1))\n",
    "print(phi_p_list)"
   ]
  },
  {
   "cell_type": "markdown",
   "metadata": {},
   "source": [
    "Get the results varing the $\\phi$ values from -$\\phi$ to $\\phi$ degrees"
   ]
  },
  {
   "cell_type": "code",
   "execution_count": 87,
   "metadata": {},
   "outputs": [
    {
     "name": "stderr",
     "output_type": "stream",
     "text": [
      "100%|██████████| 1/1 [00:00<00:00, 25.27it/s]\n"
     ]
    }
   ],
   "source": [
    "half_moon_results_p = calc_f_results(p_origin, phi_p_list, z0, v0_best_p_list, theta_best_p_list)"
   ]
  },
  {
   "cell_type": "markdown",
   "metadata": {},
   "source": [
    "Check results that go over the net and cut the list to only the values above the ground"
   ]
  },
  {
   "cell_type": "code",
   "execution_count": 88,
   "metadata": {},
   "outputs": [
    {
     "name": "stderr",
     "output_type": "stream",
     "text": [
      "100%|██████████| 21/21 [00:00<00:00, 1431.57it/s]"
     ]
    },
    {
     "name": "stdout",
     "output_type": "stream",
     "text": [
      "Over the net at *real* y= 11.886 with z= 34.382 m\n"
     ]
    },
    {
     "name": "stderr",
     "output_type": "stream",
     "text": [
      "\n"
     ]
    }
   ],
   "source": [
    "checked_results_p_g = check_ball_ground(half_moon_results_p)"
   ]
  },
  {
   "cell_type": "code",
   "execution_count": 89,
   "metadata": {},
   "outputs": [
    {
     "name": "stdout",
     "output_type": "stream",
     "text": [
      "[[-10, 23.39474783704798, -4.125125250542558], [-9, 23.463178066114537, -3.7162023262364885], [-8, 23.524461183849283, -3.3061474107021853], [-7, 23.578578522820834, -2.895085410639214], [-6, 23.625513598363547, -2.483141539514839], [-5, 23.66525211359867, -2.0704412794227967], [-4, 23.697781963789566, -1.6571103428602254], [-3, 23.723093240028724, -1.243274634434432], [-2, 23.74117823225619, -0.8290602125111173], [-1, 23.75203143160816, -0.41459325081578524], [0, 23.755649532094992, 0.0], [1, 23.75203143160816, 0.41459325081578524], [2, 23.74117823225619, 0.8290602125111173], [3, 23.723093240028724, 1.243274634434432], [4, 23.697781963789566, 1.6571103428602254], [5, 23.66525211359867, 2.0704412794227967], [6, 23.625513598363547, 2.483141539514839], [7, 23.578578522820834, 2.895085410639214], [8, 23.524461183849283, 3.3061474107021853], [9, 23.463178066114537, 3.7162023262364885], [10, 23.39474783704798, 4.125125250542558]]\n"
     ]
    }
   ],
   "source": [
    "half_moon_slim_results_p = []\n",
    "\n",
    "for res in checked_results_p_g:\n",
    "    \n",
    "    #if phi is negative\n",
    "    if res[2] < 0: \n",
    "        data_hf = [res[2], max(res[3].T[0]), min(res[3].T[2])] \n",
    "    else:\n",
    "        data_hf = [res[2], max(res[3].T[0]), max(res[3].T[2])] \n",
    "    \n",
    "    half_moon_slim_results_p.append(data_hf) #[phi, max x, max y]\n",
    "    \n",
    "print(half_moon_slim_results_p)"
   ]
  },
  {
   "cell_type": "markdown",
   "metadata": {},
   "source": [
    "Find each values"
   ]
  },
  {
   "cell_type": "code",
   "execution_count": 90,
   "metadata": {},
   "outputs": [],
   "source": [
    "phi_values_hm_p = []\n",
    "x_values_hm_p = []\n",
    "y_values_hm_p = []\n",
    "nr_res_p = 0\n",
    "for res in half_moon_slim_results_p:\n",
    "    nr_res_p += 1\n",
    "    phi_values_hm_p.append(res[0]) \n",
    "    x_values_hm_p.append(res[1])\n",
    "    y_values_hm_p.append(res[2])"
   ]
  },
  {
   "cell_type": "markdown",
   "metadata": {},
   "source": [
    "Display the Half moon range results\n",
    "- Plot results in respect to $x$, $y$ and $\\phi$\n",
    "- The red dotted line is the limits of the court"
   ]
  },
  {
   "cell_type": "code",
   "execution_count": 91,
   "metadata": {},
   "outputs": [
    {
     "data": {
      "image/png": "[encoded data removed]",
      "text/plain": [
       "<Figure size 640x480 with 2 Axes>"
      ]
     },
     "metadata": {},
     "output_type": "display_data"
    }
   ],
   "source": [
    "fig, ax1 = plt.subplots()\n",
    "ax1.plot(y_values_hm_p, x_values_hm_p, color='green')\n",
    "plt.xlabel(\"x [m]\")\n",
    "plt.ylabel(\"y [m]\")\n",
    "plt.axvline(x = 4.115, color = 'r', linestyle = ':') \n",
    "plt.axvline(x = -4.115, color = 'r', linestyle = ':') \n",
    "plt.scatter([y_fin], [x_fin], color=\"yellow\")\n",
    "plt.scatter([p_init[1]], [p_init[0]], color=\"black\")\n",
    "ax2 = ax1.twiny()\n",
    "ax2.plot(phi_values_hm_p, x_values_hm_p, color='green')\n",
    "plt.xlabel(\"phi [º]\")\n",
    "ax2.set_ylim(0, 25)\n",
    "plt.axhline(y = 23.77, color = 'r', linestyle = ':') \n",
    "plt.scatter([phi_fin], [x_fin], color=\"orange\")\n",
    "fig.tight_layout()\n",
    "plt.title(\"Ball range with the best result values from 0 to B with v0 = {} m/s and theta = {} º\".format(v0_best_p_list[0], theta_best_p_list[0]))\n",
    "plt.show()"
   ]
  },
  {
   "cell_type": "markdown",
   "metadata": {},
   "source": [
    "Close up view from the last result"
   ]
  },
  {
   "cell_type": "code",
   "execution_count": 92,
   "metadata": {},
   "outputs": [
    {
     "data": {
      "image/png": "[encoded data removed]",
      "text/plain": [
       "<Figure size 640x480 with 2 Axes>"
      ]
     },
     "metadata": {},
     "output_type": "display_data"
    }
   ],
   "source": [
    "fig, ax1 = plt.subplots()\n",
    "ax1.plot(y_values_hm_p, x_values_hm_p, color='green')\n",
    "plt.xlabel(\"x [m]\")\n",
    "plt.ylabel(\"y [m]\")\n",
    "plt.axvline(x = 4.115, color = 'r', linestyle = ':') \n",
    "plt.axvline(x = -4.115, color = 'r', linestyle = ':') \n",
    "plt.scatter([y_fin], [x_fin], color=\"yellow\")\n",
    "ax2 = ax1.twiny()\n",
    "ax2.plot(phi_values_hm_p, x_values_hm_p, color='green')\n",
    "plt.xlabel(\"phi [º]\")\n",
    "ax2.set_ylim(23, 24.5)\n",
    "plt.axhline(y = 23.77, color = 'r', linestyle = ':') \n",
    "plt.scatter([phi_fin], [x_fin], color=\"orange\")\n",
    "fig.tight_layout()\n",
    "plt.title(\"Close up\")\n",
    "plt.show()"
   ]
  },
  {
   "cell_type": "markdown",
   "metadata": {},
   "source": [
    "____________________________________________________________________________________________________\n",
    "____________________________________________________________________________________________________"
   ]
  },
  {
   "cell_type": "markdown",
   "metadata": {},
   "source": [
    "## Create 2D Animation and export data for 3D Animation"
   ]
  },
  {
   "cell_type": "markdown",
   "metadata": {},
   "source": [
    "The location $(x,y)$ together given the $x$ and $y$ computed before"
   ]
  },
  {
   "cell_type": "code",
   "execution_count": 93,
   "metadata": {},
   "outputs": [],
   "source": [
    "coord = list(zip(x_traj, z_traj))"
   ]
  },
  {
   "cell_type": "code",
   "execution_count": 94,
   "metadata": {},
   "outputs": [],
   "source": [
    "#resolve max values for x and y axes\n",
    "max_x = max([pt[0] for pt in coord]) + 1\n",
    "max_y = max([pt[1] for pt in coord]) + 1\n",
    "\n",
    "#create figure and set limits\n",
    "fig = plt.figure()\n",
    "plt.xlim(0, max_x)\n",
    "plt.ylim(0, max_y)\n",
    "\n",
    "#create graph\n",
    "graph_a, = plt.plot([], [], 'o')\n",
    "\n",
    "#hide figure\n",
    "plt.close()"
   ]
  },
  {
   "cell_type": "markdown",
   "metadata": {},
   "source": [
    "2D Animation"
   ]
  },
  {
   "cell_type": "code",
   "execution_count": 95,
   "metadata": {},
   "outputs": [],
   "source": [
    "valid_types = tuple(range(3))\n",
    "is_invalid = False\n",
    "if spin_type in valid_types:\n",
    "    \n",
    "    # Increase animation embed limit: 50MB\n",
    "    mpl.rcParams['animation.embed_limit'] = 50\n",
    "    \n",
    "    #it sets point coordinates based an frame number\n",
    "    def animate(j):\n",
    "        graph_a.set_data(coord[j][0], coord[j][1])\n",
    "        \n",
    "        return graph_a\n",
    "\n",
    "    #init FuncAnimation\n",
    "    ani = animation.FuncAnimation(fig, animate, frames=len(coord), interval=200, repeat=False)\n",
    "\n",
    "    #is needed to make animation available in jupiter / colab\n",
    "    HTML(ani.to_jshtml())\n",
    "else:\n",
    "    is_invalid = True\n",
    "    print(\"Invalid spin type\")"
   ]
  },
  {
   "cell_type": "markdown",
   "metadata": {},
   "source": [
    "Data organization"
   ]
  },
  {
   "cell_type": "code",
   "execution_count": 96,
   "metadata": {},
   "outputs": [],
   "source": [
    "if not is_invalid:\n",
    "    res = final_results_p[0][3]\n",
    "    x     = res.T[0]\n",
    "    v0x   = res.T[1]\n",
    "    y     = res.T[2]\n",
    "    v0y   = res.T[3]\n",
    "    z     = res.T[4]\n",
    "    v0z   = res.T[5]\n",
    "    alpha = res.T[6]\n",
    "    w0x   = res.T[7]\n",
    "    beta  = res.T[8]\n",
    "    w0y   = res.T[9]\n",
    "    gamma = res.T[10]\n",
    "    w0z   = res.T[11]\n",
    "    t = np.linspace(0, 5.5, len(x))"
   ]
  },
  {
   "cell_type": "markdown",
   "metadata": {},
   "source": [
    "Export data to be used in the 3D Animation"
   ]
  },
  {
   "cell_type": "code",
   "execution_count": 97,
   "metadata": {},
   "outputs": [],
   "source": [
    "# if not is_invalid:\n",
    "#     np.save('../Main/3DBallTest_e_MAIN', np.array([x, y, z, alpha, beta, gamma, t, v0x, v0y, v0z, w0x, w0y, w0z]))"
   ]
  },
  {
   "cell_type": "markdown",
   "metadata": {},
   "source": [
    "To see the animation, please download the file \"**3DBallTest_e_MAIN.npy**\" and run the code from the python script \"**vpythonTrajectoryTest_e_MAIN.py.**\""
   ]
  }
 ],
 "metadata": {
  "kernelspec": {
   "display_name": "Python 3",
   "language": "python",
   "name": "python3"
  },
  "language_info": {
   "codemirror_mode": {
    "name": "ipython",
    "version": 3
   },
   "file_extension": ".py",
   "mimetype": "text/x-python",
   "name": "python",
   "nbconvert_exporter": "python",
   "pygments_lexer": "ipython3",
   "version": "3.10.7"
  }
 },
 "nbformat": 4,
 "nbformat_minor": 2
}
