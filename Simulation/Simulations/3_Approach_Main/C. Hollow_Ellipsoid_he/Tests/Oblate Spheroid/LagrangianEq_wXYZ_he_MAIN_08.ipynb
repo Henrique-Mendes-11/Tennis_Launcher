{
 "cells": [
  {
   "cell_type": "code",
   "execution_count": 1,
   "metadata": {},
   "outputs": [],
   "source": [
    "import math as mt\n",
    "import numpy as np\n",
    "import sympy as smp\n",
    "from sympy.physics.mechanics import *\n",
    "from scipy.integrate import odeint\n",
    "import matplotlib as mpl\n",
    "import matplotlib.pyplot as plt\n",
    "from matplotlib import animation\n",
    "from matplotlib.animation import PillowWriter\n",
    "from IPython.display import HTML\n",
    "\n",
    "import time\n",
    "from tqdm import tqdm\n",
    "import json\n",
    "\n",
    "from scipy.integrate import ode\n",
    "from scipy.integrate import solve_ivp\n",
    "import matplotlib.gridspec as gridspec\n",
    "from mplcursors import cursor\n",
    "from scipy.interpolate import make_interp_spline\n",
    "\n",
    "import pyperclip as clip"
   ]
  },
  {
   "cell_type": "markdown",
   "metadata": {},
   "source": [
    "## Hollow Ellipsoid"
   ]
  },
  {
   "cell_type": "markdown",
   "metadata": {},
   "source": [
    "### Symbols"
   ]
  },
  {
   "cell_type": "markdown",
   "metadata": {},
   "source": [
    "t, g, m, R, $\\theta$:"
   ]
  },
  {
   "cell_type": "code",
   "execution_count": 2,
   "metadata": {},
   "outputs": [],
   "source": [
    "t, g, m, R = smp.symbols('t g m R')\n",
    "theta, thetadot, thetaddot = smp.symbols('theta thetadot thetaddot')"
   ]
  },
  {
   "cell_type": "markdown",
   "metadata": {},
   "source": [
    "$x(t)$, $y(t)$ and $z(t)$:"
   ]
  },
  {
   "cell_type": "code",
   "execution_count": 3,
   "metadata": {},
   "outputs": [],
   "source": [
    "x, y, z =  smp.symbols('x y z', cls=smp.Function)\n",
    "xdot, xddot, ydot, yddot, zdot, zddot = smp.symbols('xdot xddot ydot yddot zdot zddot', cls=smp.Function)\n",
    "x = x(t)\n",
    "y = y(t)\n",
    "z = z(t)\n",
    "xdot = smp.diff(x, t) \n",
    "ydot = smp.diff(y, t)\n",
    "zdot = smp.diff(z, t)\n",
    "xddot = smp.diff(xdot, t)\n",
    "yddot = smp.diff(ydot, t)\n",
    "zddot = smp.diff(zdot, t)"
   ]
  },
  {
   "cell_type": "markdown",
   "metadata": {},
   "source": [
    "$\\alpha(t)$, $\\beta(t)$ and $\\gamma(t)$"
   ]
  },
  {
   "cell_type": "code",
   "execution_count": 4,
   "metadata": {},
   "outputs": [],
   "source": [
    "alpha, beta, gamma = smp.symbols('alpha beta gamma', cls=smp.Function)\n",
    "alphadot, alphaddot, betadot, betaddot, gammadot, gammaddot = smp.symbols('alphadot alphaddot betadot betaddot gammadot gammaddot', cls=smp.Function)\n",
    "alpha = alpha(t)\n",
    "beta  = beta(t)\n",
    "gamma = gamma(t)\n",
    "alphadot = smp.diff(alpha, t)     # alpha_d\n",
    "betadot = smp.diff(beta, t)       # beta_d\n",
    "gammadot = smp.diff(gamma, t)     # gamma_d\n",
    "alphaddot = smp.diff(alphadot, t) # alpha_dd\n",
    "betaddot = smp.diff(betadot, t)   # beta_dd\n",
    "gammaddot = smp.diff(gammadot, t) # gamma_dd"
   ]
  },
  {
   "cell_type": "markdown",
   "metadata": {},
   "source": [
    "### Initialization Variables\n",
    "[Hollow Ellipsoid]"
   ]
  },
  {
   "cell_type": "code",
   "execution_count": 5,
   "metadata": {},
   "outputs": [],
   "source": [
    "# Court variables (m)\n",
    "court_length = 23.77 \n",
    "doubles_court_width = 10.97 \n",
    "singles_court_width = 8.23 \n",
    "net_height_middle = 0.915 \n",
    "net_height_sides = 1.065 \n",
    "\n",
    "# Ball\n",
    "mg_b = 58.3                  #ball mass in g\n",
    "mkg_b = mg_b / 1000          #ball mass in kg\n",
    "dcm_b = 6.5                  #ball diameter in cm\n",
    "rm_b = (dcm_b/2)/100         #ball radius in m\n",
    "\n",
    "# Ellipsoid values with radius: a, b, c and with Volume of 143.8 cm^3, assuming a forward deformation of 6mm and return deformation of 8mm\n",
    "# (Volume for a tennis ball with 6.5cm diameter - 4/3 * pi * r^3 = 143.8 cm^3)\n",
    "a, b, c = smp.symbols('a b c')\n",
    "# Oblate\n",
    "ellipsoid_a_cm = 3.65\n",
    "ellipsoid_b_cm = 3.066\n",
    "ellipsoid_c_cm = 3.066\n",
    "\n",
    "# Game\n",
    "avg_dist_cp = 0.95           #average distance from impact point to the ground in m\n",
    "a_gravity = 9.8              #gravity accerelation in m/s^2\n",
    "ct_s = 1/200                 #contact time with the racket in seconds <=> 0.005s\n",
    "init_vel_known = 0           #known initial velocity of the ball, normally 17 m/s, (limited to 28 m/s)\n",
    "init_f_known = 200           #known initial force of the hit, considered normally to be 200N if initial velocity is unknown (= 0)           \n",
    "init_theta_known = 0         #known initial angle of the hit, normally 18º\n",
    "in_psi_ = 50                 #known initial angle of spin, normally 50º. Valid if spin_type is \"Slice\" or \"Topspin\"\n",
    "\n",
    "# Parameters\n",
    "rho = 1.2                    #density of the air in kg/m^3 \n",
    "A = smp.pi*rm_b**2           #cross sectional area of the ball in m^2\n",
    "Cd = 0.53                    #drag coefficient of the spherical ball considered (based on research articles)\n",
    "Cl = 0.2                     #lift coefficient of the spherical ball considered (based on research articles)\n",
    "spin_type = 2                #spin type of the ball: \"0->None/Flat hit\", \"1->Topspin\" or \"2->Slice\"\n",
    "\n",
    "# Initial contact point based on the initial angles of impact\n",
    "ctc_pt = (init_theta_known, in_psi_) "
   ]
  },
  {
   "cell_type": "markdown",
   "metadata": {},
   "source": [
    "### Initial functions"
   ]
  },
  {
   "cell_type": "code",
   "execution_count": 6,
   "metadata": {},
   "outputs": [],
   "source": [
    "def calc_f_init_with_v(vi, vf, delta_t):\n",
    "    \"\"\"From the initial and final velocities of the ball, calculates the force applied to the ball\"\"\"\n",
    "    a = (vf-vi)/delta_t\n",
    "    F = (mg_b/1000)*a\n",
    "    return F"
   ]
  },
  {
   "cell_type": "code",
   "execution_count": 7,
   "metadata": {},
   "outputs": [],
   "source": [
    "def calc_v_init_with_f(F, delta_t):\n",
    "    \"\"\"From the force applied to the ball, it calculates the initial velocity of the ball\"\"\"\n",
    "    a = F/(mg_b/1000)\n",
    "    v = a*delta_t\n",
    "    return round(v,2)"
   ]
  },
  {
   "cell_type": "markdown",
   "metadata": {},
   "source": [
    "### Spin analysis"
   ]
  },
  {
   "cell_type": "code",
   "execution_count": 8,
   "metadata": {},
   "outputs": [],
   "source": [
    "match spin_type:\n",
    "    case 0: #None\n",
    "        psi_= 0\n",
    "        lift_sign_up = False\n",
    "        \n",
    "    case 1: #Topspin\n",
    "        # Cross product result: downward lift force (Fy positive)\n",
    "        psi_ = ctc_pt[1]          \n",
    "        lift_sign_up = False\n",
    "        betadot = betadot\n",
    "        #alphadot = alphadot\n",
    "        \n",
    "    case 2: #Slice\n",
    "        # Cross product result: upward lift force (Fy negative)\n",
    "        psi_ = -ctc_pt[1]         \n",
    "        lift_sign_up = True\n",
    "        betadot = -betadot\n",
    "        #alphadot = -alphadot\n",
    "        "
   ]
  },
  {
   "cell_type": "markdown",
   "metadata": {},
   "source": [
    "### Forces & Torque\n",
    "\n",
    "Notes:\n",
    "- N - Initial binary (external torque, rotation)\n",
    "- N computation with impact force applied\n",
    "- When N its equal to 0 the system is in equilibrium\n",
    "- Afetrwards, N incorporated into all the lagrangian equations, making the system of differential equations affected by it"
   ]
  },
  {
   "cell_type": "code",
   "execution_count": 9,
   "metadata": {},
   "outputs": [
    {
     "name": "stdout",
     "output_type": "stream",
     "text": [
      "Initial velocity: 17.15 m/s\n",
      "F: 200 Newtons\n",
      "Fx: 128.56 Newtons\n",
      "Fy: -153.21 Newtons\n",
      "N: -4 N.m\n"
     ]
    }
   ],
   "source": [
    "if spin_type == 0:\n",
    "    N = 0\n",
    "    psi = int(mt.radians(psi_))\n",
    "    print(\"No spin. (N =\", N, \"N.m)\")\n",
    "    \n",
    "    v_init = 0\n",
    "    if init_vel_known != 0:\n",
    "        if init_theta_known != 0:\n",
    "            if init_f_known != 0:\n",
    "                F = init_f_known\n",
    "                print(\"Initial force: \", init_f_known, \"Newtons\")\n",
    "            else:\n",
    "                F = calc_f_init_with_v(0,init_vel_known,ct_s)\n",
    "                print(\"Force initially unknown\")\n",
    "            print(\"Initial angle:\", init_theta_known, \"º\")\n",
    "        else:\n",
    "            if init_f_known != 0:\n",
    "                F = init_f_known\n",
    "                print(\"Initial force: \", init_f_known, \"Newtons\")\n",
    "            else:\n",
    "                F = calc_f_init_with_v(0,init_vel_known,ct_s)\n",
    "                print(\"Force initially unknown\")\n",
    "            print(\"Initial angle unkonwn\")\n",
    "            \n",
    "        if init_f_known == 0:\n",
    "            print(\"Initial velocity:\", init_vel_known, \"m/s. Creates a Force of\", F, \"N in\", ct_s, \"s\")\n",
    "        else:\n",
    "            print(\"Initial velocity:\", init_vel_known, \"m/s\")\n",
    "        \n",
    "    else:\n",
    "        print(\"Velocity initially unkonwn\")\n",
    "        if init_theta_known != 0:\n",
    "            if init_f_known != 0: \n",
    "                F = init_f_known\n",
    "                v_init = calc_v_init_with_f(F,ct_s)\n",
    "                print(\"Initial force: \", init_f_known, \"N. Creates a initial velocity of\", v_init, \"m/s in \", ct_s, \"s\")\n",
    "            else:\n",
    "                print(\"Force unknown\")\n",
    "            print(\"Initial angle:\", init_theta_known, \"º\")\n",
    "        else:\n",
    "            if init_f_known != 0: \n",
    "                F = init_f_known\n",
    "                v_init = calc_v_init_with_f(F,ct_s)\n",
    "                print(\"Initial force: \", init_f_known, \"N. Creates a initial velocity of\", v_init, \"m/s in \", ct_s, \"s\")\n",
    "            else:\n",
    "                print(\"Force unknown\")\n",
    "            print(\"Initial angle unkonwn\")\n",
    "        \n",
    "    \n",
    "elif spin_type == 1 or spin_type == 2:\n",
    "    if in_psi_ == 0 or (init_vel_known == 0 and init_f_known == 0):\n",
    "        print(\"Invalid input. Please provide a valid initial velocity or force and a valid spin angle | [Valid values > 0]\")\n",
    "    else:\n",
    "        # The racket hit with an angle making a psi angle after for the spin \n",
    "        psi = mt.radians(psi_)                            #spin_ang\n",
    "\n",
    "        # Force (needed to create spin)\n",
    "        if init_vel_known != 0:                           #if the initial velocity is known\n",
    "            F = calc_f_init_with_v(0,init_vel_known,ct_s) #computes Force from velocity\n",
    "            print(\"Initial velocity:\", init_vel_known, \"m/s\")\n",
    "        elif init_vel_known == 0:                         #if the initial velocity is unknown\n",
    "            F = init_f_known                              #Known force                             \n",
    "            v_init = calc_v_init_with_f(F,ct_s)           #computes velocity in respect to the force applied \n",
    "            print(\"Initial velocity:\", v_init, \"m/s\")\n",
    "            \n",
    "        print(\"F:\", F, \"Newtons\")\n",
    "\n",
    "\n",
    "        # Axis forces\n",
    "        Fx = round(F*mt.cos(psi),2)                       #responsible for the linear component\n",
    "        Fy = round(F*mt.sin(psi),2)                       #responsible for the spin\n",
    "        print(\"Fx:\", Fx, \"Newtons\")\n",
    "        print(\"Fy:\", Fy, \"Newtons\")\n",
    "\n",
    "\n",
    "        # Torque\n",
    "        N = int(rm_b*Fy)                                  #torque from the force applied \n",
    "        print(\"N:\", N, \"N.m\")\n",
    "    \n",
    "else:\n",
    "    print(\"Invalid spin type\")"
   ]
  },
  {
   "cell_type": "markdown",
   "metadata": {},
   "source": [
    "## Kinetic energy (T) and Potential energy (U)"
   ]
  },
  {
   "cell_type": "markdown",
   "metadata": {},
   "source": [
    "- Assumption: The forces are applied on the center of mass [COM] \n",
    "- Off-diagonal elements are slight asymmetries in the mass distribution (example: $1e^{-6}$ $kg·m^2$)"
   ]
  },
  {
   "cell_type": "markdown",
   "metadata": {},
   "source": [
    "Prolate Spheroid from: https://math.stackexchange.com/questions/1820896/what-is-the-moment-of-inertia-tensor-of-a-hollow-spheroid\n",
    "\n",
    "(Tried, but don't work as thought)"
   ]
  },
  {
   "cell_type": "code",
   "execution_count": 10,
   "metadata": {},
   "outputs": [],
   "source": [
    "#Ixx = ((mt.pi*b**4*c**3)/(2*((b**2-c**2)**(3/2))))*(((3/2)-(2*c**2)/(b**2))*(mt.asin(((2*c)/(b**2))*(mt.sqrt((b**2)-(c**2)))))-(c/(b**2))*(1-((2*c**2)/b**2))*(mt.sqrt((b**2)-(c**2)))+((4*c)/(b**4))*((b**2-c**2)**(3/2))) \n",
    "#Iyy = ((mt.pi*a**4*c**3)/(2*((a**2-c**2)**(3/2))))*(((3/2)-(2*c**2)/(a**2))*(mt.asin(((2*c)/(a**2))*(mt.sqrt((a**2)-(c**2)))))-(c/(a**2))*(1-((2*c**2)/a**2))*(mt.sqrt((a**2)-(c**2)))+((4*c)/(a**4))*((a**2-c**2)**(3/2))) \n",
    "#Izz = ((mt.pi*a**4*b**3)/(2*((a**2-b**2)**(3/2))))*(((3/2)-(2*b**2)/(a**2))*(mt.asin(((2*b)/(a**2))*(mt.sqrt((a**2)-(b**2)))))-(b/(a**2))*(1-((2*b**2)/a**2))*(mt.sqrt((a**2)-(b**2)))+((4**b)/(a**4))*((a**2-b**2)**(3/2)))"
   ]
  },
  {
   "cell_type": "markdown",
   "metadata": {},
   "source": [
    "Oblate Spheroid from: https://math.stackexchange.com/questions/1820896/what-is-the-moment-of-inertia-tensor-of-a-hollow-spheroid\n",
    "\n",
    "(Tried, but don't work as thought)"
   ]
  },
  {
   "cell_type": "code",
   "execution_count": 11,
   "metadata": {},
   "outputs": [],
   "source": [
    "#Ixx = ((mt.pi*b**3*c**4)/(2*((b**2-c**2)**(3/2)))) * (((2*b**2)/(c**2)-(3/2))*(mt.asinh(((2*b)/(c**2))*(mt.sqrt((b**2)-(c**2))))) - (b/(c**2))*(((2*b**2)/c**2)-1)*(mt.sqrt((b**2)-(c**2))) + ((4*b)/(c**4))*((b**2-c**2)**(3/2))) \n",
    "#Iyy = ((mt.pi*a**3*c**4)/(2*((a**2-c**2)**(3/2)))) * (((2*a**2)/(c**2)-(3/2))*(mt.asinh(((2*a)/(c**2))*(mt.sqrt((a**2)-(c**2))))) - (a/(c**2))*(((2*a**2)/c**2)-1)*(mt.sqrt((a**2)-(c**2))) + ((4*a)/(c**4))*((a**2-c**2)**(3/2))) \n",
    "#Izz = ((mt.pi*a**3*b**4)/(2*((a**2-b**2)**(3/2)))) * (((2*a**2)/(b**2)-(3/2))*(mt.asinh(((2*a)/(b**2))*(mt.sqrt((a**2)-(b**2))))) - (a/(b**2))*(((2*a**2)/b**2)-1)*(mt.sqrt((a**2)-(b**2))) + ((4*a)/(b**4))*((a**2-b**2)**(3/2))) "
   ]
  },
  {
   "cell_type": "markdown",
   "metadata": {},
   "source": [
    "Ellipsoid Shell inertia from: https://adamheins.com/blog/ellipsoidal-shell-inertia#5\n",
    "\n",
    "- The ellipsoidal shell inertia is equal to the inertia of a solid cuboid of uniform density with mass ${m}$ and side lengths 2𝑎,2𝑏,2𝑐\n",
    "- When ${r = a = b = c}$ is a special case of the ellipsoid shell inertia being the spherical shell inertia"
   ]
  },
  {
   "cell_type": "code",
   "execution_count": 12,
   "metadata": {},
   "outputs": [],
   "source": [
    "#Moments of inertia\n",
    "d = 5 * (a*b + a*c + b*c)\n",
    "Ixx = (1/d) * m * (a*b**3 + 3*a*b**2*c + 3*a*b*c**2 + a*c**3 + b**3*c + b*c**3)\n",
    "Iyy = (1/d) * m * (a**3*b + a**3*c + 3*a**2*b*c + 3*a*b*c**2 + a*c**3 + b*c**3)\n",
    "Izz = (1/d) * m * (a**3*b + a**3*c + 3*a**2*b*c + a*b**3 + 3*a*b**2*c + b**3*c)\n",
    "\n",
    "Ixx = smp.simplify(Ixx)\n",
    "Iyy = smp.simplify(Iyy)\n",
    "Izz = smp.simplify(Izz)"
   ]
  },
  {
   "cell_type": "code",
   "execution_count": 13,
   "metadata": {},
   "outputs": [
    {
     "data": {
      "text/latex": [
       "$\\displaystyle \\left[\\begin{matrix}\\frac{m \\left(a b^{3} + 3 a b^{2} c + 3 a b c^{2} + a c^{3} + b^{3} c + b c^{3}\\right)}{5 \\left(a b + a c + b c\\right)} & 0 & 0\\\\0 & \\frac{m \\left(a^{3} b + a^{3} c + 3 a^{2} b c + 3 a b c^{2} + a c^{3} + b c^{3}\\right)}{5 \\left(a b + a c + b c\\right)} & 0\\\\0 & 0 & \\frac{m \\left(a^{3} b + a^{3} c + 3 a^{2} b c + a b^{3} + 3 a b^{2} c + b^{3} c\\right)}{5 \\left(a b + a c + b c\\right)}\\end{matrix}\\right]$"
      ],
      "text/plain": [
       "Matrix([\n",
       "[m*(a*b**3 + 3*a*b**2*c + 3*a*b*c**2 + a*c**3 + b**3*c + b*c**3)/(5*(a*b + a*c + b*c)),                                                                                     0,                                                                                     0],\n",
       "[                                                                                    0, m*(a**3*b + a**3*c + 3*a**2*b*c + 3*a*b*c**2 + a*c**3 + b*c**3)/(5*(a*b + a*c + b*c)),                                                                                     0],\n",
       "[                                                                                    0,                                                                                     0, m*(a**3*b + a**3*c + 3*a**2*b*c + a*b**3 + 3*a*b**2*c + b**3*c)/(5*(a*b + a*c + b*c))]])"
      ]
     },
     "execution_count": 13,
     "metadata": {},
     "output_type": "execute_result"
    }
   ],
   "source": [
    "# Off-diagonal elements\n",
    "Ixy = Iyx = 0\n",
    "Ixz = Izx = 0\n",
    "Iyz = Izy = 0\n",
    "I = smp.Matrix([\n",
    "        [Ixx, Ixy, Ixz],\n",
    "        [Iyx, Iyy, Iyz],\n",
    "        [Izx, Izy, Izz]\n",
    "    ])\n",
    "I"
   ]
  },
  {
   "cell_type": "code",
   "execution_count": 14,
   "metadata": {},
   "outputs": [],
   "source": [
    "omega   = smp.Matrix([alphadot, betadot, gammadot]) #angular velocity vector\n",
    "upsilon = smp.Matrix([xdot, ydot, zdot])            #velocity vector\n",
    "epsilon = smp.Matrix([x, y, z])                     #position vector\n",
    "\n",
    "upsilon_squared = upsilon.dot(upsilon)              #squared norm, same as (xdot^2 + ydot^2 + zdot^2)"
   ]
  },
  {
   "cell_type": "markdown",
   "metadata": {},
   "source": [
    "### Aerodynamic disturbances"
   ]
  },
  {
   "cell_type": "markdown",
   "metadata": {},
   "source": [
    "Drag Force"
   ]
  },
  {
   "cell_type": "code",
   "execution_count": 15,
   "metadata": {},
   "outputs": [
    {
     "data": {
      "text/latex": [
       "$\\displaystyle - 0.0003358875 \\pi \\left(\\left(\\frac{d}{d t} x{\\left(t \\right)}\\right)^{2} + \\left(\\frac{d}{d t} y{\\left(t \\right)}\\right)^{2} + \\left(\\frac{d}{d t} z{\\left(t \\right)}\\right)^{2}\\right)$"
      ],
      "text/plain": [
       "-0.0003358875*pi*(Derivative(x(t), t)**2 + Derivative(y(t), t)**2 + Derivative(z(t), t)**2)"
      ]
     },
     "execution_count": 15,
     "metadata": {},
     "output_type": "execute_result"
    }
   ],
   "source": [
    "Fd = -smp.Rational(1,2)*rho*A*Cd*upsilon_squared.simplify()\n",
    "Fd"
   ]
  },
  {
   "cell_type": "markdown",
   "metadata": {},
   "source": [
    "Lift Force (using Magnus effect)\n",
    "\n",
    "Scaled and with direction where: \n",
    "- 1st row  - x-component of the lift force\n",
    "- 2nd row  - y-component of the lift force\n",
    "- 3rd row  - z-component of the lift force"
   ]
  },
  {
   "cell_type": "code",
   "execution_count": 16,
   "metadata": {},
   "outputs": [
    {
     "data": {
      "text/latex": [
       "$\\displaystyle \\left[\\begin{matrix}0.00012675 \\pi \\left(- \\frac{d}{d t} \\beta{\\left(t \\right)} \\frac{d}{d t} z{\\left(t \\right)} - \\frac{d}{d t} \\gamma{\\left(t \\right)} \\frac{d}{d t} y{\\left(t \\right)}\\right) \\left(\\left(\\frac{d}{d t} x{\\left(t \\right)}\\right)^{2} + \\left(\\frac{d}{d t} y{\\left(t \\right)}\\right)^{2} + \\left(\\frac{d}{d t} z{\\left(t \\right)}\\right)^{2}\\right)\\\\0.00012675 \\pi \\left(- \\frac{d}{d t} \\alpha{\\left(t \\right)} \\frac{d}{d t} z{\\left(t \\right)} + \\frac{d}{d t} \\gamma{\\left(t \\right)} \\frac{d}{d t} x{\\left(t \\right)}\\right) \\left(\\left(\\frac{d}{d t} x{\\left(t \\right)}\\right)^{2} + \\left(\\frac{d}{d t} y{\\left(t \\right)}\\right)^{2} + \\left(\\frac{d}{d t} z{\\left(t \\right)}\\right)^{2}\\right)\\\\0.00012675 \\pi \\left(\\frac{d}{d t} \\alpha{\\left(t \\right)} \\frac{d}{d t} y{\\left(t \\right)} + \\frac{d}{d t} \\beta{\\left(t \\right)} \\frac{d}{d t} x{\\left(t \\right)}\\right) \\left(\\left(\\frac{d}{d t} x{\\left(t \\right)}\\right)^{2} + \\left(\\frac{d}{d t} y{\\left(t \\right)}\\right)^{2} + \\left(\\frac{d}{d t} z{\\left(t \\right)}\\right)^{2}\\right)\\end{matrix}\\right]$"
      ],
      "text/plain": [
       "Matrix([\n",
       "[ 0.00012675*pi*(-Derivative(beta(t), t)*Derivative(z(t), t) - Derivative(gamma(t), t)*Derivative(y(t), t))*(Derivative(x(t), t)**2 + Derivative(y(t), t)**2 + Derivative(z(t), t)**2)],\n",
       "[0.00012675*pi*(-Derivative(alpha(t), t)*Derivative(z(t), t) + Derivative(gamma(t), t)*Derivative(x(t), t))*(Derivative(x(t), t)**2 + Derivative(y(t), t)**2 + Derivative(z(t), t)**2)],\n",
       "[  0.00012675*pi*(Derivative(alpha(t), t)*Derivative(y(t), t) + Derivative(beta(t), t)*Derivative(x(t), t))*(Derivative(x(t), t)**2 + Derivative(y(t), t)**2 + Derivative(z(t), t)**2)]])"
      ]
     },
     "execution_count": 16,
     "metadata": {},
     "output_type": "execute_result"
    }
   ],
   "source": [
    "Fl_magn = smp.Rational(1,2)*rho*A*Cl*upsilon_squared.simplify()     #lift force magnitude\n",
    "Fl_dire = omega.cross(upsilon)                                      #lift force direction\n",
    "Fl = Fl_magn * Fl_dire \n",
    "Fl"
   ]
  },
  {
   "cell_type": "markdown",
   "metadata": {},
   "source": [
    "Total aerodynamic disturbance forces\n",
    "- There is no lift force if the ball has no spin ($N = 0 => Fl = 0$)"
   ]
  },
  {
   "cell_type": "code",
   "execution_count": 17,
   "metadata": {},
   "outputs": [
    {
     "data": {
      "text/latex": [
       "$\\displaystyle \\left(0.00012675 \\pi \\left(\\frac{d}{d t} \\alpha{\\left(t \\right)} \\frac{d}{d t} y{\\left(t \\right)} + \\frac{d}{d t} \\beta{\\left(t \\right)} \\frac{d}{d t} x{\\left(t \\right)}\\right) \\left(\\left(\\frac{d}{d t} x{\\left(t \\right)}\\right)^{2} + \\left(\\frac{d}{d t} y{\\left(t \\right)}\\right)^{2} + \\left(\\frac{d}{d t} z{\\left(t \\right)}\\right)^{2}\\right) - 0.0003358875 \\pi \\left(\\left(\\frac{d}{d t} x{\\left(t \\right)}\\right)^{2} + \\left(\\frac{d}{d t} y{\\left(t \\right)}\\right)^{2} + \\left(\\frac{d}{d t} z{\\left(t \\right)}\\right)^{2}\\right)\\right) \\frac{d}{d t} z{\\left(t \\right)} + \\left(0.00012675 \\pi \\left(- \\frac{d}{d t} \\alpha{\\left(t \\right)} \\frac{d}{d t} z{\\left(t \\right)} + \\frac{d}{d t} \\gamma{\\left(t \\right)} \\frac{d}{d t} x{\\left(t \\right)}\\right) \\left(\\left(\\frac{d}{d t} x{\\left(t \\right)}\\right)^{2} + \\left(\\frac{d}{d t} y{\\left(t \\right)}\\right)^{2} + \\left(\\frac{d}{d t} z{\\left(t \\right)}\\right)^{2}\\right) - 0.0003358875 \\pi \\left(\\left(\\frac{d}{d t} x{\\left(t \\right)}\\right)^{2} + \\left(\\frac{d}{d t} y{\\left(t \\right)}\\right)^{2} + \\left(\\frac{d}{d t} z{\\left(t \\right)}\\right)^{2}\\right)\\right) \\frac{d}{d t} y{\\left(t \\right)} + \\left(0.00012675 \\pi \\left(- \\frac{d}{d t} \\beta{\\left(t \\right)} \\frac{d}{d t} z{\\left(t \\right)} - \\frac{d}{d t} \\gamma{\\left(t \\right)} \\frac{d}{d t} y{\\left(t \\right)}\\right) \\left(\\left(\\frac{d}{d t} x{\\left(t \\right)}\\right)^{2} + \\left(\\frac{d}{d t} y{\\left(t \\right)}\\right)^{2} + \\left(\\frac{d}{d t} z{\\left(t \\right)}\\right)^{2}\\right) - 0.0003358875 \\pi \\left(\\left(\\frac{d}{d t} x{\\left(t \\right)}\\right)^{2} + \\left(\\frac{d}{d t} y{\\left(t \\right)}\\right)^{2} + \\left(\\frac{d}{d t} z{\\left(t \\right)}\\right)^{2}\\right)\\right) \\frac{d}{d t} x{\\left(t \\right)}$"
      ],
      "text/plain": [
       "(0.00012675*pi*(Derivative(alpha(t), t)*Derivative(y(t), t) + Derivative(beta(t), t)*Derivative(x(t), t))*(Derivative(x(t), t)**2 + Derivative(y(t), t)**2 + Derivative(z(t), t)**2) - 0.0003358875*pi*(Derivative(x(t), t)**2 + Derivative(y(t), t)**2 + Derivative(z(t), t)**2))*Derivative(z(t), t) + (0.00012675*pi*(-Derivative(alpha(t), t)*Derivative(z(t), t) + Derivative(gamma(t), t)*Derivative(x(t), t))*(Derivative(x(t), t)**2 + Derivative(y(t), t)**2 + Derivative(z(t), t)**2) - 0.0003358875*pi*(Derivative(x(t), t)**2 + Derivative(y(t), t)**2 + Derivative(z(t), t)**2))*Derivative(y(t), t) + (0.00012675*pi*(-Derivative(beta(t), t)*Derivative(z(t), t) - Derivative(gamma(t), t)*Derivative(y(t), t))*(Derivative(x(t), t)**2 + Derivative(y(t), t)**2 + Derivative(z(t), t)**2) - 0.0003358875*pi*(Derivative(x(t), t)**2 + Derivative(y(t), t)**2 + Derivative(z(t), t)**2))*Derivative(x(t), t)"
      ]
     },
     "execution_count": 17,
     "metadata": {},
     "output_type": "execute_result"
    }
   ],
   "source": [
    "if N == 0: \n",
    "    T3 = Fd #With drag\n",
    "    #T3 = 0 #Without drag \n",
    "else:\n",
    "    T3 = smp.Matrix([Fd, Fd, Fd]) + Fl\n",
    "    T3 = T3.dot(upsilon) \n",
    "T3"
   ]
  },
  {
   "cell_type": "markdown",
   "metadata": {},
   "source": [
    "### Kinetic energy (T)"
   ]
  },
  {
   "cell_type": "code",
   "execution_count": 18,
   "metadata": {},
   "outputs": [
    {
     "data": {
      "text/latex": [
       "$\\displaystyle \\frac{m \\left(\\left(\\frac{d}{d t} x{\\left(t \\right)}\\right)^{2} + \\left(\\frac{d}{d t} y{\\left(t \\right)}\\right)^{2} + \\left(\\frac{d}{d t} z{\\left(t \\right)}\\right)^{2}\\right)}{2} + \\frac{m \\left(\\left(a b^{3} + 3 a b^{2} c + 3 a b c^{2} + a c^{3} + b^{3} c + b c^{3}\\right) \\left(\\frac{d}{d t} \\alpha{\\left(t \\right)}\\right)^{2} + \\left(a^{3} b + a^{3} c + 3 a^{2} b c + a b^{3} + 3 a b^{2} c + b^{3} c\\right) \\left(\\frac{d}{d t} \\gamma{\\left(t \\right)}\\right)^{2} + \\left(a^{3} b + a^{3} c + 3 a^{2} b c + 3 a b c^{2} + a c^{3} + b c^{3}\\right) \\left(\\frac{d}{d t} \\beta{\\left(t \\right)}\\right)^{2}\\right)}{10 \\left(a b + a c + b c\\right)} + \\left(0.00012675 \\pi \\left(\\frac{d}{d t} \\alpha{\\left(t \\right)} \\frac{d}{d t} y{\\left(t \\right)} + \\frac{d}{d t} \\beta{\\left(t \\right)} \\frac{d}{d t} x{\\left(t \\right)}\\right) \\left(\\left(\\frac{d}{d t} x{\\left(t \\right)}\\right)^{2} + \\left(\\frac{d}{d t} y{\\left(t \\right)}\\right)^{2} + \\left(\\frac{d}{d t} z{\\left(t \\right)}\\right)^{2}\\right) - 0.0003358875 \\pi \\left(\\left(\\frac{d}{d t} x{\\left(t \\right)}\\right)^{2} + \\left(\\frac{d}{d t} y{\\left(t \\right)}\\right)^{2} + \\left(\\frac{d}{d t} z{\\left(t \\right)}\\right)^{2}\\right)\\right) \\frac{d}{d t} z{\\left(t \\right)} + \\left(0.00012675 \\pi \\left(- \\frac{d}{d t} \\alpha{\\left(t \\right)} \\frac{d}{d t} z{\\left(t \\right)} + \\frac{d}{d t} \\gamma{\\left(t \\right)} \\frac{d}{d t} x{\\left(t \\right)}\\right) \\left(\\left(\\frac{d}{d t} x{\\left(t \\right)}\\right)^{2} + \\left(\\frac{d}{d t} y{\\left(t \\right)}\\right)^{2} + \\left(\\frac{d}{d t} z{\\left(t \\right)}\\right)^{2}\\right) - 0.0003358875 \\pi \\left(\\left(\\frac{d}{d t} x{\\left(t \\right)}\\right)^{2} + \\left(\\frac{d}{d t} y{\\left(t \\right)}\\right)^{2} + \\left(\\frac{d}{d t} z{\\left(t \\right)}\\right)^{2}\\right)\\right) \\frac{d}{d t} y{\\left(t \\right)} + \\left(0.00012675 \\pi \\left(- \\frac{d}{d t} \\beta{\\left(t \\right)} \\frac{d}{d t} z{\\left(t \\right)} - \\frac{d}{d t} \\gamma{\\left(t \\right)} \\frac{d}{d t} y{\\left(t \\right)}\\right) \\left(\\left(\\frac{d}{d t} x{\\left(t \\right)}\\right)^{2} + \\left(\\frac{d}{d t} y{\\left(t \\right)}\\right)^{2} + \\left(\\frac{d}{d t} z{\\left(t \\right)}\\right)^{2}\\right) - 0.0003358875 \\pi \\left(\\left(\\frac{d}{d t} x{\\left(t \\right)}\\right)^{2} + \\left(\\frac{d}{d t} y{\\left(t \\right)}\\right)^{2} + \\left(\\frac{d}{d t} z{\\left(t \\right)}\\right)^{2}\\right)\\right) \\frac{d}{d t} x{\\left(t \\right)}$"
      ],
      "text/plain": [
       "m*(Derivative(x(t), t)**2 + Derivative(y(t), t)**2 + Derivative(z(t), t)**2)/2 + m*((a*b**3 + 3*a*b**2*c + 3*a*b*c**2 + a*c**3 + b**3*c + b*c**3)*Derivative(alpha(t), t)**2 + (a**3*b + a**3*c + 3*a**2*b*c + a*b**3 + 3*a*b**2*c + b**3*c)*Derivative(gamma(t), t)**2 + (a**3*b + a**3*c + 3*a**2*b*c + 3*a*b*c**2 + a*c**3 + b*c**3)*Derivative(beta(t), t)**2)/(10*(a*b + a*c + b*c)) + (0.00012675*pi*(Derivative(alpha(t), t)*Derivative(y(t), t) + Derivative(beta(t), t)*Derivative(x(t), t))*(Derivative(x(t), t)**2 + Derivative(y(t), t)**2 + Derivative(z(t), t)**2) - 0.0003358875*pi*(Derivative(x(t), t)**2 + Derivative(y(t), t)**2 + Derivative(z(t), t)**2))*Derivative(z(t), t) + (0.00012675*pi*(-Derivative(alpha(t), t)*Derivative(z(t), t) + Derivative(gamma(t), t)*Derivative(x(t), t))*(Derivative(x(t), t)**2 + Derivative(y(t), t)**2 + Derivative(z(t), t)**2) - 0.0003358875*pi*(Derivative(x(t), t)**2 + Derivative(y(t), t)**2 + Derivative(z(t), t)**2))*Derivative(y(t), t) + (0.00012675*pi*(-Derivative(beta(t), t)*Derivative(z(t), t) - Derivative(gamma(t), t)*Derivative(y(t), t))*(Derivative(x(t), t)**2 + Derivative(y(t), t)**2 + Derivative(z(t), t)**2) - 0.0003358875*pi*(Derivative(x(t), t)**2 + Derivative(y(t), t)**2 + Derivative(z(t), t)**2))*Derivative(x(t), t)"
      ]
     },
     "execution_count": 18,
     "metadata": {},
     "output_type": "execute_result"
    }
   ],
   "source": [
    "T1 = smp.Rational(1,2)*m*upsilon_squared.simplify()         #translational motion\n",
    "T2 = smp.Rational(1,2)*(omega.T*I*omega)[0].simplify()      #rotational motion \n",
    "T = T1 + T2 + T3                                            #sum with the airodinamic disturbances\n",
    "T"
   ]
  },
  {
   "cell_type": "markdown",
   "metadata": {},
   "source": [
    "### Potential energy (U)"
   ]
  },
  {
   "cell_type": "code",
   "execution_count": 19,
   "metadata": {},
   "outputs": [
    {
     "data": {
      "text/latex": [
       "$\\displaystyle g m z{\\left(t \\right)}$"
      ],
      "text/plain": [
       "g*m*z(t)"
      ]
     },
     "execution_count": 19,
     "metadata": {},
     "output_type": "execute_result"
    }
   ],
   "source": [
    "U = m*g*z\n",
    "U"
   ]
  },
  {
   "cell_type": "markdown",
   "metadata": {},
   "source": [
    "### Lagrangian (L)"
   ]
  },
  {
   "cell_type": "code",
   "execution_count": 20,
   "metadata": {},
   "outputs": [
    {
     "data": {
      "text/latex": [
       "$\\displaystyle - g m z{\\left(t \\right)} + \\frac{m \\left(\\left(\\frac{d}{d t} x{\\left(t \\right)}\\right)^{2} + \\left(\\frac{d}{d t} y{\\left(t \\right)}\\right)^{2} + \\left(\\frac{d}{d t} z{\\left(t \\right)}\\right)^{2}\\right)}{2} + \\frac{m \\left(\\left(a b^{3} + 3 a b^{2} c + 3 a b c^{2} + a c^{3} + b^{3} c + b c^{3}\\right) \\left(\\frac{d}{d t} \\alpha{\\left(t \\right)}\\right)^{2} + \\left(a^{3} b + a^{3} c + 3 a^{2} b c + a b^{3} + 3 a b^{2} c + b^{3} c\\right) \\left(\\frac{d}{d t} \\gamma{\\left(t \\right)}\\right)^{2} + \\left(a^{3} b + a^{3} c + 3 a^{2} b c + 3 a b c^{2} + a c^{3} + b c^{3}\\right) \\left(\\frac{d}{d t} \\beta{\\left(t \\right)}\\right)^{2}\\right)}{10 \\left(a b + a c + b c\\right)} + \\left(0.00012675 \\pi \\left(\\frac{d}{d t} \\alpha{\\left(t \\right)} \\frac{d}{d t} y{\\left(t \\right)} + \\frac{d}{d t} \\beta{\\left(t \\right)} \\frac{d}{d t} x{\\left(t \\right)}\\right) \\left(\\left(\\frac{d}{d t} x{\\left(t \\right)}\\right)^{2} + \\left(\\frac{d}{d t} y{\\left(t \\right)}\\right)^{2} + \\left(\\frac{d}{d t} z{\\left(t \\right)}\\right)^{2}\\right) - 0.0003358875 \\pi \\left(\\left(\\frac{d}{d t} x{\\left(t \\right)}\\right)^{2} + \\left(\\frac{d}{d t} y{\\left(t \\right)}\\right)^{2} + \\left(\\frac{d}{d t} z{\\left(t \\right)}\\right)^{2}\\right)\\right) \\frac{d}{d t} z{\\left(t \\right)} + \\left(0.00012675 \\pi \\left(- \\frac{d}{d t} \\alpha{\\left(t \\right)} \\frac{d}{d t} z{\\left(t \\right)} + \\frac{d}{d t} \\gamma{\\left(t \\right)} \\frac{d}{d t} x{\\left(t \\right)}\\right) \\left(\\left(\\frac{d}{d t} x{\\left(t \\right)}\\right)^{2} + \\left(\\frac{d}{d t} y{\\left(t \\right)}\\right)^{2} + \\left(\\frac{d}{d t} z{\\left(t \\right)}\\right)^{2}\\right) - 0.0003358875 \\pi \\left(\\left(\\frac{d}{d t} x{\\left(t \\right)}\\right)^{2} + \\left(\\frac{d}{d t} y{\\left(t \\right)}\\right)^{2} + \\left(\\frac{d}{d t} z{\\left(t \\right)}\\right)^{2}\\right)\\right) \\frac{d}{d t} y{\\left(t \\right)} + \\left(0.00012675 \\pi \\left(- \\frac{d}{d t} \\beta{\\left(t \\right)} \\frac{d}{d t} z{\\left(t \\right)} - \\frac{d}{d t} \\gamma{\\left(t \\right)} \\frac{d}{d t} y{\\left(t \\right)}\\right) \\left(\\left(\\frac{d}{d t} x{\\left(t \\right)}\\right)^{2} + \\left(\\frac{d}{d t} y{\\left(t \\right)}\\right)^{2} + \\left(\\frac{d}{d t} z{\\left(t \\right)}\\right)^{2}\\right) - 0.0003358875 \\pi \\left(\\left(\\frac{d}{d t} x{\\left(t \\right)}\\right)^{2} + \\left(\\frac{d}{d t} y{\\left(t \\right)}\\right)^{2} + \\left(\\frac{d}{d t} z{\\left(t \\right)}\\right)^{2}\\right)\\right) \\frac{d}{d t} x{\\left(t \\right)}$"
      ],
      "text/plain": [
       "-g*m*z(t) + m*(Derivative(x(t), t)**2 + Derivative(y(t), t)**2 + Derivative(z(t), t)**2)/2 + m*((a*b**3 + 3*a*b**2*c + 3*a*b*c**2 + a*c**3 + b**3*c + b*c**3)*Derivative(alpha(t), t)**2 + (a**3*b + a**3*c + 3*a**2*b*c + a*b**3 + 3*a*b**2*c + b**3*c)*Derivative(gamma(t), t)**2 + (a**3*b + a**3*c + 3*a**2*b*c + 3*a*b*c**2 + a*c**3 + b*c**3)*Derivative(beta(t), t)**2)/(10*(a*b + a*c + b*c)) + (0.00012675*pi*(Derivative(alpha(t), t)*Derivative(y(t), t) + Derivative(beta(t), t)*Derivative(x(t), t))*(Derivative(x(t), t)**2 + Derivative(y(t), t)**2 + Derivative(z(t), t)**2) - 0.0003358875*pi*(Derivative(x(t), t)**2 + Derivative(y(t), t)**2 + Derivative(z(t), t)**2))*Derivative(z(t), t) + (0.00012675*pi*(-Derivative(alpha(t), t)*Derivative(z(t), t) + Derivative(gamma(t), t)*Derivative(x(t), t))*(Derivative(x(t), t)**2 + Derivative(y(t), t)**2 + Derivative(z(t), t)**2) - 0.0003358875*pi*(Derivative(x(t), t)**2 + Derivative(y(t), t)**2 + Derivative(z(t), t)**2))*Derivative(y(t), t) + (0.00012675*pi*(-Derivative(beta(t), t)*Derivative(z(t), t) - Derivative(gamma(t), t)*Derivative(y(t), t))*(Derivative(x(t), t)**2 + Derivative(y(t), t)**2 + Derivative(z(t), t)**2) - 0.0003358875*pi*(Derivative(x(t), t)**2 + Derivative(y(t), t)**2 + Derivative(z(t), t)**2))*Derivative(x(t), t)"
      ]
     },
     "execution_count": 20,
     "metadata": {},
     "output_type": "execute_result"
    }
   ],
   "source": [
    "L = T - U\n",
    "L"
   ]
  },
  {
   "cell_type": "markdown",
   "metadata": {},
   "source": [
    "### Get Lagrange's equations for each free variable\n",
    "\n",
    " \n",
    "$\\frac{d}{dt}\\frac{\\partial L}{\\partial \\dot{x}} - \\frac{\\partial L}{\\partial x} = 0$ \n",
    "\n",
    "$\\frac{d}{dt}\\frac{\\partial L}{\\partial \\dot{y}} - \\frac{\\partial L}{\\partial y} = 0$ \n",
    "\n",
    "$\\frac{d}{dt}\\frac{\\partial L}{\\partial \\dot{z}} - \\frac{\\partial L}{\\partial z} = 0$\n",
    "\n",
    "$\\frac{d}{dt}\\frac{\\partial L}{\\partial \\dot{\\alpha}} - \\frac{\\partial L}{\\partial \\alpha} = 0$\n",
    "\n",
    "$\\frac{d}{dt}\\frac{\\partial L}{\\partial \\dot{\\beta}} - \\frac{\\partial L}{\\partial \\beta} = 0$\n",
    "\n",
    "$\\frac{d}{dt}\\frac{\\partial L}{\\partial \\dot{\\gamma}} - \\frac{\\partial L}{\\partial \\gamma} = 0$\n",
    "\n",
    "This later equations (=0) show that the system is conservative meaning there are no non-conservative forces (like friction or external forces) acting on the system."
   ]
  },
  {
   "cell_type": "code",
   "execution_count": 21,
   "metadata": {},
   "outputs": [
    {
     "data": {
      "text/latex": [
       "$\\displaystyle 1.0 m \\frac{d^{2}}{d t^{2}} x{\\left(t \\right)} - 0.002015325 \\pi \\frac{d}{d t} x{\\left(t \\right)} \\frac{d^{2}}{d t^{2}} x{\\left(t \\right)} - 0.000671775 \\pi \\frac{d}{d t} x{\\left(t \\right)} \\frac{d^{2}}{d t^{2}} y{\\left(t \\right)} - 0.000671775 \\pi \\frac{d}{d t} x{\\left(t \\right)} \\frac{d^{2}}{d t^{2}} z{\\left(t \\right)} - 0.000671775 \\pi \\frac{d^{2}}{d t^{2}} x{\\left(t \\right)} \\frac{d}{d t} y{\\left(t \\right)} - 0.000671775 \\pi \\frac{d^{2}}{d t^{2}} x{\\left(t \\right)} \\frac{d}{d t} z{\\left(t \\right)} - 0.000671775 \\pi \\frac{d}{d t} y{\\left(t \\right)} \\frac{d^{2}}{d t^{2}} y{\\left(t \\right)} - 0.000671775 \\pi \\frac{d}{d t} z{\\left(t \\right)} \\frac{d^{2}}{d t^{2}} z{\\left(t \\right)}$"
      ],
      "text/plain": [
       "1.0*m*Derivative(x(t), (t, 2)) - 0.002015325*pi*Derivative(x(t), t)*Derivative(x(t), (t, 2)) - 0.000671775*pi*Derivative(x(t), t)*Derivative(y(t), (t, 2)) - 0.000671775*pi*Derivative(x(t), t)*Derivative(z(t), (t, 2)) - 0.000671775*pi*Derivative(x(t), (t, 2))*Derivative(y(t), t) - 0.000671775*pi*Derivative(x(t), (t, 2))*Derivative(z(t), t) - 0.000671775*pi*Derivative(y(t), t)*Derivative(y(t), (t, 2)) - 0.000671775*pi*Derivative(z(t), t)*Derivative(z(t), (t, 2))"
      ]
     },
     "execution_count": 21,
     "metadata": {},
     "output_type": "execute_result"
    }
   ],
   "source": [
    "LEx = smp.diff(smp.diff(L, xdot), t).simplify() - smp.diff(L, x) \n",
    "LEx"
   ]
  },
  {
   "cell_type": "code",
   "execution_count": 22,
   "metadata": {},
   "outputs": [
    {
     "data": {
      "text/latex": [
       "$\\displaystyle 1.0 m \\frac{d^{2}}{d t^{2}} y{\\left(t \\right)} - 0.000671775 \\pi \\frac{d}{d t} x{\\left(t \\right)} \\frac{d^{2}}{d t^{2}} x{\\left(t \\right)} - 0.000671775 \\pi \\frac{d}{d t} x{\\left(t \\right)} \\frac{d^{2}}{d t^{2}} y{\\left(t \\right)} - 0.000671775 \\pi \\frac{d^{2}}{d t^{2}} x{\\left(t \\right)} \\frac{d}{d t} y{\\left(t \\right)} - 0.002015325 \\pi \\frac{d}{d t} y{\\left(t \\right)} \\frac{d^{2}}{d t^{2}} y{\\left(t \\right)} - 0.000671775 \\pi \\frac{d}{d t} y{\\left(t \\right)} \\frac{d^{2}}{d t^{2}} z{\\left(t \\right)} - 0.000671775 \\pi \\frac{d^{2}}{d t^{2}} y{\\left(t \\right)} \\frac{d}{d t} z{\\left(t \\right)} - 0.000671775 \\pi \\frac{d}{d t} z{\\left(t \\right)} \\frac{d^{2}}{d t^{2}} z{\\left(t \\right)}$"
      ],
      "text/plain": [
       "1.0*m*Derivative(y(t), (t, 2)) - 0.000671775*pi*Derivative(x(t), t)*Derivative(x(t), (t, 2)) - 0.000671775*pi*Derivative(x(t), t)*Derivative(y(t), (t, 2)) - 0.000671775*pi*Derivative(x(t), (t, 2))*Derivative(y(t), t) - 0.002015325*pi*Derivative(y(t), t)*Derivative(y(t), (t, 2)) - 0.000671775*pi*Derivative(y(t), t)*Derivative(z(t), (t, 2)) - 0.000671775*pi*Derivative(y(t), (t, 2))*Derivative(z(t), t) - 0.000671775*pi*Derivative(z(t), t)*Derivative(z(t), (t, 2))"
      ]
     },
     "execution_count": 22,
     "metadata": {},
     "output_type": "execute_result"
    }
   ],
   "source": [
    "LEy = smp.diff(smp.diff(L, ydot), t).simplify() - smp.diff(L, y)\n",
    "LEy"
   ]
  },
  {
   "cell_type": "code",
   "execution_count": 23,
   "metadata": {},
   "outputs": [
    {
     "data": {
      "text/latex": [
       "$\\displaystyle g m + 1.0 m \\frac{d^{2}}{d t^{2}} z{\\left(t \\right)} - 0.000671775 \\pi \\frac{d}{d t} x{\\left(t \\right)} \\frac{d^{2}}{d t^{2}} x{\\left(t \\right)} - 0.000671775 \\pi \\frac{d}{d t} x{\\left(t \\right)} \\frac{d^{2}}{d t^{2}} z{\\left(t \\right)} - 0.000671775 \\pi \\frac{d^{2}}{d t^{2}} x{\\left(t \\right)} \\frac{d}{d t} z{\\left(t \\right)} - 0.000671775 \\pi \\frac{d}{d t} y{\\left(t \\right)} \\frac{d^{2}}{d t^{2}} y{\\left(t \\right)} - 0.000671775 \\pi \\frac{d}{d t} y{\\left(t \\right)} \\frac{d^{2}}{d t^{2}} z{\\left(t \\right)} - 0.000671775 \\pi \\frac{d^{2}}{d t^{2}} y{\\left(t \\right)} \\frac{d}{d t} z{\\left(t \\right)} - 0.002015325 \\pi \\frac{d}{d t} z{\\left(t \\right)} \\frac{d^{2}}{d t^{2}} z{\\left(t \\right)}$"
      ],
      "text/plain": [
       "g*m + 1.0*m*Derivative(z(t), (t, 2)) - 0.000671775*pi*Derivative(x(t), t)*Derivative(x(t), (t, 2)) - 0.000671775*pi*Derivative(x(t), t)*Derivative(z(t), (t, 2)) - 0.000671775*pi*Derivative(x(t), (t, 2))*Derivative(z(t), t) - 0.000671775*pi*Derivative(y(t), t)*Derivative(y(t), (t, 2)) - 0.000671775*pi*Derivative(y(t), t)*Derivative(z(t), (t, 2)) - 0.000671775*pi*Derivative(y(t), (t, 2))*Derivative(z(t), t) - 0.002015325*pi*Derivative(z(t), t)*Derivative(z(t), (t, 2))"
      ]
     },
     "execution_count": 23,
     "metadata": {},
     "output_type": "execute_result"
    }
   ],
   "source": [
    "LEz = smp.diff(smp.diff(L, zdot), t).simplify() - smp.diff(L, z)\n",
    "LEz"
   ]
  },
  {
   "cell_type": "code",
   "execution_count": 24,
   "metadata": {},
   "outputs": [
    {
     "data": {
      "text/latex": [
       "$\\displaystyle \\frac{m \\left(a b^{3} + 3 a b^{2} c + 3 a b c^{2} + a c^{3} + b^{3} c + b c^{3}\\right) \\frac{d^{2}}{d t^{2}} \\alpha{\\left(t \\right)}}{5 \\left(a b + a c + b c\\right)}$"
      ],
      "text/plain": [
       "m*(a*b**3 + 3*a*b**2*c + 3*a*b*c**2 + a*c**3 + b**3*c + b*c**3)*Derivative(alpha(t), (t, 2))/(5*(a*b + a*c + b*c))"
      ]
     },
     "execution_count": 24,
     "metadata": {},
     "output_type": "execute_result"
    }
   ],
   "source": [
    "LEalpha = smp.diff(smp.diff(L, alphadot), t).simplify() - smp.diff(L, alpha)\n",
    "LEalpha"
   ]
  },
  {
   "cell_type": "code",
   "execution_count": 25,
   "metadata": {},
   "outputs": [
    {
     "data": {
      "text/latex": [
       "$\\displaystyle - \\frac{m \\left(a^{3} b + a^{3} c + 3 a^{2} b c + 3 a b c^{2} + a c^{3} + b c^{3}\\right) \\frac{d^{2}}{d t^{2}} \\beta{\\left(t \\right)}}{5 \\left(a b + a c + b c\\right)}$"
      ],
      "text/plain": [
       "-m*(a**3*b + a**3*c + 3*a**2*b*c + 3*a*b*c**2 + a*c**3 + b*c**3)*Derivative(beta(t), (t, 2))/(5*(a*b + a*c + b*c))"
      ]
     },
     "execution_count": 25,
     "metadata": {},
     "output_type": "execute_result"
    }
   ],
   "source": [
    "#If its a slice: betadot is negative and can't be negative for this computation\n",
    "#It needs to be positive and then turn back to negative afterwards\n",
    "if lift_sign_up:\n",
    "    LEbeta = smp.diff(smp.diff(L, -betadot), t).simplify() - smp.diff(L, beta)\n",
    "    LEbeta = LEbeta.subs(smp.diff(smp.diff(beta, t), t), smp.diff(betadot, t))\n",
    "else: \n",
    "    LEbeta = smp.diff(smp.diff(L, betadot), t).simplify() - smp.diff(L, beta)\n",
    "LEbeta"
   ]
  },
  {
   "cell_type": "code",
   "execution_count": 26,
   "metadata": {},
   "outputs": [
    {
     "data": {
      "text/latex": [
       "$\\displaystyle \\frac{m \\left(a^{3} b + a^{3} c + 3 a^{2} b c + a b^{3} + 3 a b^{2} c + b^{3} c\\right) \\frac{d^{2}}{d t^{2}} \\gamma{\\left(t \\right)}}{5 \\left(a b + a c + b c\\right)}$"
      ],
      "text/plain": [
       "m*(a**3*b + a**3*c + 3*a**2*b*c + a*b**3 + 3*a*b**2*c + b**3*c)*Derivative(gamma(t), (t, 2))/(5*(a*b + a*c + b*c))"
      ]
     },
     "execution_count": 26,
     "metadata": {},
     "output_type": "execute_result"
    }
   ],
   "source": [
    "LEgamma = smp.diff(smp.diff(L, gammadot), t).simplify() - smp.diff(L, gamma)\n",
    "LEgamma"
   ]
  },
  {
   "cell_type": "markdown",
   "metadata": {},
   "source": [
    "#### Solve Lagranges equations (assuming that all `LE`'s are equal to N)\n",
    "\n",
    "- When $N = 0$ these equations are linear in $\\ddot{x}, \\ddot{y}, \\ddot{z}, \\ddot{\\alpha}, \\ddot{\\beta}, \\ddot{\\gamma}$. (Giving: 6 unkowns, 6 equations, 6 linear equations)\n",
    "- When $N \\neq 0$ some of these equations become nonlinear in their respective free variable, since is multiplied by other time derivatives"
   ]
  },
  {
   "cell_type": "code",
   "execution_count": 27,
   "metadata": {},
   "outputs": [],
   "source": [
    "sols = smp.solve([smp.Eq(LEx, N), smp.Eq(LEy, N), smp.Eq(LEz, N), smp.Eq(LEalpha, N), smp.Eq(LEbeta, N), smp.Eq(LEgamma, N)], (xddot, yddot, zddot, alphaddot, betaddot, gammaddot), simplyfy=False, rational=False)\n",
    "\n",
    "#Execution time with disturbances and spin: ~515min~ =~ 9h"
   ]
  },
  {
   "cell_type": "code",
   "execution_count": 28,
   "metadata": {},
   "outputs": [],
   "source": [
    "sols_xddot = smp.simplify(sols[xddot])\n",
    "sols_xddot = smp.nsimplify(sols_xddot)\n",
    "\n",
    "#Execution time: ~1618min~ =~ 27h"
   ]
  },
  {
   "cell_type": "code",
   "execution_count": 29,
   "metadata": {},
   "outputs": [],
   "source": [
    "sols_yddot = smp.simplify(sols[yddot])\n",
    "sols_yddot = smp.nsimplify(sols_yddot)\n",
    "\n",
    "#Execution time: ~23min~"
   ]
  },
  {
   "cell_type": "code",
   "execution_count": 30,
   "metadata": {},
   "outputs": [],
   "source": [
    "sols_zddot = smp.simplify(sols[zddot])\n",
    "sols_zddot = smp.nsimplify(sols_zddot)\n",
    "\n",
    "#Execution time: ~12s~"
   ]
  },
  {
   "cell_type": "code",
   "execution_count": 31,
   "metadata": {},
   "outputs": [],
   "source": [
    "sols_alphaddot = smp.simplify(sols[alphaddot])\n",
    "sols_alphaddot = smp.nsimplify(sols_alphaddot)"
   ]
  },
  {
   "cell_type": "code",
   "execution_count": 32,
   "metadata": {},
   "outputs": [],
   "source": [
    "sols_betaddot = smp.simplify(sols[betaddot])\n",
    "sols_betaddot = smp.nsimplify(sols_betaddot)"
   ]
  },
  {
   "cell_type": "code",
   "execution_count": 33,
   "metadata": {},
   "outputs": [],
   "source": [
    "sols_gammaddot = smp.simplify(sols[gammaddot])\n",
    "sols_gammaddot = smp.nsimplify(sols_gammaddot)"
   ]
  },
  {
   "cell_type": "markdown",
   "metadata": {},
   "source": [
    "Now I have: \n",
    "\n",
    "$\\frac{d^2 x}{dt^2} = ...$\n",
    "\n",
    "$\\frac{d^2 y}{dt^2} = ...$\n",
    "\n",
    "$\\frac{d^2 z}{dt^2} = ...$\n",
    "\n",
    "$\\frac{d^2 \\alpha}{dt^2} = ...$\n",
    "\n",
    "$\\frac{d^2 \\beta}{dt^2} = ...$\n",
    "\n",
    "$\\frac{d^2 \\gamma}{dt^2} = ...$\n",
    "\n",
    "(explicity in terms of second derivatives)\n",
    "\n",
    "Which are 6 second order ODEs\n",
    "\n",
    "Convert to first order, example: \n",
    "\n",
    "1. Define $b_x = \\frac{dx}{dt}$\n",
    "2. Then $\\frac{db_x}{dt} = \\frac{d^2x}{dt^2}$\n",
    "\n",
    "Now I get a system of 12 first order ODEs:\n",
    "\n",
    "* $\\frac{db_x}{dt} = ...$ \n",
    "* $\\frac{dx}{dt} = b_x $ \n",
    "\n",
    "* $\\frac{db_y}{dt} = ...$ \n",
    "* $\\frac{dy}{dt} = b_y $ \n",
    "\n",
    "* $\\frac{db_z}{dt} = ...$ \n",
    "* $\\frac{dz}{dt} = b_z $\n",
    "\n",
    "* $\\frac{db_\\alpha}{dt} = ...$ \n",
    "* $\\frac{d\\alpha}{dt} = b_\\alpha $  \n",
    "\n",
    "* $\\frac{db_\\beta}{dt} = ...$ \n",
    "* $\\frac{d\\beta}{dt} = b_\\beta $ \n",
    "\n",
    "* $\\frac{db_\\gamma}{dt} = ...$ \n",
    "* $\\frac{d\\gamma}{dt} = b_\\gamma $ \n",
    "\n",
    "Convert the **symbolic** expressions above to numerical functions so I can use them in a **numerical** python solver. For this we use `smp.lambdify`"
   ]
  },
  {
   "cell_type": "markdown",
   "metadata": {},
   "source": [
    "### First order ODE's (python numerical functions):"
   ]
  },
  {
   "cell_type": "code",
   "execution_count": 35,
   "metadata": {},
   "outputs": [],
   "source": [
    "dbxdt_f = smp.lambdify((t,g,m,a,b,c,xdot,ydot,zdot,alphadot,-betadot,gammadot), sols_xddot) \n",
    "dxdt_f = smp.lambdify(xdot, xdot)"
   ]
  },
  {
   "cell_type": "code",
   "execution_count": 36,
   "metadata": {},
   "outputs": [],
   "source": [
    "dbydt_f = smp.lambdify((t,g,m,a,b,c,xdot,ydot,zdot,alphadot,-betadot,gammadot), sols_yddot) \n",
    "dydt_f = smp.lambdify(ydot, ydot)"
   ]
  },
  {
   "cell_type": "code",
   "execution_count": 37,
   "metadata": {},
   "outputs": [],
   "source": [
    "dbzdt_f = smp.lambdify((t,g,m,a,b,c,xdot,ydot,zdot,alphadot,-betadot,gammadot), sols_zddot) \n",
    "dzdt_f = smp.lambdify(zdot, zdot)"
   ]
  },
  {
   "cell_type": "code",
   "execution_count": 38,
   "metadata": {},
   "outputs": [],
   "source": [
    "dbalphadt_f = smp.lambdify((t,g,m,a,b,c,xdot,ydot,zdot,alphadot,-betadot,gammadot), sols_alphaddot) \n",
    "dalphadt_f = smp.lambdify(alphadot, alphadot)"
   ]
  },
  {
   "cell_type": "code",
   "execution_count": 39,
   "metadata": {},
   "outputs": [],
   "source": [
    "dbbetadt_f = smp.lambdify((t,g,m,a,b,c,xdot,ydot,zdot,alphadot,-betadot,gammadot), sols_betaddot) \n",
    "dbetadt_f = smp.lambdify(-betadot, -betadot)"
   ]
  },
  {
   "cell_type": "code",
   "execution_count": 40,
   "metadata": {},
   "outputs": [],
   "source": [
    "dbgammadt_f = smp.lambdify((t,g,m,a,b,c,xdot,ydot,zdot,alphadot,-betadot,gammadot), sols_gammaddot) \n",
    "dgammadt_f = smp.lambdify(gammadot, gammadot)"
   ]
  },
  {
   "cell_type": "markdown",
   "metadata": {},
   "source": [
    "## Functions"
   ]
  },
  {
   "cell_type": "markdown",
   "metadata": {},
   "source": [
    "There are 12 \"things\" I want to solve: ($x$, $b_x$, $y$, $b_y$, $z$, $b_z$, $\\alpha$, $b_\\alpha$, $\\beta$, $b_\\beta$, $\\gamma$, $b_\\gamma$)\n",
    "\n",
    "Now I define state solver vector $\\vec{S} = (x, b_x, y, b_y, z, b_z, \\alpha, b_\\alpha, \\beta, b_\\beta, \\gamma, b_\\gamma)$. \n",
    "\n",
    "If I'm going to use an ODE solver in python, I need to write a function that takes in $\\vec{S}$ and $t$ and returns $d\\vec{S}/dt$. In other words, I need to define $d\\vec{S}/dt (\\vec{S}, t)$\n",
    "\n",
    "- The system of ODEs can be fully specified using  $d\\vec{S}/dt$ and depends only on  $\\vec{S}$ and $t$\n",
    "- Function of $S$ and $t$ that is the differential equation that describes the system\n",
    "- It takes parameters of the system\n",
    "\n",
    "Returns: $\\frac{ds}{dt} = [\\frac{dx}{dt}, \\frac{db_x}{dt}, \\frac{dy}{dt}, \\frac{db_y}{dt}, \\frac{dz}{dt}, \\frac{db_z}{dt}, \\frac{d\\alpha}{dt}, \\frac{db_\\alpha}{dt}, \\frac{d\\beta}{dt}, \\frac{db_\\beta}{dt}, \\frac{d\\gamma}{dt}, \\frac{db_\\gamma}{dt}]$"
   ]
  },
  {
   "cell_type": "code",
   "execution_count": 41,
   "metadata": {},
   "outputs": [],
   "source": [
    "def dSdt(S, t, g, m, a,b,c):\n",
    "    x, bx, y, by, z, bz, alpha, balpha, beta, bbeta, gamma, bgamma = S\n",
    "    return [\n",
    "        dxdt_f(bx),\n",
    "        dbxdt_f(t,g,m,a,b,c,bx,by,bz,balpha,bbeta,bgamma),\n",
    "        dydt_f(by),\n",
    "        dbydt_f(t,g,m,a,b,c,bx,by,bz,balpha,bbeta,bgamma),\n",
    "        dzdt_f(bz),\n",
    "        dbzdt_f(t,g,m,a,b,c,bx,by,bz,balpha,bbeta,bgamma),\n",
    "        dalphadt_f(balpha),\n",
    "        dbalphadt_f(t,g,m,a,b,c,bx,by,bz,balpha,bbeta,bgamma),\n",
    "        dbetadt_f(bbeta),\n",
    "        dbbetadt_f(t,g,m,a,b,c,bx,by,bz,balpha,bbeta,bgamma),\n",
    "        dgammadt_f(bgamma),\n",
    "        dbgammadt_f(t,g,m,a,b,c,bx,by,bz,balpha,bbeta,bgamma),\n",
    "    ]"
   ]
  },
  {
   "cell_type": "markdown",
   "metadata": {},
   "source": [
    "Court validation function : `IN` | `OUT` "
   ]
  },
  {
   "cell_type": "code",
   "execution_count": 42,
   "metadata": {},
   "outputs": [],
   "source": [
    "def check_court(_x, _y, _z):\n",
    "    if max(_x) >= (court_length/2):\n",
    "        if max(_x) <= court_length:\n",
    "            if max(_y) <= (singles_court_width/2) and min(_y) >= -(singles_court_width/2):\n",
    "                i=0\n",
    "                flag = False\n",
    "                while i < len(_x):\n",
    "                    if _x[i] >= (court_length/2):\n",
    "                        if flag == False:\n",
    "                            if _z[i] > net_height_middle and i != 0:\n",
    "                                flag = True\n",
    "                                #IN: the ball did go over the net \n",
    "                            else: \n",
    "                                return False\n",
    "                                #OUT: the ball didn't go over the net\n",
    "                        else:\n",
    "                            if (_y[i] <= (singles_court_width/2) and _y[i] >= -(singles_court_width/2)) and _x[i] <= court_length: \n",
    "                                return True\n",
    "                                #IN: the ball is in the limits of the court\n",
    "                            else: \n",
    "                                return False\n",
    "                                #OUT: the ball is out the limits of the court\n",
    "                    i += 1\n",
    "            else: \n",
    "                return False\n",
    "                #OUT: the ball is out the limits of the court\n",
    "        else:\n",
    "            return False\n",
    "            #OUT: the ball is out the limits of the court\n",
    "    else:\n",
    "        return False\n",
    "        #OUT: the ball didn't surpass the net"
   ]
  },
  {
   "cell_type": "markdown",
   "metadata": {},
   "source": [
    "Function that checks the ball when it hits the ground\n",
    "- when it does: cut the list after that point and make xmax"
   ]
  },
  {
   "cell_type": "code",
   "execution_count": 43,
   "metadata": {},
   "outputs": [],
   "source": [
    "def check_ball_ground(f_results_g):\n",
    "    res_above_ground_values = []\n",
    "    i = 0\n",
    "    \n",
    "    for f_result_g in tqdm(f_results_g):\n",
    "        z_res = f_result_g[3].T[4]\n",
    "        z_n_res = [g for g in z_res if g>=0] \n",
    "        lz_res = len(z_n_res)\n",
    "        f_result_g[3] = f_result_g[3][:lz_res]  #all values above the ground\n",
    "        \n",
    "        flag_g = False\n",
    "        while i < len(f_result_g[3].T[0]):      #x\n",
    "            if f_result_g[3].T[0][i] >= (court_length/2):\n",
    "                if flag_g == False:\n",
    "                    if z_n_res[i] > net_height_middle and i != 0:  #z at the net\n",
    "                        flag_g = True\n",
    "                        print(\"Over the net at *real* y=\", round(f_result_g[3].T[0][i], 3), \"with z=\", round(z_n_res[i], 3), \"m\") #x simul at the net\n",
    "                        #IN: the ball did go over the net \n",
    "                    else: \n",
    "                        f_result_g[3].T[0][i] = (court_length/2)   #Xmax is the Xnet \n",
    "                        #OUT: the ball didn't go over the net\n",
    "                else:\n",
    "                    pass\n",
    "            else:\n",
    "                pass\n",
    "            i+=1\n",
    "            \n",
    "        res_above_ground_values.append(f_result_g)\n",
    "    \n",
    "    return res_above_ground_values\n",
    "        "
   ]
  },
  {
   "cell_type": "markdown",
   "metadata": {},
   "source": [
    "Compute the angle $\\phi$ from a point in the court to another "
   ]
  },
  {
   "cell_type": "code",
   "execution_count": 44,
   "metadata": {},
   "outputs": [],
   "source": [
    "def compute_phi(p1, p2):\n",
    "    #p1 = [x1,y1], p2 = [x2,y2]\n",
    "    c_opt = abs(p2[1]-p1[1])\n",
    "    c_adj = abs(p2[0]-p1[0])\n",
    "    phi_ = mt.degrees(mt.atan((c_opt)/(c_adj)))\n",
    "    if (p2[1]-p1[1]) < 0:\n",
    "        phi_ = phi_ * -1\n",
    "    else:\n",
    "        phi_ = phi_ * 1\n",
    "        \n",
    "    if phi_ == -0.0:\n",
    "        phi_ = 0.0\n",
    "    \n",
    "    return phi_"
   ]
  },
  {
   "cell_type": "markdown",
   "metadata": {},
   "source": [
    "Find **f_results** matrix\n",
    "\n",
    "- from an initial point $p_0$\n",
    "- $\\phi$ can vary or not\n",
    "- initial contact height $z_0$\n",
    "- $v_0$ from $1$ to $28$ m/s\n",
    "- $\\theta$ from $1$ to $89$ degrees \n",
    "- f_results is the list to store all the function results\n",
    "- computes all the possibilities inside the values\n",
    "- solves the system of ODEs using scipys `odeint` method\n",
    "\n",
    "Returns: $f_{results} = [v_0, \\theta, \\phi, f, F]$\n",
    "\n",
    "Where $f.T = [x, v_{0x}, y, v_{0y}, z, v_{0z}, \\alpha, \\omega _{0x}, \\beta, \\omega _{0y}, \\gamma, \\omega _{0z}]$"
   ]
  },
  {
   "cell_type": "code",
   "execution_count": 45,
   "metadata": {},
   "outputs": [],
   "source": [
    "def calc_f_results(p0, phi_list, z0=0.95, v0_list=range(1,28), theta_list=range(1,90)):\n",
    "    f_results = []          \n",
    "    \n",
    "    for v0_ in tqdm(v0_list):\n",
    "        for theta_ in theta_list:\n",
    "            for phi_ in phi_list:\n",
    "                neg = False\n",
    "                init_magn_force_ = round(calc_f_init_with_v(0,v0_,ct_s))\n",
    "                data = [v0_, theta_, phi_]\n",
    "                #Mirror the phi, it doesn't matter if it's negative or positive for Vx\n",
    "                if phi_ < 0: \n",
    "                    phi_ = phi_ * -1 \n",
    "                    p0[1] = p0[1] * -1\n",
    "                    neg = True\n",
    "                v0x_ = v0_ * mt.cos(mt.radians(theta_))*mt.cos(mt.radians(phi_))\n",
    "                v0y_ = v0_ * mt.cos(mt.radians(theta_))*mt.sin(mt.radians(phi_))\n",
    "                v0z_ = v0_ * mt.sin(mt.radians(theta_))                \n",
    "                w0x_ = v0x_/a\n",
    "                w0y_ = v0y_/b\n",
    "                w0z_ = v0z_/c\n",
    "                init = [p0[0], v0x_, p0[1], v0y_, z0, v0z_, 0, w0x_, 0, w0y_, 0, w0z_]\n",
    "            \n",
    "                odeint.mxstep = 50000000\n",
    "                f_result = odeint(dSdt, y0=init, t=t, args=(g, m, a, b, c))\n",
    "                \n",
    "                #Make all the y and vy values negative again, return the phi to the original value\n",
    "                if neg:     \n",
    "                    phi_ = phi_ * -1\n",
    "                    p0[1] = p0[1] * -1\n",
    "                    f_result[:,2] = f_result[:,2] * -1\n",
    "                    f_result[:,3] = f_result[:,3] * -1\n",
    "                data.append(f_result)     \n",
    "                data.append(init_magn_force_)           \n",
    "                f_results.append(data)\n",
    "  \n",
    "            time.sleep(0.02)\n",
    "    return f_results"
   ]
  },
  {
   "cell_type": "markdown",
   "metadata": {},
   "source": [
    "`IN` Results function\n",
    "\n",
    "- Checks if the values computed and in `f_results` are inside the court and valid or not\n",
    "- Uses `check_court[]` function to check if the ball is in the court or not"
   ]
  },
  {
   "cell_type": "code",
   "execution_count": 46,
   "metadata": {},
   "outputs": [],
   "source": [
    "def in_results(f_results):\n",
    "    checked_results = []\n",
    "    count_in = 0\n",
    "    len_results = len(f_results)\n",
    "\n",
    "    for f_result in tqdm(f_results):\n",
    "    \n",
    "        v0_ = f_result[0]\n",
    "        theta_ = f_result[1]\n",
    "        phi_ = f_result[2]\n",
    "        x_ = f_result[3].T[0]\n",
    "        y_ = f_result[3].T[2]\n",
    "        z_ = f_result[3].T[4]\n",
    "            \n",
    "        #Cut the lists to the same length of the z list (above the ground 0)\n",
    "        #Replace the list of coordinates with the lists above the ground 0\n",
    "        z_n_=[h for h in z_ if h>=0]\n",
    "        lz_ = len(z_n_)\n",
    "        f_result[3] = f_result[3][:lz_]\n",
    "        x_n_ = f_result[3].T[0]\n",
    "        y_n_ = f_result[3].T[2]\n",
    "\n",
    "        if check_court(x_n_, y_n_, z_n_) != False:\n",
    "            count_in += 1\n",
    "            checked_results.append(f_result)\n",
    "            \n",
    "    print(\"Total number of results IN:\", count_in)\n",
    "    percentage_in = (count_in * 100) / len_results\n",
    "    print(\"Percentage of results IN:\", percentage_in, \"%\")\n",
    "    \n",
    "    return checked_results"
   ]
  },
  {
   "cell_type": "markdown",
   "metadata": {},
   "source": [
    "Min error and compute error functions\n",
    "\n",
    "$min || x_{max} - x ||^2$"
   ]
  },
  {
   "cell_type": "code",
   "execution_count": 47,
   "metadata": {},
   "outputs": [],
   "source": [
    "def norm_error(x_real, x_pred, y_real, y_pred):\n",
    "    error = np.linalg.norm(x_real - x_pred)**2 + np.linalg.norm(y_real - y_pred)**2\n",
    "    return error"
   ]
  },
  {
   "cell_type": "markdown",
   "metadata": {},
   "source": [
    "Compute errors ($e$) using `norm_error` and add them to the checked `f_results` matrix resulting in: $f_{results} = [v_0, \\theta, \\phi, f, F,e]$"
   ]
  },
  {
   "cell_type": "code",
   "execution_count": 48,
   "metadata": {},
   "outputs": [],
   "source": [
    "def compute_errors(checked_results, desire_values):\n",
    "    error_results = []\n",
    "    checked_err_results = checked_results.copy()\n",
    "\n",
    "    x_real = desire_values[0]\n",
    "    y_real = desire_values[1]\n",
    "\n",
    "    for result in checked_results:\n",
    "        x_chk = result[3].T[0]\n",
    "        y_chk = result[3].T[2]\n",
    "        x_max_pred = max(x_chk)\n",
    "        if min (y_chk) < 0:\n",
    "            y_max_pred = min(y_chk)\n",
    "        else:\n",
    "            y_max_pred = max(y_chk)\n",
    "        # Ymax - y_max_pred | Xmax - x_max_pred | Yreal - y_real | Xreal - x_real\n",
    "\n",
    "        error = norm_error(x_real, x_max_pred, y_real, y_max_pred)\n",
    "        result_index = checked_results.index(result)\n",
    "        checked_err_results[result_index].append(error)\n",
    "        error_results.append(error)\n",
    "    \n",
    "    return error_results, checked_err_results"
   ]
  },
  {
   "cell_type": "markdown",
   "metadata": {},
   "source": [
    "Computes the Euclidean distance between two points, normally the origin and final"
   ]
  },
  {
   "cell_type": "code",
   "execution_count": 49,
   "metadata": {},
   "outputs": [],
   "source": [
    "def distance_bt_two_points(p1, p2):\n",
    "   # p1[x1,y1] p2[x2,y2]\n",
    "   d = mt.sqrt((p2[0]-p1[0])**2 + (p2[1]-p1[1])**2)\n",
    "   return d"
   ]
  },
  {
   "cell_type": "code",
   "execution_count": 50,
   "metadata": {},
   "outputs": [],
   "source": [
    "def cal_delta_from_coord(i_1, i_2, time_step_i):\n",
    "    \"\"\"Euclidean value between two values divided by the time step\"\"\"\n",
    "    delta = round(((i_2 - i_1) / time_step_i),3)\n",
    "    return delta"
   ]
  },
  {
   "cell_type": "code",
   "execution_count": 51,
   "metadata": {},
   "outputs": [],
   "source": [
    "def compute_time_results(i_time, time_step_i, i_0=None, is_velocity=False):\n",
    "    \"\"\"Similar to np.gradient() function that handles the differentiation\"\"\"\n",
    "    vector_i = [0]\n",
    "    if is_velocity:\n",
    "        NUM = 1\n",
    "    elif not is_velocity:\n",
    "        NUM = 0\n",
    "            \n",
    "    if i_0 is not None:\n",
    "        vector_i.append(i_0)\n",
    "    \n",
    "    if i_time is not None:\n",
    "        if np.all(i_time == 0):\n",
    "            return i_time\n",
    "        else:\n",
    "            for i in range(NUM, len(i_time)-1):\n",
    "                i_now = i_time[i]\n",
    "                i_after = i_time[i+1]\n",
    "                i_result = cal_delta_from_coord(i_now, i_after, time_step_i)\n",
    "                vector_i.append(i_result)\n",
    "            return vector_i\n",
    "            \n",
    "    vector_i.clear()"
   ]
  },
  {
   "cell_type": "code",
   "execution_count": 52,
   "metadata": {},
   "outputs": [],
   "source": [
    "def calc_force_from_a(a_time, m=m):\n",
    "    \"\"\"From the acceleration, calculates the force applied\"\"\"\n",
    "    force_time = []\n",
    "    for a in a_time:\n",
    "        force = m*a\n",
    "        force_time.append(force)\n",
    "    return force_time"
   ]
  },
  {
   "cell_type": "code",
   "execution_count": 53,
   "metadata": {},
   "outputs": [],
   "source": [
    "def force_magnitude_calc(fx_time_, fy_time_, fz_time_):\n",
    "    \"\"\"From the forces applied, calculates the magnitude of the force magnitude vector\"\"\"\n",
    "    forces_magnitude = []\n",
    "    if len(fx_time_) == len(fy_time_) and len(fy_time_) == len(fz_time_):\n",
    "        for fc_i in range(0, len(fx_time_)):\n",
    "            force = round(mt.sqrt(fx_time_[fc_i] + fy_time_[fc_i]**2 + fz_time_[fc_i]**2),2)\n",
    "            forces_magnitude.append(force)\n",
    "    return forces_magnitude"
   ]
  },
  {
   "cell_type": "code",
   "execution_count": 54,
   "metadata": {},
   "outputs": [],
   "source": [
    "def force_max_value_upd(force_, upd_force):\n",
    "    \"\"\"Update force list\"\"\"\n",
    "    max_index = force_.index(max(force_))\n",
    "    if force_[max_index] > upd_force:\n",
    "        force_[max_index] = upd_force\n",
    "    return force_"
   ]
  },
  {
   "cell_type": "code",
   "execution_count": 55,
   "metadata": {},
   "outputs": [],
   "source": [
    "def update_list_smooth(force_):\n",
    "    \"\"\"Update the list of force for smoothing the graph\"\"\"\n",
    "    max_force = max(force_)\n",
    "    max_index = force_.index(max_force)\n",
    "    force_[max_index+1] = max_force/2\n",
    "    return force_\n"
   ]
  },
  {
   "cell_type": "code",
   "execution_count": 56,
   "metadata": {},
   "outputs": [],
   "source": [
    "def match_origin(origin, x_=23.77, y_=4.115):\n",
    "    match origin:\n",
    "        case 'a':\n",
    "            p_origin = [0, -y_]\n",
    "        case 'b':\n",
    "            p_origin = [0, 0]\n",
    "        case 'c':\n",
    "            p_origin = [0, y_]\n",
    "    return p_origin"
   ]
  },
  {
   "cell_type": "code",
   "execution_count": 57,
   "metadata": {},
   "outputs": [],
   "source": [
    "def match_goal(goal, x_=23.77, y_=4.115):\n",
    "    match goal:\n",
    "        case 'A':\n",
    "            p_final = [x_, -y_]\n",
    "        case 'B':\n",
    "            p_final = [x_, 0]\n",
    "        case 'C':\n",
    "            p_final = [x_, y_]\n",
    "    return p_final"
   ]
  },
  {
   "cell_type": "markdown",
   "metadata": {},
   "source": [
    "## Simulation tests"
   ]
  },
  {
   "cell_type": "markdown",
   "metadata": {},
   "source": [
    "Simulation Variables:"
   ]
  },
  {
   "cell_type": "code",
   "execution_count": 58,
   "metadata": {},
   "outputs": [],
   "source": [
    "simul_t = 5.5      #total simulation time in s\n",
    "time_step = ct_s/3 #time step of 5ms/3\n",
    "m = mkg_b          #ball mass in kg\n",
    "g = a_gravity      #gravity acceleration in m/s^2\n",
    "z0 = avg_dist_cp   #height of impact in m\n",
    "\n",
    "x_value = 23.77    #max distance in x in m (inside the court) \n",
    "y_value = 4.115    #max distance in y in m (inside the court) \n",
    "\n",
    "do_all_correlations = False #If True: ignores F, theta and initial velocity values and calculates all the possible values\n",
    "\n",
    "t = np.arange(0, simul_t + time_step, time_step) # = np.linspace(0, 5.5, 1100) where 1100 is the number of points (5.5/time_step)"
   ]
  },
  {
   "cell_type": "markdown",
   "metadata": {},
   "source": [
    "Ellipsoid (Shell) variables (m)"
   ]
  },
  {
   "cell_type": "code",
   "execution_count": 59,
   "metadata": {},
   "outputs": [],
   "source": [
    "a = ellipsoid_a_cm/100 \n",
    "b = ellipsoid_b_cm/100 \n",
    "c = ellipsoid_c_cm/100 "
   ]
  },
  {
   "cell_type": "markdown",
   "metadata": {},
   "source": [
    "Court"
   ]
  },
  {
   "cell_type": "code",
   "execution_count": 60,
   "metadata": {},
   "outputs": [
    {
     "data": {
      "text/plain": [
       "' \\n|---|A---------B---------C|---|\\n|   |          |          |   |\\n|   |          |          |   |\\n|   |---------------------|   |\\n|   |          |          |   |\\n|   |          |          |   |\\n|   |          |          |   |\\n|   |=====================|   |\\n|   |          |          |   |\\n|   |          |          |   |\\n|   |          |          |   |\\n|   |---------------------|   |\\n|   |          |          |   |\\n|   |          |          |   |\\n|-- a)-------- b)-------- c)--| \\n\\n'"
      ]
     },
     "execution_count": 60,
     "metadata": {},
     "output_type": "execute_result"
    }
   ],
   "source": [
    "\"\"\" \n",
    "|---|A---------B---------C|---|\n",
    "|   |          |          |   |\n",
    "|   |          |          |   |\n",
    "|   |---------------------|   |\n",
    "|   |          |          |   |\n",
    "|   |          |          |   |\n",
    "|   |          |          |   |\n",
    "|   |=====================|   |\n",
    "|   |          |          |   |\n",
    "|   |          |          |   |\n",
    "|   |          |          |   |\n",
    "|   |---------------------|   |\n",
    "|   |          |          |   |\n",
    "|   |          |          |   |\n",
    "|-- a)-------- b)-------- c)--| \n",
    "\n",
    "\"\"\""
   ]
  },
  {
   "cell_type": "markdown",
   "metadata": {},
   "source": [
    "In simulation: \n",
    "\n",
    "[x_max, y_max]\n",
    "\n",
    "- a) - [0, -4.115] : Left side of the court \n",
    "\n",
    "- b) - [0, 0] : Middle of the court \n",
    "\n",
    "- c) - [0, 4.115] : Right side of the court\n",
    "\n",
    "- A - [23.77, -4.115]\n",
    "\n",
    "- B - [23.77, 0]\n",
    "\n",
    "- C - [23.77, 4.115]"
   ]
  },
  {
   "cell_type": "markdown",
   "metadata": {},
   "source": [
    "Insert the **origin point** from where it is launched at the singles court"
   ]
  },
  {
   "cell_type": "code",
   "execution_count": 61,
   "metadata": {},
   "outputs": [
    {
     "name": "stdout",
     "output_type": "stream",
     "text": [
      "[0, 0]\n"
     ]
    }
   ],
   "source": [
    "origin = 'b'\n",
    "p_origin = match_origin(origin, x_value, y_value)\n",
    "print(p_origin)"
   ]
  },
  {
   "cell_type": "markdown",
   "metadata": {},
   "source": [
    "Insert the **desire point**, where the ball arrives"
   ]
  },
  {
   "cell_type": "code",
   "execution_count": 62,
   "metadata": {},
   "outputs": [
    {
     "name": "stdout",
     "output_type": "stream",
     "text": [
      "[23.77, 0]\n"
     ]
    }
   ],
   "source": [
    "goal = 'B'\n",
    "p_final = match_goal(goal, x_value, y_value)\n",
    "print(p_final)"
   ]
  },
  {
   "cell_type": "markdown",
   "metadata": {},
   "source": [
    "### Compute the **closest** way possible to reach that desired point"
   ]
  },
  {
   "cell_type": "markdown",
   "metadata": {},
   "source": [
    "Compute the angle phi between the origin and the final point"
   ]
  },
  {
   "cell_type": "code",
   "execution_count": 63,
   "metadata": {},
   "outputs": [
    {
     "name": "stdout",
     "output_type": "stream",
     "text": [
      "phi: 0.0\n"
     ]
    }
   ],
   "source": [
    "phi_p = compute_phi(p_origin, p_final)\n",
    "phi_p_list = [phi_p]\n",
    "print(\"phi:\", phi_p)"
   ]
  },
  {
   "cell_type": "markdown",
   "metadata": {},
   "source": [
    "Compute the results function from the points and the $\\phi$"
   ]
  },
  {
   "cell_type": "code",
   "execution_count": 64,
   "metadata": {},
   "outputs": [
    {
     "name": "stderr",
     "output_type": "stream",
     "text": [
      "  0%|          | 0/1 [00:00<?, ?it/s]c:\\Users\\henri\\AppData\\Local\\Programs\\Python\\Python310\\lib\\site-packages\\scipy\\integrate\\_odepack_py.py:247: ODEintWarning: Excess work done on this call (perhaps wrong Dfun type). Run with full_output = 1 to get quantitative information.\n",
      "  warnings.warn(warning_msg, ODEintWarning)\n",
      "<lambdifygenerated-2>:2: RuntimeWarning: divide by zero encountered in scalar divide\n",
      "  return (-3236124932542205/383123885216472214589586756787577295904684780545900544*_Dummy_2188**12*pi**12*g*m + (3236124932542261/47890485652059026823698344598447161988085597568237568)*_Dummy_2188**12*pi**12 - 3236124932542233/23945242826029513411849172299223580994042798784118784*_Dummy_2188**11*_Dummy_2189*pi**12*g*m + (1618062466271137/1496577676626844588240573268701473812127674924007424)*_Dummy_2188**11*_Dummy_2189*pi**12 - 5460960823665019/23945242826029513411849172299223580994042798784118784*_Dummy_2188**11*_Dummy_2190*pi**12*g*m + (1339957979880785/748288838313422294120286634350736906063837462003712)*_Dummy_2188**11*_Dummy_2190*pi**12 + (12633806542861/91343852333181432387730302044767688728495783936)*_Dummy_2188**11*pi**11*g*m**2 - 6762532084033315/5846006549323611672814739330865132078623730171904*_Dummy_2188**11*pi**11*m - 5562089727806999/5986310706507378352962293074805895248510699696029696*_Dummy_2188**10*_Dummy_2189**2*pi**12*g*m + (2831609315974497/374144419156711147060143317175368453031918731001856)*_Dummy_2188**10*_Dummy_2189**2*pi**12 - 628895372632723/187072209578355573530071658587684226515959365500928*_Dummy_2188**10*_Dummy_2189*_Dummy_2190*pi**12*g*m + (2461856760205505/93536104789177786765035829293842113257979682750464)*_Dummy_2188**10*_Dummy_2189*_Dummy_2190*pi**12 + (5880462681768065/2923003274661805836407369665432566039311865085952)*_Dummy_2188**10*_Dummy_2189*pi**11*g*m**2 - 3096431130868523/182687704666362864775460604089535377456991567872*_Dummy_2188**10*_Dummy_2189*pi**11*m - 4121002843784277/1496577676626844588240573268701473812127674924007424*_Dummy_2188**10*_Dummy_2190**2*pi**12*g*m + (1968853352513517/93536104789177786765035829293842113257979682750464)*_Dummy_2188**10*_Dummy_2190**2*pi**12 + (4980016833622331/1461501637330902918203684832716283019655932542976)*_Dummy_2188**10*_Dummy_2190*pi**11*g*m**2 - 2554325977393025/91343852333181432387730302044767688728495783936*_Dummy_2188**10*_Dummy_2190*pi**11*m - 102944006242139/100000000000000000000000000000000000000000000*_Dummy_2188**10*pi**10*g*m**3 + (226476813732707/25000000000000000000000000000000000000000000)*_Dummy_2188**10*pi**10*m**2 - 2705198185797053/748288838313422294120286634350736906063837462003712*_Dummy_2188**9*_Dummy_2189**3*pi**12*g*m + (1441086884022737/46768052394588893382517914646921056628989841375232)*_Dummy_2188**9*_Dummy_2189**3*pi**12 - 7878573688308469/374144419156711147060143317175368453031918731001856*_Dummy_2188**9*_Dummy_2189**2*_Dummy_2190*pi**12*g*m + (980673845829617/5846006549323611672814739330865132078623730171904)*_Dummy_2188**9*_Dummy_2189**2*_Dummy_2190*pi**12 + (4543576243959877/365375409332725729550921208179070754913983135744)*_Dummy_2188**9*_Dummy_2189**2*pi**11*g*m**2 - 53890768940753/500000000000000000000000000000000000000000000*_Dummy_2188**9*_Dummy_2189**2*pi**11*m - 1737362970376085/46768052394588893382517914646921056628989841375232*_Dummy_2188**9*_Dummy_2190**2*_Dummy_2189*pi**12*g*m + (6593920577880347/23384026197294446691258957323460528314494920687616)*_Dummy_2188**9*_Dummy_2190**2*_Dummy_2189*pi**12 + (8264806534766247/182687704666362864775460604089535377456991567872)*_Dummy_2188**9*_Dummy_2189*_Dummy_2190*pi**11*g*m**2 - 74637331878747/200000000000000000000000000000000000000000000*_Dummy_2188**9*_Dummy_2189*_Dummy_2190*pi**11*m - 67381531358491/5000000000000000000000000000000000000000000*_Dummy_2188**9*_Dummy_2189*pi**10*g*m**3 + (30134518190881/250000000000000000000000000000000000000000)*_Dummy_2188**9*_Dummy_2189*pi**10*m**2 - 3667502914272757/187072209578355573530071658587684226515959365500928*_Dummy_2188**9*_Dummy_2190**3*pi**12*g*m + (6739293377584399/46768052394588893382517914646921056628989841375232)*_Dummy_2188**9*_Dummy_2190**3*pi**12 + (3400791015764711/91343852333181432387730302044767688728495783936)*_Dummy_2188**9*_Dummy_2190**2*pi**11*g*m**2 - 296990191876011/1000000000000000000000000000000000000000000000*_Dummy_2188**9*_Dummy_2190**2*pi**11*m - 22928437753931/1000000000000000000000000000000000000000000*_Dummy_2188**9*_Dummy_2190*pi**10*g*m**3 + (198026833825789/1000000000000000000000000000000000000000000)*_Dummy_2188**9*_Dummy_2190*pi**10*m**2 + (459725382347389/100000000000000000000000000000000000000000)*_Dummy_2188**9*pi**9*g*m**4 - 53634627940529/1250000000000000000000000000000000000000*_Dummy_2188**9*pi**9*m**3 - 3299330497630995/374144419156711147060143317175368453031918731001856*_Dummy_2188**8*_Dummy_2189**4*pi**12*g*m + (3823936687867353/46768052394588893382517914646921056628989841375232)*_Dummy_2188**8*_Dummy_2189**4*pi**12 - 3439962879953387/46768052394588893382517914646921056628989841375232*_Dummy_2188**8*_Dummy_2189**3*_Dummy_2190*pi**12*g*m + (899247301430169/1461501637330902918203684832716283019655932542976)*_Dummy_2188**8*_Dummy_2189**3*_Dummy_2190*pi**12 + (979120007071741/22835963083295358096932575511191922182123945984)*_Dummy_2188**8*_Dummy_2189**3*pi**11*g*m**2 - 394763084849249/1000000000000000000000000000000000000000000000*_Dummy_2188**8*_Dummy_2189**3*pi**11*m - 1228656930107375/5846006549323611672814739330865132078623730171904*_Dummy_2188**8*_Dummy_2189**2*_Dummy_2190**2*pi**12*g*m + (2368875448438277/1461501637330902918203684832716283019655932542976)*_Dummy_2188**8*_Dummy_2189**2*_Dummy_2190**2*pi**12 + (251838126718231/1000000000000000000000000000000000000000000000)*_Dummy_2188**8*_Dummy_2189**2*_Dummy_2190*pi**11*g*m**2 - 106936586954577/50000000000000000000000000000000000000000000*_Dummy_2188**8*_Dummy_2189**2*_Dummy_2190*pi**11*m - 369756153329721/5000000000000000000000000000000000000000000*_Dummy_2188**8*_Dummy_2189**2*pi**10*g*m**3 + (86164133224671/125000000000000000000000000000000000000000)*_Dummy_2188**8*_Dummy_2189**2*pi**10*m**2 - 2807907229066223/11692013098647223345629478661730264157247460343808*_Dummy_2188**8*_Dummy_2190**3*_Dummy_2189*pi**12*g*m + (636660275062573/365375409332725729550921208179070754913983135744)*_Dummy_2188**8*_Dummy_2190**3*_Dummy_2189*pi**12 + (447371338990197/1000000000000000000000000000000000000000000000)*_Dummy_2188**8*_Dummy_2190**2*_Dummy_2189*pi**11*g*m**2 - 35749974307771/10000000000000000000000000000000000000000000*_Dummy_2188**8*_Dummy_2190**2*_Dummy_2189*pi**11*m - 54174751212227/200000000000000000000000000000000000000000*_Dummy_2188**8*_Dummy_2189*_Dummy_2190*pi**10*g*m**3 + (118759949019341/50000000000000000000000000000000000000000)*_Dummy_2188**8*_Dummy_2189*_Dummy_2190*pi**10*m**2 + (267476586093027/5000000000000000000000000000000000000000)*_Dummy_2188**8*_Dummy_2189*pi**9*g*m**4 - 256610349782999/500000000000000000000000000000000000000*_Dummy_2188**8*_Dummy_2189*pi**9*m**3 - 4275066408688053/46768052394588893382517914646921056628989841375232*_Dummy_2188**8*_Dummy_2190**4*pi**12*g*m + (7407297193615777/11692013098647223345629478661730264157247460343808)*_Dummy_2188**8*_Dummy_2190**4*pi**12 + (47510886495457/200000000000000000000000000000000000000000000)*_Dummy_2188**8*_Dummy_2190**3*pi**11*g*m**2 - 90756782597843/50000000000000000000000000000000000000000000*_Dummy_2188**8*_Dummy_2190**3*pi**11*m - 11210602279769/50000000000000000000000000000000000000000*_Dummy_2188**8*_Dummy_2190**2*pi**10*g*m**3 + (187994472490191/100000000000000000000000000000000000000000)*_Dummy_2188**8*_Dummy_2190**2*pi**10*m**2 + (915271443037077/10000000000000000000000000000000000000000)*_Dummy_2188**8*_Dummy_2190*pi**9*g*m**4 - 209801947216719/250000000000000000000000000000000000000*_Dummy_2188**8*_Dummy_2190*pi**9*m**3 - 13686885708679/1000000000000000000000000000000000000*_Dummy_2188**8*pi**8*g*m**5 + (13686885708679/100000000000000000000000000000000000)*_Dummy_2188**8*pi**8*m**4 - 5258703015381213/374144419156711147060143317175368453031918731001856*_Dummy_2188**7*_Dummy_2189**5*pi**12*g*m + (3501588305914899/23384026197294446691258957323460528314494920687616)*_Dummy_2188**7*_Dummy_2189**5*pi**12 - 3692192588135553/23384026197294446691258957323460528314494920687616*_Dummy_2188**7*_Dummy_2189**4*_Dummy_2190*pi**12*g*m + (8488309874023723/5846006549323611672814739330865132078623730171904)*_Dummy_2188**7*_Dummy_2189**4*_Dummy_2190*pi**12 + (45422399159699/500000000000000000000000000000000000000000000)*_Dummy_2188**7*_Dummy_2189**4*pi**11*g*m**2 - 930904565865047/1000000000000000000000000000000000000000000000*_Dummy_2188**7*_Dummy_2189**4*pi**11*m - 7614295419281311/11692013098647223345629478661730264157247460343808*_Dummy_2188**7*_Dummy_2189**3*_Dummy_2190**2*pi**12*g*m + (3867489272561285/730750818665451459101842416358141509827966271488)*_Dummy_2188**7*_Dummy_2189**3*_Dummy_2190**2*pi**12 + (19196228871173/25000000000000000000000000000000000000000000)*_Dummy_2188**7*_Dummy_2189**3*_Dummy_2190*pi**11*g*m**2 - 348451726901843/50000000000000000000000000000000000000000000*_Dummy_2188**7*_Dummy_2189**3*_Dummy_2190*pi**11*m - 222209316746669/1000000000000000000000000000000000000000000*_Dummy_2188**7*_Dummy_2189**3*pi**10*g*m**3 + (224305631055601/100000000000000000000000000000000000000000)*_Dummy_2188**7*_Dummy_2189**3*pi**10*m**2 - 7099071305112819/5846006549323611672814739330865132078623730171904*_Dummy_2188**7*_Dummy_2189**2*_Dummy_2190**3*pi**12*g*m + (6522468661721447/730750818665451459101842416358141509827966271488)*_Dummy_2188**7*_Dummy_2189**2*_Dummy_2190**3*pi**12 + (221756867825591/100000000000000000000000000000000000000000000)*_Dummy_2188**7*_Dummy_2189**2*_Dummy_2190**2*pi**11*g*m**2 - 182444017109269/10000000000000000000000000000000000000000000*_Dummy_2188**7*_Dummy_2189**2*_Dummy_2190**2*pi**11*m - 131925551563109/100000000000000000000000000000000000000000*_Dummy_2188**7*_Dummy_2189**2*_Dummy_2190*pi**10*g*m**3 + (755477986173/62500000000000000000000000000000000000)*_Dummy_2188**7*_Dummy_2189**2*_Dummy_2190*pi**10*m**2 + (25644317691669/100000000000000000000000000000000000000)*_Dummy_2188**7*_Dummy_2189**2*pi**9*g*m**4 - 32581991643457/12500000000000000000000000000000000000*_Dummy_2188**7*_Dummy_2189**2*pi**9*m**3 - 5887400870623035/5846006549323611672814739330865132078623730171904*_Dummy_2188**7*_Dummy_2190**4*_Dummy_2189*pi**12*g*m + (1247742048003305/182687704666362864775460604089535377456991567872)*_Dummy_2188**7*_Dummy_2190**4*_Dummy_2189*pi**12 + (127846607661173/50000000000000000000000000000000000000000000)*_Dummy_2188**7*_Dummy_2190**3*_Dummy_2189*pi**11*g*m**2 - 194678705352411/10000000000000000000000000000000000000000000*_Dummy_2188**7*_Dummy_2190**3*_Dummy_2189*pi**11*m - 236419333026493/100000000000000000000000000000000000000000*_Dummy_2188**7*_Dummy_2190**2*_Dummy_2189*pi**10*g*m**3 + (4015819479577/200000000000000000000000000000000000000)*_Dummy_2188**7*_Dummy_2190**2*_Dummy_2189*pi**10*m**2 + (18950716124691/20000000000000000000000000000000000000)*_Dummy_2188**7*_Dummy_2189*_Dummy_2190*pi**9*g*m**4 - 446685898775357/50000000000000000000000000000000000000*_Dummy_2188**7*_Dummy_2189*_Dummy_2190*pi**9*m**3 - 27871476352219/200000000000000000000000000000000000*_Dummy_2188**7*_Dummy_2189*pi**8*g*m**5 + (36332460244857/25000000000000000000000000000000000)*_Dummy_2188**7*_Dummy_2189*pi**8*m**4 - 3430185769103733/11692013098647223345629478661730264157247460343808*_Dummy_2188**7*_Dummy_2190**5*pi**12*g*m + (5426889073734477/2923003274661805836407369665432566039311865085952)*_Dummy_2188**7*_Dummy_2190**5*pi**12 + (245340680416287/250000000000000000000000000000000000000000000)*_Dummy_2188**7*_Dummy_2190**4*pi**11*g*m**2 - 175383898873097/25000000000000000000000000000000000000000000*_Dummy_2188**7*_Dummy_2190**4*pi**11*m - 126505081707159/100000000000000000000000000000000000000000*_Dummy_2188**7*_Dummy_2190**3*pi**10*g*m**3 + (50603530050227/5000000000000000000000000000000000000000)*_Dummy_2188**7*_Dummy_2190**3*pi**10*m**2 + (19751474154307/25000000000000000000000000000000000000)*_Dummy_2188**7*_Dummy_2190**2*pi**9*g*m**4 - 702794729959431/100000000000000000000000000000000000000*_Dummy_2188**7*_Dummy_2190**2*pi**9*m**3 - 120071315535229/500000000000000000000000000000000000*_Dummy_2188**7*_Dummy_2190*pi**8*g*m**5 + (236409844059001/100000000000000000000000000000000000)*_Dummy_2188**7*_Dummy_2190*pi**8*m**4 + (71309739094751/2500000000000000000000000000000000)*_Dummy_2188**7*pi**7*g*m**6 - 7742200244573/25000000000000000000000000000000*_Dummy_2188**7*pi**7*m**5 - 2739961246595863/187072209578355573530071658587684226515959365500928*_Dummy_2188**6*_Dummy_2189**6*pi**12*g*m + (4557121242896467/23384026197294446691258957323460528314494920687616)*_Dummy_2188**6*_Dummy_2189**6*pi**12 - 5035508363661685/23384026197294446691258957323460528314494920687616*_Dummy_2188**6*_Dummy_2189**5*_Dummy_2190*pi**12*g*m + (3400903815902477/1461501637330902918203684832716283019655932542976)*_Dummy_2188**6*_Dummy_2189**5*_Dummy_2190*pi**12 + (30516308030613/250000000000000000000000000000000000000000000)*_Dummy_2188**6*_Dummy_2189**5*pi**11*g*m**2 - 37292261222907/25000000000000000000000000000000000000000000*_Dummy_2188**6*_Dummy_2189**5*pi**11*m - 7071023835604709/5846006549323611672814739330865132078623730171904*_Dummy_2188**6*_Dummy_2189**4*_Dummy_2190**2*pi**12*g*m + (7994146051660163/730750818665451459101842416358141509827966271488)*_Dummy_2188**6*_Dummy_2189**4*_Dummy_2190**2*pi**12 + (140242993358487/100000000000000000000000000000000000000000000)*_Dummy_2188**6*_Dummy_2189**4*_Dummy_2190*pi**11*g*m**2 - 143860942461383/10000000000000000000000000000000000000000000*_Dummy_2188**6*_Dummy_2189**4*_Dummy_2190*pi**11*m - 199739447747817/500000000000000000000000000000000000000000*_Dummy_2188**6*_Dummy_2189**4*pi**10*g*m**3 + (462708975838761/100000000000000000000000000000000000000000)*_Dummy_2188**6*_Dummy_2189**4*pi**10*m**2 - 600854075543077/182687704666362864775460604089535377456991567872*_Dummy_2188**6*_Dummy_2189**3*_Dummy_2190**3*pi**12*g*m + (2334340767122705/91343852333181432387730302044767688728495783936)*_Dummy_2188**6*_Dummy_2189**3*_Dummy_2190**3*pi**12 + (588533467955211/100000000000000000000000000000000000000000000)*_Dummy_2188**6*_Dummy_2189**3*_Dummy_2190**2*pi**11*g*m**2 - 260440531869539/5000000000000000000000000000000000000000000*_Dummy_2188**6*_Dummy_2189**3*_Dummy_2190**2*pi**11*m - 68748627761387/20000000000000000000000000000000000000000*_Dummy_2188**6*_Dummy_2189**3*_Dummy_2190*pi**10*g*m**3 + (172212220478669/5000000000000000000000000000000000000000)*_Dummy_2188**6*_Dummy_2189**3*_Dummy_2190*pi**10*m**2 + (32843895800673/50000000000000000000000000000000000000)*_Dummy_2188**6*_Dummy_2189**3*pi**9*g*m**4 - 370878576333491/50000000000000000000000000000000000000*_Dummy_2188**6*_Dummy_2189**3*pi**9*m**3 - 6565404004568839/1461501637330902918203684832716283019655932542976*_Dummy_2188**6*_Dummy_2189**2*_Dummy_2190**4*pi**12*g*m + (5608864314940063/182687704666362864775460604089535377456991567872)*_Dummy_2188**6*_Dummy_2189**2*_Dummy_2190**4*pi**12 + (3477556168469/312500000000000000000000000000000000000000)*_Dummy_2188**6*_Dummy_2189**2*_Dummy_2190**3*pi**11*g*m**2 - 217794651514669/2500000000000000000000000000000000000000000*_Dummy_2188**6*_Dummy_2189**2*_Dummy_2190**3*pi**11*m - 50336437146759/5000000000000000000000000000000000000000*_Dummy_2188**6*_Dummy_2189**2*_Dummy_2190**2*pi**10*g*m**3 + (179086035097653/2000000000000000000000000000000000000000)*_Dummy_2188**6*_Dummy_2189**2*_Dummy_2190**2*pi**10*m**2 + (197804507844671/50000000000000000000000000000000000000)*_Dummy_2188**6*_Dummy_2189**2*_Dummy_2190*pi**9*g*m**4 - 198686066093003/5000000000000000000000000000000000000*_Dummy_2188**6*_Dummy_2189**2*_Dummy_2190*pi**9*m**3 - 571365265220489/1000000000000000000000000000000000000*_Dummy_2188**6*_Dummy_2189**2*pi**8*g*m**5 + (40326542347117/6250000000000000000000000000000000)*_Dummy_2188**6*_Dummy_2189**2*pi**8*m**4 - 1049477794466719/365375409332725729550921208179070754913983135744*_Dummy_2188**6*_Dummy_2190**5*_Dummy_2189*pi**12*g*m + (6413550165475795/365375409332725729550921208179070754913983135744)*_Dummy_2188**6*_Dummy_2190**5*_Dummy_2189*pi**12 + (58378942056339/6250000000000000000000000000000000000000000)*_Dummy_2188**6*_Dummy_2190**4*_Dummy_2189*pi**11*g*m**2 - 659731145435583/10000000000000000000000000000000000000000000*_Dummy_2188**6*_Dummy_2190**4*_Dummy_2189*pi**11*m - 58715143400267/5000000000000000000000000000000000000000*_Dummy_2188**6*_Dummy_2190**3*_Dummy_2189*pi**10*g*m**3 + (14803909610381/156250000000000000000000000000000000000)*_Dummy_2188**6*_Dummy_2190**3*_Dummy_2189*pi**10*m**2 + (44819045457213/6250000000000000000000000000000000000)*_Dummy_2188**6*_Dummy_2190**2*_Dummy_2189*pi**9*g*m**4 - 655473663936473/10000000000000000000000000000000000000*_Dummy_2188**6*_Dummy_2190**2*_Dummy_2189*pi**9*m**3 - 106782593774439/50000000000000000000000000000000000*_Dummy_2188**6*_Dummy_2189*_Dummy_2190*pi**8*g*m**5 + (1717470857251/78125000000000000000000000000000)*_Dummy_2188**6*_Dummy_2189*_Dummy_2190*pi**8*m**4 + (124467908238111/500000000000000000000000000000000)*_Dummy_2188**6*_Dummy_2189*pi**7*g*m**6 - 287313421516307/100000000000000000000000000000000*_Dummy_2188**6*_Dummy_2189*pi**7*m**5 - 3881710524706255/5846006549323611672814739330865132078623730171904*_Dummy_2188**6*_Dummy_2190**6*pi**12*g*m + (2652386973404583/730750818665451459101842416358141509827966271488)*_Dummy_2188**6*_Dummy_2190**6*pi**12 + (137632069846927/50000000000000000000000000000000000000000000)*_Dummy_2188**6*_Dummy_2190**5*pi**11*g*m**2 - 176997101312457/10000000000000000000000000000000000000000000*_Dummy_2188**6*_Dummy_2190**5*pi**11*m - 455437385579657/100000000000000000000000000000000000000000*_Dummy_2188**6*_Dummy_2190**4*pi**10*g*m**3 + (13517244295417/400000000000000000000000000000000000000)*_Dummy_2188**6*_Dummy_2190**4*pi**10*m**2 + (9687388981113/2500000000000000000000000000000000000)*_Dummy_2188**6*_Dummy_2190**3*pi**9*g*m**4 - 327658817963959/10000000000000000000000000000000000000*_Dummy_2188**6*_Dummy_2190**3*pi**9*m**3 - 179771022471813/100000000000000000000000000000000000*_Dummy_2188**6*_Dummy_2190**2*pi**8*g*m**5 + (3435159460411/200000000000000000000000000000000)*_Dummy_2188**6*_Dummy_2190**2*pi**8*m**4 + (216522298705881/500000000000000000000000000000000)*_Dummy_2188**6*_Dummy_2190*pi**7*g*m**6 - 14521255961113/3125000000000000000000000000000*_Dummy_2188**6*_Dummy_2190*pi**7*m**5 - 42460489952589/1000000000000000000000000000000*_Dummy_2188**6*pi**6*g*m**7 + (127381469857767/250000000000000000000000000000)*_Dummy_2188**6*pi**6*m**6 - 7053741063900779/748288838313422294120286634350736906063837462003712*_Dummy_2188**5*_Dummy_2189**7*pi**12*g*m + (4260055086979499/23384026197294446691258957323460528314494920687616)*_Dummy_2188**5*_Dummy_2189**7*pi**12 - 2145730176066477/11692013098647223345629478661730264157247460343808*_Dummy_2188**5*_Dummy_2189**6*_Dummy_2190*pi**12*g*m + (1896438539073985/730750818665451459101842416358141509827966271488)*_Dummy_2188**5*_Dummy_2189**6*_Dummy_2190*pi**12 + (81427116113/800000000000000000000000000000000000000000)*_Dummy_2188**5*_Dummy_2189**6*pi**11*g*m**2 - 166420126316433/100000000000000000000000000000000000000000000*_Dummy_2188**5*_Dummy_2189**6*pi**11*m - 4021207182030963/2923003274661805836407369665432566039311865085952*_Dummy_2188**5*_Dummy_2189**5*_Dummy_2190**2*pi**12*g*m + (5494365952401429/365375409332725729550921208179070754913983135744)*_Dummy_2188**5*_Dummy_2189**5*_Dummy_2190**2*pi**12 + (39075836951849/25000000000000000000000000000000000000000000)*_Dummy_2188**5*_Dummy_2189**5*_Dummy_2190*pi**11*g*m**2 - 197611892141609/10000000000000000000000000000000000000000000*_Dummy_2188**5*_Dummy_2189**5*_Dummy_2190*pi**11*m - 27261444562123/62500000000000000000000000000000000000000*_Dummy_2188**5*_Dummy_2189**5*pi**10*g*m**3 + (317748841376193/50000000000000000000000000000000000000000)*_Dummy_2188**5*_Dummy_2189**5*pi**10*m**2 - 1889368033721533/365375409332725729550921208179070754913983135744*_Dummy_2188**5*_Dummy_2189**4*_Dummy_2190**3*pi**12*g*m + (1035751107351315/22835963083295358096932575511191922182123945984)*_Dummy_2188**5*_Dummy_2189**4*_Dummy_2190**3*pi**12 + (45265039623233/5000000000000000000000000000000000000000000)*_Dummy_2188**5*_Dummy_2189**4*_Dummy_2190**2*pi**11*g*m**2 - 461271033211673/5000000000000000000000000000000000000000000*_Dummy_2188**5*_Dummy_2189**4*_Dummy_2190**2*pi**11*m - 517843913872847/100000000000000000000000000000000000000000*_Dummy_2188**5*_Dummy_2189**4*_Dummy_2190*pi**10*g*m**3 + (609234607879891/10000000000000000000000000000000000000000)*_Dummy_2188**5*_Dummy_2189**4*_Dummy_2190*pi**10*m**2 + (121189879769259/125000000000000000000000000000000000000)*_Dummy_2188**5*_Dummy_2189**4*pi**9*g*m**4 - 65559068494289/5000000000000000000000000000000000000*_Dummy_2188**5*_Dummy_2189**4*pi**9*m**3 - 7626047704040003/730750818665451459101842416358141509827966271488*_Dummy_2188**5*_Dummy_2189**3*_Dummy_2190**4*pi**12*g*m + (755545407205379/10000000000000000000000000000000000000000000000)*_Dummy_2188**5*_Dummy_2189**3*_Dummy_2190**4*pi**12 + (251916586447161/10000000000000000000000000000000000000000000)*_Dummy_2188**5*_Dummy_2189**3*_Dummy_2190**3*pi**11*g*m**2 - 213589109454671/1000000000000000000000000000000000000000000*_Dummy_2188**5*_Dummy_2189**3*_Dummy_2190**3*pi**11*m - 111301936523479/5000000000000000000000000000000000000000*_Dummy_2188**5*_Dummy_2189**3*_Dummy_2190**2*pi**10*g*m**3 + (54736713183757/250000000000000000000000000000000000000)*_Dummy_2188**5*_Dummy_2189**3*_Dummy_2190**2*pi**10*m**2 + (855735612915873/100000000000000000000000000000000000000)*_Dummy_2188**5*_Dummy_2189**3*_Dummy_2190*pi**9*g*m**4 - 969838895571609/10000000000000000000000000000000000000*_Dummy_2188**5*_Dummy_2189**3*_Dummy_2190*pi**9*m**3 - 60504329914609/50000000000000000000000000000000000*_Dummy_2188**5*_Dummy_2189**3*pi**8*g*m**5 + (15728803154769/1000000000000000000000000000000000)*_Dummy_2188**5*_Dummy_2189**3*pi**8*m**4 - 8122168183057167/730750818665451459101842416358141509827966271488*_Dummy_2188**5*_Dummy_2189**2*_Dummy_2190**5*pi**12*g*m + (678252539701219/10000000000000000000000000000000000000000000000)*_Dummy_2188**5*_Dummy_2189**2*_Dummy_2190**5*pi**12 + (350535059031053/10000000000000000000000000000000000000000000)*_Dummy_2188**5*_Dummy_2189**2*_Dummy_2190**4*pi**11*g*m**2 - 126807896410077/500000000000000000000000000000000000000000*_Dummy_2188**5*_Dummy_2189**2*_Dummy_2190**4*pi**11*m - 17153406279973/400000000000000000000000000000000000000*_Dummy_2188**5*_Dummy_2189**2*_Dummy_2190**3*pi**10*g*m**3 + (181374237034219/500000000000000000000000000000000000000)*_Dummy_2188**5*_Dummy_2189**2*_Dummy_2190**3*pi**10*m**2 + (127734279553057/5000000000000000000000000000000000000)*_Dummy_2188**5*_Dummy_2189**2*_Dummy_2190**2*pi**9*g*m**4 - 62544217298999/250000000000000000000000000000000000*_Dummy_2188**5*_Dummy_2189**2*_Dummy_2190**2*pi**9*m**3 - 92941212158897/12500000000000000000000000000000000*_Dummy_2188**5*_Dummy_2189**2*_Dummy_2190*pi**8*g*m**5 + (418548283004303/5000000000000000000000000000000000)*_Dummy_2188**5*_Dummy_2189**2*_Dummy_2190*pi**8*m**4 + (847937624872131/1000000000000000000000000000000000)*_Dummy_2188**5*_Dummy_2189**2*pi**7*g*m**6 - 109220589478943/10000000000000000000000000000000*_Dummy_2188**5*_Dummy_2189**2*pi**7*m**5 - 4155753559746181/730750818665451459101842416358141509827966271488*_Dummy_2188**5*_Dummy_2190**6*_Dummy_2189*pi**12*g*m + (5370707720859699/182687704666362864775460604089535377456991567872)*_Dummy_2188**5*_Dummy_2190**6*_Dummy_2189*pi**12 + (28480975903837/1250000000000000000000000000000000000000000)*_Dummy_2188**5*_Dummy_2190**5*_Dummy_2189*pi**11*g*m**2 - 142762305077583/1000000000000000000000000000000000000000000*_Dummy_2188**5*_Dummy_2190**5*_Dummy_2189*pi**11*m - 91406977877123/2500000000000000000000000000000000000000*_Dummy_2188**5*_Dummy_2190**4*_Dummy_2189*pi**10*g*m**3 + (271418648044721/1000000000000000000000000000000000000000)*_Dummy_2188**5*_Dummy_2190**4*_Dummy_2189*pi**10*m**2 + (75652130297643/2500000000000000000000000000000000000)*_Dummy_2188**5*_Dummy_2190**3*_Dummy_2189*pi**9*g*m**4 - 131086931386867/500000000000000000000000000000000000*_Dummy_2188**5*_Dummy_2190**3*_Dummy_2189*pi**9*m**3 - 34220947058709/2500000000000000000000000000000000*_Dummy_2188**5*_Dummy_2190**2*_Dummy_2189*pi**8*g*m**5 + (27398590303443/200000000000000000000000000000000)*_Dummy_2188**5*_Dummy_2190**2*_Dummy_2189*pi**8*m**4 + (10064397267691/3125000000000000000000000000000)*_Dummy_2188**5*_Dummy_2189*_Dummy_2190*pi**7*g*m**6 - 369669687467191/10000000000000000000000000000000*_Dummy_2188**5*_Dummy_2189*_Dummy_2190*pi**7*m**5 - 77200890822889/250000000000000000000000000000*_Dummy_2188**5*_Dummy_2189*pi**6*g*m**7 + (404532667911939/100000000000000000000000000000)*_Dummy_2188**5*_Dummy_2189*pi**6*m**6 - 3127564436567643/2923003274661805836407369665432566039311865085952*_Dummy_2188**5*_Dummy_2190**7*pi**12*g*m + (1664664225687141/365375409332725729550921208179070754913983135744)*_Dummy_2188**5*_Dummy_2190**7*pi**12 + (107074142953693/20000000000000000000000000000000000000000000)*_Dummy_2188**5*_Dummy_2190**6*pi**11*g*m**2 - 288938513668149/10000000000000000000000000000000000000000000*_Dummy_2188**5*_Dummy_2190**6*pi**11*m - 109332711269527/10000000000000000000000000000000000000000*_Dummy_2188**5*_Dummy_2190**5*pi**10*g*m**3 + (35845065539329/500000000000000000000000000000000000000)*_Dummy_2188**5*_Dummy_2190**5*pi**10*m**2 + (118961604772093/10000000000000000000000000000000000000)*_Dummy_2188**5*_Dummy_2190**4*pi**9*g*m**4 - 461995032628969/5000000000000000000000000000000000000*_Dummy_2188**5*_Dummy_2190**4*pi**9*m**3 - 187334063711139/25000000000000000000000000000000000*_Dummy_2188**5*_Dummy_2190**3*pi**8*g*m**5 + (169580513930533/2500000000000000000000000000000000)*_Dummy_2188**5*_Dummy_2190**3*pi**8*m**4 + (274607322550333/100000000000000000000000000000000)*_Dummy_2188**5*_Dummy_2190**2*pi**7*g*m**6 - 286587358718251/10000000000000000000000000000000*_Dummy_2188**5*_Dummy_2190**2*pi**7*m**5 - 68033285037671/125000000000000000000000000000*_Dummy_2188**5*_Dummy_2190*pi**6*g*m**7 + (650031500728727/100000000000000000000000000000)*_Dummy_2188**5*_Dummy_2190*pi**6*m**6 + (45147439834329/1000000000000000000000000000)*_Dummy_2188**5*pi**5*g*m**8 - 307002590873437/500000000000000000000000000*_Dummy_2188**5*pi**5*m**7 - 135496930158937/46768052394588893382517914646921056628989841375232*_Dummy_2188**4*_Dummy_2189**8*pi**12*g*m + (2845830568119465/23384026197294446691258957323460528314494920687616)*_Dummy_2188**4*_Dummy_2189**8*pi**12 - 4095720617748841/46768052394588893382517914646921056628989841375232*_Dummy_2188**4*_Dummy_2189**7*_Dummy_2190*pi**12*g*m + (1476565945363551/730750818665451459101842416358141509827966271488)*_Dummy_2188**4*_Dummy_2189**7*_Dummy_2190*pi**12 + (2109845692657827/45671926166590716193865151022383844364247891968)*_Dummy_2188**4*_Dummy_2189**7*pi**11*g*m**2 - 64837409967309/50000000000000000000000000000000000000000000*_Dummy_2188**4*_Dummy_2189**7*pi**11*m - 2680261615195663/2923003274661805836407369665432566039311865085952*_Dummy_2188**4*_Dummy_2189**6*_Dummy_2190**2*pi**12*g*m + (638522802334595/45671926166590716193865151022383844364247891968)*_Dummy_2188**4*_Dummy_2189**6*_Dummy_2190**2*pi**12 + (100718904910433/100000000000000000000000000000000000000000000)*_Dummy_2188**4*_Dummy_2189**6*_Dummy_2190*pi**11*g*m**2 - 183686296150647/10000000000000000000000000000000000000000000*_Dummy_2188**4*_Dummy_2189**6*_Dummy_2190*pi**11*m - 67685684104207/250000000000000000000000000000000000000000*_Dummy_2188**4*_Dummy_2189**6*pi**10*g*m**3 + (590898595829883/100000000000000000000000000000000000000000)*_Dummy_2188**4*_Dummy_2189**6*pi**10*m**2 - 6924416552207527/1461501637330902918203684832716283019655932542976*_Dummy_2188**4*_Dummy_2189**5*_Dummy_2190**3*pi**12*g*m + (260151837253721/5000000000000000000000000000000000000000000000)*_Dummy_2188**4*_Dummy_2189**5*_Dummy_2190**3*pi**12 + (806042948532043/100000000000000000000000000000000000000000000)*_Dummy_2188**4*_Dummy_2189**5*_Dummy_2190**2*pi**11*g*m**2 - 26418610376869/250000000000000000000000000000000000000000*_Dummy_2188**4*_Dummy_2189**5*_Dummy_2190**2*pi**11*m - 55950067392603/12500000000000000000000000000000000000000*_Dummy_2188**4*_Dummy_2189**5*_Dummy_2190*pi**10*g*m**3 + (69735767195789/1000000000000000000000000000000000000000)*_Dummy_2188**4*_Dummy_2189**5*_Dummy_2190*pi**10*m**2 + (811902887369879/1000000000000000000000000000000000000000)*_Dummy_2188**4*_Dummy_2189**5*pi**9*g*m**4 - 75029968613533/5000000000000000000000000000000000000*_Dummy_2188**4*_Dummy_2189**5*pi**9*m**3 - 4929787180181263/365375409332725729550921208179070754913983135744*_Dummy_2188**4*_Dummy_2189**4*_Dummy_2190**4*pi**12*g*m + (56019650038873/500000000000000000000000000000000000000000000)*_Dummy_2188**4*_Dummy_2189**4*_Dummy_2190**4*pi**12 + (316351764566963/10000000000000000000000000000000000000000000)*_Dummy_2188**4*_Dummy_2189**4*_Dummy_2190**3*pi**11*g*m**2 - 157880338064173/500000000000000000000000000000000000000000*_Dummy_2188**4*_Dummy_2189**4*_Dummy_2190**3*pi**11*m - 16985936502691/625000000000000000000000000000000000000*_Dummy_2188**4*_Dummy_2189**4*_Dummy_2190**2*pi**10*g*m**3 + (161513156324463/500000000000000000000000000000000000000)*_Dummy_2188**4*_Dummy_2189**4*_Dummy_2190**2*pi**10*m**2 + (10157005424717/1000000000000000000000000000000000000)*_Dummy_2188**4*_Dummy_2189**4*_Dummy_2190*pi**9*g*m**4 - 142909396492179/1000000000000000000000000000000000000*_Dummy_2188**4*_Dummy_2189**4*_Dummy_2190*pi**9*m**3 - 13950254570043/10000000000000000000000000000000000*_Dummy_2188**4*_Dummy_2189**4*pi**8*g*m**5 + (231623581602087/10000000000000000000000000000000000)*_Dummy_2188**4*_Dummy_2189**4*pi**8*m**4 - 3945940711260277/182687704666362864775460604089535377456991567872*_Dummy_2188**4*_Dummy_2189**3*_Dummy_2190**5*pi**12*g*m + (17444552724359/125000000000000000000000000000000000000000000)*_Dummy_2188**4*_Dummy_2189**3*_Dummy_2190**5*pi**12 + (658856772110307/10000000000000000000000000000000000000000000)*_Dummy_2188**4*_Dummy_2189**3*_Dummy_2190**4*pi**11*g*m**2 - 519384544999149/1000000000000000000000000000000000000000000*_Dummy_2188**4*_Dummy_2189**3*_Dummy_2190**4*pi**11*m - 390898980502653/5000000000000000000000000000000000000000*_Dummy_2188**4*_Dummy_2189**3*_Dummy_2190**3*pi**10*g*m**3 + (740305162678427/1000000000000000000000000000000000000000)*_Dummy_2188**4*_Dummy_2189**3*_Dummy_2190**3*pi**10*m**2 + (452486797236249/10000000000000000000000000000000000000)*_Dummy_2188**4*_Dummy_2189**3*_Dummy_2190**2*pi**9*g*m**4 - 509296595150857/1000000000000000000000000000000000000*_Dummy_2188**4*_Dummy_2189**3*_Dummy_2190**2*pi**9*m**3 - 64017297246503/5000000000000000000000000000000000*_Dummy_2188**4*_Dummy_2189**3*_Dummy_2190*pi**8*g*m**5 + (170120523784857/1000000000000000000000000000000000)*_Dummy_2188**4*_Dummy_2189**3*_Dummy_2190*pi**8*m**4 + (70963994905201/50000000000000000000000000000000)*_Dummy_2188**4*_Dummy_2189**3*pi**7*g*m**6 - 221725748758613/10000000000000000000000000000000*_Dummy_2188**4*_Dummy_2189**3*pi**7*m**5 - 3409387805083577/182687704666362864775460604089535377456991567872*_Dummy_2188**4*_Dummy_2189**2*_Dummy_2190**6*pi**12*g*m + (236953452438953/2500000000000000000000000000000000000000000000)*_Dummy_2188**4*_Dummy_2189**2*_Dummy_2190**6*pi**12 + (359831971093803/5000000000000000000000000000000000000000000)*_Dummy_2188**4*_Dummy_2189**2*_Dummy_2190**5*pi**11*g*m**2 - 11451378498121/25000000000000000000000000000000000000000*_Dummy_2188**4*_Dummy_2189**2*_Dummy_2190**5*pi**11*m - 1743536605267/15625000000000000000000000000000000000*_Dummy_2188**4*_Dummy_2189**2*_Dummy_2190**4*pi**10*g*m**3 + (27098851523173/31250000000000000000000000000000000000)*_Dummy_2188**4*_Dummy_2189**2*_Dummy_2190**4*pi**10*m**2 + (27966192080127/312500000000000000000000000000000000)*_Dummy_2188**4*_Dummy_2189**2*_Dummy_2190**3*pi**9*g*m**4 - 166944619621343/200000000000000000000000000000000000*_Dummy_2188**4*_Dummy_2189**2*_Dummy_2190**3*pi**9*m**3 - 78603369870831/2000000000000000000000000000000000*_Dummy_2188**4*_Dummy_2189**2*_Dummy_2190**2*pi**8*g*m**5 + (86996168187393/200000000000000000000000000000000)*_Dummy_2188**4*_Dummy_2189**2*_Dummy_2190**2*pi**8*m**4 + (898675584688639/100000000000000000000000000000000)*_Dummy_2188**4*_Dummy_2189**2*_Dummy_2190*pi**7*g*m**6 - 23427626283929/200000000000000000000000000000*_Dummy_2188**4*_Dummy_2189**2*_Dummy_2190*pi**7*m**5 - 418814832714173/500000000000000000000000000000*_Dummy_2188**4*_Dummy_2189**2*pi**6*g*m**7 + (2559981539687/200000000000000000000000000)*_Dummy_2188**4*_Dummy_2189**2*pi**6*m**6 - 5730497993225075/730750818665451459101842416358141509827966271488*_Dummy_2188**4*_Dummy_2190**7*_Dummy_2189*pi**12*g*m + (5562231693431751/182687704666362864775460604089535377456991567872)*_Dummy_2188**4*_Dummy_2190**7*_Dummy_2189*pi**12 + (9417694780073/250000000000000000000000000000000000000000)*_Dummy_2188**4*_Dummy_2190**6*_Dummy_2189*pi**11*g*m**2 - 193446233777149/1000000000000000000000000000000000000000000*_Dummy_2188**4*_Dummy_2190**6*_Dummy_2189*pi**11*m - 370570346833637/5000000000000000000000000000000000000000*_Dummy_2188**4*_Dummy_2190**5*_Dummy_2189*pi**10*g*m**3 + (479126485954257/1000000000000000000000000000000000000000)*_Dummy_2188**4*_Dummy_2190**5*_Dummy_2189*pi**10*m**2 + (194834403253263/2500000000000000000000000000000000000)*_Dummy_2188**4*_Dummy_2190**4*_Dummy_2189*pi**9*g*m**4 - 615820817291069/1000000000000000000000000000000000000*_Dummy_2188**4*_Dummy_2190**4*_Dummy_2189*pi**9*m**3 - 475615130835471/10000000000000000000000000000000000*_Dummy_2188**4*_Dummy_2190**3*_Dummy_2189*pi**8*g*m**5 + (112702379220499/250000000000000000000000000000000)*_Dummy_2188**4*_Dummy_2190**3*_Dummy_2189*pi**8*m**4 + (84586315973483/5000000000000000000000000000000)*_Dummy_2188**4*_Dummy_2190**2*_Dummy_2189*pi**7*g*m**6 - 189982974715999/1000000000000000000000000000000*_Dummy_2188**4*_Dummy_2190**2*_Dummy_2189*pi**7*m**5 - 20361734954537/6250000000000000000000000000*_Dummy_2188**4*_Dummy_2189*_Dummy_2190*pi**6*g*m**7 + (107502240470871/2500000000000000000000000000)*_Dummy_2188**4*_Dummy_2189*_Dummy_2190*pi**6*m**6 + (262676013581551/1000000000000000000000000000)*_Dummy_2188**4*_Dummy_2189*pi**5*g*m**8 - 10137652399163/2500000000000000000000000*_Dummy_2188**4*_Dummy_2189*pi**5*m**7 - 1792877702056555/1461501637330902918203684832716283019655932542976*_Dummy_2188**4*_Dummy_2190**8*pi**12*g*m + (297063069707735/91343852333181432387730302044767688728495783936)*_Dummy_2188**4*_Dummy_2190**8*pi**12 + (90653521295947/12500000000000000000000000000000000000000000)*_Dummy_2188**4*_Dummy_2190**7*pi**11*g*m**2 - 287569994934711/10000000000000000000000000000000000000000000*_Dummy_2188**4*_Dummy_2190**7*pi**11*m - 177772132670347/10000000000000000000000000000000000000000*_Dummy_2188**4*_Dummy_2190**6*pi**10*g*m**3 + (944105096374277/10000000000000000000000000000000000000000)*_Dummy_2188**4*_Dummy_2190**6*pi**10*m**2 + (47505234797341/2000000000000000000000000000000000000)*_Dummy_2188**4*_Dummy_2190**5*pi**9*g*m**4 - 159619996208341/1000000000000000000000000000000000000*_Dummy_2188**4*_Dummy_2190**5*pi**9*m**3 - 19041153922503/1000000000000000000000000000000000*_Dummy_2188**4*_Dummy_2190**4*pi**8*g*m**5 + (156655116772191/1000000000000000000000000000000000)*_Dummy_2188**4*_Dummy_2190**4*pi**8*m**4 + (23573271023777/2500000000000000000000000000000)*_Dummy_2188**4*_Dummy_2190**3*pi**7*g*m**6 - 465198807039941/5000000000000000000000000000000*_Dummy_2188**4*_Dummy_2190**3*pi**7*m**5 - 8841914527059/3125000000000000000000000000*_Dummy_2188**4*_Dummy_2190**2*pi**6*g*m**7 + (330419812721963/10000000000000000000000000000)*_Dummy_2188**4*_Dummy_2190**2*pi**6*m**6 + (471995961904349/1000000000000000000000000000)*_Dummy_2188**4*_Dummy_2190*pi**5*g*m**8 - 64683968344457/10000000000000000000000000*_Dummy_2188**4*_Dummy_2190*pi**5*m**7 - 336030961514861/10000000000000000000000000*_Dummy_2188**4*pi**4*g*m**9 + (537649538423777/1000000000000000000000000)*_Dummy_2188**4*pi**4*m**8 + (2831609315974409/5986310706507378352962293074805895248510699696029696)*_Dummy_2188**3*_Dummy_2189**9*pi**12*g*m + (5309267467452193/93536104789177786765035829293842113257979682750464)*_Dummy_2188**3*_Dummy_2189**9*pi**12 - 8646521304136561/748288838313422294120286634350736906063837462003712*_Dummy_2188**3*_Dummy_2189**8*_Dummy_2190*pi**12*g*m + (1576978848963477/1461501637330902918203684832716283019655932542976)*_Dummy_2188**3*_Dummy_2189**8*_Dummy_2190*pi**12 + (344558360259861/91343852333181432387730302044767688728495783936)*_Dummy_2188**3*_Dummy_2189**8*pi**11*g*m**2 - 346631058833103/500000000000000000000000000000000000000000000*_Dummy_2188**3*_Dummy_2189**8*pi**11*m - 6729812542821113/23384026197294446691258957323460528314494920687616*_Dummy_2188**3*_Dummy_2189**7*_Dummy_2190**2*pi**12*g*m + (1591051963065257/182687704666362864775460604089535377456991567872)*_Dummy_2188**3*_Dummy_2189**7*_Dummy_2190**2*pi**12 + (141981932542927/500000000000000000000000000000000000000000000)*_Dummy_2188**3*_Dummy_2189**7*_Dummy_2190*pi**11*g*m**2 - 28613156657101/2500000000000000000000000000000000000000000*_Dummy_2188**3*_Dummy_2189**7*_Dummy_2190*pi**11*m - 330918187338371/5000000000000000000000000000000000000000000*_Dummy_2188**3*_Dummy_2189**7*pi**10*g*m**3 + (46055276683529/12500000000000000000000000000000000000000)*_Dummy_2188**3*_Dummy_2189**7*pi**10*m**2 - 6755884838420195/2923003274661805836407369665432566039311865085952*_Dummy_2188**3*_Dummy_2189**6*_Dummy_2190**3*pi**12*g*m + (7078331979068049/182687704666362864775460604089535377456991567872)*_Dummy_2188**3*_Dummy_2189**6*_Dummy_2190**3*pi**12 + (46440866794837/12500000000000000000000000000000000000000000)*_Dummy_2188**3*_Dummy_2189**6*_Dummy_2190**2*pi**11*g*m**2 - 78616447208207/1000000000000000000000000000000000000000000*_Dummy_2188**3*_Dummy_2189**6*_Dummy_2190**2*pi**11*m - 193051830760487/100000000000000000000000000000000000000000*_Dummy_2188**3*_Dummy_2189**6*_Dummy_2190*pi**10*g*m**3 + (518665594213579/10000000000000000000000000000000000000000)*_Dummy_2188**3*_Dummy_2189**6*_Dummy_2190*pi**10*m**2 + (322922253418563/1000000000000000000000000000000000000000)*_Dummy_2188**3*_Dummy_2189**6*pi**9*g*m**4 - 55819020060289/5000000000000000000000000000000000000*_Dummy_2188**3*_Dummy_2189**6*pi**9*m**3 - 6931823454366361/730750818665451459101842416358141509827966271488*_Dummy_2188**3*_Dummy_2189**5*_Dummy_2190**4*pi**12*g*m + (2577028067987/25000000000000000000000000000000000000000000)*_Dummy_2188**3*_Dummy_2189**5*_Dummy_2190**4*pi**12 + (213240466607917/10000000000000000000000000000000000000000000)*_Dummy_2188**3*_Dummy_2189**5*_Dummy_2190**3*pi**11*g*m**2 - 11591237994407/40000000000000000000000000000000000000000*_Dummy_2188**3*_Dummy_2189**5*_Dummy_2190**3*pi**11*m - 43775722043487/2500000000000000000000000000000000000000*_Dummy_2188**3*_Dummy_2189**5*_Dummy_2190**2*pi**10*g*m**3 + (296005569890489/1000000000000000000000000000000000000000)*_Dummy_2188**3*_Dummy_2189**5*_Dummy_2190**2*pi**10*m**2 + (155568283171919/25000000000000000000000000000000000000)*_Dummy_2188**3*_Dummy_2189**5*_Dummy_2190*pi**9*g*m**4 - 4089326931341/31250000000000000000000000000000000*_Dummy_2188**3*_Dummy_2189**5*_Dummy_2190*pi**9*m**3 - 806281994474909/1000000000000000000000000000000000000*_Dummy_2188**3*_Dummy_2189**5*pi**8*g*m**5 + (1060277412899/50000000000000000000000000000000)*_Dummy_2188**3*_Dummy_2189**5*pi**8*m**4 - 4029033808645463/182687704666362864775460604089535377456991567872*_Dummy_2188**3*_Dummy_2189**4*_Dummy_2190**5*pi**12*g*m + (324568965573/1953125000000000000000000000000000000000000)*_Dummy_2188**3*_Dummy_2189**4*_Dummy_2190**5*pi**12 + (323314436825699/5000000000000000000000000000000000000000000)*_Dummy_2188**3*_Dummy_2189**4*_Dummy_2190**4*pi**11*g*m**2 - 615787158924517/1000000000000000000000000000000000000000000*_Dummy_2188**3*_Dummy_2189**4*_Dummy_2190**4*pi**11*m - 184455538311967/2500000000000000000000000000000000000000*_Dummy_2188**3*_Dummy_2189**4*_Dummy_2190**3*pi**10*g*m**3 + (875105659579497/1000000000000000000000000000000000000000)*_Dummy_2188**3*_Dummy_2189**4*_Dummy_2190**3*pi**10*m**2 + (82028939282967/2000000000000000000000000000000000000)*_Dummy_2188**3*_Dummy_2189**4*_Dummy_2190**2*pi**9*g*m**4 - 600856059542051/1000000000000000000000000000000000000*_Dummy_2188**3*_Dummy_2189**4*_Dummy_2190**2*pi**9*m**3 - 111143733266159/10000000000000000000000000000000000*_Dummy_2188**3*_Dummy_2189**4*_Dummy_2190*pi**8*g*m**5 + (5011660579289/25000000000000000000000000000000)*_Dummy_2188**3*_Dummy_2189**4*_Dummy_2190*pi**8*m**4 + (14677921297003/12500000000000000000000000000000)*_Dummy_2188**3*_Dummy_2189**4*pi**7*g*m**6 - 261123299157871/10000000000000000000000000000000*_Dummy_2188**3*_Dummy_2189**4*pi**7*m**5 - 334339076374375/11417981541647679048466287755595961091061972992*_Dummy_2188**3*_Dummy_2189**3*_Dummy_2190**6*pi**12*g*m + (78267749545261/500000000000000000000000000000000000000000000)*_Dummy_2188**3*_Dummy_2189**3*_Dummy_2190**6*pi**12 + (6758130008679/62500000000000000000000000000000000000000)*_Dummy_2188**3*_Dummy_2189**3*_Dummy_2190**5*pi**11*g*m**2 - 376191566422323/500000000000000000000000000000000000000000*_Dummy_2188**3*_Dummy_2189**3*_Dummy_2190**5*pi**11*m - 10066098894007/62500000000000000000000000000000000000*_Dummy_2188**3*_Dummy_2189**3*_Dummy_2190**4*pi**10*g*m**3 + (70919436096653/50000000000000000000000000000000000000)*_Dummy_2188**3*_Dummy_2189**3*_Dummy_2190**4*pi**10*m**2 + (24853255688299/200000000000000000000000000000000000)*_Dummy_2188**3*_Dummy_2189**3*_Dummy_2190**3*pi**9*g*m**4 - 136105460833437/100000000000000000000000000000000000*_Dummy_2188**3*_Dummy_2189**3*_Dummy_2190**3*pi**9*m**3 - 525020640702679/10000000000000000000000000000000000*_Dummy_2188**3*_Dummy_2189**3*_Dummy_2190**2*pi**8*g*m**5 + (707660102615741/1000000000000000000000000000000000)*_Dummy_2188**3*_Dummy_2189**3*_Dummy_2190**2*pi**8*m**4 + (23064594884901/2000000000000000000000000000000)*_Dummy_2188**3*_Dummy_2189**3*_Dummy_2190*pi**7*g*m**6 - 190276857277117/1000000000000000000000000000000*_Dummy_2188**3*_Dummy_2189**3*_Dummy_2190*pi**7*m**5 - 20586904219437/20000000000000000000000000000*_Dummy_2188**3*_Dummy_2189**3*pi**6*g*m**7 + (207721863574121/10000000000000000000000000000)*_Dummy_2188**3*_Dummy_2189**3*pi**6*m**6 - 3856181401932139/182687704666362864775460604089535377456991567872*_Dummy_2188**3*_Dummy_2189**2*_Dummy_2190**7*pi**12*g*m + (780927343316719/10000000000000000000000000000000000000000000000)*_Dummy_2188**3*_Dummy_2189**2*_Dummy_2190**7*pi**12 + (241794024047851/2500000000000000000000000000000000000000000)*_Dummy_2188**3*_Dummy_2189**2*_Dummy_2190**6*pi**11*g*m**2 - 61974962670893/125000000000000000000000000000000000000000*_Dummy_2188**3*_Dummy_2189**2*_Dummy_2190**6*pi**11*m - 7288808486417/40000000000000000000000000000000000000*_Dummy_2188**3*_Dummy_2189**2*_Dummy_2190**5*pi**10*g*m**3 + (61224229483463/50000000000000000000000000000000000000)*_Dummy_2188**3*_Dummy_2189**2*_Dummy_2190**5*pi**10*m**2 + (3680661714793/20000000000000000000000000000000000)*_Dummy_2188**3*_Dummy_2189**2*_Dummy_2190**4*pi**9*g*m**4 - 156897641804801/100000000000000000000000000000000000*_Dummy_2188**3*_Dummy_2189**2*_Dummy_2190**4*pi**9*m**3 - 27014283290449/250000000000000000000000000000000*_Dummy_2188**3*_Dummy_2189**2*_Dummy_2190**3*pi**8*g*m**5 + (57271487510219/50000000000000000000000000000000)*_Dummy_2188**3*_Dummy_2189**2*_Dummy_2190**3*pi**8*m**4 + (369972213633047/10000000000000000000000000000000)*_Dummy_2188**3*_Dummy_2189**2*_Dummy_2190**2*pi**7*g*m**6 - 481645858136849/1000000000000000000000000000000*_Dummy_2188**3*_Dummy_2189**2*_Dummy_2190**2*pi**7*m**5 - 21415205443891/3125000000000000000000000000*_Dummy_2188**3*_Dummy_2189**2*_Dummy_2190*pi**6*g*m**7 + (21766533831211/200000000000000000000000000)*_Dummy_2188**3*_Dummy_2189**2*_Dummy_2190*pi**6*m**6 + (106055440483551/200000000000000000000000000)*_Dummy_2188**3*_Dummy_2189**2*pi**5*g*m**8 - 512546571501/50000000000000000000000*_Dummy_2188**3*_Dummy_2189**2*pi**5*m**7 - 5434295975893301/730750818665451459101842416358141509827966271488*_Dummy_2188**3*_Dummy_2190**8*_Dummy_2189*pi**12*g*m + (378140872463871/22835963083295358096932575511191922182123945984)*_Dummy_2188**3*_Dummy_2190**8*_Dummy_2189*pi**12 + (104845584883917/2500000000000000000000000000000000000000000)*_Dummy_2188**3*_Dummy_2190**7*_Dummy_2189*pi**11*g*m**2 - 75550381826811/500000000000000000000000000000000000000000*_Dummy_2188**3*_Dummy_2190**7*_Dummy_2189*pi**11*m - 491439337784499/5000000000000000000000000000000000000000*_Dummy_2188**3*_Dummy_2190**6*_Dummy_2189*pi**10*g*m**3 + (250205594342441/500000000000000000000000000000000000000)*_Dummy_2188**3*_Dummy_2190**6*_Dummy_2189*pi**10*m**2 + (62952564887101/500000000000000000000000000000000000)*_Dummy_2188**3*_Dummy_2190**5*_Dummy_2189*pi**9*g*m**4 - 847437151832337/1000000000000000000000000000000000000*_Dummy_2188**3*_Dummy_2190**5*_Dummy_2189*pi**9*m**3 - 12123781147631/125000000000000000000000000000000*_Dummy_2188**3*_Dummy_2190**4*_Dummy_2189*pi**8*g*m**5 + (831014611704603/1000000000000000000000000000000000)*_Dummy_2188**3*_Dummy_2190**4*_Dummy_2189*pi**8*m**4 + (231121347109643/5000000000000000000000000000000)*_Dummy_2188**3*_Dummy_2190**3*_Dummy_2189*pi**7*g*m**6 - 492761533830891/1000000000000000000000000000000*_Dummy_2188**3*_Dummy_2190**3*_Dummy_2189*pi**7*m**5 - 66778770561799/5000000000000000000000000000*_Dummy_2188**3*_Dummy_2190**2*_Dummy_2189*pi**6*g*m**7 + (174700469206143/1000000000000000000000000000)*_Dummy_2188**3*_Dummy_2190**2*_Dummy_2189*pi**6*m**6 + (214409296085941/100000000000000000000000000)*_Dummy_2188**3*_Dummy_2189*_Dummy_2190*pi**5*g*m**8 - 341478817656017/10000000000000000000000000*_Dummy_2188**3*_Dummy_2189*_Dummy_2190*pi**5*m**7 - 73315846148697/500000000000000000000000*_Dummy_2188**3*_Dummy_2189*pi**4*g*m**9 + (70871984610407/25000000000000000000000)*_Dummy_2188**3*_Dummy_2189*pi**4*m**8 - 2885136528909001/2923003274661805836407369665432566039311865085952*_Dummy_2188**3*_Dummy_2190**9*pi**12*g*m + (522631016327327/730750818665451459101842416358141509827966271488)*_Dummy_2188**3*_Dummy_2190**9*pi**12 + (676669896785613/100000000000000000000000000000000000000000000)*_Dummy_2188**3*_Dummy_2190**8*pi**11*g*m**2 - 28734366879357/2000000000000000000000000000000000000000000*_Dummy_2188**3*_Dummy_2190**8*pi**11*m - 6085289267171/312500000000000000000000000000000000000*_Dummy_2188**3*_Dummy_2190**7*pi**10*g*m**3 + (175680497634427/2500000000000000000000000000000000000000)*_Dummy_2188**3*_Dummy_2190**7*pi**10*m**2 + (77559154770053/2500000000000000000000000000000000000)*_Dummy_2188**3*_Dummy_2190**6*pi**9*g*m**4 - 80674839065871/500000000000000000000000000000000000*_Dummy_2188**3*_Dummy_2190**6*pi**9*m**3 - 151686984636997/5000000000000000000000000000000000*_Dummy_2188**3*_Dummy_2190**5*pi**8*g*m**5 + (52613425549443/250000000000000000000000000000000)*_Dummy_2188**3*_Dummy_2190**5*pi**8*m**4 + (189904317912877/10000000000000000000000000000000)*_Dummy_2188**3*_Dummy_2190**4*pi**7*g*m**6 - 84182659632183/500000000000000000000000000000*_Dummy_2188**3*_Dummy_2190**4*pi**7*m**5 - 152909231089869/20000000000000000000000000000*_Dummy_2188**3*_Dummy_2190**3*pi**6*g*m**7 + (422288872801203/5000000000000000000000000000)*_Dummy_2188**3*_Dummy_2190**3*pi**6*m**6 + (47897329351511/25000000000000000000000000)*_Dummy_2188**3*_Dummy_2190**2*pi**5*g*m**8 - 259720908428759/10000000000000000000000000*_Dummy_2188**3*_Dummy_2190**2*pi**5*m**7 - 271879596134751/1000000000000000000000000*_Dummy_2188**3*_Dummy_2190*pi**4*g*m**9 + (112112148069049/25000000000000000000000)*_Dummy_2188**3*_Dummy_2190*pi**4*m**8 + (33347570393347/2000000000000000000000)*_Dummy_2188**3*pi**3*g*m**10 - 33347570393347/100000000000000000000*_Dummy_2188**3*pi**3*m**9 + (1162982397632373/1496577676626844588240573268701473812127674924007424)*_Dummy_2188**2*_Dummy_2189**10*pi**12*g*m + (6573378769226525/374144419156711147060143317175368453031918731001856)*_Dummy_2188**2*_Dummy_2189**10*pi**12 + (3767051679287465/374144419156711147060143317175368453031918731001856)*_Dummy_2188**2*_Dummy_2189**9*_Dummy_2190*pi**12*g*m + (8817176329875959/23384026197294446691258957323460528314494920687616)*_Dummy_2188**2*_Dummy_2189**9*_Dummy_2190*pi**12 - 643175605818383/91343852333181432387730302044767688728495783936*_Dummy_2188**2*_Dummy_2189**9*pi**11*g*m**2 - 242621623303959/1000000000000000000000000000000000000000000000*_Dummy_2188**2*_Dummy_2189**9*pi**11*m + (7395051115379603/374144419156711147060143317175368453031918731001856)*_Dummy_2188**2*_Dummy_2189**8*_Dummy_2190**2*pi**12*g*m + (2548566894811587/730750818665451459101842416358141509827966271488)*_Dummy_2188**2*_Dummy_2189**8*_Dummy_2190**2*pi**12 - 2223549951543539/45671926166590716193865151022383844364247891968*_Dummy_2188**2*_Dummy_2189**8*_Dummy_2190*pi**11*g*m**2 - 114651793632609/25000000000000000000000000000000000000000000*_Dummy_2188**2*_Dummy_2189**8*_Dummy_2190*pi**11*m + (54185981467453/2500000000000000000000000000000000000000000)*_Dummy_2188**2*_Dummy_2189**8*pi**10*g*m**3 + (1182321270237/800000000000000000000000000000000000000)*_Dummy_2188**2*_Dummy_2189**8*pi**10*m**2 - 4267955782615605/11692013098647223345629478661730264157247460343808*_Dummy_2188**2*_Dummy_2189**7*_Dummy_2190**3*pi**12*g*m + (3310440850869239/182687704666362864775460604089535377456991567872)*_Dummy_2188**2*_Dummy_2189**7*_Dummy_2190**3*pi**12 + (1300432285977/3125000000000000000000000000000000000000000)*_Dummy_2188**2*_Dummy_2189**7*_Dummy_2190**2*pi**11*g*m**2 - 91868295424339/2500000000000000000000000000000000000000000*_Dummy_2188**2*_Dummy_2189**7*_Dummy_2190**2*pi**11*m - 103767558292079/1000000000000000000000000000000000000000000*_Dummy_2188**2*_Dummy_2189**7*_Dummy_2190*pi**10*g*m**3 + (121235097271243/5000000000000000000000000000000000000000)*_Dummy_2188**2*_Dummy_2189**7*_Dummy_2190*pi**10*m**2 - 192248796254353/25000000000000000000000000000000000000000*_Dummy_2188**2*_Dummy_2189**7*pi**9*g*m**4 - 52222574463113/10000000000000000000000000000000000000*_Dummy_2188**2*_Dummy_2189**7*pi**9*m**3 - 4454115923540949/1461501637330902918203684832716283019655932542976*_Dummy_2188**2*_Dummy_2189**6*_Dummy_2190**4*pi**12*g*m + (72141744055549/1250000000000000000000000000000000000000000000)*_Dummy_2188**2*_Dummy_2189**6*_Dummy_2190**4*pi**12 + (153957100144227/25000000000000000000000000000000000000000000)*_Dummy_2188**2*_Dummy_2189**6*_Dummy_2190**3*pi**11*g*m**2 - 161903461254411/1000000000000000000000000000000000000000000*_Dummy_2188**2*_Dummy_2189**6*_Dummy_2190**3*pi**11*m - 440023860281403/100000000000000000000000000000000000000000*_Dummy_2188**2*_Dummy_2189**6*_Dummy_2190**2*pi**10*g*m**3 + (82602345477061/500000000000000000000000000000000000000)*_Dummy_2188**2*_Dummy_2189**6*_Dummy_2190**2*pi**10*m**2 + (128383188895777/100000000000000000000000000000000000000)*_Dummy_2188**2*_Dummy_2189**6*_Dummy_2190*pi**9*g*m**4 - 182524907864107/2500000000000000000000000000000000000*_Dummy_2188**2*_Dummy_2189**6*_Dummy_2190*pi**9*m**3 - 121108200816191/1000000000000000000000000000000000000*_Dummy_2188**2*_Dummy_2189**6*pi**8*g*m**5 + (14792205418183/1250000000000000000000000000000000)*_Dummy_2188**2*_Dummy_2189**6*pi**8*m**4 - 1010597730551307/91343852333181432387730302044767688728495783936*_Dummy_2188**2*_Dummy_2189**5*_Dummy_2190**5*pi**12*g*m + (57570544989023/500000000000000000000000000000000000000000000)*_Dummy_2188**2*_Dummy_2189**5*_Dummy_2190**5*pi**12 + (304064644101123/10000000000000000000000000000000000000000000)*_Dummy_2188**2*_Dummy_2189**5*_Dummy_2190**4*pi**11*g*m**2 - 212468945940113/500000000000000000000000000000000000000000*_Dummy_2188**2*_Dummy_2189**5*_Dummy_2190**4*pi**11*m - 80590557555801/2500000000000000000000000000000000000000*_Dummy_2188**2*_Dummy_2189**5*_Dummy_2190**3*pi**10*g*m**3 + (60233024696669/100000000000000000000000000000000000000)*_Dummy_2188**2*_Dummy_2189**5*_Dummy_2190**3*pi**10*m**2 + (8204509932671/500000000000000000000000000000000000)*_Dummy_2188**2*_Dummy_2189**5*_Dummy_2190**2*pi**9*g*m**4 - 412933697067743/1000000000000000000000000000000000000*_Dummy_2188**2*_Dummy_2189**5*_Dummy_2190**2*pi**9*m**3 - 49703095942843/12500000000000000000000000000000000*_Dummy_2188**2*_Dummy_2189**5*_Dummy_2190*pi**8*g*m**5 + (137664355474343/1000000000000000000000000000000000)*_Dummy_2188**2*_Dummy_2189**5*_Dummy_2190*pi**8*m**4 + (45101094726161/125000000000000000000000000000000)*_Dummy_2188**2*_Dummy_2189**5*pi**7*g*m**6 - 179285649491313/10000000000000000000000000000000*_Dummy_2188**2*_Dummy_2189**5*pi**7*m**5 - 4057538037120041/182687704666362864775460604089535377456991567872*_Dummy_2188**2*_Dummy_2189**4*_Dummy_2190**6*pi**12*g*m + (140513565807569/1000000000000000000000000000000000000000000000)*_Dummy_2188**2*_Dummy_2189**4*_Dummy_2190**6*pi**12 + (388300216152201/5000000000000000000000000000000000000000000)*_Dummy_2188**2*_Dummy_2189**4*_Dummy_2190**5*pi**11*g*m**2 - 134270668969219/200000000000000000000000000000000000000000*_Dummy_2188**2*_Dummy_2189**4*_Dummy_2190**5*pi**11*m - 21876537181057/200000000000000000000000000000000000000*_Dummy_2188**2*_Dummy_2189**4*_Dummy_2190**4*pi**10*g*m**3 + (63017791085163/50000000000000000000000000000000000000)*_Dummy_2188**2*_Dummy_2189**4*_Dummy_2190**4*pi**10*m**2 + (158923999841611/2000000000000000000000000000000000000)*_Dummy_2188**2*_Dummy_2189**4*_Dummy_2190**3*pi**9*g*m**4 - 120595830988833/100000000000000000000000000000000000*_Dummy_2188**2*_Dummy_2189**4*_Dummy_2190**3*pi**9*m**3 - 39197374276151/1250000000000000000000000000000000*_Dummy_2188**2*_Dummy_2189**4*_Dummy_2190**2*pi**8*g*m**5 + (125169638986301/200000000000000000000000000000000)*_Dummy_2188**2*_Dummy_2189**4*_Dummy_2190**2*pi**8*m**4 + (317476515052879/50000000000000000000000000000000)*_Dummy_2188**2*_Dummy_2189**4*_Dummy_2190*pi**7*g*m**6 - 33618189310789/200000000000000000000000000000*_Dummy_2188**2*_Dummy_2189**4*_Dummy_2190*pi**7*m**5 - 511455901701641/1000000000000000000000000000000*_Dummy_2188**2*_Dummy_2189**4*pi**6*g*m**7 + (18340358296491/1000000000000000000000000000)*_Dummy_2188**2*_Dummy_2189**4*pi**6*m**6 - 4620795911788569/182687704666362864775460604089535377456991567872*_Dummy_2188**2*_Dummy_2189**3*_Dummy_2190**7*pi**12*g*m + (193594666487543/2000000000000000000000000000000000000000000000)*_Dummy_2188**2*_Dummy_2189**3*_Dummy_2190**7*pi**12 + (13695032521511/125000000000000000000000000000000000000000)*_Dummy_2188**2*_Dummy_2189**3*_Dummy_2190**6*pi**11*g*m**2 - 305907240658203/500000000000000000000000000000000000000000*_Dummy_2188**2*_Dummy_2189**3*_Dummy_2190**6*pi**11*m - 7828458186863/40000000000000000000000000000000000000*_Dummy_2188**2*_Dummy_2189**3*_Dummy_2190**5*pi**10*g*m**3 + (150451055452971/100000000000000000000000000000000000000)*_Dummy_2188**2*_Dummy_2189**3*_Dummy_2190**5*pi**10*m**2 + (187504987551427/1000000000000000000000000000000000000)*_Dummy_2188**2*_Dummy_2189**3*_Dummy_2190**4*pi**9*g*m**4 - 96049448958787/50000000000000000000000000000000000*_Dummy_2188**2*_Dummy_2189**3*_Dummy_2190**4*pi**9*m**3 - 52116757499863/500000000000000000000000000000000*_Dummy_2188**2*_Dummy_2189**3*_Dummy_2190**3*pi**8*g*m**5 + (139863547679849/100000000000000000000000000000000)*_Dummy_2188**2*_Dummy_2189**3*_Dummy_2190**3*pi**8*m**4 + (67249714468889/2000000000000000000000000000000)*_Dummy_2188**2*_Dummy_2189**3*_Dummy_2190**2*pi**7*g*m**6 - 586968428838747/1000000000000000000000000000000*_Dummy_2188**2*_Dummy_2189**3*_Dummy_2190**2*pi**7*m**5 - 581837380501841/100000000000000000000000000000*_Dummy_2188**2*_Dummy_2189**3*_Dummy_2190*pi**6*g*m**7 + (66228070873929/500000000000000000000000000)*_Dummy_2188**2*_Dummy_2189**3*_Dummy_2190*pi**6*m**6 + (414809204780867/1000000000000000000000000000)*_Dummy_2188**2*_Dummy_2189**3*pi**5*g*m**8 - 31165414528061/2500000000000000000000000*_Dummy_2188**2*_Dummy_2189**3*pi**5*m**7 - 177394149375611/11417981541647679048466287755595961091061972992*_Dummy_2188**2*_Dummy_2189**2*_Dummy_2190**8*pi**12*g*m + (698952322218367/22835963083295358096932575511191922182123945984)*_Dummy_2188**2*_Dummy_2189**2*_Dummy_2190**8*pi**12 + (413878087783101/5000000000000000000000000000000000000000000)*_Dummy_2188**2*_Dummy_2189**2*_Dummy_2190**7*pi**11*g*m**2 - 286528894685459/1000000000000000000000000000000000000000000*_Dummy_2188**2*_Dummy_2189**2*_Dummy_2190**7*pi**11*m - 22974322705077/125000000000000000000000000000000000000*_Dummy_2188**2*_Dummy_2189**2*_Dummy_2190**6*pi**10*g*m**3 + (953970201775367/1000000000000000000000000000000000000000)*_Dummy_2188**2*_Dummy_2189**2*_Dummy_2190**6*pi**10*m**2 + (223561444323943/1000000000000000000000000000000000000)*_Dummy_2188**2*_Dummy_2189**2*_Dummy_2190**5*pi**9*g*m**4 - 40387526813397/25000000000000000000000000000000000*_Dummy_2188**2*_Dummy_2189**2*_Dummy_2190**5*pi**9*m**3 - 163660313730361/1000000000000000000000000000000000*_Dummy_2188**2*_Dummy_2189**2*_Dummy_2190**4*pi**8*g*m**5 + (158179586987671/100000000000000000000000000000000)*_Dummy_2188**2*_Dummy_2189**2*_Dummy_2190**4*pi**8*m**4 + (11568789661207/156250000000000000000000000000)*_Dummy_2188**2*_Dummy_2189**2*_Dummy_2190**3*pi**7*g*m**6 - 936292058591443/1000000000000000000000000000000*_Dummy_2188**2*_Dummy_2189**2*_Dummy_2190**3*pi**7*m**5 - 50595533823051/2500000000000000000000000000*_Dummy_2188**2*_Dummy_2189**2*_Dummy_2190**2*pi**6*g*m**7 + (41427928037833/125000000000000000000000000)*_Dummy_2188**2*_Dummy_2189**2*_Dummy_2190**2*pi**6*m**6 + (305415589958049/100000000000000000000000000)*_Dummy_2188**2*_Dummy_2189**2*_Dummy_2190*pi**5*g*m**8 - 323507400393479/5000000000000000000000000*_Dummy_2188**2*_Dummy_2189**2*_Dummy_2190*pi**5*m**7 - 194286992294047/1000000000000000000000000*_Dummy_2188**2*_Dummy_2189**2*pi**4*g*m**9 + (536671993808461/100000000000000000000000)*_Dummy_2188**2*_Dummy_2189**2*pi**4*m**8 - 6823534544804189/1461501637330902918203684832716283019655932542976*_Dummy_2188**2*_Dummy_2190**9*_Dummy_2189*pi**12*g*m + (1087925789089549/730750818665451459101842416358141509827966271488)*_Dummy_2188**2*_Dummy_2190**9*_Dummy_2189*pi**12 + (303992219735957/10000000000000000000000000000000000000000000)*_Dummy_2188**2*_Dummy_2190**8*_Dummy_2189*pi**11*g*m**2 - 515263145968961/10000000000000000000000000000000000000000000*_Dummy_2188**2*_Dummy_2190**8*_Dummy_2189*pi**11*m - 207562069196697/2500000000000000000000000000000000000000*_Dummy_2188**2*_Dummy_2190**7*_Dummy_2189*pi**10*g*m**3 + (134990138477661/500000000000000000000000000000000000000)*_Dummy_2188**2*_Dummy_2190**7*_Dummy_2189*pi**10*m**2 + (31417799802487/250000000000000000000000000000000000)*_Dummy_2188**2*_Dummy_2190**6*_Dummy_2189*pi**9*g*m**4 - 632498539676857/1000000000000000000000000000000000000*_Dummy_2188**2*_Dummy_2190**6*_Dummy_2189*pi**9*m**3 - 58451089681251/500000000000000000000000000000000*_Dummy_2188**2*_Dummy_2190**5*_Dummy_2189*pi**8*g*m**5 + (830532667426013/1000000000000000000000000000000000)*_Dummy_2188**2*_Dummy_2190**5*_Dummy_2189*pi**8*m**4 + (696383128984109/10000000000000000000000000000000)*_Dummy_2188**2*_Dummy_2190**4*_Dummy_2189*pi**7*g*m**6 - 665689194636509/1000000000000000000000000000000*_Dummy_2188**2*_Dummy_2190**4*_Dummy_2189*pi**7*m**5 - 266523208750887/10000000000000000000000000000*_Dummy_2188**2*_Dummy_2190**3*_Dummy_2189*pi**6*g*m**7 + (33394017334349/100000000000000000000000000)*_Dummy_2188**2*_Dummy_2190**3*_Dummy_2189*pi**6*m**6 + (633049192731539/100000000000000000000000000)*_Dummy_2188**2*_Dummy_2190**2*_Dummy_2189*pi**5*g*m**8 - 25656332384883/250000000000000000000000*_Dummy_2188**2*_Dummy_2190**2*_Dummy_2189*pi**5*m**7 - 846798023017449/1000000000000000000000000*_Dummy_2188**2*_Dummy_2189*_Dummy_2190*pi**4*g*m**9 + (177057768449103/10000000000000000000000)*_Dummy_2188**2*_Dummy_2189*_Dummy_2190*pi**4*m**8 + (19402222774311/400000000000000000000)*_Dummy_2188**2*_Dummy_2189*pi**3*g*m**10 - 131571323188297/100000000000000000000*_Dummy_2188**2*_Dummy_2189*pi**3*m**9 - 3119787189300855/5846006549323611672814739330865132078623730171904*_Dummy_2188**2*_Dummy_2190**10*pi**12*g*m - 7679476158279007/11692013098647223345629478661730264157247460343808*_Dummy_2188**2*_Dummy_2190**10*pi**12 + (418793891568699/100000000000000000000000000000000000000000000)*_Dummy_2188**2*_Dummy_2190**9*pi**11*g*m**2 - 40738705405521/250000000000000000000000000000000000000000000*_Dummy_2188**2*_Dummy_2190**9*pi**11*m - 13908558795363/1000000000000000000000000000000000000000*_Dummy_2188**2*_Dummy_2190**8*pi**10*g*m**3 + (52304913717029/2500000000000000000000000000000000000000)*_Dummy_2188**2*_Dummy_2190**8*pi**10*m**2 + (129168622745981/5000000000000000000000000000000000000)*_Dummy_2188**2*_Dummy_2190**7*pi**9*g*m**4 - 817675923686387/10000000000000000000000000000000000000*_Dummy_2188**2*_Dummy_2190**7*pi**9*m**3 - 149398578821917/5000000000000000000000000000000000*_Dummy_2188**2*_Dummy_2190**6*pi**8*g*m**5 + (3021417348061/20000000000000000000000000000000)*_Dummy_2188**2*_Dummy_2190**6*pi**8*m**4 + (226118552166917/10000000000000000000000000000000)*_Dummy_2188**2*_Dummy_2190**5*pi**7*g*m**6 - 81856912557119/500000000000000000000000000000*_Dummy_2188**2*_Dummy_2190**5*pi**7*m**5 - 113916347816741/10000000000000000000000000000*_Dummy_2188**2*_Dummy_2190**4*pi**6*g*m**7 + (111774023096407/1000000000000000000000000000)*_Dummy_2188**2*_Dummy_2190**4*pi**6*m**6 + (75705416080983/20000000000000000000000000)*_Dummy_2188**2*_Dummy_2190**3*pi**5*g*m**8 - 97715477052337/2000000000000000000000000*_Dummy_2188**2*_Dummy_2190**3*pi**5*m**7 - 795476930713361/1000000000000000000000000*_Dummy_2188**2*_Dummy_2190**2*pi**4*g*m**9 + (26613652151977/2000000000000000000000)*_Dummy_2188**2*_Dummy_2190**2*pi**4*m**8 + (2984228600541/31250000000000000000)*_Dummy_2188**2*_Dummy_2190*pi**3*g*m**10 - 103074308488527/50000000000000000000*_Dummy_2188**2*_Dummy_2190*pi**3*m**9 - 7942557051/1600000000000000*_Dummy_2188**2*pi**2*g*m**11 + (55597899357/400000000000000)*_Dummy_2188**2*pi**2*m**10 + (6472249865084523/23945242826029513411849172299223580994042798784118784)*_Dummy_2189**11*_Dummy_2188*pi**12*g*m + (2427093699406717/748288838313422294120286634350736906063837462003712)*_Dummy_2189**11*_Dummy_2188*pi**12 + (992327371892843/187072209578355573530071658587684226515959365500928)*_Dummy_2189**10*_Dummy_2188*_Dummy_2190*pi**12*g*m + (3634319992601203/46768052394588893382517914646921056628989841375232)*_Dummy_2189**10*_Dummy_2188*_Dummy_2190*pi**12 - 4924887495980775/1461501637330902918203684832716283019655932542976*_Dummy_2189**10*_Dummy_2188*pi**11*g*m**2 - 500935192393747/10000000000000000000000000000000000000000000000*_Dummy_2189**10*_Dummy_2188*pi**11*m + (7572026697628195/187072209578355573530071658587684226515959365500928)*_Dummy_2189**9*_Dummy_2190**2*_Dummy_2188*pi**12*g*m + (1187079519322457/1461501637330902918203684832716283019655932542976)*_Dummy_2189**9*_Dummy_2190**2*_Dummy_2188*pi**12 - 272094316350417/5000000000000000000000000000000000000000000000*_Dummy_2189**9*_Dummy_2188*_Dummy_2190*pi**11*g*m**2 - 53453205067879/50000000000000000000000000000000000000000000*_Dummy_2189**9*_Dummy_2188*_Dummy_2190*pi**11*m + (178186716259121/10000000000000000000000000000000000000000000)*_Dummy_2189**9*_Dummy_2188*pi**10*g*m**3 + (86248360138869/250000000000000000000000000000000000000000)*_Dummy_2189**9*_Dummy_2188*pi**10*m**2 + (6044032161608475/46768052394588893382517914646921056628989841375232)*_Dummy_2189**8*_Dummy_2190**3*_Dummy_2188*pi**12*g*m + (1769113890963627/365375409332725729550921208179070754913983135744)*_Dummy_2189**8*_Dummy_2190**3*_Dummy_2188*pi**12 - 303930860204357/1000000000000000000000000000000000000000000000*_Dummy_2189**8*_Dummy_2190**2*_Dummy_2188*pi**11*g*m**2 - 196338430387451/20000000000000000000000000000000000000000000*_Dummy_2189**8*_Dummy_2190**2*_Dummy_2188*pi**11*m + (55440026634403/250000000000000000000000000000000000000000)*_Dummy_2189**8*_Dummy_2188*_Dummy_2190*pi**10*g*m**3 + (40503787183271/6250000000000000000000000000000000000000)*_Dummy_2189**8*_Dummy_2188*_Dummy_2190*pi**10*m**2 - 513777942453689/10000000000000000000000000000000000000000*_Dummy_2189**8*_Dummy_2188*pi**9*g*m**4 - 4365998025081/3125000000000000000000000000000000000*_Dummy_2189**8*_Dummy_2188*pi**9*m**3 - 1466369110058271/23384026197294446691258957323460528314494920687616*_Dummy_2189**7*_Dummy_2190**4*_Dummy_2188*pi**12*g*m + (6590760299625891/365375409332725729550921208179070754913983135744)*_Dummy_2189**7*_Dummy_2190**4*_Dummy_2188*pi**12 - 302170545773251/1000000000000000000000000000000000000000000000*_Dummy_2189**7*_Dummy_2190**3*_Dummy_2188*pi**11*g*m**2 - 252571926362511/5000000000000000000000000000000000000000000*_Dummy_2189**7*_Dummy_2190**3*_Dummy_2188*pi**11*m + (674264523793967/1000000000000000000000000000000000000000000)*_Dummy_2189**7*_Dummy_2190**2*_Dummy_2188*pi**10*g*m**3 + (515076404643217/10000000000000000000000000000000000000000)*_Dummy_2189**7*_Dummy_2190**2*_Dummy_2188*pi**10*m**2 - 84656339498443/200000000000000000000000000000000000000*_Dummy_2189**7*_Dummy_2188*_Dummy_2190*pi**9*g*m**4 - 28454493574309/1250000000000000000000000000000000000*_Dummy_2189**7*_Dummy_2188*_Dummy_2190*pi**9*m**3 + (847757405713327/10000000000000000000000000000000000000)*_Dummy_2189**7*_Dummy_2188*pi**8*g*m**5 + (18458217017547/5000000000000000000000000000000000)*_Dummy_2189**7*_Dummy_2188*pi**8*m**4 - 1420396937325729/730750818665451459101842416358141509827966271488*_Dummy_2189**6*_Dummy_2190**5*_Dummy_2188*pi**12*g*m + (7886128728510485/182687704666362864775460604089535377456991567872)*_Dummy_2189**6*_Dummy_2190**5*_Dummy_2188*pi**12 + (105314582943061/25000000000000000000000000000000000000000000)*_Dummy_2189**6*_Dummy_2190**4*_Dummy_2188*pi**11*g*m**2 - 19838089807451/125000000000000000000000000000000000000000*_Dummy_2189**6*_Dummy_2190**4*_Dummy_2188*pi**11*m - 29695789553369/10000000000000000000000000000000000000000*_Dummy_2189**6*_Dummy_2190**3*_Dummy_2188*pi**10*g*m**3 + (224446982534717/1000000000000000000000000000000000000000)*_Dummy_2189**6*_Dummy_2190**3*_Dummy_2188*pi**10*m**2 + (156515596081/312500000000000000000000000000000000)*_Dummy_2189**6*_Dummy_2190**2*_Dummy_2188*pi**9*g*m**4 - 153689817397503/1000000000000000000000000000000000000*_Dummy_2189**6*_Dummy_2190**2*_Dummy_2188*pi**9*m**3 + (227824433932647/1000000000000000000000000000000000000)*_Dummy_2189**6*_Dummy_2188*_Dummy_2190*pi**8*g*m**5 + (32010203951173/625000000000000000000000000000000)*_Dummy_2189**6*_Dummy_2188*_Dummy_2190*pi**8*m**4 - 704453786208753/10000000000000000000000000000000000*_Dummy_2189**6*_Dummy_2188*pi**7*g*m**6 - 333556706868661/50000000000000000000000000000000*_Dummy_2189**6*_Dummy_2188*pi**7*m**5 - 5138908717799007/730750818665451459101842416358141509827966271488*_Dummy_2189**5*_Dummy_2190**6*_Dummy_2188*pi**12*g*m + (326663531093743/5000000000000000000000000000000000000000000000)*_Dummy_2189**5*_Dummy_2190**6*_Dummy_2188*pi**12 + (221817724410209/10000000000000000000000000000000000000000000)*_Dummy_2189**5*_Dummy_2190**5*_Dummy_2188*pi**11*g*m**2 - 155082293128587/500000000000000000000000000000000000000000*_Dummy_2189**5*_Dummy_2190**5*_Dummy_2188*pi**11*m - 274660598123483/10000000000000000000000000000000000000000*_Dummy_2189**5*_Dummy_2190**4*_Dummy_2188*pi**10*g*m**3 + (289931948390571/500000000000000000000000000000000000000)*_Dummy_2189**5*_Dummy_2190**4*_Dummy_2188*pi**10*m**2 + (167299917686537/10000000000000000000000000000000000000)*_Dummy_2189**5*_Dummy_2190**3*_Dummy_2188*pi**9*g*m**4 - 553371164110111/1000000000000000000000000000000000000*_Dummy_2189**5*_Dummy_2190**3*_Dummy_2188*pi**9*m**3 - 251287074070223/50000000000000000000000000000000000*_Dummy_2189**5*_Dummy_2190**2*_Dummy_2188*pi**8*g*m**5 + (286729471989903/1000000000000000000000000000000000)*_Dummy_2189**5*_Dummy_2190**2*_Dummy_2188*pi**8*m**4 + (149626972031281/250000000000000000000000000000000)*_Dummy_2189**5*_Dummy_2188*_Dummy_2190*pi**7*g*m**6 - 96187268333573/1250000000000000000000000000000*_Dummy_2189**5*_Dummy_2188*_Dummy_2190*pi**7*m**5 - 91905822408211/125000000000000000000000000000000*_Dummy_2189**5*_Dummy_2188*pi**6*g*m**7 + (839431019547549/100000000000000000000000000000)*_Dummy_2189**5*_Dummy_2188*pi**6*m**6 - 2335062940083201/182687704666362864775460604089535377456991567872*_Dummy_2189**4*_Dummy_2190**7*_Dummy_2188*pi**12*g*m + (116596621908823/2000000000000000000000000000000000000000000000)*_Dummy_2189**4*_Dummy_2190**7*_Dummy_2188*pi**12 + (64197032724623/1250000000000000000000000000000000000000000)*_Dummy_2189**4*_Dummy_2190**6*_Dummy_2188*pi**11*g*m**2 - 36560664486401/100000000000000000000000000000000000000000*_Dummy_2189**4*_Dummy_2190**6*_Dummy_2188*pi**11*m - 845979618307951/10000000000000000000000000000000000000000*_Dummy_2189**4*_Dummy_2190**5*_Dummy_2188*pi**10*g*m**3 + (22350723477737/25000000000000000000000000000000000000)*_Dummy_2189**4*_Dummy_2190**5*_Dummy_2188*pi**10*m**2 + (369073109377363/5000000000000000000000000000000000000)*_Dummy_2189**4*_Dummy_2190**4*_Dummy_2188*pi**9*g*m**4 - 11370139908513/10000000000000000000000000000000000*_Dummy_2189**4*_Dummy_2190**4*_Dummy_2188*pi**9*m**3 - 73078430339761/2000000000000000000000000000000000*_Dummy_2189**4*_Dummy_2190**3*_Dummy_2188*pi**8*g*m**5 + (825603729554439/1000000000000000000000000000000000)*_Dummy_2189**4*_Dummy_2190**3*_Dummy_2188*pi**8*m**4 + (50390054725773/5000000000000000000000000000000)*_Dummy_2189**4*_Dummy_2190**2*_Dummy_2188*pi**7*g*m**6 - 34587384362139/100000000000000000000000000000*_Dummy_2189**4*_Dummy_2190**2*_Dummy_2188*pi**7*m**5 - 27511088879671/20000000000000000000000000000*_Dummy_2189**4*_Dummy_2188*_Dummy_2190*pi**6*g*m**7 + (779695911215107/10000000000000000000000000000)*_Dummy_2189**4*_Dummy_2188*_Dummy_2190*pi**6*m**6 + (633432261918007/10000000000000000000000000000)*_Dummy_2189**4*_Dummy_2188*pi**5*g*m**8 - 183367010939247/25000000000000000000000000*_Dummy_2189**4*_Dummy_2188*pi**5*m**7 - 4679680783951295/365375409332725729550921208179070754913983135744*_Dummy_2189**3*_Dummy_2190**8*_Dummy_2188*pi**12*g*m + (1134589272690187/45671926166590716193865151022383844364247891968)*_Dummy_2189**3*_Dummy_2190**8*_Dummy_2188*pi**12 + (635270319047963/10000000000000000000000000000000000000000000)*_Dummy_2189**3*_Dummy_2190**7*_Dummy_2188*pi**11*g*m**2 - 234734609937451/1000000000000000000000000000000000000000000*_Dummy_2189**3*_Dummy_2190**7*_Dummy_2188*pi**11*m - 32880951974869/250000000000000000000000000000000000000*_Dummy_2189**3*_Dummy_2190**6*_Dummy_2188*pi**10*g*m**3 + (390440037405733/500000000000000000000000000000000000000)*_Dummy_2189**3*_Dummy_2190**6*_Dummy_2188*pi**10*m**2 + (148839798200171/1000000000000000000000000000000000000)*_Dummy_2189**3*_Dummy_2190**5*_Dummy_2188*pi**9*g*m**4 - 131892570864179/100000000000000000000000000000000000*_Dummy_2189**3*_Dummy_2190**5*_Dummy_2188*pi**9*m**3 - 20134819041449/200000000000000000000000000000000*_Dummy_2189**3*_Dummy_2190**4*_Dummy_2188*pi**8*g*m**5 + (128806037142041/100000000000000000000000000000000)*_Dummy_2189**3*_Dummy_2190**4*_Dummy_2188*pi**8*m**4 + (103800431907403/2500000000000000000000000000000)*_Dummy_2189**3*_Dummy_2190**3*_Dummy_2188*pi**7*g*m**6 - 76080712558383/100000000000000000000000000000*_Dummy_2189**3*_Dummy_2190**3*_Dummy_2188*pi**7*m**5 - 50505925646203/5000000000000000000000000000*_Dummy_2189**3*_Dummy_2190**2*_Dummy_2188*pi**6*g*m**7 + (268882615023751/1000000000000000000000000000)*_Dummy_2189**3*_Dummy_2190**2*_Dummy_2188*pi**6*m**6 + (129860454214379/100000000000000000000000000)*_Dummy_2189**3*_Dummy_2188*_Dummy_2190*pi**5*g*m**8 - 131091748028043/2500000000000000000000000*_Dummy_2189**3*_Dummy_2188*_Dummy_2190*pi**5*m**7 - 321775102541503/5000000000000000000000000*_Dummy_2189**3*_Dummy_2188*pi**4*g*m**9 + (1697974631291/390625000000000000000)*_Dummy_2189**3*_Dummy_2188*pi**4*m**8 - 1241415319075967/182687704666362864775460604089535377456991567872*_Dummy_2189**2*_Dummy_2190**9*_Dummy_2188*pi**12*g*m + (123991542138897/365375409332725729550921208179070754913983135744)*_Dummy_2189**2*_Dummy_2190**9*_Dummy_2188*pi**12 + (414760759733553/10000000000000000000000000000000000000000000)*_Dummy_2189**2*_Dummy_2190**8*_Dummy_2188*pi**11*g*m**2 - 596577601958371/10000000000000000000000000000000000000000000*_Dummy_2189**2*_Dummy_2190**8*_Dummy_2188*pi**11*m - 106117826105861/1000000000000000000000000000000000000000*_Dummy_2189**2*_Dummy_2190**7*_Dummy_2188*pi**10*g*m**3 + (163042249159/488281250000000000000000000000000000)*_Dummy_2189**2*_Dummy_2190**7*_Dummy_2188*pi**10*m**2 + (601905236451/4000000000000000000000000000000000)*_Dummy_2189**2*_Dummy_2190**6*_Dummy_2188*pi**9*g*m**4 - 158956788013123/200000000000000000000000000000000000*_Dummy_2189**2*_Dummy_2190**6*_Dummy_2188*pi**9*m**3 - 130900255081703/1000000000000000000000000000000000*_Dummy_2189**2*_Dummy_2190**5*_Dummy_2188*pi**8*g*m**5 + (104815016855453/100000000000000000000000000000000)*_Dummy_2189**2*_Dummy_2190**5*_Dummy_2188*pi**8*m**4 + (725586782394679/10000000000000000000000000000000)*_Dummy_2189**2*_Dummy_2190**4*_Dummy_2188*pi**7*g*m**6 - 840707372988229/1000000000000000000000000000000*_Dummy_2189**2*_Dummy_2190**4*_Dummy_2188*pi**7*m**5 - 15992647039529/625000000000000000000000000*_Dummy_2189**2*_Dummy_2190**3*_Dummy_2188*pi**6*g*m**7 + (421538186043773/1000000000000000000000000000)*_Dummy_2189**2*_Dummy_2190**3*_Dummy_2188*pi**6*m**6 + (275166805269049/50000000000000000000000000)*_Dummy_2189**2*_Dummy_2190**2*_Dummy_2188*pi**5*g*m**8 - 64723916988189/500000000000000000000000*_Dummy_2189**2*_Dummy_2190**2*_Dummy_2188*pi**5*m**7 - 646197721749487/1000000000000000000000000*_Dummy_2189**2*_Dummy_2188*_Dummy_2190*pi**4*g*m**9 + (223181581881761/10000000000000000000000)*_Dummy_2189**2*_Dummy_2188*_Dummy_2190*pi**4*m**8 + (38273916019637/1250000000000000000000)*_Dummy_2189**2*_Dummy_2188*pi**3*g*m**10 - 8288387041401/5000000000000000000*_Dummy_2189**2*_Dummy_2188*pi**3*m**9 - 2567824840424549/1461501637330902918203684832716283019655932542976*_Dummy_2190**10*_Dummy_2188*_Dummy_2189*pi**12*g*m - 3935731531117989/1461501637330902918203684832716283019655932542976*_Dummy_2190**10*_Dummy_2188*_Dummy_2189*pi**12 + (130934199173327/10000000000000000000000000000000000000000000)*_Dummy_2190**9*_Dummy_2188*_Dummy_2189*pi**11*g*m**2 + (60700671054217/12500000000000000000000000000000000000000000)*_Dummy_2190**9*_Dummy_2188*_Dummy_2189*pi**11*m - 410676957323733/10000000000000000000000000000000000000000*_Dummy_2190**8*_Dummy_2188*_Dummy_2189*pi**10*g*m**3 + (433236294022559/10000000000000000000000000000000000000000)*_Dummy_2190**8*_Dummy_2188*_Dummy_2189*pi**10*m**2 + (359277893897481/5000000000000000000000000000000000000)*_Dummy_2190**7*_Dummy_2188*_Dummy_2189*pi**9*g*m**4 - 50257178798217/250000000000000000000000000000000000*_Dummy_2190**7*_Dummy_2188*_Dummy_2189*pi**9*m**3 - 781747629710933/10000000000000000000000000000000000*_Dummy_2190**6*_Dummy_2188*_Dummy_2189*pi**8*g*m**5 + (193549983593441/500000000000000000000000000000000)*_Dummy_2190**6*_Dummy_2188*_Dummy_2189*pi**8*m**4 + (277587513984189/5000000000000000000000000000000)*_Dummy_2190**5*_Dummy_2188*_Dummy_2189*pi**7*g*m**6 - 425706917868963/1000000000000000000000000000000*_Dummy_2190**5*_Dummy_2188*_Dummy_2189*pi**7*m**5 - 261244138311763/10000000000000000000000000000*_Dummy_2190**4*_Dummy_2188*_Dummy_2189*pi**6*g*m**7 + (58467249131149/200000000000000000000000000)*_Dummy_2190**4*_Dummy_2188*_Dummy_2189*pi**6*m**6 + (803843325729043/100000000000000000000000000)*_Dummy_2190**3*_Dummy_2188*_Dummy_2189*pi**5*g*m**8 - 25613975877693/200000000000000000000000*_Dummy_2190**3*_Dummy_2188*_Dummy_2189*pi**5*m**7 - 77042734994589/50000000000000000000000*_Dummy_2190**2*_Dummy_2188*_Dummy_2189*pi**4*g*m**9 + (349064889719073/10000000000000000000000)*_Dummy_2190**2*_Dummy_2188*_Dummy_2189*pi**4*m**8 + (82156287059973/500000000000000000000)*_Dummy_2188*_Dummy_2189*_Dummy_2190*pi**3*g*m**10 - 540836959833919/100000000000000000000*_Dummy_2188*_Dummy_2189*_Dummy_2190*pi**3*m**9 - 722050641/100000000000000*_Dummy_2188*_Dummy_2189*pi**2*g*m**11 + (72927114741/200000000000000)*_Dummy_2188*_Dummy_2189*pi**2*m**10 - 125991405721765/730750818665451459101842416358141509827966271488*_Dummy_2190**11*_Dummy_2188*pi**12*g*m - 5759607118709255/11692013098647223345629478661730264157247460343808*_Dummy_2190**11*_Dummy_2188*pi**12 + (77607233797507/50000000000000000000000000000000000000000000)*_Dummy_2190**10*_Dummy_2188*pi**11*g*m**2 + (74551830892093/25000000000000000000000000000000000000000000)*_Dummy_2190**10*_Dummy_2188*pi**11*m - 118133300777707/20000000000000000000000000000000000000000*_Dummy_2190**9*_Dummy_2188*pi**10*g*m**3 - 213464691343699/50000000000000000000000000000000000000000*_Dummy_2190**9*_Dummy_2188*pi**10*m**2 + (3940995840173/312500000000000000000000000000000000)*_Dummy_2190**8*_Dummy_2188*pi**9*g*m**4 - 968933933121999/100000000000000000000000000000000000000*_Dummy_2190**8*_Dummy_2188*pi**9*m**3 - 168807827019161/10000000000000000000000000000000000*_Dummy_2190**7*_Dummy_2188*pi**8*g*m**5 + (87720494769261/2000000000000000000000000000000000)*_Dummy_2190**7*_Dummy_2188*pi**8*m**4 + (18699126876583/1250000000000000000000000000000)*_Dummy_2190**6*_Dummy_2188*pi**7*g*m**6 - 181613866167731/2500000000000000000000000000000*_Dummy_2190**6*_Dummy_2188*pi**7*m**5 - 899491474491307/100000000000000000000000000000*_Dummy_2190**5*_Dummy_2188*pi**6*g*m**7 + (138399139848061/2000000000000000000000000000)*_Dummy_2190**5*_Dummy_2188*pi**6*m**6 + (36784218631079/10000000000000000000000000)*_Dummy_2190**4*_Dummy_2188*pi**5*g*m**8 - 208901308426153/5000000000000000000000000*_Dummy_2190**4*_Dummy_2188*pi**5*m**7 - 20043737716541/20000000000000000000000*_Dummy_2190**3*_Dummy_2188*pi**4*g*m**9 + (163127757680851/10000000000000000000000)*_Dummy_2190**3*_Dummy_2188*pi**4*m**8 + (172497886852859/1000000000000000000000)*_Dummy_2190**2*_Dummy_2188*pi**3*g*m**10 - 200388582090931/50000000000000000000*_Dummy_2190**2*_Dummy_2188*pi**3*m**9 - 26715873717/1600000000000000*_Dummy_2188*_Dummy_2190*pi**2*g*m**11 + (226001850633/400000000000000)*_Dummy_2188*_Dummy_2190*pi**2*m**10 + (26871/40000000)*_Dummy_2188*pi*g*m**12 - 349323/10000000*_Dummy_2188*pi*m**11 + (6472249865084527/191561942608236107294793378393788647952342390272950272)*_Dummy_2189**12*pi**12*g*m + (3236124932542289/11972621413014756705924586149611790497021399392059392)*_Dummy_2189**12*pi**12 + (4854187398813401/5986310706507378352962293074805895248510699696029696)*_Dummy_2189**11*_Dummy_2190*pi**12*g*m + (5359831919523167/748288838313422294120286634350736906063837462003712)*_Dummy_2189**11*_Dummy_2190*pi**12 - 1470115670442023/2923003274661805836407369665432566039311865085952*_Dummy_2189**11*pi**11*g*m**2 - 1690633021008337/365375409332725729550921208179070754913983135744*_Dummy_2189**11*pi**11*m + (385553947041169/46768052394588893382517914646921056628989841375232)*_Dummy_2189**10*_Dummy_2190**2*pi**12*g*m + (978106119747889/11692013098647223345629478661730264157247460343808)*_Dummy_2189**10*_Dummy_2190**2*pi**12 - 3840677189029789/365375409332725729550921208179070754913983135744*_Dummy_2189**10*_Dummy_2190*pi**11*g*m**2 - 2204919561701/20000000000000000000000000000000000000000000*_Dummy_2189**10*_Dummy_2190*pi**11*m + (164710409987423/50000000000000000000000000000000000000000000)*_Dummy_2189**10*pi**10*g*m**3 + (89093358129561/2500000000000000000000000000000000000000000)*_Dummy_2189**10*pi**10*m**2 + (526186329363563/11692013098647223345629478661730264157247460343808)*_Dummy_2189**9*_Dummy_2190**3*pi**12*g*m + (6597080856134791/11692013098647223345629478661730264157247460343808)*_Dummy_2189**9*_Dummy_2190**3*pi**12 - 901280988724489/10000000000000000000000000000000000000000000000*_Dummy_2189**9*_Dummy_2190**2*pi**11*g*m**2 - 57205189541029/50000000000000000000000000000000000000000000*_Dummy_2189**9*_Dummy_2190**2*pi**11*m + (117393601300127/2000000000000000000000000000000000000000000)*_Dummy_2189**9*_Dummy_2190*pi**10*g*m**3 + (377935522552961/500000000000000000000000000000000000000000)*_Dummy_2189**9*_Dummy_2190*pi**10*m**2 - 124822406843413/10000000000000000000000000000000000000000*_Dummy_2189**9*pi**9*g*m**4 - 163160717516747/1000000000000000000000000000000000000000*_Dummy_2189**9*pi**9*m**3 + (386047740518425/2923003274661805836407369665432566039311865085952)*_Dummy_2189**8*_Dummy_2190**4*pi**12*g*m + (1765311681188763/730750818665451459101842416358141509827966271488)*_Dummy_2189**8*_Dummy_2190**4*pi**12 - 388727721085467/1000000000000000000000000000000000000000000000*_Dummy_2189**8*_Dummy_2190**3*pi**11*g*m**2 - 168879537050173/25000000000000000000000000000000000000000000*_Dummy_2189**8*_Dummy_2190**3*pi**11*m + (204315776752581/500000000000000000000000000000000000000000)*_Dummy_2189**8*_Dummy_2190**2*pi**10*g*m**3 + (688519461094701/100000000000000000000000000000000000000000)*_Dummy_2189**8*_Dummy_2190**2*pi**10*m**2 - 92056525047017/500000000000000000000000000000000000000*_Dummy_2189**8*_Dummy_2190*pi**9*g*m**4 - 152194177486933/50000000000000000000000000000000000000*_Dummy_2189**8*_Dummy_2190*pi**9*m**3 + (30235574792809/1000000000000000000000000000000000000)*_Dummy_2189**8*pi**8*g*m**5 + (247027549336037/500000000000000000000000000000000000)*_Dummy_2189**8*pi**8*m**4 + (3021226011240631/23384026197294446691258957323460528314494920687616)*_Dummy_2189**7*_Dummy_2190**5*pi**12*g*m + (4952748576873647/730750818665451459101842416358141509827966271488)*_Dummy_2189**7*_Dummy_2190**5*pi**12 - 722433042524473/1000000000000000000000000000000000000000000000*_Dummy_2189**7*_Dummy_2190**4*pi**11*g*m**2 - 2482747473627/100000000000000000000000000000000000000000*_Dummy_2189**7*_Dummy_2190**4*pi**11*m + (62934350288831/50000000000000000000000000000000000000000)*_Dummy_2189**7*_Dummy_2190**3*pi**10*g*m**3 + (175206955205713/5000000000000000000000000000000000000000)*_Dummy_2189**7*_Dummy_2190**3*pi**10*m**2 - 244128109098657/250000000000000000000000000000000000000*_Dummy_2189**7*_Dummy_2190**2*pi**9*g*m**4 - 119865174114489/5000000000000000000000000000000000000*_Dummy_2189**7*_Dummy_2190**2*pi**9*m**3 + (88342625937837/250000000000000000000000000000000000)*_Dummy_2189**7*_Dummy_2190*pi**8*g*m**5 + (798799830287497/100000000000000000000000000000000000)*_Dummy_2189**7*_Dummy_2190*pi**8*m**4 - 30484141712583/625000000000000000000000000000000*_Dummy_2189**7*pi**7*g*m**6 - 52046848534091/50000000000000000000000000000000*_Dummy_2189**7*pi**7*m**5 - 5287145519671145/11692013098647223345629478661730264157247460343808*_Dummy_2189**6*_Dummy_2190**6*pi**12*g*m + (2254710396496785/182687704666362864775460604089535377456991567872)*_Dummy_2189**6*_Dummy_2190**6*pi**12 + (680889621950459/1000000000000000000000000000000000000000000000)*_Dummy_2189**6*_Dummy_2190**5*pi**11*g*m**2 - 582018292772211/10000000000000000000000000000000000000000000*_Dummy_2189**6*_Dummy_2190**5*pi**11*m + (241225882263397/500000000000000000000000000000000000000000)*_Dummy_2189**6*_Dummy_2190**4*pi**10*g*m**3 + (108359085575581/1000000000000000000000000000000000000000)*_Dummy_2189**6*_Dummy_2190**4*pi**10*m**2 - 40043473909677/25000000000000000000000000000000000000*_Dummy_2189**6*_Dummy_2190**3*pi**9*g*m**4 - 12894043178347/125000000000000000000000000000000000*_Dummy_2189**6*_Dummy_2190**3*pi**9*m**3 + (125230856693289/100000000000000000000000000000000000)*_Dummy_2189**6*_Dummy_2190**2*pi**8*g*m**5 + (266888464761667/5000000000000000000000000000000000)*_Dummy_2189**6*_Dummy_2190**2*pi**8*m**4 - 420140930337473/1000000000000000000000000000000000*_Dummy_2189**6*_Dummy_2190*pi**7*g*m**6 - 143177608095491/10000000000000000000000000000000*_Dummy_2189**6*_Dummy_2190*pi**7*m**5 + (528458478847157/10000000000000000000000000000000)*_Dummy_2189**6*pi**6*g*m**7 + (156203135764979/100000000000000000000000000000)*_Dummy_2189**6*pi**6*m**6 - 44052550589665/22835963083295358096932575511191922182123945984*_Dummy_2189**5*_Dummy_2190**7*pi**12*g*m + (2503384791642705/182687704666362864775460604089535377456991567872)*_Dummy_2189**5*_Dummy_2190**7*pi**12 + (328685910575463/50000000000000000000000000000000000000000000)*_Dummy_2189**5*_Dummy_2190**6*pi**11*g*m**2 - 850394825044141/10000000000000000000000000000000000000000000*_Dummy_2189**5*_Dummy_2190**6*pi**11*m - 850354925744163/100000000000000000000000000000000000000000*_Dummy_2189**5*_Dummy_2190**5*pi**10*g*m**3 + (51641654843357/250000000000000000000000000000000000000)*_Dummy_2189**5*_Dummy_2190**5*pi**10*m**2 + (479786126304369/100000000000000000000000000000000000000)*_Dummy_2189**5*_Dummy_2190**4*pi**9*g*m**4 - 261579618958297/1000000000000000000000000000000000000*_Dummy_2189**5*_Dummy_2190**4*pi**9*m**3 - 109329184024479/200000000000000000000000000000000000*_Dummy_2189**5*_Dummy_2190**3*pi**8*g*m**5 + (11838793228159/62500000000000000000000000000000)*_Dummy_2189**5*_Dummy_2190**3*pi**8*m**4 - 643578112834359/1000000000000000000000000000000000*_Dummy_2189**5*_Dummy_2190**2*pi**7*g*m**6 - 792270340753179/10000000000000000000000000000000*_Dummy_2189**5*_Dummy_2190**2*pi**7*m**5 + (72605599702479/250000000000000000000000000000)*_Dummy_2189**5*_Dummy_2190*pi**6*g*m**7 + (178455373486453/10000000000000000000000000000)*_Dummy_2189**5*_Dummy_2190*pi**6*m**6 - 377596769523481/10000000000000000000000000000*_Dummy_2189**5*pi**5*g*m**8 - 20979878480589/12500000000000000000000000*_Dummy_2189**5*pi**5*m**7 - 4809005295644535/1461501637330902918203684832716283019655932542976*_Dummy_2189**4*_Dummy_2190**8*pi**12*g*m + (5492958640991279/730750818665451459101842416358141509827966271488)*_Dummy_2189**4*_Dummy_2190**8*pi**12 + (147682333617817/10000000000000000000000000000000000000000000)*_Dummy_2189**4*_Dummy_2190**7*pi**11*g*m**2 - 2752974599313/39062500000000000000000000000000000000000*_Dummy_2189**4*_Dummy_2190**7*pi**11*m - 272347165546841/10000000000000000000000000000000000000000*_Dummy_2189**4*_Dummy_2190**6*pi**10*g*m**3 + (232874166056619/1000000000000000000000000000000000000000)*_Dummy_2189**4*_Dummy_2190**6*pi**10*m**2 + (265920763950587/10000000000000000000000000000000000000)*_Dummy_2189**4*_Dummy_2190**5*pi**9*g*m**4 - 391344101524089/1000000000000000000000000000000000000*_Dummy_2189**4*_Dummy_2190**5*pi**9*m**3 - 90893363729/6250000000000000000000000000000*_Dummy_2189**4*_Dummy_2190**4*pi**8*g*m**5 + (76160634050533/200000000000000000000000000000000)*_Dummy_2189**4*_Dummy_2190**4*pi**8*m**4 + (51859313181277/12500000000000000000000000000000)*_Dummy_2189**4*_Dummy_2190**3*pi**7*g*m**6 - 44873150521193/200000000000000000000000000000*_Dummy_2189**4*_Dummy_2190**3*pi**7*m**5 - 11508332199677/31250000000000000000000000000*_Dummy_2189**4*_Dummy_2190**2*pi**6*g*m**7 + (395834700879227/5000000000000000000000000000)*_Dummy_2189**4*_Dummy_2190**2*pi**6*m**6 - 33983709257113/400000000000000000000000000*_Dummy_2189**4*_Dummy_2190*pi**5*g*m**8 - 154245544141867/10000000000000000000000000*_Dummy_2189**4*_Dummy_2190*pi**5*m**7 + (10564609774899/625000000000000000000000)*_Dummy_2189**4*pi**4*g*m**9 + (63906979226281/50000000000000000000000)*_Dummy_2189**4*pi**4*m**8 - 4298373460814517/1461501637330902918203684832716283019655932542976*_Dummy_2189**3*_Dummy_2190**9*pi**12*g*m - 173321510516701/730750818665451459101842416358141509827966271488*_Dummy_2189**3*_Dummy_2190**9*pi**12 + (10281430776717/625000000000000000000000000000000000000000)*_Dummy_2189**3*_Dummy_2190**8*pi**11*g*m**2 - 232319257359187/10000000000000000000000000000000000000000000*_Dummy_2189**3*_Dummy_2190**8*pi**11*m - 4814747323221/125000000000000000000000000000000000000*_Dummy_2189**3*_Dummy_2190**7*pi**10*g*m**3 + (2108283889293/15625000000000000000000000000000000000)*_Dummy_2189**3*_Dummy_2190**7*pi**10*m**2 + (123996015640963/2500000000000000000000000000000000000)*_Dummy_2189**3*_Dummy_2190**6*pi**9*g*m**4 - 323033256201791/1000000000000000000000000000000000000*_Dummy_2189**3*_Dummy_2190**6*pi**9*m**3 - 77002253095383/2000000000000000000000000000000000*_Dummy_2189**3*_Dummy_2190**5*pi**8*g*m**5 + (21301431113681/50000000000000000000000000000000)*_Dummy_2189**3*_Dummy_2190**5*pi**8*m**4 + (183956900452273/10000000000000000000000000000000)*_Dummy_2189**3*_Dummy_2190**4*pi**7*g*m**6 - 341285324305787/1000000000000000000000000000000*_Dummy_2189**3*_Dummy_2190**4*pi**7*m**5 - 520407528804199/100000000000000000000000000000*_Dummy_2189**3*_Dummy_2190**3*pi**6*g*m**7 + (85447048832643/500000000000000000000000000)*_Dummy_2189**3*_Dummy_2190**3*pi**6*m**6 + (748079397012459/1000000000000000000000000000)*_Dummy_2189**3*_Dummy_2190**2*pi**5*g*m**8 - 262112354635741/5000000000000000000000000*_Dummy_2189**3*_Dummy_2190**2*pi**5*m**7 - 57023435893431/2500000000000000000000000*_Dummy_2189**3*_Dummy_2190*pi**4*g*m**9 + (903169762500669/100000000000000000000000)*_Dummy_2189**3*_Dummy_2190*pi**4*m**8 - 424423623188053/100000000000000000000000*_Dummy_2189**3*pi**3*g*m**10 - 167647331159281/250000000000000000000*_Dummy_2189**3*pi**3*m**9 - 3935731531117999/2923003274661805836407369665432566039311865085952*_Dummy_2189**2*_Dummy_2190**10*pi**12*g*m - 3407767545236307/1461501637330902918203684832716283019655932542976*_Dummy_2189**2*_Dummy_2190**10*pi**12 + (46910619274451/5000000000000000000000000000000000000000000)*_Dummy_2189**2*_Dummy_2190**9*pi**11*g*m**2 + (619228322163829/100000000000000000000000000000000000000000000)*_Dummy_2189**2*_Dummy_2190**9*pi**11*m - 273137775514781/10000000000000000000000000000000000000000*_Dummy_2189**2*_Dummy_2190**8*pi**10*g*m**3 + (26228261081293/1250000000000000000000000000000000000000)*_Dummy_2189**2*_Dummy_2190**8*pi**10*m**2 + (220848730222361/5000000000000000000000000000000000000)*_Dummy_2189**2*_Dummy_2190**7*pi**9*g*m**4 - 59865272116411/500000000000000000000000000000000000*_Dummy_2189**2*_Dummy_2190**7*pi**9*m**3 - 441202982130953/10000000000000000000000000000000000*_Dummy_2189**2*_Dummy_2190**6*pi**8*g*m**5 + (239236310384077/1000000000000000000000000000000000)*_Dummy_2189**2*_Dummy_2190**6*pi**8*m**4 + (284036877919979/10000000000000000000000000000000)*_Dummy_2189**2*_Dummy_2190**5*pi**7*g*m**6 - 53225441084241/200000000000000000000000000000*_Dummy_2189**2*_Dummy_2190**5*pi**7*m**5 - 118263493216649/10000000000000000000000000000*_Dummy_2189**2*_Dummy_2190**4*pi**6*g*m**7 + (183482621972181/1000000000000000000000000000)*_Dummy_2189**2*_Dummy_2190**4*pi**6*m**6 + (153514976479093/50000000000000000000000000)*_Dummy_2189**2*_Dummy_2190**3*pi**5*g*m**8 - 80488308494947/1000000000000000000000000*_Dummy_2189**2*_Dummy_2190**3*pi**5*m**7 - 27900752562143/62500000000000000000000*_Dummy_2189**2*_Dummy_2190**2*pi**4*g*m**9 + (43890123986661/2000000000000000000000)*_Dummy_2189**2*_Dummy_2190**2*pi**4*m**8 + (128842885610659/5000000000000000000000)*_Dummy_2189**2*_Dummy_2190*pi**3*g*m**10 - 1700119770599/500000000000000000*_Dummy_2189**2*_Dummy_2190*pi**3*m**9 + (722050641/1600000000000000)*_Dummy_2189**2*pi**2*g*m**11 + (91700431407/400000000000000)*_Dummy_2189**2*pi**2*m**10 - 3455764271225553/11692013098647223345629478661730264157247460343808*_Dummy_2190**11*_Dummy_2189*pi**12*g*m - 2591823203419163/2923003274661805836407369665432566039311865085952*_Dummy_2190**11*_Dummy_2189*pi**12 + (15888095108151/6250000000000000000000000000000000000000000)*_Dummy_2190**10*_Dummy_2189*pi**11*g*m**2 + (562194134596111/100000000000000000000000000000000000000000000)*_Dummy_2190**10*_Dummy_2189*pi**11*m - 228625535899361/25000000000000000000000000000000000000000*_Dummy_2190**9*_Dummy_2189*pi**10*g*m**3 - 52638452297253/5000000000000000000000000000000000000000*_Dummy_2190**9*_Dummy_2189*pi**10*m**2 + (91507083559751/5000000000000000000000000000000000000)*_Dummy_2190**8*_Dummy_2189*pi**9*g*m**4 - 493494301341647/100000000000000000000000000000000000000*_Dummy_2190**8*_Dummy_2189*pi**9*m**3 - 45638547116889/2000000000000000000000000000000000*_Dummy_2190**7*_Dummy_2189*pi**8*g*m**5 + (249581605160099/5000000000000000000000000000000000)*_Dummy_2190**7*_Dummy_2189*pi**8*m**4 + (1870056233237/100000000000000000000000000000)*_Dummy_2190**6*_Dummy_2189*pi**7*g*m**6 - 36135108226661/400000000000000000000000000000*_Dummy_2190**6*_Dummy_2189*pi**7*m**5 - 5139005965777/500000000000000000000000000*_Dummy_2190**5*_Dummy_2189*pi**6*g*m**7 + (27669511541047/312500000000000000000000000)*_Dummy_2190**5*_Dummy_2189*pi**6*m**6 + (94070847363893/25000000000000000000000000)*_Dummy_2190**4*_Dummy_2189*pi**5*g*m**8 - 27045505427543/500000000000000000000000*_Dummy_2190**4*_Dummy_2189*pi**5*m**7 - 220558503830663/250000000000000000000000*_Dummy_2190**3*_Dummy_2189*pi**4*g*m**9 + (106165418325877/5000000000000000000000)*_Dummy_2190**3*_Dummy_2189*pi**4*m**8 + (120051253416049/1000000000000000000000)*_Dummy_2190**2*_Dummy_2189*pi**3*g*m**10 - 523011167660021/100000000000000000000*_Dummy_2190**2*_Dummy_2189*pi**3*m**9 - 722050641/100000000000000*_Dummy_2189*_Dummy_2190*pi**2*g*m**11 + (295318712169/400000000000000)*_Dummy_2189*_Dummy_2190*pi**2*m**10 - 456807/10000000*_Dummy_2189*pi*m**11 - 4607685694967395/187072209578355573530071658587684226515959365500928*_Dummy_2190**12*pi**12*g*m - 4607685694967395/46768052394588893382517914646921056628989841375232*_Dummy_2190**12*pi**12 + (128326922027373/500000000000000000000000000000000000000000000)*_Dummy_2190**11*pi**11*g*m**2 + (879956036759129/1000000000000000000000000000000000000000000000)*_Dummy_2190**11*pi**11*m - 56398341747057/50000000000000000000000000000000000000000*_Dummy_2190**10*pi**10*g*m**3 - 149182710427699/50000000000000000000000000000000000000000*_Dummy_2190**10*pi**10*m**2 + (276838266606283/100000000000000000000000000000000000000)*_Dummy_2190**9*pi**9*g*m**4 + (21785967937277/5000000000000000000000000000000000000)*_Dummy_2190**9*pi**9*m**3 - 424977801254483/100000000000000000000000000000000000*_Dummy_2190**8*pi**8*g*m**5 - 515124607581169/1000000000000000000000000000000000000*_Dummy_2190**8*pi**8*m**4 + (432692679218827/100000000000000000000000000000000)*_Dummy_2190**7*pi**7*g*m**6 - 399853155214933/50000000000000000000000000000000*_Dummy_2190**7*pi**7*m**5 - 300872090817729/100000000000000000000000000000*_Dummy_2190**6*pi**6*g*m**7 + (34323148436567/2500000000000000000000000000)*_Dummy_2190**6*pi**6*m**6 + (71982804451007/50000000000000000000000000)*_Dummy_2190**5*pi**5*g*m**8 - 60782135059381/5000000000000000000000000*_Dummy_2190**5*pi**5*m**7 - 233694259598971/500000000000000000000000*_Dummy_2190**4*pi**4*g*m**9 + (335134878950821/50000000000000000000000)*_Dummy_2190**4*pi**4*m**8 + (985269125257981/10000000000000000000000)*_Dummy_2190**3*pi**3*g*m**10 - 7465308372147/3125000000000000000*_Dummy_2190**3*pi**3*m**9 - 19495367307/1600000000000000*_Dummy_2190**2*pi**2*g*m**11 + (107585545509/200000000000000)*_Dummy_2190**2*pi**2*m**10 + (26871/40000000)*_Dummy_2190*pi*g*m**12 - 349323/5000000*_Dummy_2190*pi*m**11 + 4*m**12)/((8904490297583931/1569275433846670190958947355801916604025588861116008628224)*_Dummy_2188**13*pi**13 + (6400102401388453/49039857307708443467467104868809893875799651909875269632)*_Dummy_2188**12*_Dummy_2189*pi**13 + (2434821565745611/12259964326927110866866776217202473468949912977468817408)*_Dummy_2188**12*_Dummy_2190*pi**13 - 6067734248516743/47890485652059026823698344598447161988085597568237568*_Dummy_2188**12*pi**12*m + (3791365009518169/3064991081731777716716694054300618367237478244367204352)*_Dummy_2188**11*_Dummy_2189**2*pi**13 + (1552198748162829/383123885216472214589586756787577295904684780545900544)*_Dummy_2188**11*_Dummy_2189*_Dummy_2190*pi**13 - 7635232262716915/2993155353253689176481146537402947624255349848014848*_Dummy_2188**11*_Dummy_2189*pi**12*m + (2356559443989507/766247770432944429179173513575154591809369561091801088)*_Dummy_2188**11*_Dummy_2190**2*pi**13 - 5941323118339325/1496577676626844588240573268701473812127674924007424*_Dummy_2188**11*_Dummy_2190*pi**12*m + (3675289176105059/2923003274661805836407369665432566039311865085952)*_Dummy_2188**11*pi**11*m**2 + (312505000067797/47890485652059026823698344598447161988085597568237568)*_Dummy_2188**10*_Dummy_2189**3*pi**13 + (1642417582965013/47890485652059026823698344598447161988085597568237568)*_Dummy_2188**10*_Dummy_2189**2*_Dummy_2190*pi**13 - 8001824540231487/374144419156711147060143317175368453031918731001856*_Dummy_2188**10*_Dummy_2189**2*pi**12*m + (5339215862027891/95780971304118053647396689196894323976171195136475136)*_Dummy_2188**10*_Dummy_2190**2*_Dummy_2189*pi**13 - 6657126142969047/93536104789177786765035829293842113257979682750464*_Dummy_2188**10*_Dummy_2189*_Dummy_2190*pi**12*m + (8149953748012985/365375409332725729550921208179070754913983135744)*_Dummy_2188**10*_Dummy_2189*pi**11*m**2 + (2675042800580345/95780971304118053647396689196894323976171195136475136)*_Dummy_2188**10*_Dummy_2190**3*pi**13 - 2509088106305/45671926166590716193865151022383844364247891968*_Dummy_2188**10*_Dummy_2190**2*pi**12*m + (6445538392594261/182687704666362864775460604089535377456991567872)*_Dummy_2188**10*_Dummy_2190*pi**11*m**2 - 185299211235851/25000000000000000000000000000000000000000000*_Dummy_2188**10*pi**10*m**3 + (4152240348726911/191561942608236107294793378393788647952342390272950272)*_Dummy_2188**9*_Dummy_2189**4*pi**13 + (3862833544316295/23945242826029513411849172299223580994042798784118784)*_Dummy_2188**9*_Dummy_2189**3*_Dummy_2190*pi**13 - 4673261468746971/46768052394588893382517914646921056628989841375232*_Dummy_2188**9*_Dummy_2189**3*pi**12*m + (2512540200545089/5986310706507378352962293074805895248510699696029696)*_Dummy_2188**9*_Dummy_2189**2*_Dummy_2190**2*pi**13 - 6211329391702705/11692013098647223345629478661730264157247460343808*_Dummy_2188**9*_Dummy_2189**2*_Dummy_2190*pi**12*m + (20645973541931/125000000000000000000000000000000000000000000)*_Dummy_2188**9*_Dummy_2189**2*pi**11*m**2 + (5373863155513673/11972621413014756705924586149611790497021399392059392)*_Dummy_2188**9*_Dummy_2190**3*_Dummy_2189*pi**13 - 2556023176318147/2923003274661805836407369665432566039311865085952*_Dummy_2188**9*_Dummy_2190**2*_Dummy_2189*pi**12*m + (22255403878939/40000000000000000000000000000000000000000000)*_Dummy_2188**9*_Dummy_2189*_Dummy_2190*pi**11*m**2 - 115858799752517/1000000000000000000000000000000000000000000*_Dummy_2188**9*_Dummy_2189*pi**10*m**3 + (3968541757382711/23945242826029513411849172299223580994042798784118784)*_Dummy_2188**9*_Dummy_2190**4*pi**13 - 5185819098138283/11692013098647223345629478661730264157247460343808*_Dummy_2188**9*_Dummy_2190**3*pi**12*m + (434797664482323/1000000000000000000000000000000000000000000000)*_Dummy_2188**9*_Dummy_2190**2*pi**11*m**2 - 185486382156291/1000000000000000000000000000000000000000000*_Dummy_2188**9*_Dummy_2190*pi**10*m**3 + (145579704410007/5000000000000000000000000000000000000000)*_Dummy_2188**9*pi**9*m**4 + (2318515357024741/47890485652059026823698344598447161988085597568237568)*_Dummy_2188**8*_Dummy_2189**5*pi**13 + (5680933286015081/11972621413014756705924586149611790497021399392059392)*_Dummy_2188**8*_Dummy_2189**4*_Dummy_2190*pi**13 - 6843187525198975/23384026197294446691258957323460528314494920687616*_Dummy_2188**8*_Dummy_2189**4*pi**12*m + (2613781630186619/1496577676626844588240573268701473812127674924007424)*_Dummy_2188**8*_Dummy_2189**3*_Dummy_2190**2*pi**13 - 401265838245597/182687704666362864775460604089535377456991567872*_Dummy_2188**8*_Dummy_2189**3*_Dummy_2190*pi**12*m + (339501785387137/500000000000000000000000000000000000000000000)*_Dummy_2188**8*_Dummy_2189**3*pi**11*m**2 + (8936182380743025/2993155353253689176481146537402947624255349848014848)*_Dummy_2188**8*_Dummy_2189**2*_Dummy_2190**3*pi**13 - 8431573003487045/1461501637330902918203684832716283019655932542976*_Dummy_2188**8*_Dummy_2189**2*_Dummy_2190**2*pi**12*m + (182157337330489/50000000000000000000000000000000000000000000)*_Dummy_2188**8*_Dummy_2189**2*_Dummy_2190*pi**11*m**2 - 376718911570099/500000000000000000000000000000000000000000*_Dummy_2188**8*_Dummy_2189**2*pi**10*m**3 + (7030445367286109/2993155353253689176481146537402947624255349848014848)*_Dummy_2188**8*_Dummy_2190**4*_Dummy_2189*pi**13 - 2276455826751425/365375409332725729550921208179070754913983135744*_Dummy_2188**8*_Dummy_2190**3*_Dummy_2189*pi**12*m + (302766537944929/50000000000000000000000000000000000000000000)*_Dummy_2188**8*_Dummy_2190**2*_Dummy_2189*pi**11*m**2 - 32027284123833/12500000000000000000000000000000000000000*_Dummy_2188**8*_Dummy_2189*_Dummy_2190*pi**10*m**3 + (39912521831069/100000000000000000000000000000000000000)*_Dummy_2188**8*_Dummy_2189*pi**9*m**4 + (8099042627844045/11972621413014756705924586149611790497021399392059392)*_Dummy_2188**8*_Dummy_2190**5*pi**13 - 6783191617712421/2923003274661805836407369665432566039311865085952*_Dummy_2188**8*_Dummy_2190**4*pi**12*m + (309953650293631/100000000000000000000000000000000000000000000)*_Dummy_2188**8*_Dummy_2190**3*pi**11*m**2 - 101044221399671/50000000000000000000000000000000000000000*_Dummy_2188**8*_Dummy_2190**2*pi**10*m**3 + (644869331783659/1000000000000000000000000000000000000000)*_Dummy_2188**8*_Dummy_2190*pi**9*m**4 - 40376312840603/500000000000000000000000000000000000*_Dummy_2188**8*pi**8*m**5 + (7222941653740935/95780971304118053647396689196894323976171195136475136)*_Dummy_2188**7*_Dummy_2189**6*pi**13 + (2776776765276333/2993155353253689176481146537402947624255349848014848)*_Dummy_2188**7*_Dummy_2189**5*_Dummy_2190*pi**13 - 6674310155977565/11692013098647223345629478661730264157247460343808*_Dummy_2188**7*_Dummy_2189**5*pi**12*m + (6729268673470767/1496577676626844588240573268701473812127674924007424)*_Dummy_2188**7*_Dummy_2189**4*_Dummy_2190**2*pi**13 - 4114867459829415/730750818665451459101842416358141509827966271488*_Dummy_2188**7*_Dummy_2189**4*_Dummy_2190*pi**12*m + (34689762073267/20000000000000000000000000000000000000000000)*_Dummy_2188**7*_Dummy_2189**4*pi**11*m**2 + (4067668683083551/374144419156711147060143317175368453031918731001856)*_Dummy_2188**7*_Dummy_2189**3*_Dummy_2190**3*pi**13 - 1906829805560981/91343852333181432387730302044767688728495783936*_Dummy_2188**7*_Dummy_2189**3*_Dummy_2190**2*pi**12*m + (5243604509489/400000000000000000000000000000000000000000)*_Dummy_2188**7*_Dummy_2189**3*_Dummy_2190*pi**11*m**2 - 53956135577153/20000000000000000000000000000000000000000*_Dummy_2188**7*_Dummy_2189**3*pi**10*m**3 + (5113104058106549/374144419156711147060143317175368453031918731001856)*_Dummy_2188**7*_Dummy_2189**2*_Dummy_2190**4*pi**13 - 6569397559316133/182687704666362864775460604089535377456991567872*_Dummy_2188**7*_Dummy_2189**2*_Dummy_2190**3*pi**12*m + (69384453026941/2000000000000000000000000000000000000000000)*_Dummy_2188**7*_Dummy_2189**2*_Dummy_2190**2*pi**11*m**2 - 145815131227139/10000000000000000000000000000000000000000*_Dummy_2188**7*_Dummy_2189**2*_Dummy_2190*pi**10*m**3 + (225783673235777/100000000000000000000000000000000000000)*_Dummy_2188**7*_Dummy_2189**2*pi**9*m**4 + (6270098622963543/748288838313422294120286634350736906063837462003712)*_Dummy_2188**7*_Dummy_2190**5*_Dummy_2189*pi**13 - 5206518303462989/182687704666362864775460604089535377456991567872*_Dummy_2188**7*_Dummy_2190**4*_Dummy_2189*pi**12*m + (75499584181799/2000000000000000000000000000000000000000000)*_Dummy_2188**7*_Dummy_2190**3*_Dummy_2189*pi**11*m**2 - 30524020876317/1250000000000000000000000000000000000000*_Dummy_2188**7*_Dummy_2190**2*_Dummy_2189*pi**10*m**3 + (30940354096311/4000000000000000000000000000000000000)*_Dummy_2188**7*_Dummy_2189*_Dummy_2190*pi**9*m**4 - 962063639086419/1000000000000000000000000000000000000*_Dummy_2188**7*_Dummy_2189*pi**8*m**5 + (1454260700179633/748288838313422294120286634350736906063837462003712)*_Dummy_2188**7*_Dummy_2190**6*pi**13 - 3015565903507609/365375409332725729550921208179070754913983135744*_Dummy_2188**7*_Dummy_2190**5*pi**12*m + (5660014432371/400000000000000000000000000000000000000000)*_Dummy_2188**7*_Dummy_2190**4*pi**11*m**2 - 125846240067209/10000000000000000000000000000000000000000*_Dummy_2188**7*_Dummy_2190**3*pi**10*m**3 + (76795035460303/12500000000000000000000000000000000000)*_Dummy_2188**7*_Dummy_2190**2*pi**9*m**4 - 78264101006901/50000000000000000000000000000000000*_Dummy_2188**7*_Dummy_2190*pi**8*m**5 + (162993689359431/1000000000000000000000000000000000)*_Dummy_2188**7*pi**7*m**6 + (3992998670431503/47890485652059026823698344598447161988085597568237568)*_Dummy_2188**6*_Dummy_2189**7*pi**13 + (1862597736273655/1496577676626844588240573268701473812127674924007424)*_Dummy_2188**6*_Dummy_2189**6*_Dummy_2190*pi**13 - 8948327877435049/11692013098647223345629478661730264157247460343808*_Dummy_2188**6*_Dummy_2189**6*pi**12*m + (1417023351666115/187072209578355573530071658587684226515959365500928)*_Dummy_2188**6*_Dummy_2189**5*_Dummy_2190**2*pi**13 - 3458103617824073/365375409332725729550921208179070754913983135744*_Dummy_2188**6*_Dummy_2189**5*_Dummy_2190*pi**12*m + (291015181749869/100000000000000000000000000000000000000000000)*_Dummy_2188**6*_Dummy_2189**5*pi**11*m**2 + (4513729233757765/187072209578355573530071658587684226515959365500928)*_Dummy_2188**6*_Dummy_2189**4*_Dummy_2190**3*pi**13 - 263354913802343/5708990770823839524233143877797980545530986496*_Dummy_2188**6*_Dummy_2189**4*_Dummy_2190**2*pi**12*m + (288639260214861/10000000000000000000000000000000000000000000)*_Dummy_2188**6*_Dummy_2189**4*_Dummy_2190*pi**11*m**2 - 296117498100913/50000000000000000000000000000000000000000*_Dummy_2188**6*_Dummy_2189**4*pi**10*m**3 + (4014630937402881/93536104789177786765035829293842113257979682750464)*_Dummy_2188**6*_Dummy_2189**3*_Dummy_2190**4*pi**13 - 112199516707639/1000000000000000000000000000000000000000000000*_Dummy_2188**6*_Dummy_2189**3*_Dummy_2190**3*pi**12*m + (107630754376807/1000000000000000000000000000000000000000000)*_Dummy_2188**6*_Dummy_2189**3*_Dummy_2190**2*pi**11*m**2 - 45016253469981/1000000000000000000000000000000000000000*_Dummy_2188**6*_Dummy_2189**3*_Dummy_2190*pi**10*m**3 + (347045298026827/50000000000000000000000000000000000000)*_Dummy_2188**6*_Dummy_2189**3*pi**9*m**4 + (1967039582271169/46768052394588893382517914646921056628989841375232)*_Dummy_2188**6*_Dummy_2189**2*_Dummy_2190**5*pi**13 - 7093792319451/50000000000000000000000000000000000000000000*_Dummy_2188**6*_Dummy_2189**2*_Dummy_2190**4*pi**12*m + (93260905318133/500000000000000000000000000000000000000000)*_Dummy_2188**6*_Dummy_2189**2*_Dummy_2190**3*pi**11*m**2 - 119845764962999/1000000000000000000000000000000000000000*_Dummy_2188**6*_Dummy_2189**2*_Dummy_2190**2*pi**10*m**3 + (377353738688493/10000000000000000000000000000000000000)*_Dummy_2188**6*_Dummy_2189**2*_Dummy_2190*pi**9*m**4 - 46684722889967/10000000000000000000000000000000000*_Dummy_2188**6*_Dummy_2189**2*pi**8*m**5 + (3884696156345491/187072209578355573530071658587684226515959365500928)*_Dummy_2188**6*_Dummy_2190**6*_Dummy_2189*pi**13 - 3496981685663/40000000000000000000000000000000000000000000*_Dummy_2188**6*_Dummy_2190**5*_Dummy_2189*pi**12*m + (74318463493227/500000000000000000000000000000000000000000)*_Dummy_2188**6*_Dummy_2190**4*_Dummy_2189*pi**11*m**2 - 131153808423949/1000000000000000000000000000000000000000*_Dummy_2188**6*_Dummy_2190**3*_Dummy_2189*pi**10*m**3 + (635595695646659/10000000000000000000000000000000000000)*_Dummy_2188**6*_Dummy_2190**2*_Dummy_2189*pi**9*m**4 - 10053328618609/625000000000000000000000000000000*_Dummy_2188**6*_Dummy_2189*_Dummy_2190*pi**8*m**5 + (83237913634237/50000000000000000000000000000000)*_Dummy_2188**6*_Dummy_2189*pi**7*m**6 + (2954641363820359/748288838313422294120286634350736906063837462003712)*_Dummy_2188**6*_Dummy_2190**7*pi**13 - 7427678519389501/365375409332725729550921208179070754913983135744*_Dummy_2188**6*_Dummy_2190**6*pi**12*m + (43206263880337/1000000000000000000000000000000000000000000)*_Dummy_2188**6*_Dummy_2190**5*pi**11*m**2 - 246915691073863/5000000000000000000000000000000000000000*_Dummy_2188**6*_Dummy_2190**4*pi**10*m**3 + (82295022761841/2500000000000000000000000000000000000)*_Dummy_2188**6*_Dummy_2190**3*pi**9*m**4 - 128417827292849/10000000000000000000000000000000000*_Dummy_2188**6*_Dummy_2190**2*pi**8*m**5 + (68068387317717/25000000000000000000000000000000)*_Dummy_2188**6*_Dummy_2190*pi**7*m**6 - 60657842789413/250000000000000000000000000000*_Dummy_2188**6*pi**6*m**7 + (3141082865898853/47890485652059026823698344598447161988085597568237568)*_Dummy_2188**5*_Dummy_2189**8*pi**13 + (3468703596948187/2993155353253689176481146537402947624255349848014848)*_Dummy_2188**5*_Dummy_2189**7*_Dummy_2190*pi**13 - 4169690880641723/5846006549323611672814739330865132078623730171904*_Dummy_2188**5*_Dummy_2189**7*pi**12*m + (6409086920140435/748288838313422294120286634350736906063837462003712)*_Dummy_2188**5*_Dummy_2189**6*_Dummy_2190**2*pi**13 - 977008972365611/91343852333181432387730302044767688728495783936*_Dummy_2188**5*_Dummy_2189**6*_Dummy_2190*pi**12*m + (10275835491561/3125000000000000000000000000000000000000000)*_Dummy_2188**5*_Dummy_2189**6*pi**11*m**2 + (6414613078531565/187072209578355573530071658587684226515959365500928)*_Dummy_2188**5*_Dummy_2189**5*_Dummy_2190**3*pi**13 - 654028981311487/10000000000000000000000000000000000000000000000*_Dummy_2188**5*_Dummy_2189**5*_Dummy_2190**2*pi**12*m + (51064489819059/1250000000000000000000000000000000000000000)*_Dummy_2188**5*_Dummy_2189**5*_Dummy_2190*pi**11*m**2 - 52321057208917/6250000000000000000000000000000000000000*_Dummy_2188**5*_Dummy_2189**5*pi**10*m**3 + (3762054397037281/46768052394588893382517914646921056628989841375232)*_Dummy_2188**5*_Dummy_2189**4*_Dummy_2190**4*pi**13 - 13082521306839/62500000000000000000000000000000000000000000*_Dummy_2188**5*_Dummy_2189**4*_Dummy_2190**3*pi**12*m + (50011727486701/250000000000000000000000000000000000000000)*_Dummy_2188**5*_Dummy_2189**4*_Dummy_2190**2*pi**11*m**2 - 834146298375877/10000000000000000000000000000000000000000*_Dummy_2188**5*_Dummy_2189**4*_Dummy_2190*pi**10*m**3 + (128297930733959/10000000000000000000000000000000000000)*_Dummy_2188**5*_Dummy_2189**4*pi**9*m**4 + (5223212710975193/46768052394588893382517914646921056628989841375232)*_Dummy_2188**5*_Dummy_2189**3*_Dummy_2190**5*pi**13 - 374091893775193/1000000000000000000000000000000000000000000000*_Dummy_2188**5*_Dummy_2189**3*_Dummy_2190**4*pi**12*m + (122217662778511/250000000000000000000000000000000000000000)*_Dummy_2188**5*_Dummy_2189**3*_Dummy_2190**3*pi**11*m**2 - 312513520994743/1000000000000000000000000000000000000000*_Dummy_2188**5*_Dummy_2189**3*_Dummy_2190**2*pi**10*m**3 + (979738872714377/10000000000000000000000000000000000000)*_Dummy_2188**5*_Dummy_2189**3*_Dummy_2190*pi**9*m**4 - 235868719553/19531250000000000000000000000000*_Dummy_2188**5*_Dummy_2189**3*pi**8*m**5 + (2062706555364273/23384026197294446691258957323460528314494920687616)*_Dummy_2188**5*_Dummy_2189**2*_Dummy_2190**6*pi**13 - 184055180151747/500000000000000000000000000000000000000000000*_Dummy_2188**5*_Dummy_2189**2*_Dummy_2190**5*pi**12*m + (310465750908987/500000000000000000000000000000000000000000)*_Dummy_2188**5*_Dummy_2189**2*_Dummy_2190**4*pi**11*m**2 - 136017276337761/250000000000000000000000000000000000000*_Dummy_2188**5*_Dummy_2189**2*_Dummy_2190**3*pi**10*m**3 + (13102022941321/50000000000000000000000000000000000)*_Dummy_2188**5*_Dummy_2189**2*_Dummy_2190**2*pi**9*m**4 - 329783437380059/5000000000000000000000000000000000*_Dummy_2188**5*_Dummy_2189**2*_Dummy_2190*pi**8*m**5 + (339693666233179/50000000000000000000000000000000)*_Dummy_2188**5*_Dummy_2189**2*pi**7*m**6 + (6680908949309461/187072209578355573530071658587684226515959365500928)*_Dummy_2188**5*_Dummy_2190**7*_Dummy_2189*pi**13 - 45551649712893/250000000000000000000000000000000000000000000*_Dummy_2188**5*_Dummy_2190**6*_Dummy_2189*pi**12*m + (383908508267439/1000000000000000000000000000000000000000000)*_Dummy_2188**5*_Dummy_2190**5*_Dummy_2189*pi**11*m**2 - 43523831162177/100000000000000000000000000000000000000*_Dummy_2188**5*_Dummy_2190**4*_Dummy_2189*pi**10*m**3 + (35994198810889/125000000000000000000000000000000000)*_Dummy_2188**5*_Dummy_2190**3*_Dummy_2189*pi**9*m**4 - 55784179263209/500000000000000000000000000000000*_Dummy_2188**5*_Dummy_2190**2*_Dummy_2189*pi**8*m**5 + (235088761684733/10000000000000000000000000000000)*_Dummy_2188**5*_Dummy_2189*_Dummy_2190*pi**7*m**6 - 208332118234911/100000000000000000000000000000*_Dummy_2188**5*_Dummy_2189*pi**6*m**7 + (4199978035082383/748288838313422294120286634350736906063837462003712)*_Dummy_2188**5*_Dummy_2190**8*pi**13 - 49425086310831/1427247692705959881058285969449495136382746624*_Dummy_2188**5*_Dummy_2190**7*pi**12*m + (893697051208323/10000000000000000000000000000000000000000000)*_Dummy_2188**5*_Dummy_2190**6*pi**11*m**2 - 15849338748681/125000000000000000000000000000000000000*_Dummy_2188**5*_Dummy_2190**5*pi**10*m**3 + (54369324825809/500000000000000000000000000000000000)*_Dummy_2188**5*_Dummy_2190**4*pi**9*m**4 - 579761547471597/10000000000000000000000000000000000*_Dummy_2188**5*_Dummy_2190**3*pi**8*m**5 + (2943147413547/156250000000000000000000000000)*_Dummy_2188**5*_Dummy_2190**2*pi**7*m**6 - 341999946345399/100000000000000000000000000000*_Dummy_2188**5*_Dummy_2190*pi**6*m**7 + (133184947511271/500000000000000000000000000)*_Dummy_2188**5*pi**5*m**8 + (6940328436288323/191561942608236107294793378393788647952342390272950272)*_Dummy_2188**4*_Dummy_2189**9*pi**13 + (8907411539975943/11972621413014756705924586149611790497021399392059392)*_Dummy_2188**4*_Dummy_2189**8*_Dummy_2190*pi**13 - 5366053717336587/11692013098647223345629478661730264157247460343808*_Dummy_2188**4*_Dummy_2189**8*pi**12*m + (2438086733477307/374144419156711147060143317175368453031918731001856)*_Dummy_2188**4*_Dummy_2189**7*_Dummy_2190**2*pi**13 - 1488222557636017/182687704666362864775460604089535377456991567872*_Dummy_2188**4*_Dummy_2189**7*_Dummy_2190*pi**12*m + (250776908589767/100000000000000000000000000000000000000000000)*_Dummy_2188**4*_Dummy_2189**7*pi**11*m**2 + (1483459855374479/46768052394588893382517914646921056628989841375232)*_Dummy_2188**4*_Dummy_2189**6*_Dummy_2190**3*pi**13 - 302345369885853/5000000000000000000000000000000000000000000000*_Dummy_2188**4*_Dummy_2189**6*_Dummy_2190**2*pi**12*m + (7553609813257/200000000000000000000000000000000000000000)*_Dummy_2188**4*_Dummy_2189**6*_Dummy_2190*pi**11*m**2 - 774195078217023/100000000000000000000000000000000000000000*_Dummy_2188**4*_Dummy_2189**6*pi**10*m**3 + (8760048023877335/93536104789177786765035829293842113257979682750464)*_Dummy_2188**4*_Dummy_2189**5*_Dummy_2190**4*pi**13 - 243083546121879/1000000000000000000000000000000000000000000000*_Dummy_2188**4*_Dummy_2189**5*_Dummy_2190**3*pi**12*m + (231892506846389/1000000000000000000000000000000000000000000)*_Dummy_2188**4*_Dummy_2189**5*_Dummy_2190**2*pi**11*m**2 - 965736439649557/10000000000000000000000000000000000000000*_Dummy_2188**4*_Dummy_2189**5*_Dummy_2190*pi**10*m**3 + (74210821568623/5000000000000000000000000000000000000)*_Dummy_2188**4*_Dummy_2189**5*pi**9*m**4 + (1004149871343437/5846006549323611672814739330865132078623730171904)*_Dummy_2188**4*_Dummy_2189**4*_Dummy_2190**5*pi**13 - 286218587961669/500000000000000000000000000000000000000000000*_Dummy_2188**4*_Dummy_2189**4*_Dummy_2190**4*pi**12*m + (186265313963143/250000000000000000000000000000000000000000)*_Dummy_2188**4*_Dummy_2189**4*_Dummy_2190**3*pi**11*m**2 - 237382420997619/500000000000000000000000000000000000000*_Dummy_2188**4*_Dummy_2189**4*_Dummy_2190**2*pi**10*m**3 + (148466222568261/1000000000000000000000000000000000000)*_Dummy_2188**4*_Dummy_2189**4*_Dummy_2190*pi**9*m**4 - 45661317117659/2500000000000000000000000000000000*_Dummy_2188**4*_Dummy_2189**4*pi**8*m**5 + (2251587777821601/11692013098647223345629478661730264157247460343808)*_Dummy_2188**4*_Dummy_2189**3*_Dummy_2190**6*pi**13 - 797372945184769/1000000000000000000000000000000000000000000000*_Dummy_2188**4*_Dummy_2189**3*_Dummy_2190**5*pi**12*m + (133624600881451/100000000000000000000000000000000000000000)*_Dummy_2188**4*_Dummy_2189**3*_Dummy_2190**4*pi**11*m**2 - 58222865162417/50000000000000000000000000000000000000*_Dummy_2188**4*_Dummy_2189**3*_Dummy_2190**3*pi**10*m**3 + (558286603622459/1000000000000000000000000000000000000)*_Dummy_2188**4*_Dummy_2189**3*_Dummy_2190**2*pi**9*m**4 - 69995148268297/500000000000000000000000000000000*_Dummy_2188**4*_Dummy_2189**3*_Dummy_2190*pi**8*m**5 + (143743146805541/10000000000000000000000000000000)*_Dummy_2188**4*_Dummy_2189**3*pi**7*m**6 + (2920705539343721/23384026197294446691258957323460528314494920687616)*_Dummy_2188**4*_Dummy_2189**2*_Dummy_2190**7*pi**13 - 126223830397091/200000000000000000000000000000000000000000000*_Dummy_2188**4*_Dummy_2189**2*_Dummy_2190**6*pi**12*m + (131844995918919/100000000000000000000000000000000000000000)*_Dummy_2188**4*_Dummy_2189**2*_Dummy_2190**5*pi**11*m**2 - 2967146107713/2000000000000000000000000000000000000*_Dummy_2188**4*_Dummy_2189**2*_Dummy_2190**4*pi**10*m**3 + (97514217613379/100000000000000000000000000000000000)*_Dummy_2188**4*_Dummy_2189**2*_Dummy_2190**3*pi**9*m**4 - 187842718154567/500000000000000000000000000000000*_Dummy_2188**4*_Dummy_2189**2*_Dummy_2190**2*pi**8*m**5 + (12308493147991/156250000000000000000000000000)*_Dummy_2188**4*_Dummy_2189**2*_Dummy_2190*pi**7*m**6 - 43446179897917/6250000000000000000000000000*_Dummy_2188**4*_Dummy_2189**2*pi**6*m**7 + (7819897324233875/187072209578355573530071658587684226515959365500928)*_Dummy_2188**4*_Dummy_2190**8*_Dummy_2189*pi**13 - 255450060297993/1000000000000000000000000000000000000000000000*_Dummy_2188**4*_Dummy_2190**7*_Dummy_2189*pi**12*m + (81656208462533/125000000000000000000000000000000000000000)*_Dummy_2188**4*_Dummy_2190**6*_Dummy_2189*pi**11*m**2 - 918933789480709/1000000000000000000000000000000000000000*_Dummy_2188**4*_Dummy_2190**5*_Dummy_2189*pi**10*m**3 + (390962724491751/500000000000000000000000000000000000)*_Dummy_2188**4*_Dummy_2190**4*_Dummy_2189*pi**9*m**4 - 25871770505917/62500000000000000000000000000000*_Dummy_2188**4*_Dummy_2190**3*_Dummy_2189*pi**8*m**5 + (13363358670309/100000000000000000000000000000)*_Dummy_2188**4*_Dummy_2190**2*_Dummy_2189*pi**7*m**6 - 120626391910763/5000000000000000000000000000*_Dummy_2188**4*_Dummy_2189*_Dummy_2190*pi**6*m**7 + (37390288808249/20000000000000000000000000)*_Dummy_2188**4*_Dummy_2189*pi**5*m**8 + (1016500002071753/187072209578355573530071658587684226515959365500928)*_Dummy_2188**4*_Dummy_2190**9*pi**13 - 7306098849766091/182687704666362864775460604089535377456991567872*_Dummy_2188**4*_Dummy_2190**8*pi**12*m + (123926764633343/1000000000000000000000000000000000000000000)*_Dummy_2188**4*_Dummy_2190**7*pi**11*m**2 - 213842963773911/1000000000000000000000000000000000000000*_Dummy_2188**4*_Dummy_2190**6*pi**10*m**3 + (227950790826019/1000000000000000000000000000000000000)*_Dummy_2188**4*_Dummy_2190**5*pi**9*m**4 - 39134310913363/250000000000000000000000000000000*_Dummy_2188**4*_Dummy_2190**4*pi**8*m**5 + (69572374542261/1000000000000000000000000000000)*_Dummy_2188**4*_Dummy_2190**3*pi**7*m**6 - 193719092472007/10000000000000000000000000000*_Dummy_2188**4*_Dummy_2190**2*pi**6*m**7 + (30761823778027/10000000000000000000000000)*_Dummy_2188**4*_Dummy_2190*pi**5*m**8 - 53204902239853/250000000000000000000000*_Dummy_2188**4*pi**4*m**9 + (5208778992434403/383123885216472214589586756787577295904684780545900544)*_Dummy_2188**3*_Dummy_2189**10*pi**13 + (958439248034021/2993155353253689176481146537402947624255349848014848)*_Dummy_2188**3*_Dummy_2189**9*_Dummy_2190*pi**13 - 4636918268820973/23384026197294446691258957323460528314494920687616*_Dummy_2188**3*_Dummy_2189**9*pi**12*m + (1221750186542231/374144419156711147060143317175368453031918731001856)*_Dummy_2188**3*_Dummy_2189**8*_Dummy_2190**2*pi**13 - 5982159838908395/1461501637330902918203684832716283019655932542976*_Dummy_2188**3*_Dummy_2189**8*_Dummy_2190*pi**12*m + (126367943539047/100000000000000000000000000000000000000000000)*_Dummy_2188**3*_Dummy_2189**8*pi**11*m**2 + (7060031438488169/374144419156711147060143317175368453031918731001856)*_Dummy_2188**3*_Dummy_2189**7*_Dummy_2190**3*pi**13 - 6580082015680255/182687704666362864775460604089535377456991567872*_Dummy_2188**3*_Dummy_2189**7*_Dummy_2190**2*pi**12*m + (22533080906771/1000000000000000000000000000000000000000000)*_Dummy_2188**3*_Dummy_2189**7*_Dummy_2190*pi**11*m**2 - 231384435266651/50000000000000000000000000000000000000000*_Dummy_2188**3*_Dummy_2189**7*pi**10*m**3 + (6347575236227611/93536104789177786765035829293842113257979682750464)*_Dummy_2188**3*_Dummy_2189**6*_Dummy_2190**4*pi**13 - 88021469030781/500000000000000000000000000000000000000000000*_Dummy_2188**3*_Dummy_2189**6*_Dummy_2190**3*pi**12*m + (6717927193281/40000000000000000000000000000000000000000)*_Dummy_2188**3*_Dummy_2189**6*_Dummy_2190**2*pi**11*m**2 - 699790893923613/10000000000000000000000000000000000000000*_Dummy_2188**3*_Dummy_2189**6*_Dummy_2190*pi**10*m**3 + (861118579211/80000000000000000000000000000000000)*_Dummy_2188**3*_Dummy_2189**6*pi**9*m**4 + (3670460391625083/23384026197294446691258957323460528314494920687616)*_Dummy_2188**3*_Dummy_2189**5*_Dummy_2190**5*pi**13 - 65200228486609/125000000000000000000000000000000000000000000*_Dummy_2188**3*_Dummy_2189**5*_Dummy_2190**4*pi**12*m + (677571932194807/1000000000000000000000000000000000000000000)*_Dummy_2188**3*_Dummy_2189**5*_Dummy_2190**3*pi**11*m**2 - 26951512914239/62500000000000000000000000000000000000*_Dummy_2188**3*_Dummy_2189**5*_Dummy_2190**2*pi**10*m**3 + (67378605833331/500000000000000000000000000000000000)*_Dummy_2188**3*_Dummy_2189**5*_Dummy_2190*pi**9*m**4 - 41434143204239/2500000000000000000000000000000000*_Dummy_2188**3*_Dummy_2189**5*pi**8*m**5 + (170277442343857/730750818665451459101842416358141509827966271488)*_Dummy_2188**3*_Dummy_2189**4*_Dummy_2190**6*pi**13 - 2398133463119/2500000000000000000000000000000000000000000*_Dummy_2188**3*_Dummy_2189**4*_Dummy_2190**5*pi**12*m + (8001714197471/5000000000000000000000000000000000000000)*_Dummy_2188**3*_Dummy_2189**4*_Dummy_2190**4*pi**11*m**2 - 138980734803999/100000000000000000000000000000000000000*_Dummy_2188**3*_Dummy_2189**4*_Dummy_2190**3*pi**10*m**3 + (4153641467501/6250000000000000000000000000000000)*_Dummy_2188**3*_Dummy_2189**4*_Dummy_2190**2*pi**9*m**4 - 41579120504223/250000000000000000000000000000000*_Dummy_2188**3*_Dummy_2189**4*_Dummy_2190*pi**8*m**5 + (170529677890951/10000000000000000000000000000000)*_Dummy_2188**3*_Dummy_2189**4*pi**7*m**6 + (5029402820792185/23384026197294446691258957323460528314494920687616)*_Dummy_2188**3*_Dummy_2189**3*_Dummy_2190**7*pi**13 - 107711207632407/100000000000000000000000000000000000000000000*_Dummy_2188**3*_Dummy_2189**3*_Dummy_2190**6*pi**12*m + (223375949715151/100000000000000000000000000000000000000000)*_Dummy_2188**3*_Dummy_2189**3*_Dummy_2190**5*pi**11*m**2 - 249851953605361/100000000000000000000000000000000000000*_Dummy_2188**3*_Dummy_2189**3*_Dummy_2190**4*pi**10*m**3 + (32684869825383/20000000000000000000000000000000000)*_Dummy_2188**3*_Dummy_2189**3*_Dummy_2190**3*pi**9*m**4 - 78387718470097/125000000000000000000000000000000*_Dummy_2188**3*_Dummy_2189**3*_Dummy_2190**2*pi**8*m**5 + (131064707374731/1000000000000000000000000000000)*_Dummy_2188**3*_Dummy_2189**3*_Dummy_2190*pi**7*m**6 - 57676417910491/5000000000000000000000000000*_Dummy_2188**3*_Dummy_2189**3*pi**6*m**7 + (675152908186129/5846006549323611672814739330865132078623730171904)*_Dummy_2188**3*_Dummy_2189**2*_Dummy_2190**8*pi**13 - 698268739113617/1000000000000000000000000000000000000000000000*_Dummy_2188**3*_Dummy_2189**2*_Dummy_2190**7*pi**12*m + (176898111287791/100000000000000000000000000000000000000000)*_Dummy_2188**3*_Dummy_2189**2*_Dummy_2190**6*pi**11*m**2 - 15426792441023/6250000000000000000000000000000000000*_Dummy_2188**3*_Dummy_2189**2*_Dummy_2190**5*pi**10*m**3 + (104280971240439/50000000000000000000000000000000000)*_Dummy_2188**3*_Dummy_2189**2*_Dummy_2190**4*pi**9*m**4 - 21950184519223/20000000000000000000000000000000*_Dummy_2188**3*_Dummy_2189**2*_Dummy_2190**3*pi**8*m**5 + (352491387409383/1000000000000000000000000000000)*_Dummy_2188**3*_Dummy_2189**2*_Dummy_2190**2*pi**7*m**6 - 633584034750553/10000000000000000000000000000*_Dummy_2188**3*_Dummy_2189**2*_Dummy_2190*pi**6*m**7 + (97830397808279/20000000000000000000000000)*_Dummy_2188**3*_Dummy_2189**2*pi**5*m**8 + (746833875263927/23384026197294446691258957323460528314494920687616)*_Dummy_2188**3*_Dummy_2190**9*_Dummy_2189*pi**13 - 116397601230127/500000000000000000000000000000000000000000000*_Dummy_2188**3*_Dummy_2190**8*_Dummy_2189*pi**12*m + (89322761307057/125000000000000000000000000000000000000000)*_Dummy_2188**3*_Dummy_2190**7*_Dummy_2189*pi**11*m**2 - 122211193621339/100000000000000000000000000000000000000*_Dummy_2188**3*_Dummy_2190**6*_Dummy_2189*pi**10*m**3 + (129211056791879/100000000000000000000000000000000000)*_Dummy_2188**3*_Dummy_2190**5*_Dummy_2189*pi**9*m**4 - 220190739330277/250000000000000000000000000000000*_Dummy_2188**3*_Dummy_2190**4*_Dummy_2189*pi**8*m**5 + (24304087804439/62500000000000000000000000000)*_Dummy_2188**3*_Dummy_2190**3*_Dummy_2189*pi**7*m**6 - 21528166890213/200000000000000000000000000*_Dummy_2188**3*_Dummy_2190**2*_Dummy_2189*pi**6*m**7 + (42510418916733/2500000000000000000000000)*_Dummy_2188**3*_Dummy_2189*_Dummy_2190*pi**5*m**8 - 29275424677431/25000000000000000000000*_Dummy_2188**3*_Dummy_2189*pi**4*m**9 + (1277797278945697/374144419156711147060143317175368453031918731001856)*_Dummy_2188**3*_Dummy_2190**10*pi**13 - 5483459288972567/182687704666362864775460604089535377456991567872*_Dummy_2188**3*_Dummy_2190**9*pi**12*m + (111256272831757/1000000000000000000000000000000000000000000)*_Dummy_2188**3*_Dummy_2190**8*pi**11*m**2 - 231035923012791/1000000000000000000000000000000000000000*_Dummy_2188**3*_Dummy_2190**7*pi**10*m**3 + (3000828178021/10000000000000000000000000000000000)*_Dummy_2188**3*_Dummy_2190**6*pi**9*m**4 - 128262418926939/500000000000000000000000000000000*_Dummy_2188**3*_Dummy_2190**5*pi**8*m**5 + (147025123524847/1000000000000000000000000000000)*_Dummy_2188**3*_Dummy_2190**4*pi**7*m**6 - 560588754361061/10000000000000000000000000000*_Dummy_2188**3*_Dummy_2190**3*pi**6*m**7 + (136632570189529/10000000000000000000000000)*_Dummy_2188**3*_Dummy_2190**2*pi**5*m**8 - 192861406396711/100000000000000000000000*_Dummy_2188**3*_Dummy_2190*pi**4*m**9 + (120051253416049/1000000000000000000000)*_Dummy_2188**3*pi**3*m**10 + (4973992627166079/1532495540865888858358347027150309183618739122183602176)*_Dummy_2188**2*_Dummy_2189**11*pi**13 + (8328394123545989/95780971304118053647396689196894323976171195136475136)*_Dummy_2188**2*_Dummy_2189**10*_Dummy_2190*pi**13 - 158310188808145/2923003274661805836407369665432566039311865085952*_Dummy_2188**2*_Dummy_2189**10*pi**12*m + (6105940086107291/5986310706507378352962293074805895248510699696029696)*_Dummy_2188**2*_Dummy_2189**9*_Dummy_2190**2*pi**13 - 1877205283134883/1461501637330902918203684832716283019655932542976*_Dummy_2188**2*_Dummy_2189**9*_Dummy_2190*pi**12*m + (398409450456533/1000000000000000000000000000000000000000000000)*_Dummy_2188**2*_Dummy_2189**9*pi**11*m**2 + (1287091755102601/187072209578355573530071658587684226515959365500928)*_Dummy_2188**2*_Dummy_2189**8*_Dummy_2190**3*pi**13 - 4813930885580165/365375409332725729550921208179070754913983135744*_Dummy_2188**2*_Dummy_2189**8*_Dummy_2190**2*pi**12*m + (3308516002727/400000000000000000000000000000000000000000)*_Dummy_2188**2*_Dummy_2189**8*_Dummy_2190*pi**11*m**2 - 17048650459221/10000000000000000000000000000000000000000*_Dummy_2188**2*_Dummy_2189**8*pi**10*m**3 + (1377147119218603/46768052394588893382517914646921056628989841375232)*_Dummy_2188**2*_Dummy_2189**7*_Dummy_2190**4*pi**13 - 478166565699/6250000000000000000000000000000000000000000*_Dummy_2188**2*_Dummy_2189**7*_Dummy_2190**3*pi**12*m + (91421867110937/1250000000000000000000000000000000000000000)*_Dummy_2188**2*_Dummy_2189**7*_Dummy_2190**2*pi**11*m**2 - 305460696107449/10000000000000000000000000000000000000000*_Dummy_2188**2*_Dummy_2189**7*_Dummy_2190*pi**10*m**3 + (471054130254207/100000000000000000000000000000000000000)*_Dummy_2188**2*_Dummy_2189**7*pi**9*m**4 + (7779034960179461/93536104789177786765035829293842113257979682750464)*_Dummy_2188**2*_Dummy_2189**6*_Dummy_2190**5*pi**13 - 276210023688061/1000000000000000000000000000000000000000000000*_Dummy_2188**2*_Dummy_2189**6*_Dummy_2190**4*pi**12*m + (8972017115039/25000000000000000000000000000000000000000)*_Dummy_2188**2*_Dummy_2189**6*_Dummy_2190**3*pi**11*m**2 - 228579267247829/1000000000000000000000000000000000000000*_Dummy_2188**2*_Dummy_2189**6*_Dummy_2190**2*pi**10*m**3 + (4469714857553/62500000000000000000000000000000000)*_Dummy_2188**2*_Dummy_2189**6*_Dummy_2190*pi**9*m**4 - 880854783881591/100000000000000000000000000000000000*_Dummy_2188**2*_Dummy_2189**6*pi**8*m**5 + (3650929890618811/23384026197294446691258957323460528314494920687616)*_Dummy_2188**2*_Dummy_2189**5*_Dummy_2190**6*pi**13 - 128121839980417/200000000000000000000000000000000000000000000*_Dummy_2188**2*_Dummy_2189**5*_Dummy_2190**5*pi**12*m + (53324174020079/50000000000000000000000000000000000000000)*_Dummy_2188**2*_Dummy_2189**5*_Dummy_2190**4*pi**11*m**2 - 462524612482127/500000000000000000000000000000000000000*_Dummy_2188**2*_Dummy_2189**5*_Dummy_2190**3*pi**10*m**3 + (442098675323861/1000000000000000000000000000000000000)*_Dummy_2188**2*_Dummy_2189**5*_Dummy_2190**2*pi**9*m**4 - 110632922101347/1000000000000000000000000000000000*_Dummy_2188**2*_Dummy_2189**5*_Dummy_2190*pi**8*m**5 + (28368310752603/2500000000000000000000000000000)*_Dummy_2188**2*_Dummy_2189**5*pi**7*m**6 + (4476019518651073/23384026197294446691258957323460528314494920687616)*_Dummy_2188**2*_Dummy_2189**4*_Dummy_2190**7*pi**13 - 7438827063213/7812500000000000000000000000000000000000000*_Dummy_2188**2*_Dummy_2189**4*_Dummy_2190**6*pi**12*m + (196471218449193/100000000000000000000000000000000000000000)*_Dummy_2188**2*_Dummy_2189**4*_Dummy_2190**5*pi**11*m**2 - 218937082412981/100000000000000000000000000000000000000*_Dummy_2188**2*_Dummy_2189**4*_Dummy_2190**4*pi**10*m**3 + (8925740695293/6250000000000000000000000000000000)*_Dummy_2188**2*_Dummy_2189**4*_Dummy_2190**3*pi**9*m**4 - 546935252591191/1000000000000000000000000000000000*_Dummy_2188**2*_Dummy_2189**4*_Dummy_2190**2*pi**8*m**5 + (114156334744909/1000000000000000000000000000000)*_Dummy_2188**2*_Dummy_2189**4*_Dummy_2190*pi**7*m**6 - 50192526791791/5000000000000000000000000000*_Dummy_2188**2*_Dummy_2189**4*pi**6*m**7 + (428859971351319/2923003274661805836407369665432566039311865085952)*_Dummy_2188**2*_Dummy_2189**3*_Dummy_2190**8*pi**13 - 87804659643599/100000000000000000000000000000000000000000000*_Dummy_2188**2*_Dummy_2189**3*_Dummy_2190**7*pi**12*m + (110307732430027/50000000000000000000000000000000000000000)*_Dummy_2188**2*_Dummy_2189**3*_Dummy_2190**6*pi**11*m**2 - 76450312463443/25000000000000000000000000000000000000*_Dummy_2188**2*_Dummy_2189**3*_Dummy_2190**5*pi**10*m**3 + (64257857592771/25000000000000000000000000000000000)*_Dummy_2188**2*_Dummy_2189**3*_Dummy_2190**4*pi**9*m**4 - 67344380080309/50000000000000000000000000000000*_Dummy_2188**2*_Dummy_2189**3*_Dummy_2190**3*pi**8*m**5 + (431140534767881/1000000000000000000000000000000)*_Dummy_2188**2*_Dummy_2189**3*_Dummy_2190**2*pi**7*m**6 - 1932264772639/25000000000000000000000000*_Dummy_2188**2*_Dummy_2189**3*_Dummy_2190*pi**6*m**7 + (595481050372427/100000000000000000000000000)*_Dummy_2188**2*_Dummy_2189**3*pi**5*m**8 + (6092809356315031/93536104789177786765035829293842113257979682750464)*_Dummy_2188**2*_Dummy_2189**2*_Dummy_2190**9*pi**13 - 2347311308803/5000000000000000000000000000000000000000000*_Dummy_2188**2*_Dummy_2189**2*_Dummy_2190**8*pi**12*m + (71329014540077/50000000000000000000000000000000000000000)*_Dummy_2188**2*_Dummy_2189**2*_Dummy_2190**7*pi**11*m**2 - 241854821477099/100000000000000000000000000000000000000*_Dummy_2188**2*_Dummy_2189**2*_Dummy_2190**6*pi**10*m**3 + (253803149577379/100000000000000000000000000000000000)*_Dummy_2188**2*_Dummy_2189**2*_Dummy_2190**5*pi**9*m**4 - 85955608184997/50000000000000000000000000000000*_Dummy_2188**2*_Dummy_2189**2*_Dummy_2190**4*pi**8*m**5 + (150990932859057/200000000000000000000000000000)*_Dummy_2188**2*_Dummy_2189**2*_Dummy_2190**3*pi**7*m**6 - 41607530395983/200000000000000000000000000*_Dummy_2188**2*_Dummy_2189**2*_Dummy_2190**2*pi**6*m**7 + (65479657768931/2000000000000000000000000)*_Dummy_2188**2*_Dummy_2189**2*_Dummy_2190*pi**5*m**8 - 112376899735697/50000000000000000000000*_Dummy_2188**2*_Dummy_2189**2*pi**4*m**9 + (2760688702161431/187072209578355573530071658587684226515959365500928)*_Dummy_2188**2*_Dummy_2190**10*_Dummy_2189*pi**13 - 128647939766873/1000000000000000000000000000000000000000000000*_Dummy_2188**2*_Dummy_2190**9*_Dummy_2189*pi**12*m + (14769711554391/31250000000000000000000000000000000000000)*_Dummy_2188**2*_Dummy_2190**8*_Dummy_2189*pi**11*m**2 - 243216276548453/250000000000000000000000000000000000000*_Dummy_2188**2*_Dummy_2190**7*_Dummy_2189*pi**10*m**3 + (62659817336051/50000000000000000000000000000000000)*_Dummy_2188**2*_Dummy_2190**6*_Dummy_2189*pi**9*m**4 - 106323087693329/100000000000000000000000000000000*_Dummy_2188**2*_Dummy_2190**5*_Dummy_2189*pi**8*m**5 + (605271138392999/1000000000000000000000000000000)*_Dummy_2188**2*_Dummy_2190**4*_Dummy_2189*pi**7*m**6 - 114700672105173/500000000000000000000000000*_Dummy_2188**2*_Dummy_2190**3*_Dummy_2189*pi**6*m**7 + (278086339711669/5000000000000000000000000)*_Dummy_2188**2*_Dummy_2190**2*_Dummy_2189*pi**5*m**8 - 390712363434097/50000000000000000000000*_Dummy_2188**2*_Dummy_2189*_Dummy_2190*pi**4*m**9 + (242224624948039/500000000000000000000)*_Dummy_2188**2*_Dummy_2189*pi**3*m**10 + (3846460999747535/2993155353253689176481146537402947624255349848014848)*_Dummy_2188**2*_Dummy_2190**11*pi**13 - 2477331013299007/182687704666362864775460604089535377456991567872*_Dummy_2188**2*_Dummy_2190**10*pi**12*m + (150707748309529/2500000000000000000000000000000000000000000)*_Dummy_2188**2*_Dummy_2190**9*pi**11*m**2 - 9392037918589/62500000000000000000000000000000000000*_Dummy_2188**2*_Dummy_2190**8*pi**10*m**3 + (235557434864483/1000000000000000000000000000000000000)*_Dummy_2188**2*_Dummy_2190**7*pi**9*m**4 - 61478504373777/250000000000000000000000000000000*_Dummy_2188**2*_Dummy_2190**6*pi**8*m**5 + (175771406764669/1000000000000000000000000000000)*_Dummy_2188**2*_Dummy_2190**5*pi**7*m**6 - 216385365923431/2500000000000000000000000000*_Dummy_2188**2*_Dummy_2190**4*pi**6*m**7 + (289230916829561/10000000000000000000000000)*_Dummy_2188**2*_Dummy_2190**3*pi**5*m**8 - 31362889741387/5000000000000000000000*_Dummy_2188**2*_Dummy_2190**2*pi**4*m**9 + (797310092131843/1000000000000000000000)*_Dummy_2188**2*_Dummy_2190*pi**3*m**10 - 722050641/16000000000000*_Dummy_2188**2*pi**2*m**11 + (5287041114190529/12259964326927110866866776217202473468949912977468817408)*_Dummy_2189**12*_Dummy_2188*pi**13 + (5026167375003489/383123885216472214589586756787577295904684780545900544)*_Dummy_2189**11*_Dummy_2188*_Dummy_2190*pi**13 - 6168863152658753/748288838313422294120286634350736906063837462003712*_Dummy_2189**11*_Dummy_2188*pi**12*m + (2107098930891921/11972621413014756705924586149611790497021399392059392)*_Dummy_2189**10*_Dummy_2190**2*_Dummy_2188*pi**13 - 1305194919081999/5846006549323611672814739330865132078623730171904*_Dummy_2189**10*_Dummy_2188*_Dummy_2190*pi**12*m + (174396865424229/2500000000000000000000000000000000000000000000)*_Dummy_2189**10*_Dummy_2188*pi**11*m**2 + (8211272684390131/5986310706507378352962293074805895248510699696029696)*_Dummy_2189**9*_Dummy_2190**3*_Dummy_2188*pi**13 - 7722929984277559/2923003274661805836407369665432566039311865085952*_Dummy_2189**9*_Dummy_2190**2*_Dummy_2188*pi**12*m + (166857690189307/100000000000000000000000000000000000000000000)*_Dummy_2189**9*_Dummy_2188*_Dummy_2190*pi**11*m**2 - 172983364670883/500000000000000000000000000000000000000000*_Dummy_2189**9*_Dummy_2188*pi**10*m**3 + (5147653693779817/748288838313422294120286634350736906063837462003712)*_Dummy_2189**8*_Dummy_2190**4*_Dummy_2188*pi**13 - 3278862757998757/182687704666362864775460604089535377456991567872*_Dummy_2189**8*_Dummy_2190**3*_Dummy_2188*pi**12*m + (86171666451801/5000000000000000000000000000000000000000000)*_Dummy_2189**8*_Dummy_2190**2*_Dummy_2188*pi**11*m**2 - 723131107702513/100000000000000000000000000000000000000000*_Dummy_2189**8*_Dummy_2188*_Dummy_2190*pi**10*m**3 + (112036468785279/100000000000000000000000000000000000000)*_Dummy_2189**8*_Dummy_2188*pi**9*m**4 + (4340677466974305/187072209578355573530071658587684226515959365500928)*_Dummy_2189**7*_Dummy_2190**5*_Dummy_2188*pi**13 - 193067458496647/2500000000000000000000000000000000000000000000*_Dummy_2189**7*_Dummy_2190**4*_Dummy_2188*pi**12*m + (50307975831781/500000000000000000000000000000000000000000)*_Dummy_2189**7*_Dummy_2190**3*_Dummy_2188*pi**11*m**2 - 160712064784979/2500000000000000000000000000000000000000*_Dummy_2189**7*_Dummy_2190**2*_Dummy_2188*pi**10*m**3 + (100901362781937/5000000000000000000000000000000000000)*_Dummy_2189**7*_Dummy_2188*_Dummy_2190*pi**9*m**4 - 124712414052809/50000000000000000000000000000000000*_Dummy_2189**7*_Dummy_2188*pi**8*m**5 + (4992224916164565/93536104789177786765035829293842113257979682750464)*_Dummy_2189**6*_Dummy_2190**6*_Dummy_2188*pi**13 - 218901190638123/1000000000000000000000000000000000000000000000*_Dummy_2189**6*_Dummy_2190**5*_Dummy_2188*pi**12*m + (364639075463281/1000000000000000000000000000000000000000000)*_Dummy_2189**6*_Dummy_2190**4*_Dummy_2188*pi**11*m**2 - 9896479926631/31250000000000000000000000000000000000*_Dummy_2189**6*_Dummy_2190**3*_Dummy_2188*pi**10*m**3 + (473805865289/3125000000000000000000000000000000)*_Dummy_2189**6*_Dummy_2190**2*_Dummy_2188*pi**9*m**4 - 190103791673641/5000000000000000000000000000000000*_Dummy_2189**6*_Dummy_2188*_Dummy_2190*pi**8*m**5 + (3126910450293/800000000000000000000000000000)*_Dummy_2189**6*_Dummy_2188*pi**7*m**6 + (970955370506161/11692013098647223345629478661730264157247460343808)*_Dummy_2189**5*_Dummy_2190**7*_Dummy_2188*pi**13 - 411585507721237/1000000000000000000000000000000000000000000000*_Dummy_2189**5*_Dummy_2190**6*_Dummy_2188*pi**12*m + (847439910945393/1000000000000000000000000000000000000000000)*_Dummy_2189**5*_Dummy_2190**5*_Dummy_2188*pi**11*m**2 - 943358808480297/1000000000000000000000000000000000000000*_Dummy_2189**5*_Dummy_2190**4*_Dummy_2188*pi**10*m**3 + (12304162574721/20000000000000000000000000000000000)*_Dummy_2189**5*_Dummy_2190**3*_Dummy_2188*pi**9*m**4 - 58923681254607/250000000000000000000000000000000*_Dummy_2189**5*_Dummy_2190**2*_Dummy_2188*pi**8*m**5 + (123082153178387/2500000000000000000000000000000)*_Dummy_2189**5*_Dummy_2188*_Dummy_2190*pi**7*m**6 - 108352369328149/25000000000000000000000000000*_Dummy_2189**5*_Dummy_2188*pi**6*m**7 + (3969022615959573/46768052394588893382517914646921056628989841375232)*_Dummy_2189**4*_Dummy_2190**8*_Dummy_2188*pi**13 - 252011771552183/500000000000000000000000000000000000000000000*_Dummy_2189**4*_Dummy_2190**7*_Dummy_2188*pi**12*m + (62969409558251/50000000000000000000000000000000000000000)*_Dummy_2189**4*_Dummy_2190**6*_Dummy_2188*pi**11*m**2 - 21735118320409/12500000000000000000000000000000000000*_Dummy_2189**4*_Dummy_2190**5*_Dummy_2188*pi**10*m**3 + (145753536328823/100000000000000000000000000000000000)*_Dummy_2189**4*_Dummy_2190**4*_Dummy_2188*pi**9*m**4 - 30496249411459/40000000000000000000000000000000*_Dummy_2189**4*_Dummy_2190**3*_Dummy_2188*pi**8*m**5 + (243781758450569/1000000000000000000000000000000)*_Dummy_2189**4*_Dummy_2190**2*_Dummy_2188*pi**7*m**6 - 218393048613941/5000000000000000000000000000*_Dummy_2189**4*_Dummy_2188*_Dummy_2190*pi**6*m**7 + (168235778073559/50000000000000000000000000)*_Dummy_2189**4*_Dummy_2188*pi**5*m**8 + (630572780206435/11692013098647223345629478661730264157247460343808)*_Dummy_2189**3*_Dummy_2190**9*_Dummy_2188*pi**13 - 384383278241689/1000000000000000000000000000000000000000000000*_Dummy_2189**3*_Dummy_2190**8*_Dummy_2188*pi**12*m + (28939991722789/25000000000000000000000000000000000000000)*_Dummy_2189**3*_Dummy_2190**7*_Dummy_2188*pi**11*m**2 - 194868481766933/100000000000000000000000000000000000000*_Dummy_2189**3*_Dummy_2190**6*_Dummy_2188*pi**10*m**3 + (203369575543063/100000000000000000000000000000000000)*_Dummy_2189**3*_Dummy_2190**5*_Dummy_2188*pi**9*m**4 - 27432571937379/20000000000000000000000000000000*_Dummy_2189**3*_Dummy_2190**4*_Dummy_2188*pi**8*m**5 + (600379105070997/1000000000000000000000000000000)*_Dummy_2189**3*_Dummy_2190**3*_Dummy_2188*pi**7*m**6 - 33005733615839/200000000000000000000000000*_Dummy_2189**3*_Dummy_2190**2*_Dummy_2188*pi**6*m**7 + (259225654694819/10000000000000000000000000)*_Dummy_2189**3*_Dummy_2188*_Dummy_2190*pi**5*m**8 - 88854732429657/50000000000000000000000*_Dummy_2189**3*_Dummy_2188*pi**4*m**9 + (7314604125771685/374144419156711147060143317175368453031918731001856)*_Dummy_2189**2*_Dummy_2190**10*_Dummy_2188*pi**13 - 84400579952569/500000000000000000000000000000000000000000000*_Dummy_2189**2*_Dummy_2190**9*_Dummy_2188*pi**12*m + (614199807959949/1000000000000000000000000000000000000000000)*_Dummy_2189**2*_Dummy_2190**8*_Dummy_2188*pi**11*m**2 - 31332288548891/25000000000000000000000000000000000000*_Dummy_2189**2*_Dummy_2190**7*_Dummy_2188*pi**10*m**3 + (160230009997499/100000000000000000000000000000000000)*_Dummy_2189**2*_Dummy_2190**6*_Dummy_2188*pi**9*m**4 - 67538721414749/50000000000000000000000000000000*_Dummy_2189**2*_Dummy_2190**5*_Dummy_2188*pi**8*m**5 + (382435674265997/500000000000000000000000000000)*_Dummy_2189**2*_Dummy_2190**4*_Dummy_2188*pi**7*m**6 - 144303721314499/500000000000000000000000000*_Dummy_2189**2*_Dummy_2190**3*_Dummy_2188*pi**6*m**7 + (697147612462387/10000000000000000000000000)*_Dummy_2189**2*_Dummy_2190**2*_Dummy_2188*pi**5*m**8 - 244131584918751/25000000000000000000000*_Dummy_2189**2*_Dummy_2188*_Dummy_2190*pi**4*m**9 + (60389418385043/100000000000000000000)*_Dummy_2189**2*_Dummy_2188*pi**3*m**10 + (666527308432647/187072209578355573530071658587684226515959365500928)*_Dummy_2190**11*_Dummy_2188*_Dummy_2189*pi**13 - 1714883022324035/45671926166590716193865151022383844364247891968*_Dummy_2190**10*_Dummy_2188*_Dummy_2189*pi**12*m + (166050963232881/1000000000000000000000000000000000000000000)*_Dummy_2190**9*_Dummy_2188*_Dummy_2189*pi**11*m**2 - 411094049002843/1000000000000000000000000000000000000000*_Dummy_2190**8*_Dummy_2188*_Dummy_2189*pi**10*m**3 + (639751000135903/1000000000000000000000000000000000000)*_Dummy_2190**7*_Dummy_2188*_Dummy_2189*pi**9*m**4 - 132647871304727/200000000000000000000000000000000*_Dummy_2190**6*_Dummy_2188*_Dummy_2189*pi**8*m**5 + (235517422739741/500000000000000000000000000000)*_Dummy_2190**5*_Dummy_2188*_Dummy_2189*pi**7*m**6 - 57655049806781/250000000000000000000000000*_Dummy_2190**4*_Dummy_2188*_Dummy_2189*pi**6*m**7 + (383368801301087/5000000000000000000000000)*_Dummy_2190**3*_Dummy_2188*_Dummy_2189*pi**5*m**8 - 82771553750597/5000000000000000000000*_Dummy_2190**2*_Dummy_2188*_Dummy_2189*pi**4*m**9 + (209604637908729/100000000000000000000)*_Dummy_2188*_Dummy_2189*_Dummy_2190*pi**3*m**10 - 94588633971/800000000000000*_Dummy_2188*_Dummy_2189*pi**2*m**11 + (2971514935427281/11972621413014756705924586149611790497021399392059392)*_Dummy_2190**12*_Dummy_2188*pi**13 - 581960302619585/182687704666362864775460604089535377456991567872*_Dummy_2190**11*_Dummy_2188*pi**12*m + (85775344231313/5000000000000000000000000000000000000000000)*_Dummy_2190**10*_Dummy_2188*pi**11*m**2 - 64542242080873/1250000000000000000000000000000000000000*_Dummy_2190**9*_Dummy_2188*pi**10*m**3 + (195318925944113/2000000000000000000000000000000000000)*_Dummy_2190**8*_Dummy_2188*pi**9*m**4 - 24706620441931/200000000000000000000000000000000*_Dummy_2190**7*_Dummy_2188*pi**8*m**5 + (108168045381897/1000000000000000000000000000000)*_Dummy_2190**6*_Dummy_2188*pi**7*m**6 - 10404859198819/156250000000000000000000000*_Dummy_2190**5*_Dummy_2188*pi**6*m**7 + (287955843680301/10000000000000000000000000)*_Dummy_2190**4*_Dummy_2188*pi**5*m**8 - 857591744811563/100000000000000000000000*_Dummy_2190**3*_Dummy_2188*pi**4*m**9 + (167707963105451/100000000000000000000)*_Dummy_2190**2*_Dummy_2188*pi**3*m**10 - 31048177563/160000000000000*_Dummy_2188*_Dummy_2190*pi**2*m**11 + (80613/8000000)*_Dummy_2188*pi*m**12 + (2226122574396023/98079714615416886934934209737619787751599303819750539264)*_Dummy_2189**13*pi**13 + (4869643131491285/6129982163463555433433388108601236734474956488734408704)*_Dummy_2189**12*_Dummy_2190*pi**13 - 758466781064603/1496577676626844588240573268701473812127674924007424*_Dummy_2189**12*pi**12*m + (2347863652683293/191561942608236107294793378393788647952342390272950272)*_Dummy_2189**11*_Dummy_2190**2*pi**13 - 5890758666268405/374144419156711147060143317175368453031918731001856*_Dummy_2189**11*_Dummy_2190*pi**12*m + (7277072568688083/1461501637330902918203684832716283019655932542976)*_Dummy_2189**11*pi**11*m**2 + (5282693218537401/47890485652059026823698344598447161988085597568237568)*_Dummy_2189**10*_Dummy_2190**3*pi**13 - 1255025501792831/5846006549323611672814739330865132078623730171904*_Dummy_2189**10*_Dummy_2190**2*pi**12*m + (136952462739777/1000000000000000000000000000000000000000000000)*_Dummy_2189**10*_Dummy_2190*pi**11*m**2 - 28674585011447/1000000000000000000000000000000000000000000*_Dummy_2189**10*pi**10*m**3 + (7711264684281669/11972621413014756705924586149611790497021399392059392)*_Dummy_2189**9*_Dummy_2190**4*pi**13 - 4952353542091851/2923003274661805836407369665432566039311865085952*_Dummy_2189**9*_Dummy_2190**3*pi**12*m + (8201807881487/5000000000000000000000000000000000000000000)*_Dummy_2189**9*_Dummy_2190**2*pi**11*m**2 - 693880036256111/1000000000000000000000000000000000000000000*_Dummy_2189**9*_Dummy_2190*pi**10*m**3 + (108355879512061/1000000000000000000000000000000000000000)*_Dummy_2189**9*pi**9*m**4 + (7666630817967631/2993155353253689176481146537402947624255349848014848)*_Dummy_2189**8*_Dummy_2190**5*pi**13 - 783418782712171/91343852333181432387730302044767688728495783936*_Dummy_2189**8*_Dummy_2190**4*pi**12*m + (11245039469977/1000000000000000000000000000000000000000000)*_Dummy_2189**8*_Dummy_2190**3*pi**11*m**2 - 723101160355243/100000000000000000000000000000000000000000*_Dummy_2189**8*_Dummy_2190**2*pi**10*m**3 + (228455652882269/100000000000000000000000000000000000000)*_Dummy_2189**8*_Dummy_2190*pi**9*m**4 - 35518505299303/125000000000000000000000000000000000*_Dummy_2189**8*pi**8*m**5 + (1323152963874015/187072209578355573530071658587684226515959365500928)*_Dummy_2189**7*_Dummy_2190**6*pi**13 - 664791072219979/22835963083295358096932575511191922182123945984*_Dummy_2189**7*_Dummy_2190**5*pi**12*m + (6087129581729/125000000000000000000000000000000000000000)*_Dummy_2189**7*_Dummy_2190**4*pi**11*m**2 - 53110123016763/1250000000000000000000000000000000000000*_Dummy_2189**7*_Dummy_2190**3*pi**10*m**3 + (204397248448977/10000000000000000000000000000000000000)*_Dummy_2189**7*_Dummy_2190**2*pi**9*m**4 - 257533271002729/50000000000000000000000000000000000*_Dummy_2189**7*_Dummy_2190*pi**8*m**5 + (266037805852193/500000000000000000000000000000000)*_Dummy_2189**7*pi**7*m**6 + (19799325365199/1461501637330902918203684832716283019655932542976)*_Dummy_2189**6*_Dummy_2190**7*pi**13 - 167938584923877/2500000000000000000000000000000000000000000000*_Dummy_2189**6*_Dummy_2190**6*pi**12*m + (1108302817689/8000000000000000000000000000000000000000)*_Dummy_2189**6*_Dummy_2190**5*pi**11*m**2 - 154592548975369/1000000000000000000000000000000000000000*_Dummy_2189**6*_Dummy_2190**4*pi**10*m**3 + (25278418080537/250000000000000000000000000000000000)*_Dummy_2189**6*_Dummy_2190**3*pi**9*m**4 - 48580356560619/1250000000000000000000000000000000*_Dummy_2189**6*_Dummy_2190**2*pi**8*m**5 + (814598006594067/100000000000000000000000000000000)*_Dummy_2189**6*_Dummy_2190*pi**7*m**6 - 719622589456217/1000000000000000000000000000000*_Dummy_2189**6*pi**6*m**7 + (1650593240269781/93536104789177786765035829293842113257979682750464)*_Dummy_2189**5*_Dummy_2190**8*pi**13 - 13057469509223/125000000000000000000000000000000000000000000*_Dummy_2189**5*_Dummy_2190**7*pi**12*m + (65151978156147/250000000000000000000000000000000000000000)*_Dummy_2189**5*_Dummy_2190**6*pi**11*m**2 - 14388885795601/40000000000000000000000000000000000000*_Dummy_2189**5*_Dummy_2190**5*pi**10*m**3 + (150864986026917/500000000000000000000000000000000000)*_Dummy_2189**5*_Dummy_2190**4*pi**9*m**4 - 158032183376129/1000000000000000000000000000000000*_Dummy_2189**5*_Dummy_2190**3*pi**8*m**5 + (253090920754211/5000000000000000000000000000000)*_Dummy_2189**5*_Dummy_2190**2*pi**7*m**6 - 908746390807813/100000000000000000000000000000*_Dummy_2189**5*_Dummy_2190*pi**6*m**7 + (350781926470363/500000000000000000000000000)*_Dummy_2189**5*pi**5*m**8 + (5613549395375467/374144419156711147060143317175368453031918731001856)*_Dummy_2189**4*_Dummy_2190**9*pi**13 - 4245656901067/40000000000000000000000000000000000000000000*_Dummy_2189**4*_Dummy_2190**8*pi**12*m + (39747208302197/125000000000000000000000000000000000000000)*_Dummy_2189**4*_Dummy_2190**7*pi**11*m**2 - 1666942813659/3125000000000000000000000000000000000*_Dummy_2189**4*_Dummy_2190**6*pi**10*m**3 + (555517998059241/1000000000000000000000000000000000000)*_Dummy_2189**4*_Dummy_2190**5*pi**9*m**4 - 74851819383329/200000000000000000000000000000000*_Dummy_2189**4*_Dummy_2190**4*pi**8*m**5 + (20470016267453/125000000000000000000000000000)*_Dummy_2189**4*_Dummy_2190**3*pi**7*m**6 - 22510952611553/500000000000000000000000000*_Dummy_2189**4*_Dummy_2190**2*pi**6*m**7 + (176902718417513/25000000000000000000000000)*_Dummy_2189**4*_Dummy_2190*pi**5*m**8 - 242756912803463/500000000000000000000000*_Dummy_2189**4*pi**4*m**9 + (5820133882784417/748288838313422294120286634350736906063837462003712)*_Dummy_2189**3*_Dummy_2190**10*pi**13 - 332740072824249/5000000000000000000000000000000000000000000000*_Dummy_2189**3*_Dummy_2190**9*pi**12*m + (9608015449841/40000000000000000000000000000000000000000)*_Dummy_2189**3*_Dummy_2190**8*pi**11*m**2 - 486978605540199/1000000000000000000000000000000000000000*_Dummy_2189**3*_Dummy_2190**7*pi**10*m**3 + (309758365371849/500000000000000000000000000000000000)*_Dummy_2189**3*_Dummy_2190**6*pi**9*m**4 - 520348767429961/1000000000000000000000000000000000*_Dummy_2189**3*_Dummy_2190**5*pi**8*m**5 + (73465238026479/250000000000000000000000000000)*_Dummy_2189**3*_Dummy_2190**4*pi**7*m**6 - 4426963768553/40000000000000000000000000*_Dummy_2189**3*_Dummy_2190**3*pi**6*m**7 + (133500979590111/5000000000000000000000000)*_Dummy_2189**3*_Dummy_2190**2*pi**5*m**8 - 373707160230163/100000000000000000000000*_Dummy_2189**3*_Dummy_2190*pi**4*m**9 + (2887596436333/12500000000000000000)*_Dummy_2189**3*pi**3*m**10 + (3334700094201725/1496577676626844588240573268701473812127674924007424)*_Dummy_2189**2*_Dummy_2190**11*pi**13 - 8593413815657581/365375409332725729550921208179070754913983135744*_Dummy_2189**2*_Dummy_2190**10*pi**12*m + (25896576558651/250000000000000000000000000000000000000000)*_Dummy_2189**2*_Dummy_2190**9*pi**11*m**2 - 254960259800201/1000000000000000000000000000000000000000*_Dummy_2189**2*_Dummy_2190**8*pi**10*m**3 + (631151393851/1600000000000000000000000000000000)*_Dummy_2189**2*_Dummy_2190**7*pi**9*m**4 - 406832474739319/1000000000000000000000000000000000*_Dummy_2189**2*_Dummy_2190**6*pi**8*m**5 + (287660153546399/1000000000000000000000000000000)*_Dummy_2189**2*_Dummy_2190**5*pi**7*m**6 - 140324199204223/1000000000000000000000000000*_Dummy_2189**2*_Dummy_2190**4*pi**6*m**7 + (465136287258007/10000000000000000000000000)*_Dummy_2189**2*_Dummy_2190**3*pi**5*m**8 - 10018203065963/1000000000000000000000*_Dummy_2189**2*_Dummy_2190**2*pi**4*m**9 + (126599503602379/100000000000000000000)*_Dummy_2189**2*_Dummy_2190*pi**3*m**10 - 57042000639/800000000000000*_Dummy_2189**2*pi**2*m**11 + (1881959459103945/5986310706507378352962293074805895248510699696029696)*_Dummy_2190**12*_Dummy_2189*pi**13 - 6023589111650139/1461501637330902918203684832716283019655932542976*_Dummy_2190**11*_Dummy_2189*pi**12*m + (55964796550827/2500000000000000000000000000000000000000000)*_Dummy_2190**10*_Dummy_2189*pi**11*m**2 - 674596939348673/10000000000000000000000000000000000000000*_Dummy_2190**9*_Dummy_2189*pi**10*m**3 + (63642083305261/500000000000000000000000000000000000)*_Dummy_2190**8*_Dummy_2189*pi**9*m**4 - 8018710844897/50000000000000000000000000000000*_Dummy_2190**7*_Dummy_2189*pi**8*m**5 + (139814998891979/1000000000000000000000000000000)*_Dummy_2190**6*_Dummy_2189*pi**7*m**6 - 857060394401891/10000000000000000000000000000*_Dummy_2190**5*_Dummy_2189*pi**6*m**7 + (184572310772399/5000000000000000000000000)*_Dummy_2190**4*_Dummy_2189*pi**5*m**8 - 21909218690769/2000000000000000000000*_Dummy_2190**3*_Dummy_2189*pi**4*m**9 + (213545714409761/100000000000000000000)*_Dummy_2190**2*_Dummy_2189*pi**3*m**10 - 197119824993/800000000000000*_Dummy_2189*_Dummy_2190*pi**2*m**11 + (510549/40000000)*_Dummy_2189*pi*m**12 + (1584807965561219/95780971304118053647396689196894323976171195136475136)*_Dummy_2190**13*pi**13 - 3167783915290115/11692013098647223345629478661730264157247460343808*_Dummy_2190**12*pi**12*m + (36420402632531/20000000000000000000000000000000000000000000)*_Dummy_2190**11*pi**11*m**2 - 8442063610077/1250000000000000000000000000000000000000*_Dummy_2190**10*pi**10*m**3 + (156075095578277/10000000000000000000000000000000000000)*_Dummy_2190**9*pi**9*m**4 - 240268301566511/10000000000000000000000000000000000*_Dummy_2190**8*pi**8*m**5 + (64137708062767/2500000000000000000000000000000)*_Dummy_2190**7*pi**7*m**6 - 97215221768723/5000000000000000000000000000*_Dummy_2190**6*pi**6*m**7 + (105513671205539/10000000000000000000000000)*_Dummy_2190**5*pi**5*m**8 - 50985061342573/12500000000000000000000*_Dummy_2190**4*pi**4*m**9 + (54902227256683/50000000000000000000)*_Dummy_2190**3*pi**3*m**10 - 156684989097/800000000000000*_Dummy_2190**2*pi**2*m**11 + (833001/40000000)*_Dummy_2190*pi*m**12 - m**13)\n",
      "100%|██████████| 1/1 [12:06<00:00, 726.46s/it]\n"
     ]
    }
   ],
   "source": [
    "if spin_type == 0:                             #No spin (N=0)\n",
    "    if do_all_correlations: \n",
    "        f_results_p = calc_f_results(p_origin, phi_p_list, z0)\n",
    "    else:\n",
    "    \n",
    "        if init_vel_known != 0:                         #Initial velocity is known\n",
    "            v0_list = [init_vel_known]\n",
    "        elif v_init != 0:                               #Velocity computed based on the force applied (F known)\n",
    "            v0_list = [v_init]\n",
    "            del v_init\n",
    "        elif init_vel_known == 0 and v_init == 0 and init_f_known == 0: #Initial velocity and force are unknown\n",
    "            v0_list = []\n",
    "            if ctc_pt[0] != 0:                          #Theta is known\n",
    "                theta_list = [ctc_pt[0]]\n",
    "                f_results_p = calc_f_results(p_origin, phi_p_list, z0, theta_list = theta_list)\n",
    "                theta_list.clear()\n",
    "            elif ctc_pt[0] == 0:                        #Theta is unknown\n",
    "                f_results_p = calc_f_results(p_origin, phi_p_list, z0)\n",
    "        \n",
    "        if v0_list != []:                               #With velocity known                                         \n",
    "            if ctc_pt[0] != 0:                          #Theta is known\n",
    "                theta_list = [ctc_pt[0]]\n",
    "                f_results_p = calc_f_results(p_origin, phi_p_list, z0, v0_list = v0_list, theta_list = theta_list)\n",
    "                theta_list.clear()\n",
    "                v0_list.clear()\n",
    "            elif ctc_pt[0] == 0:                        #Theta is unknown\n",
    "                f_results_p = calc_f_results(p_origin, phi_p_list, z0, v0_list = v0_list)\n",
    "                v0_list.clear()\n",
    "    \n",
    "        \n",
    "elif spin_type == 1 or spin_type == 2:          #Topspin or Slice (must have F or inital velocity to imply the spin along with spin angle)\n",
    "    if do_all_correlations: \n",
    "        f_results_p = calc_f_results(p_origin, phi_p_list, z0)\n",
    "    else: \n",
    "        if F != 0:                                      #Force is known\n",
    "            if init_vel_known != 0:                     #Initial velocity is known\n",
    "                v0_list = [init_vel_known]\n",
    "            elif v_init != 0:                   \n",
    "                v0_list = [v_init]\n",
    "                del v_init\n",
    "\n",
    "            if ctc_pt[0] != 0:                          #Theta is known\n",
    "                theta_list = [ctc_pt[0]]\n",
    "                f_results_p = calc_f_results(p_origin, phi_p_list, z0, v0_list = v0_list, theta_list = theta_list)\n",
    "                theta_list.clear()\n",
    "            elif ctc_pt[0] == 0:                        #Theta is unknown             \n",
    "                f_results_p = calc_f_results(p_origin, phi_p_list, z0, v0_list = v0_list)\n",
    "            v0_list.clear()\n",
    "        else:\n",
    "            print(\"Force unkown?!\")\n",
    "else:\n",
    "    print(\"Invalid spin type\")\n",
    "    \n",
    "#Execution time with aerodynamic disturbances: ~12min~"
   ]
  },
  {
   "cell_type": "markdown",
   "metadata": {},
   "source": [
    "Check results that are `IN` the singles court"
   ]
  },
  {
   "cell_type": "code",
   "execution_count": null,
   "metadata": {},
   "outputs": [],
   "source": [
    "checked_results_p = in_results(f_results_p)"
   ]
  },
  {
   "cell_type": "markdown",
   "metadata": {},
   "source": [
    "Compute the errors of all `IN` results to see whats the best one"
   ]
  },
  {
   "cell_type": "code",
   "execution_count": 65,
   "metadata": {},
   "outputs": [],
   "source": [
    "error_results_p, checked_err_results_p = compute_errors(checked_results_p, p_final)"
   ]
  },
  {
   "cell_type": "code",
   "execution_count": 66,
   "metadata": {},
   "outputs": [],
   "source": [
    "min_error_p = min(error_results_p)\n",
    "min_index_p = error_results_p.index(min_error_p)"
   ]
  },
  {
   "cell_type": "markdown",
   "metadata": {},
   "source": [
    "Results Demonstration"
   ]
  },
  {
   "cell_type": "code",
   "execution_count": 67,
   "metadata": {},
   "outputs": [],
   "source": [
    "# K values of the best results | How many results do I want to show\n",
    "k_value_p = 10"
   ]
  },
  {
   "cell_type": "code",
   "execution_count": 68,
   "metadata": {},
   "outputs": [],
   "source": [
    "#Sort the error results and get the k smallest values\n",
    "errors_p = np.copy(error_results_p)\n",
    "errors_p.sort()"
   ]
  },
  {
   "cell_type": "code",
   "execution_count": null,
   "metadata": {},
   "outputs": [],
   "source": [
    "#Get the k smallest values of the error and their function values from checked_err_results | sort the list by its error values\n",
    "checked_err_results_p.sort(key=lambda x: x[5])\n",
    "final_results_p = []\n",
    "final_results_p = checked_err_results_p[:k_value_p]\n",
    "\n",
    "#Print all the value results of the k smallest errors | number 1 is the closest to the desired value and k is the k-th closest\n",
    "idx_p = 0\n",
    "for res in final_results_p:\n",
    "    idx_p += 1\n",
    "    min_y = min(res[3].T[2])\n",
    "    max_y = max(res[3].T[2])\n",
    "    if min_y == -0.0:\n",
    "        min_y = 0.0\n",
    "    if max_y == -0.0:\n",
    "        max_y = 0.0\n",
    "    impact_force = res[4]\n",
    "        \n",
    "    print(\"{:<2} | v0: {:<3} | theta: {:<3} | phi: {:<3} | max simul x: {:<13} | min simul y: {:<10} | max y: {:<10} | error: {:<15} | init_force: {:<18}\".format(idx_p, res[0], res[1], round(res[2],3), round(max(res[3].T[0]),10), round(min_y,7), round(max_y,5), round(res[5],11), impact_force))"
   ]
  },
  {
   "cell_type": "markdown",
   "metadata": {},
   "source": [
    "### Analysis of the best result and force computations"
   ]
  },
  {
   "cell_type": "code",
   "execution_count": 70,
   "metadata": {},
   "outputs": [],
   "source": [
    "x_time = final_results_p[0][3].T[0]\n",
    "y_time = final_results_p[0][3].T[2]\n",
    "z_time = final_results_p[0][3].T[4]\n",
    "v0x_ = round(final_results_p[0][3].T[1][0],2)\n",
    "v0y_ = round(final_results_p[0][3].T[3][0],2)\n",
    "v0z_ = round(final_results_p[0][3].T[5][0],2)\n",
    "force_init_value = final_results_p[0][4]\n",
    "\n",
    "x_traj = x_time\n",
    "y_traj = y_time\n",
    "z_traj = z_time"
   ]
  },
  {
   "cell_type": "code",
   "execution_count": null,
   "metadata": {},
   "outputs": [],
   "source": [
    "print(\"Max z:\", round(max(z_traj), 3), \"m\")\n",
    "print(\"Max *real* y:\", round(max(x_traj), 3), \"m\")"
   ]
  },
  {
   "cell_type": "markdown",
   "metadata": {},
   "source": [
    "Flight time (s)"
   ]
  },
  {
   "cell_type": "code",
   "execution_count": null,
   "metadata": {},
   "outputs": [],
   "source": [
    "i = 0\n",
    "j = 0\n",
    "\n",
    "# Time when the ball reaches the maximum height\n",
    "for i in range(len(z_traj)):\n",
    "    if z_traj[i] == max(z_traj):\n",
    "        t_zmax = t[i]\n",
    "        print(\"Time to reach the maximum height:\", round(t[i],2), \"s\")\n",
    "        \n",
    "# Time when the ball reaches the ground\n",
    "for j in range(len(z_traj)):\n",
    "    if z_traj[j] >= 0:\n",
    "        if z_traj[j] == min(z_traj):\n",
    "            t_zf = t[j]\n",
    "            print(\"Time when the ball reaches the ground:\", round(t[j],2), \"s\")"
   ]
  },
  {
   "cell_type": "markdown",
   "metadata": {},
   "source": [
    "Compute distance displacement from one point to the other"
   ]
  },
  {
   "cell_type": "code",
   "execution_count": null,
   "metadata": {},
   "outputs": [],
   "source": [
    "p_init = p_origin\n",
    "x_fin = max(final_results_p[0][3].T[0])\n",
    "phi_fin = final_results_p[0][2]\n",
    "\n",
    "if phi_p < 0:\n",
    "    y_fin = min(final_results_p[0][3].T[2])\n",
    "else:\n",
    "    y_fin = max(final_results_p[0][3].T[2])\n",
    "if y_fin == -0.0:\n",
    "    y_fin = 0.0\n",
    "p_fin = [x_fin, y_fin]\n",
    "\n",
    "d = round(distance_bt_two_points(p_init, p_fin),3)\n",
    "print(\"Displacement of the ball:\", d, \"m\")"
   ]
  },
  {
   "cell_type": "markdown",
   "metadata": {},
   "source": [
    "Motors computations"
   ]
  },
  {
   "cell_type": "code",
   "execution_count": null,
   "metadata": {},
   "outputs": [],
   "source": [
    "#Kinetic energy\n",
    "vf_ = final_results_p[0][0]     #Velocity of the ball\n",
    "max_spin = 418.88               #Max spin that the ball can have => 4000rpm = 418.88rad/s\n",
    "KE = smp.Rational(1,2)*m*vf_**2 + smp.Rational(1,2)*smp.Rational(2,3)*m*b**2*max_spin**2\n",
    "KE = round(float(KE),2)\n",
    "print(\"Kinetic Energy:\", KE, \"J\")\n",
    "\n",
    "#Motor power\n",
    "dt = 0.01                       #Time of contact between the ball and the wheels in s\n",
    "P = KE / dt                     #Power of the motor, respecting the kinetic energy and the time of contact\n",
    "P = P + (0.25*P)                #Adding 25% of the power to the motor\n",
    "P = mt.ceil(P)                  #Rounding up the power to the nearest integer\n",
    "print(\"Minimum power required:\", P, \"W\")\n"
   ]
  },
  {
   "cell_type": "markdown",
   "metadata": {},
   "source": [
    "Forces (to show on graphs later on)\n",
    "\n",
    "- The curve is not instantaneous in 0s\n",
    "- There are no infinite derivatives"
   ]
  },
  {
   "cell_type": "code",
   "execution_count": null,
   "metadata": {},
   "outputs": [],
   "source": [
    "vx_time = compute_time_results(x_time,time_step,v0x_,is_velocity=True)  #vx time function\n",
    "vy_time = compute_time_results(y_time,time_step,v0y_,is_velocity=True)  #vy time function\n",
    "vz_time = compute_time_results(z_time,time_step,v0z_,is_velocity=True)  #vz time function\n",
    "\n",
    "ax_time = compute_time_results(vx_time,time_step)                       #ax time function\n",
    "ay_time = compute_time_results(vy_time,time_step)                       #ay time function\n",
    "az_time = compute_time_results(vz_time,time_step)                       #az time function\n",
    "\n",
    "fx_time = calc_force_from_a(ax_time, m)                                 #Fx time function\n",
    "fy_time = calc_force_from_a(ay_time, m)                                 #Fy time function\n",
    "fz_time = calc_force_from_a(az_time, m)                                 #Fz time function\n",
    "print(fx_time)\n",
    "\n",
    "forces_ = force_magnitude_calc(fx_time, fy_time, fz_time)               #Magnitude of the forces combined\n",
    "forces_ = force_max_value_upd(forces_, force_init_value)                #Updated force list\n",
    "print(\"Forces:\", forces_)"
   ]
  },
  {
   "cell_type": "markdown",
   "metadata": {},
   "source": [
    "### Display graphs & trajectories"
   ]
  },
  {
   "cell_type": "markdown",
   "metadata": {},
   "source": [
    "Magnitude of the ball's force at impact [results in a concave curve] (after the impact, after the dotted line, it becomes 0)\n",
    "\n",
    "The \"negative\" convex curve after the impact is due to the python function `make_interp_spline` that smooths the points and curves (https://www.geeksforgeeks.org/how-to-plot-a-smooth-curve-in-matplotlib/)"
   ]
  },
  {
   "cell_type": "code",
   "execution_count": null,
   "metadata": {},
   "outputs": [],
   "source": [
    "t_graph = np.arange(0, 3*time_step + 10*time_step, time_step)\n",
    "t_graph_l = t_graph.tolist()\n",
    "print(\"time for graph:\", t_graph_l) \n",
    "\n",
    "fx_time_cut = fx_time[:len(t_graph_l)]\n",
    "fy_time_cut = fy_time[:len(t_graph_l)]\n",
    "fz_time_cut = fz_time[:len(t_graph_l)]\n",
    "forces_cut_ = forces_[:len(t_graph_l)]\n",
    "print(\"fx cut:\", fx_time_cut)\n",
    "print(\"forces cut:\", forces_cut_)"
   ]
  },
  {
   "cell_type": "code",
   "execution_count": null,
   "metadata": {},
   "outputs": [],
   "source": [
    "force_smooth   = update_list_smooth(forces_cut_)\n",
    "spl = make_interp_spline(t_graph_l, force_smooth) \n",
    "tf_new = np.linspace(min(t_graph_l), max(t_graph_l), 300)\n",
    "f_new = spl(tf_new)\n",
    "plt.plot(tf_new, f_new, color='red', label='F')\n",
    "cursor(hover=True)\n",
    "plt.axvline(x = ct_s, color = 'k', linestyle = ':') \n",
    "plt.xlabel(\"t [s]\")\n",
    "plt.ylabel(\"F [N]\")\n",
    "plt.grid(True)\n",
    "plt.legend()\n",
    "plt.title(\"Force magnitude over time (at impact and after)\")\n",
    "plt.show()"
   ]
  },
  {
   "cell_type": "markdown",
   "metadata": {},
   "source": [
    "Force $x$ applied to the ball at the moment of the impact "
   ]
  },
  {
   "cell_type": "code",
   "execution_count": null,
   "metadata": {},
   "outputs": [],
   "source": [
    "fx_time_smooth = update_list_smooth(fx_time_cut)\n",
    "spl = make_interp_spline(t_graph_l, fx_time_smooth) \n",
    "tfx_new = np.linspace(min(t_graph_l), max(t_graph_l), 300)\n",
    "fx_new = spl(tfx_new)\n",
    "plt.plot(tf_new, fx_new, color='blue', label='fx')\n",
    "cursor(hover=True)\n",
    "plt.axvline(x = ct_s, color = 'k', linestyle = ':') \n",
    "plt.xlabel(\"t [s]\")\n",
    "plt.ylabel(\"Fx [N]\")\n",
    "plt.grid(True)\n",
    "plt.legend()\n",
    "plt.title(\"Force in X-axis over time\")\n",
    "plt.show()"
   ]
  },
  {
   "cell_type": "markdown",
   "metadata": {},
   "source": [
    "Trajectory of the ball seen in side plane\n",
    "\n",
    "Behaviour of the ball between $x$ and $z$ with respect to time "
   ]
  },
  {
   "cell_type": "code",
   "execution_count": null,
   "metadata": {},
   "outputs": [],
   "source": [
    "t_ = np.linspace(0, t_zf, len(z_traj))\n",
    "fig_11, ax_11 = plt.subplots()\n",
    "ax_11.plot(x_traj, z_traj, color='blue')\n",
    "plt.xlabel(\"y [m]\") # x simul\n",
    "plt.ylabel(\"z [m]\")\n",
    "ax_aa = ax_11.twiny()\n",
    "ax_aa.plot(t_, z_traj, color='black')\n",
    "plt.xlabel(\"time [s]\")\n",
    "fig_11.tight_layout()\n",
    "plt.title(\"Ball trajectory in 2D space\")\n",
    "plt.show()"
   ]
  },
  {
   "cell_type": "markdown",
   "metadata": {},
   "source": [
    "Trajectory of the ball seen in upper plane\n",
    "\n",
    "Behaviour of the ball between $x$ and $y$ "
   ]
  },
  {
   "cell_type": "code",
   "execution_count": null,
   "metadata": {},
   "outputs": [],
   "source": [
    "plt.plot(y_traj, x_traj, color='black')\n",
    "plt.xlabel(\"x [m]\") # y simul\n",
    "plt.ylabel(\"y [m]\") # x simul\n",
    "plt.title(\"Ball trajectory in upper view\")\n",
    "plt.show()\n"
   ]
  },
  {
   "cell_type": "markdown",
   "metadata": {},
   "source": [
    "**Half moon range results on the court from the last best variables values**\n",
    "\n",
    "- varing from integer -$\\phi$ to $\\phi$"
   ]
  },
  {
   "cell_type": "markdown",
   "metadata": {},
   "source": [
    "Get the best variable values of the best result"
   ]
  },
  {
   "cell_type": "code",
   "execution_count": null,
   "metadata": {},
   "outputs": [],
   "source": [
    "v0_best_p_list = [final_results_p[0][0]]\n",
    "theta_best_p_list = [final_results_p[0][1]]\n",
    "print(v0_best_p_list)\n",
    "print(theta_best_p_list)"
   ]
  },
  {
   "cell_type": "markdown",
   "metadata": {},
   "source": [
    "Get the $\\phi$ variation between [-10 to 10]"
   ]
  },
  {
   "cell_type": "code",
   "execution_count": null,
   "metadata": {},
   "outputs": [],
   "source": [
    "if phi_p < 0:\n",
    "    phi_p_list = list(range(mt.floor(phi_p), mt.ceil(-phi_p)+1))\n",
    "elif phi_p == 0.0 or phi_p == -0.0:\n",
    "    phi_p = 10\n",
    "    phi_p_list = list(range(-mt.ceil(phi_p), mt.ceil(phi_p)+1))\n",
    "else:\n",
    "    phi_p_list = list(range(-mt.ceil(phi_p), mt.ceil(phi_p)+1))\n",
    "print(phi_p_list)"
   ]
  },
  {
   "cell_type": "markdown",
   "metadata": {},
   "source": [
    "Get the results varing the $\\phi$ values from -$\\phi$ to $\\phi$ degrees"
   ]
  },
  {
   "cell_type": "code",
   "execution_count": null,
   "metadata": {},
   "outputs": [],
   "source": [
    "half_moon_results_p = calc_f_results(p_origin, phi_p_list, z0, v0_best_p_list, theta_best_p_list)"
   ]
  },
  {
   "cell_type": "markdown",
   "metadata": {},
   "source": [
    "Check results that go over the net and cut the list to only the values above the ground"
   ]
  },
  {
   "cell_type": "code",
   "execution_count": null,
   "metadata": {},
   "outputs": [],
   "source": [
    "checked_results_p_g = check_ball_ground(half_moon_results_p)"
   ]
  },
  {
   "cell_type": "code",
   "execution_count": null,
   "metadata": {},
   "outputs": [],
   "source": [
    "half_moon_slim_results_p = []\n",
    "\n",
    "for res in checked_results_p_g:\n",
    "    \n",
    "    #if phi is negative\n",
    "    if res[2] < 0: \n",
    "        data_hf = [res[2], max(res[3].T[0]), min(res[3].T[2])] \n",
    "    else:\n",
    "        data_hf = [res[2], max(res[3].T[0]), max(res[3].T[2])] \n",
    "    \n",
    "    half_moon_slim_results_p.append(data_hf) #[phi, max x, max y]\n",
    "    \n",
    "print(half_moon_slim_results_p)"
   ]
  },
  {
   "cell_type": "markdown",
   "metadata": {},
   "source": [
    "Find each values"
   ]
  },
  {
   "cell_type": "code",
   "execution_count": 86,
   "metadata": {},
   "outputs": [],
   "source": [
    "phi_values_hm_p = []\n",
    "x_values_hm_p = []\n",
    "y_values_hm_p = []\n",
    "nr_res_p = 0\n",
    "for res in half_moon_slim_results_p:\n",
    "    nr_res_p += 1\n",
    "    phi_values_hm_p.append(res[0]) \n",
    "    x_values_hm_p.append(res[1])\n",
    "    y_values_hm_p.append(res[2])"
   ]
  },
  {
   "cell_type": "markdown",
   "metadata": {},
   "source": [
    "Display the Half moon range results\n",
    "- Plot results in respect to $x$, $y$ and $\\phi$\n",
    "- The red dotted line is the limits of the court"
   ]
  },
  {
   "cell_type": "code",
   "execution_count": null,
   "metadata": {},
   "outputs": [],
   "source": [
    "fig, ax1 = plt.subplots()\n",
    "ax1.plot(y_values_hm_p, x_values_hm_p, color='green')\n",
    "plt.xlabel(\"x [m]\")\n",
    "plt.ylabel(\"y [m]\")\n",
    "plt.axvline(x = 4.115, color = 'r', linestyle = ':') \n",
    "plt.axvline(x = -4.115, color = 'r', linestyle = ':') \n",
    "plt.scatter([y_fin], [x_fin], color=\"yellow\")\n",
    "plt.scatter([p_init[1]], [p_init[0]], color=\"black\")\n",
    "ax2 = ax1.twiny()\n",
    "ax2.plot(phi_values_hm_p, x_values_hm_p, color='green')\n",
    "plt.xlabel(\"phi [º]\")\n",
    "ax2.set_ylim(0, 24.5)\n",
    "plt.axhline(y = 23.77, color = 'r', linestyle = ':') \n",
    "plt.scatter([phi_fin], [x_fin], color=\"orange\")\n",
    "fig.tight_layout()\n",
    "plt.title(\"Ball range with the best result values from 0 to B with v0 = {} m/s and theta = {} º\".format(v0_best_p_list[0], theta_best_p_list[0]))\n",
    "plt.show()"
   ]
  },
  {
   "cell_type": "markdown",
   "metadata": {},
   "source": [
    "Close up view from the last result"
   ]
  },
  {
   "cell_type": "code",
   "execution_count": null,
   "metadata": {},
   "outputs": [],
   "source": [
    "fig, ax1 = plt.subplots()\n",
    "ax1.plot(y_values_hm_p, x_values_hm_p, color='green')\n",
    "plt.xlabel(\"x [m]\")\n",
    "plt.ylabel(\"y [m]\")\n",
    "plt.axvline(x = 4.115, color = 'r', linestyle = ':') \n",
    "plt.axvline(x = -4.115, color = 'r', linestyle = ':') \n",
    "plt.scatter([y_fin], [x_fin], color=\"yellow\")\n",
    "ax2 = ax1.twiny()\n",
    "ax2.plot(phi_values_hm_p, x_values_hm_p, color='green')\n",
    "plt.xlabel(\"phi [º]\")\n",
    "ax2.set_ylim(18, 24.5)\n",
    "plt.axhline(y = 23.77, color = 'r', linestyle = ':') \n",
    "plt.scatter([phi_fin], [x_fin], color=\"orange\")\n",
    "fig.tight_layout()\n",
    "plt.title(\"Close up\")\n",
    "plt.show()"
   ]
  },
  {
   "cell_type": "markdown",
   "metadata": {},
   "source": [
    "____________________________________________________________________________________________________\n",
    "____________________________________________________________________________________________________"
   ]
  },
  {
   "cell_type": "markdown",
   "metadata": {},
   "source": [
    "## Create 2D Animation and export data for 3D Animation"
   ]
  },
  {
   "cell_type": "markdown",
   "metadata": {},
   "source": [
    "The location $(x,y)$ together given the $x$ and $y$ computed before"
   ]
  },
  {
   "cell_type": "code",
   "execution_count": 89,
   "metadata": {},
   "outputs": [],
   "source": [
    "coord = list(zip(x_traj, z_traj))"
   ]
  },
  {
   "cell_type": "code",
   "execution_count": 90,
   "metadata": {},
   "outputs": [],
   "source": [
    "#resolve max values for x and y axes\n",
    "max_x = max([pt[0] for pt in coord]) + 1\n",
    "max_y = max([pt[1] for pt in coord]) + 1\n",
    "\n",
    "#create figure and set limits\n",
    "fig = plt.figure()\n",
    "plt.xlim(0, max_x)\n",
    "plt.ylim(0, max_y)\n",
    "\n",
    "#create graph\n",
    "graph_a, = plt.plot([], [], 'o')\n",
    "\n",
    "#hide figure\n",
    "plt.close()"
   ]
  },
  {
   "cell_type": "markdown",
   "metadata": {},
   "source": [
    "2D Animation"
   ]
  },
  {
   "cell_type": "code",
   "execution_count": 91,
   "metadata": {},
   "outputs": [],
   "source": [
    "valid_types = tuple(range(3))\n",
    "is_invalid = False\n",
    "if spin_type in valid_types:\n",
    "    \n",
    "    # Increase animation embed limit: 50MB\n",
    "    mpl.rcParams['animation.embed_limit'] = 50\n",
    "    \n",
    "    #it sets point coordinates based an frame number\n",
    "    def animate(j):\n",
    "        graph_a.set_data(coord[j][0], coord[j][1])\n",
    "        \n",
    "        return graph_a\n",
    "\n",
    "    #init FuncAnimation\n",
    "    ani = animation.FuncAnimation(fig, animate, frames=len(coord), interval=200, repeat=False)\n",
    "\n",
    "    #is needed to make animation available in jupiter / colab\n",
    "    HTML(ani.to_jshtml())\n",
    "else:\n",
    "    is_invalid = True\n",
    "    print(\"Invalid spin type\")"
   ]
  },
  {
   "cell_type": "markdown",
   "metadata": {},
   "source": [
    "Data organization"
   ]
  },
  {
   "cell_type": "code",
   "execution_count": 92,
   "metadata": {},
   "outputs": [],
   "source": [
    "if not is_invalid:\n",
    "    res = final_results_p[0][3]\n",
    "    x     = res.T[0]\n",
    "    v0x   = res.T[1]\n",
    "    y     = res.T[2]\n",
    "    v0y   = res.T[3]\n",
    "    z     = res.T[4]\n",
    "    v0z   = res.T[5]\n",
    "    alpha = res.T[6]\n",
    "    w0x   = res.T[7]\n",
    "    beta  = res.T[8]\n",
    "    w0y   = res.T[9]\n",
    "    gamma = res.T[10]\n",
    "    w0z   = res.T[11]\n",
    "    t = np.linspace(0, 5.5, len(x))"
   ]
  },
  {
   "cell_type": "markdown",
   "metadata": {},
   "source": [
    "Export data to be used in the 3D Animation"
   ]
  },
  {
   "cell_type": "code",
   "execution_count": 93,
   "metadata": {},
   "outputs": [],
   "source": [
    "# if not is_invalid:\n",
    "#     np.save('../Main/3DBallTest_he_MAIN', np.array([x, y, z, alpha, beta, gamma, t, v0x, v0y, v0z, w0x, w0y, w0z]))"
   ]
  },
  {
   "cell_type": "markdown",
   "metadata": {},
   "source": [
    "To see the animation, please download the file \"**3DBallTest_he_MAIN.npy**\" and run the code from the python script \"**vpythonTrajectoryTest_he_MAIN.py.**\""
   ]
  }
 ],
 "metadata": {
  "kernelspec": {
   "display_name": "Python 3",
   "language": "python",
   "name": "python3"
  },
  "language_info": {
   "codemirror_mode": {
    "name": "ipython",
    "version": 3
   },
   "file_extension": ".py",
   "mimetype": "text/x-python",
   "name": "python",
   "nbconvert_exporter": "python",
   "pygments_lexer": "ipython3",
   "version": "3.10.7"
  }
 },
 "nbformat": 4,
 "nbformat_minor": 2
}
